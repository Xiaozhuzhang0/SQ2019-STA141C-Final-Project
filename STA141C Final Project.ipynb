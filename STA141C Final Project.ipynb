{
 "cells": [
  {
   "cell_type": "code",
   "execution_count": 120,
   "metadata": {},
   "outputs": [],
   "source": [
    "# First import packages\n",
    "\n",
    "import seaborn\n",
    "import numpy as np\n",
    "import matplotlib.pyplot as plt\n",
    "import pyreadr\n",
    "import pandas as pd\n",
    "import functools \n",
    "from sklearn.metrics import mean_squared_error\n",
    "from sklearn.model_selection import train_test_split\n",
    "from sklearn.ensemble import RandomForestRegressor\n",
    "from sklearn.preprocessing import Imputer"
   ]
  },
  {
   "cell_type": "markdown",
   "metadata": {},
   "source": [
    "## 1) Admissions Data"
   ]
  },
  {
   "cell_type": "code",
   "execution_count": 87,
   "metadata": {},
   "outputs": [],
   "source": [
    "# load data\n",
    "\n",
    "admit_data = pd.read_csv('/Users/seandeely/Documents/Spring_Quarter_2019/STA141C/Project/Admission_Predict.csv')                                  "
   ]
  },
  {
   "cell_type": "code",
   "execution_count": 88,
   "metadata": {},
   "outputs": [],
   "source": [
    "# split data into and y\n",
    "\n",
    "y_admit = admissions_data['Chance of Admit ']\n",
    "x_admit = admissions_data.iloc[:,1:8]"
   ]
  },
  {
   "cell_type": "code",
   "execution_count": 89,
   "metadata": {},
   "outputs": [],
   "source": [
    "# split data into test and training\n",
    "\n",
    "x_admit_train, x_admit_test, y_admit_train, y_admit_test = train_test_split(x_admit,\n",
    "    y_admit, test_size = 0.30, random_state = 0)"
   ]
  },
  {
   "cell_type": "markdown",
   "metadata": {},
   "source": [
    "### Random Forest"
   ]
  },
  {
   "cell_type": "code",
   "execution_count": 107,
   "metadata": {},
   "outputs": [],
   "source": [
    "# setup random forest regressor\n",
    "\n",
    "rfr = RandomForestRegressor(n_estimators = 100)"
   ]
  },
  {
   "cell_type": "code",
   "execution_count": 108,
   "metadata": {},
   "outputs": [
    {
     "data": {
      "text/plain": [
       "RandomForestRegressor(bootstrap=True, criterion='mse', max_depth=None,\n",
       "           max_features='auto', max_leaf_nodes=None,\n",
       "           min_impurity_decrease=0.0, min_impurity_split=None,\n",
       "           min_samples_leaf=1, min_samples_split=2,\n",
       "           min_weight_fraction_leaf=0.0, n_estimators=100, n_jobs=None,\n",
       "           oob_score=False, random_state=None, verbose=0, warm_start=False)"
      ]
     },
     "execution_count": 108,
     "metadata": {},
     "output_type": "execute_result"
    }
   ],
   "source": [
    "# fit the model\n",
    "\n",
    "rfr.fit(x_admit_train, y_admit_train)"
   ]
  },
  {
   "cell_type": "code",
   "execution_count": 109,
   "metadata": {},
   "outputs": [
    {
     "name": "stdout",
     "output_type": "stream",
     "text": [
      "RESULTS\n",
      "\n",
      "Training score: 0.9705444877317309\n",
      "Testing score: 0.6759236550848395\n",
      "Training MSE: 0.0006361524642857137\n",
      "Testing MSE 0.00557744166666666\n"
     ]
    }
   ],
   "source": [
    "# show results\n",
    "\n",
    "print('RESULTS')\n",
    "print()\n",
    "print('Training score:', rfr.score(x_admit_train, y_admit_train))\n",
    "print('Testing score:', rfr.score(x_admit_test, y_admit_test))\n",
    "print('Training MSE:', mean_squared_error(y_admit_train, rfr.predict(x_admit_train)))\n",
    "print('Testing MSE',  mean_squared_error(y_admit_test, rfr.predict(x_admit_test)))"
   ]
  },
  {
   "cell_type": "markdown",
   "metadata": {},
   "source": [
    "## 2) Crime Data"
   ]
  },
  {
   "cell_type": "code",
   "execution_count": 100,
   "metadata": {},
   "outputs": [],
   "source": [
    "# load data\n",
    "\n",
    "crime_data = pd.read_csv('/Users/seandeely/Documents/Spring_Quarter_2019/STA141C/Project/Violent_Crime_pred.csv')"
   ]
  },
  {
   "cell_type": "code",
   "execution_count": 101,
   "metadata": {},
   "outputs": [],
   "source": [
    "# split and clean data\n",
    "\n",
    "x_crime = crime_data.iloc[:,2:-1]\n",
    "y_crime = crime_data['target']\n",
    "\n",
    "x_crime.iloc[:,np.sort(x.isna().sum())==0]\n",
    "\n",
    "x_crime = x_crime.dropna(axis='columns')"
   ]
  },
  {
   "cell_type": "code",
   "execution_count": 110,
   "metadata": {},
   "outputs": [],
   "source": [
    "# split data into test and training\n",
    "\n",
    "x_crime_train, x_crime_test, y_crime_train, y_crime_test = train_test_split(x_crime,\n",
    "    y_crime, test_size = 0.30, random_state = 0)"
   ]
  },
  {
   "cell_type": "markdown",
   "metadata": {},
   "source": [
    "### Random Forest"
   ]
  },
  {
   "cell_type": "code",
   "execution_count": 111,
   "metadata": {},
   "outputs": [],
   "source": [
    "# setup random forest regressor\n",
    "\n",
    "rfr = RandomForestRegressor(n_estimators = 100)"
   ]
  },
  {
   "cell_type": "code",
   "execution_count": 112,
   "metadata": {},
   "outputs": [
    {
     "data": {
      "text/plain": [
       "RandomForestRegressor(bootstrap=True, criterion='mse', max_depth=None,\n",
       "           max_features='auto', max_leaf_nodes=None,\n",
       "           min_impurity_decrease=0.0, min_impurity_split=None,\n",
       "           min_samples_leaf=1, min_samples_split=2,\n",
       "           min_weight_fraction_leaf=0.0, n_estimators=100, n_jobs=None,\n",
       "           oob_score=False, random_state=None, verbose=0, warm_start=False)"
      ]
     },
     "execution_count": 112,
     "metadata": {},
     "output_type": "execute_result"
    }
   ],
   "source": [
    "# fit the model\n",
    "\n",
    "rfr.fit(x_crime_train, y_crime_train)"
   ]
  },
  {
   "cell_type": "code",
   "execution_count": 113,
   "metadata": {},
   "outputs": [
    {
     "name": "stdout",
     "output_type": "stream",
     "text": [
      "RESULTS\n",
      "\n",
      "Training score: 0.9501024921553123\n",
      "Testing score: 0.6342223696796355\n",
      "Training MSE: 18587.320778391673\n",
      "Testing MSE 142562.84906504417\n"
     ]
    }
   ],
   "source": [
    "# show results\n",
    "\n",
    "print('RESULTS')\n",
    "print()\n",
    "print('Training score:', rfr.score(x_crime_train, y_crime_train))\n",
    "print('Testing score:', rfr.score(x_crime_test, y_crime_test))\n",
    "print('Training MSE:', mean_squared_error(y_crime_train, rfr.predict(x_crime_train)))\n",
    "print('Testing MSE',  mean_squared_error(y_crime_test, rfr.predict(x_crime_test)))"
   ]
  },
  {
   "cell_type": "markdown",
   "metadata": {},
   "source": [
    "## 3) Automobile Data"
   ]
  },
  {
   "cell_type": "code",
   "execution_count": 126,
   "metadata": {},
   "outputs": [],
   "source": [
    "# load data\n",
    "\n",
    "auto_data = pd.read_csv('/Users/seandeely/Documents/Spring_Quarter_2019/STA141C/Project/automobile_price.csv')"
   ]
  },
  {
   "cell_type": "code",
   "execution_count": 127,
   "metadata": {},
   "outputs": [
    {
     "name": "stderr",
     "output_type": "stream",
     "text": [
      "/Users/seandeely/anaconda3/lib/python3.7/site-packages/ipykernel_launcher.py:4: SettingWithCopyWarning: \n",
      "A value is trying to be set on a copy of a slice from a DataFrame\n",
      "\n",
      "See the caveats in the documentation: http://pandas.pydata.org/pandas-docs/stable/indexing.html#indexing-view-versus-copy\n",
      "  after removing the cwd from sys.path.\n",
      "/Users/seandeely/anaconda3/lib/python3.7/site-packages/sklearn/utils/deprecation.py:58: DeprecationWarning: Class Imputer is deprecated; Imputer was deprecated in version 0.20 and will be removed in 0.22. Import impute.SimpleImputer from sklearn instead.\n",
      "  warnings.warn(msg, category=DeprecationWarning)\n"
     ]
    }
   ],
   "source": [
    "# split and clean data\n",
    "\n",
    "auto_data = auto_data.replace('?', np.nan).iloc[:,3:] # replace ? with NaN\n",
    "auto_data['X6'][auto_data['X6'].isna()] = 'four' # mode is four, assign four to the missing value\n",
    "impute = Imputer(strategy = 'mean') # use column mean to impute missing value\n",
    "auto_data[['X19','X20','X22','X23']] = impute.fit_transform(auto_data[['X19','X20','X22','X23']])\n",
    "pd.isna(auto_data).sum() # now no missing values\n",
    "x_auto = auto_data.iloc[:,0:-1]\n",
    "y_auto = auto_data.iloc[:,-1]\n",
    "\n",
    "# get categorical column\n",
    "\n",
    "cate_col = list(x_auto.columns[x_auto.dtypes == 'object'])\n",
    "x_auto = pd.get_dummies(x_auto, columns = cate_col) # create dummy variables for the categorical var\n"
   ]
  },
  {
   "cell_type": "code",
   "execution_count": 130,
   "metadata": {},
   "outputs": [],
   "source": [
    "# split data into test and training\n",
    "\n",
    "x_auto_train, x_auto_test, y_auto_train, y_auto_test = train_test_split(x_auto,\n",
    "    y_auto, test_size = 0.30, random_state = 0)"
   ]
  },
  {
   "cell_type": "markdown",
   "metadata": {},
   "source": [
    "### Random Forest"
   ]
  },
  {
   "cell_type": "code",
   "execution_count": 131,
   "metadata": {},
   "outputs": [],
   "source": [
    "# setup random forest regressor\n",
    "\n",
    "rfr = RandomForestRegressor(n_estimators = 100)"
   ]
  },
  {
   "cell_type": "code",
   "execution_count": 132,
   "metadata": {},
   "outputs": [
    {
     "data": {
      "text/plain": [
       "RandomForestRegressor(bootstrap=True, criterion='mse', max_depth=None,\n",
       "           max_features='auto', max_leaf_nodes=None,\n",
       "           min_impurity_decrease=0.0, min_impurity_split=None,\n",
       "           min_samples_leaf=1, min_samples_split=2,\n",
       "           min_weight_fraction_leaf=0.0, n_estimators=100, n_jobs=None,\n",
       "           oob_score=False, random_state=None, verbose=0, warm_start=False)"
      ]
     },
     "execution_count": 132,
     "metadata": {},
     "output_type": "execute_result"
    }
   ],
   "source": [
    "# fit the model\n",
    "\n",
    "rfr.fit(x_auto_train, y_auto_train)"
   ]
  },
  {
   "cell_type": "code",
   "execution_count": 133,
   "metadata": {},
   "outputs": [
    {
     "name": "stdout",
     "output_type": "stream",
     "text": [
      "RESULTS\n",
      "\n",
      "Training score: 0.985173757770529\n",
      "Testing score: 0.9030987060575485\n",
      "Training MSE: 765996.4886230341\n",
      "Testing MSE 8303783.026499136\n"
     ]
    }
   ],
   "source": [
    "# show results\n",
    "\n",
    "print('RESULTS')\n",
    "print()\n",
    "print('Training score:', rfr.score(x_auto_train, y_auto_train))\n",
    "print('Testing score:', rfr.score(x_auto_test, y_auto_test))\n",
    "print('Training MSE:', mean_squared_error(y_auto_train, rfr.predict(x_auto_train)))\n",
    "print('Testing MSE',  mean_squared_error(y_auto_test, rfr.predict(x_auto_test)))"
   ]
  },
  {
   "cell_type": "markdown",
   "metadata": {},
   "source": [
    "## 4) Breast Cancer Data???"
   ]
  },
  {
   "cell_type": "code",
   "execution_count": 151,
   "metadata": {},
   "outputs": [],
   "source": [
    "# load data\n",
    "\n",
    "cancer_data = pd.read_csv('/Users/seandeely/Documents/Spring_Quarter_2019/STA141C/Project/breast-cancer-wisconsin.data')"
   ]
  },
  {
   "cell_type": "code",
   "execution_count": 139,
   "metadata": {},
   "outputs": [
    {
     "name": "stderr",
     "output_type": "stream",
     "text": [
      "/Users/seandeely/anaconda3/lib/python3.7/site-packages/sklearn/utils/deprecation.py:58: DeprecationWarning: Class Imputer is deprecated; Imputer was deprecated in version 0.20 and will be removed in 0.22. Import impute.SimpleImputer from sklearn instead.\n",
      "  warnings.warn(msg, category=DeprecationWarning)\n"
     ]
    }
   ],
   "source": [
    "# split and clean the data\n",
    "\n",
    "x_cancer = cancer_data.iloc[:,2:]\n",
    "y_cancer = cancer_data.iloc[:,1]\n",
    "\n",
    "x_cancer = pd.DataFrame(x_cancer)\n",
    "x_cancer = x_cancer.replace('?', np.NaN)\n",
    "\n",
    "imp = Imputer(missing_values='NaN', strategy='mean', axis=0)\n",
    "imp.fit(x_cancer)\n",
    "x_cancer = imp.transform(x_cancer)"
   ]
  },
  {
   "cell_type": "code",
   "execution_count": 141,
   "metadata": {},
   "outputs": [],
   "source": [
    "# split data into test and training\n",
    "\n",
    "x_cancer_train, x_cancer_test, y_cancer_train, y_cancer_test = train_test_split(x_cancer,\n",
    "    y_cancer, test_size = 0.30, random_state = 0)"
   ]
  },
  {
   "cell_type": "markdown",
   "metadata": {},
   "source": [
    "### Random Forest"
   ]
  },
  {
   "cell_type": "code",
   "execution_count": 142,
   "metadata": {},
   "outputs": [],
   "source": [
    "# setup random forest regressor\n",
    "\n",
    "rfr = RandomForestRegressor(n_estimators = 100)"
   ]
  },
  {
   "cell_type": "code",
   "execution_count": 143,
   "metadata": {},
   "outputs": [
    {
     "data": {
      "text/plain": [
       "RandomForestRegressor(bootstrap=True, criterion='mse', max_depth=None,\n",
       "           max_features='auto', max_leaf_nodes=None,\n",
       "           min_impurity_decrease=0.0, min_impurity_split=None,\n",
       "           min_samples_leaf=1, min_samples_split=2,\n",
       "           min_weight_fraction_leaf=0.0, n_estimators=100, n_jobs=None,\n",
       "           oob_score=False, random_state=None, verbose=0, warm_start=False)"
      ]
     },
     "execution_count": 143,
     "metadata": {},
     "output_type": "execute_result"
    }
   ],
   "source": [
    "# fit the model\n",
    "\n",
    "rfr.fit(x_cancer_train, y_cancer_train)"
   ]
  },
  {
   "cell_type": "code",
   "execution_count": 144,
   "metadata": {},
   "outputs": [
    {
     "name": "stdout",
     "output_type": "stream",
     "text": [
      "RESULTS\n",
      "\n",
      "Training score: 0.836670384722332\n",
      "Testing score: -0.011627309748838854\n",
      "Training MSE: 0.000655679178149532\n",
      "Testing MSE 0.003403262648227838\n"
     ]
    }
   ],
   "source": [
    "# show results\n",
    "\n",
    "print('RESULTS')\n",
    "print()\n",
    "print('Training score:', rfr.score(x_cancer_train, y_cancer_train))\n",
    "print('Testing score:', rfr.score(x_cancer_test, y_cancer_test))\n",
    "print('Training MSE:', mean_squared_error(y_cancer_train, rfr.predict(x_cancer_train)))\n",
    "print('Testing MSE',  mean_squared_error(y_cancer_test, rfr.predict(x_cancer_test)))"
   ]
  },
  {
   "cell_type": "code",
   "execution_count": 147,
   "metadata": {},
   "outputs": [
    {
     "data": {
      "text/plain": [
       "(569, 2)"
      ]
     },
     "execution_count": 147,
     "metadata": {},
     "output_type": "execute_result"
    }
   ],
   "source": [
    "x_cancer.shape"
   ]
  },
  {
   "cell_type": "markdown",
   "metadata": {},
   "source": [
    "## 5) Parkinsons Data ???"
   ]
  },
  {
   "cell_type": "code",
   "execution_count": 149,
   "metadata": {},
   "outputs": [],
   "source": [
    "# load data\n",
    "\n",
    "parkinsons_data = pd.read_csv('/Users/seandeely/Documents/Spring_Quarter_2019/STA141C/Project/parkinsons_updrs.csv')"
   ]
  },
  {
   "cell_type": "markdown",
   "metadata": {},
   "source": [
    "## 6) Mercedes Data"
   ]
  },
  {
   "cell_type": "code",
   "execution_count": 154,
   "metadata": {},
   "outputs": [],
   "source": [
    "# load data\n",
    "\n",
    "mercedes_data = pd.read_csv('/Users/seandeely/Documents/Spring_Quarter_2019/STA141C/Project/mercedes_data.csv')"
   ]
  },
  {
   "cell_type": "code",
   "execution_count": 160,
   "metadata": {},
   "outputs": [],
   "source": [
    "# clean and split data\n",
    "\n",
    "x_mercedes = mercedes_data.drop(['y'], axis = 1)\n",
    "y_mercedes = mercedes_data['y']\n",
    "\n",
    "cate_col = list(x_mercedes.columns[x_mercedes.dtypes == 'object'])\n",
    "x_mercedes = pd.get_dummies(x_mercedes, columns = cate_col) # change categorical variables to dummy var"
   ]
  },
  {
   "cell_type": "code",
   "execution_count": 164,
   "metadata": {},
   "outputs": [],
   "source": [
    "# split into test and train\n",
    "\n",
    "x_mercedes_train, x_mercedes_test, y_mercedes_train, y_mercedes_test = train_test_split(x_mercedes,\n",
    "    y_mercedes, test_size = 0.30, random_state = 0)"
   ]
  },
  {
   "cell_type": "markdown",
   "metadata": {},
   "source": [
    "### Random Forest"
   ]
  },
  {
   "cell_type": "code",
   "execution_count": 166,
   "metadata": {},
   "outputs": [],
   "source": [
    "# setup random forest regressor\n",
    "\n",
    "rfr = RandomForestRegressor(n_estimators = 100)"
   ]
  },
  {
   "cell_type": "code",
   "execution_count": 167,
   "metadata": {},
   "outputs": [
    {
     "data": {
      "text/plain": [
       "RandomForestRegressor(bootstrap=True, criterion='mse', max_depth=None,\n",
       "           max_features='auto', max_leaf_nodes=None,\n",
       "           min_impurity_decrease=0.0, min_impurity_split=None,\n",
       "           min_samples_leaf=1, min_samples_split=2,\n",
       "           min_weight_fraction_leaf=0.0, n_estimators=100, n_jobs=None,\n",
       "           oob_score=False, random_state=None, verbose=0, warm_start=False)"
      ]
     },
     "execution_count": 167,
     "metadata": {},
     "output_type": "execute_result"
    }
   ],
   "source": [
    "# fit the model\n",
    "\n",
    "rfr.fit(x_mercedes_train, y_mercedes_train)"
   ]
  },
  {
   "cell_type": "code",
   "execution_count": 168,
   "metadata": {},
   "outputs": [
    {
     "name": "stdout",
     "output_type": "stream",
     "text": [
      "RESULTS\n",
      "\n",
      "Training score: 0.9336922681599936\n",
      "Testing score: 0.46730127254409337\n",
      "Training MSE: 10.298321996707388\n",
      "Testing MSE 92.112100004909\n"
     ]
    }
   ],
   "source": [
    "# show results\n",
    "\n",
    "print('RESULTS')\n",
    "print()\n",
    "print('Training score:', rfr.score(x_mercedes_train, y_mercedes_train))\n",
    "print('Testing score:', rfr.score(x_mercedes_test, y_mercedes_test))\n",
    "print('Training MSE:', mean_squared_error(y_mercedes_train, rfr.predict(x_mercedes_train)))\n",
    "print('Testing MSE',  mean_squared_error(y_mercedes_test, rfr.predict(x_mercedes_test)))"
   ]
  },
  {
   "cell_type": "markdown",
   "metadata": {},
   "source": [
    "## 7) Song Year Prediction Data"
   ]
  },
  {
   "cell_type": "code",
   "execution_count": 171,
   "metadata": {},
   "outputs": [],
   "source": [
    "# load the data\n",
    "\n",
    "song_data = pd.read_csv('/Users/seandeely/Documents/Spring_Quarter_2019/STA141C/Project/YearPredictionMSD.csv')"
   ]
  },
  {
   "cell_type": "code",
   "execution_count": 172,
   "metadata": {},
   "outputs": [],
   "source": [
    "# clean and sperate the data\n",
    "\n",
    "x_song = song_data.iloc[:,1:]\n",
    "y_song = song_data.iloc[:, 0]"
   ]
  },
  {
   "cell_type": "code",
   "execution_count": 173,
   "metadata": {},
   "outputs": [],
   "source": [
    "# split into test and train\n",
    "\n",
    "x_song_train, x_song_test, y_song_train, y_song_test = train_test_split(x_song,\n",
    "    y_song, test_size = 0.30, random_state = 0)"
   ]
  },
  {
   "cell_type": "markdown",
   "metadata": {},
   "source": [
    "### Random Forest"
   ]
  },
  {
   "cell_type": "code",
   "execution_count": 174,
   "metadata": {},
   "outputs": [],
   "source": [
    "# setup random forest regressor\n",
    "\n",
    "rfr = RandomForestRegressor(n_estimators = 100)"
   ]
  },
  {
   "cell_type": "code",
   "execution_count": 175,
   "metadata": {},
   "outputs": [
    {
     "data": {
      "text/plain": [
       "RandomForestRegressor(bootstrap=True, criterion='mse', max_depth=None,\n",
       "           max_features='auto', max_leaf_nodes=None,\n",
       "           min_impurity_decrease=0.0, min_impurity_split=None,\n",
       "           min_samples_leaf=1, min_samples_split=2,\n",
       "           min_weight_fraction_leaf=0.0, n_estimators=100, n_jobs=None,\n",
       "           oob_score=False, random_state=None, verbose=0, warm_start=False)"
      ]
     },
     "execution_count": 175,
     "metadata": {},
     "output_type": "execute_result"
    }
   ],
   "source": [
    "# fit the model\n",
    "\n",
    "rfr.fit(x_song_train, y_song_train)"
   ]
  },
  {
   "cell_type": "code",
   "execution_count": 177,
   "metadata": {},
   "outputs": [
    {
     "name": "stdout",
     "output_type": "stream",
     "text": [
      "RESULTS\n",
      "\n",
      "Training score: 0.9017017888696248\n",
      "Testing score: 0.3009849069505902\n",
      "Training MSE: 11.703180940597159\n",
      "Testing MSE 84.22433410933822\n"
     ]
    }
   ],
   "source": [
    "# show results\n",
    "\n",
    "print('RESULTS')\n",
    "print()\n",
    "print('Training score:', rfr.score(x_song_train, y_song_train))\n",
    "print('Testing score:', rfr.score(x_song_test, y_song_test))\n",
    "print('Training MSE:', mean_squared_error(y_song_train, rfr.predict(x_song_train)))\n",
    "print('Testing MSE',  mean_squared_error(y_song_test, rfr.predict(x_song_test)))"
   ]
  },
  {
   "cell_type": "markdown",
   "metadata": {},
   "source": [
    "## 8) Solar Flare Data"
   ]
  },
  {
   "cell_type": "code",
   "execution_count": null,
   "metadata": {},
   "outputs": [],
   "source": []
  },
  {
   "cell_type": "code",
   "execution_count": null,
   "metadata": {},
   "outputs": [],
   "source": []
  }
 ],
 "metadata": {
  "kernelspec": {
   "display_name": "Python 3",
   "language": "python",
   "name": "python3"
  },
  "language_info": {
   "codemirror_mode": {
    "name": "ipython",
    "version": 3
   },
   "file_extension": ".py",
   "mimetype": "text/x-python",
   "name": "python",
   "nbconvert_exporter": "python",
   "pygments_lexer": "ipython3",
   "version": "3.7.1"
  }
 },
 "nbformat": 4,
 "nbformat_minor": 2
}
