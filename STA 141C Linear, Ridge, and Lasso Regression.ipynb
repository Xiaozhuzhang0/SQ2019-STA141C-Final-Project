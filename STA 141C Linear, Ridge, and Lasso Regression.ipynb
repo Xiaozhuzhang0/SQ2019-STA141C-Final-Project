{
 "cells": [
  {
   "cell_type": "code",
   "execution_count": 1,
   "metadata": {},
   "outputs": [],
   "source": [
    "import pandas as pd\n",
    "import numpy as np\n",
    "import matplotlib.pyplot as plt"
   ]
  },
  {
   "cell_type": "markdown",
   "metadata": {},
   "source": [
    "# 1. Graduate Admission Rate"
   ]
  },
  {
   "cell_type": "markdown",
   "metadata": {},
   "source": [
    "Graduate admission rate: Multiple Linear Regression"
   ]
  },
  {
   "cell_type": "code",
   "execution_count": 12,
   "metadata": {},
   "outputs": [],
   "source": [
    "from sklearn.linear_model import LinearRegression\n",
    "from sklearn.metrics import mean_squared_error"
   ]
  },
  {
   "cell_type": "code",
   "execution_count": 58,
   "metadata": {},
   "outputs": [],
   "source": [
    "#Import data\n",
    "admission_rate=pd.read_csv('/Users/mirandidallas-fuge/Desktop/Admission_Predict.csv')\n",
    "\n",
    "y=admission_rate['Chance of Admit ']\n",
    "x=admission_rate.iloc[:,1:8]"
   ]
  },
  {
   "cell_type": "code",
   "execution_count": 13,
   "metadata": {},
   "outputs": [
    {
     "name": "stdout",
     "output_type": "stream",
     "text": [
      "Multiple Linear Regression score: 0.8034713719824393\n",
      "Multiple Linear Regression MSE: 0.003986893243246914\n",
      "Multiple Linear Regression coef: [ 0.00173741  0.00291958  0.00571666 -0.00330517  0.02235313  0.11893945\n",
      "  0.02452511]\n"
     ]
    }
   ],
   "source": [
    "# Fit the Model\n",
    "reg = LinearRegression().fit(x, y)\n",
    "# Print the Score\n",
    "reg.score(x, y)\n",
    "print(\"Multiple Linear Regression score:\", reg.score(x, y))\n",
    "print(\"Multiple Linear Regression MSE:\", mean_squared_error(y, reg.predict(x)))\n",
    "print(\"Multiple Linear Regression coef:\", reg.coef_)"
   ]
  },
  {
   "cell_type": "markdown",
   "metadata": {},
   "source": [
    "Graduate admission rate: Lasso regression"
   ]
  },
  {
   "cell_type": "code",
   "execution_count": 16,
   "metadata": {},
   "outputs": [],
   "source": [
    "from sklearn import linear_model\n",
    "from sklearn.metrics import mean_squared_error\n",
    "from sklearn.preprocessing import StandardScaler"
   ]
  },
  {
   "cell_type": "code",
   "execution_count": 17,
   "metadata": {},
   "outputs": [],
   "source": [
    "# Scale data \n",
    "scaler = StandardScaler()\n",
    "scaler.fit(x)\n",
    "X = scaler.transform(x)"
   ]
  },
  {
   "cell_type": "code",
   "execution_count": 18,
   "metadata": {},
   "outputs": [
    {
     "name": "stdout",
     "output_type": "stream",
     "text": [
      "lasso score: 0.0\n",
      "lasso MSE: 0.0202865775\n",
      "lasso coef: [0. 0. 0. 0. 0. 0. 0.]\n"
     ]
    }
   ],
   "source": [
    "# Fit the Model and Print Score\n",
    "lasso = linear_model.Lasso()\n",
    "lasso.fit(X, y)\n",
    "print(\"lasso score:\", lasso.score(X, y))\n",
    "print(\"lasso MSE:\", mean_squared_error(y, lasso.predict(X)))\n",
    "print(\"lasso coef:\", lasso.coef_)"
   ]
  },
  {
   "cell_type": "markdown",
   "metadata": {},
   "source": [
    "Graduate admission rate: Ridge regression"
   ]
  },
  {
   "cell_type": "code",
   "execution_count": 27,
   "metadata": {},
   "outputs": [
    {
     "data": {
      "text/plain": [
       "Ridge(alpha=1.0, copy_X=True, fit_intercept=True, max_iter=None,\n",
       "   normalize=False, random_state=None, solver='auto', tol=0.001)"
      ]
     },
     "execution_count": 27,
     "metadata": {},
     "output_type": "execute_result"
    }
   ],
   "source": [
    "# Fit the Model and Print Score\n",
    "ridge = linear_model.Ridge()\n",
    "ridge.fit(X, y)"
   ]
  },
  {
   "cell_type": "code",
   "execution_count": 29,
   "metadata": {},
   "outputs": [
    {
     "name": "stdout",
     "output_type": "stream",
     "text": [
      "ridge score: 0.8034661029324273\n",
      "ridge MSE: 0.003987000134238337\n",
      "ridge coef: [ 0.02012161  0.01784985  0.00665018 -0.00311891  0.02005063  0.0701277\n",
      "  0.01220766]\n"
     ]
    }
   ],
   "source": [
    "print(\"ridge score:\",ridge.score(X, y))\n",
    "print(\"ridge MSE:\", mean_squared_error(y, ridge.predict(X)))\n",
    "print(\"ridge coef:\", ridge.coef_)"
   ]
  },
  {
   "cell_type": "markdown",
   "metadata": {},
   "source": [
    "### Summary for graduate school data: \n",
    "- Multiple Linear Regression - MSE 0.003986893243246914\n",
    "- Lasso Regression - MSE 0.0202865775\n",
    "- Ridge Regression - MSE 0.003987000134238337\n",
    "\n",
    "Thus since we want the smallest MSE of these, linear regression performs the best.\n",
    "\n",
    "##### Data set attributes: \n",
    "- small dataset, low dimension, all numerical attributes"
   ]
  },
  {
   "cell_type": "markdown",
   "metadata": {},
   "source": [
    "# 2. Crime incidence in community"
   ]
  },
  {
   "cell_type": "code",
   "execution_count": 366,
   "metadata": {},
   "outputs": [],
   "source": [
    "#Import data\n",
    "crime = pd.read_csv('/Users/mirandidallas-fuge/Desktop/CommViolPredUnnormalizedData.txt')"
   ]
  },
  {
   "cell_type": "code",
   "execution_count": 367,
   "metadata": {},
   "outputs": [],
   "source": [
    "x = crime.iloc[:, 0:-1]\n",
    "y = crime.iloc[:,-1]\n",
    "\n",
    "X = pd.DataFrame(x)"
   ]
  },
  {
   "cell_type": "code",
   "execution_count": 368,
   "metadata": {},
   "outputs": [],
   "source": [
    "df_0 = pd.get_dummies(X.iloc[:,0])\n",
    "df_1 = pd.get_dummies(X.iloc[:,1])"
   ]
  },
  {
   "cell_type": "code",
   "execution_count": 369,
   "metadata": {},
   "outputs": [],
   "source": [
    "x = x.drop(['BerkeleyHeightstownship', 'NJ'], axis=1)\n",
    "df_new = pd.concat([x, df_0, df_1], axis=1)"
   ]
  },
  {
   "cell_type": "code",
   "execution_count": 370,
   "metadata": {},
   "outputs": [],
   "source": [
    "df_new = df_new.replace('?', np.NaN)\n",
    "imp = Imputer(missing_values='NaN', strategy='mean', axis=0)\n",
    "imp.fit(df_new)\n",
    "X_fixed= imp.transform(df_new)"
   ]
  },
  {
   "cell_type": "markdown",
   "metadata": {},
   "source": [
    "Crime: multiple linear regression "
   ]
  },
  {
   "cell_type": "code",
   "execution_count": 371,
   "metadata": {},
   "outputs": [
    {
     "ename": "ValueError",
     "evalue": "could not convert string to float: '?'",
     "output_type": "error",
     "traceback": [
      "\u001b[0;31m---------------------------------------------------------------------------\u001b[0m",
      "\u001b[0;31mValueError\u001b[0m                                Traceback (most recent call last)",
      "\u001b[0;32m<ipython-input-371-1f8e9aa4d071>\u001b[0m in \u001b[0;36m<module>\u001b[0;34m()\u001b[0m\n\u001b[1;32m      1\u001b[0m \u001b[0;31m# Fit the Model\u001b[0m\u001b[0;34m\u001b[0m\u001b[0;34m\u001b[0m\u001b[0m\n\u001b[0;32m----> 2\u001b[0;31m \u001b[0mreg\u001b[0m \u001b[0;34m=\u001b[0m \u001b[0mLinearRegression\u001b[0m\u001b[0;34m(\u001b[0m\u001b[0;34m)\u001b[0m\u001b[0;34m.\u001b[0m\u001b[0mfit\u001b[0m\u001b[0;34m(\u001b[0m\u001b[0mX_fixed\u001b[0m\u001b[0;34m,\u001b[0m \u001b[0my\u001b[0m\u001b[0;34m)\u001b[0m\u001b[0;34m\u001b[0m\u001b[0m\n\u001b[0m\u001b[1;32m      3\u001b[0m \u001b[0;31m# Print the Score\u001b[0m\u001b[0;34m\u001b[0m\u001b[0;34m\u001b[0m\u001b[0m\n\u001b[1;32m      4\u001b[0m \u001b[0mreg\u001b[0m\u001b[0;34m.\u001b[0m\u001b[0mscore\u001b[0m\u001b[0;34m(\u001b[0m\u001b[0mX_fixed\u001b[0m\u001b[0;34m,\u001b[0m \u001b[0my\u001b[0m\u001b[0;34m)\u001b[0m\u001b[0;34m\u001b[0m\u001b[0m\n\u001b[1;32m      5\u001b[0m \u001b[0mprint\u001b[0m\u001b[0;34m(\u001b[0m\u001b[0;34m\"Multiple Linear Regression score:\"\u001b[0m\u001b[0;34m,\u001b[0m \u001b[0mreg\u001b[0m\u001b[0;34m.\u001b[0m\u001b[0mscore\u001b[0m\u001b[0;34m(\u001b[0m\u001b[0mX_fixed\u001b[0m\u001b[0;34m,\u001b[0m \u001b[0my\u001b[0m\u001b[0;34m)\u001b[0m\u001b[0;34m)\u001b[0m\u001b[0;34m\u001b[0m\u001b[0m\n",
      "\u001b[0;32m/anaconda3/lib/python3.6/site-packages/sklearn/linear_model/base.py\u001b[0m in \u001b[0;36mfit\u001b[0;34m(self, X, y, sample_weight)\u001b[0m\n\u001b[1;32m    480\u001b[0m         \u001b[0mn_jobs_\u001b[0m \u001b[0;34m=\u001b[0m \u001b[0mself\u001b[0m\u001b[0;34m.\u001b[0m\u001b[0mn_jobs\u001b[0m\u001b[0;34m\u001b[0m\u001b[0m\n\u001b[1;32m    481\u001b[0m         X, y = check_X_y(X, y, accept_sparse=['csr', 'csc', 'coo'],\n\u001b[0;32m--> 482\u001b[0;31m                          y_numeric=True, multi_output=True)\n\u001b[0m\u001b[1;32m    483\u001b[0m \u001b[0;34m\u001b[0m\u001b[0m\n\u001b[1;32m    484\u001b[0m         \u001b[0;32mif\u001b[0m \u001b[0msample_weight\u001b[0m \u001b[0;32mis\u001b[0m \u001b[0;32mnot\u001b[0m \u001b[0;32mNone\u001b[0m \u001b[0;32mand\u001b[0m \u001b[0mnp\u001b[0m\u001b[0;34m.\u001b[0m\u001b[0matleast_1d\u001b[0m\u001b[0;34m(\u001b[0m\u001b[0msample_weight\u001b[0m\u001b[0;34m)\u001b[0m\u001b[0;34m.\u001b[0m\u001b[0mndim\u001b[0m \u001b[0;34m>\u001b[0m \u001b[0;36m1\u001b[0m\u001b[0;34m:\u001b[0m\u001b[0;34m\u001b[0m\u001b[0m\n",
      "\u001b[0;32m/anaconda3/lib/python3.6/site-packages/sklearn/utils/validation.py\u001b[0m in \u001b[0;36mcheck_X_y\u001b[0;34m(X, y, accept_sparse, dtype, order, copy, force_all_finite, ensure_2d, allow_nd, multi_output, ensure_min_samples, ensure_min_features, y_numeric, warn_on_dtype, estimator)\u001b[0m\n\u001b[1;32m    579\u001b[0m         \u001b[0m_assert_all_finite\u001b[0m\u001b[0;34m(\u001b[0m\u001b[0my\u001b[0m\u001b[0;34m)\u001b[0m\u001b[0;34m\u001b[0m\u001b[0m\n\u001b[1;32m    580\u001b[0m     \u001b[0;32mif\u001b[0m \u001b[0my_numeric\u001b[0m \u001b[0;32mand\u001b[0m \u001b[0my\u001b[0m\u001b[0;34m.\u001b[0m\u001b[0mdtype\u001b[0m\u001b[0;34m.\u001b[0m\u001b[0mkind\u001b[0m \u001b[0;34m==\u001b[0m \u001b[0;34m'O'\u001b[0m\u001b[0;34m:\u001b[0m\u001b[0;34m\u001b[0m\u001b[0m\n\u001b[0;32m--> 581\u001b[0;31m         \u001b[0my\u001b[0m \u001b[0;34m=\u001b[0m \u001b[0my\u001b[0m\u001b[0;34m.\u001b[0m\u001b[0mastype\u001b[0m\u001b[0;34m(\u001b[0m\u001b[0mnp\u001b[0m\u001b[0;34m.\u001b[0m\u001b[0mfloat64\u001b[0m\u001b[0;34m)\u001b[0m\u001b[0;34m\u001b[0m\u001b[0m\n\u001b[0m\u001b[1;32m    582\u001b[0m \u001b[0;34m\u001b[0m\u001b[0m\n\u001b[1;32m    583\u001b[0m     \u001b[0mcheck_consistent_length\u001b[0m\u001b[0;34m(\u001b[0m\u001b[0mX\u001b[0m\u001b[0;34m,\u001b[0m \u001b[0my\u001b[0m\u001b[0;34m)\u001b[0m\u001b[0;34m\u001b[0m\u001b[0m\n",
      "\u001b[0;31mValueError\u001b[0m: could not convert string to float: '?'"
     ]
    }
   ],
   "source": [
    "# Fit the Model\n",
    "reg = LinearRegression().fit(X_fixed, y)\n",
    "# Print the Score\n",
    "reg.score(X_fixed, y)\n",
    "print(\"Multiple Linear Regression score:\", reg.score(X_fixed, y))\n",
    "print(\"Multiple Linear Regression MSE:\", mean_squared_error(y, reg.predict(X_fixed)))\n",
    "print(\"Multiple Linear Regression coef:\", reg.coef_)"
   ]
  },
  {
   "cell_type": "markdown",
   "metadata": {},
   "source": [
    "Crime: Lasso regression"
   ]
  },
  {
   "cell_type": "code",
   "execution_count": null,
   "metadata": {},
   "outputs": [],
   "source": [
    "# Scale data \n",
    "scaler = StandardScaler()\n",
    "scaler.fit(x)\n",
    "X = scaler.transform(x)"
   ]
  },
  {
   "cell_type": "code",
   "execution_count": null,
   "metadata": {},
   "outputs": [],
   "source": [
    "# Fit the Model and Print Score\n",
    "lasso = linear_model.Lasso()\n",
    "lasso.fit(X, y)\n",
    "print(\"lasso score:\", lasso.score(X, y))\n",
    "print(\"lasso MSE:\", mean_squared_error(y, lasso.predict(X)))\n",
    "print(\"lasso coef:\", lasso.coef_)"
   ]
  },
  {
   "cell_type": "markdown",
   "metadata": {},
   "source": [
    "Crime: Ridge regression"
   ]
  },
  {
   "cell_type": "code",
   "execution_count": null,
   "metadata": {},
   "outputs": [],
   "source": [
    "# Fit the Model and Print Score\n",
    "ridge = linear_model.Ridge()\n",
    "ridge.fit(X, y)"
   ]
  },
  {
   "cell_type": "code",
   "execution_count": null,
   "metadata": {},
   "outputs": [],
   "source": [
    "print(\"ridge score:\",ridge.score(X, y))\n",
    "print(\"ridge MSE:\", mean_squared_error(y, ridge.predict(X)))\n",
    "print(\"ridge coef:\", ridge.coef_)"
   ]
  },
  {
   "cell_type": "markdown",
   "metadata": {},
   "source": [
    "### Summary for crime data: \n",
    "- Multiple Linear Regression - \n",
    "- Lasso Regression - \n",
    "- Ridge Regression - \n",
    "\n",
    "Thus since we want the smallest MSE of these, _________  performs the best.\n",
    "\n",
    "##### Data set attributes: \n",
    "-"
   ]
  },
  {
   "cell_type": "markdown",
   "metadata": {},
   "source": [
    "# 3. Automobile"
   ]
  },
  {
   "cell_type": "markdown",
   "metadata": {},
   "source": [
    "Automobile: multiple linear regression "
   ]
  },
  {
   "cell_type": "code",
   "execution_count": 372,
   "metadata": {},
   "outputs": [],
   "source": [
    "import numpy as np\n",
    "from sklearn.preprocessing import Imputer\n",
    "cars=pd.read_csv('/Users/mirandidallas-fuge/Desktop/imports-85.data')"
   ]
  },
  {
   "cell_type": "code",
   "execution_count": 373,
   "metadata": {},
   "outputs": [],
   "source": [
    "x = cars.iloc[:, 0:-1]\n",
    "y = cars.iloc[:,-1]"
   ]
  },
  {
   "cell_type": "code",
   "execution_count": 374,
   "metadata": {},
   "outputs": [],
   "source": [
    "X = pd.DataFrame(x)"
   ]
  },
  {
   "cell_type": "code",
   "execution_count": 375,
   "metadata": {},
   "outputs": [],
   "source": [
    "df_2 = pd.get_dummies(X.iloc[:,2])\n",
    "df_3 = pd.get_dummies(X.iloc[:,3])\n",
    "df_4 = pd.get_dummies(X.iloc[:,4])\n",
    "df_5 = pd.get_dummies(X.iloc[:,5])\n",
    "df_6 = pd.get_dummies(X.iloc[:,6])\n",
    "df_7 = pd.get_dummies(X.iloc[:,7])\n",
    "df_8 = pd.get_dummies(X.iloc[:,8])\n",
    "df_14 = pd.get_dummies(X.iloc[:,14])\n",
    "df_15 = pd.get_dummies(X.iloc[:,15])\n",
    "df_17 = pd.get_dummies(X.iloc[:,17])"
   ]
  },
  {
   "cell_type": "code",
   "execution_count": 376,
   "metadata": {},
   "outputs": [],
   "source": [
    "x = x.drop(['alfa-romero', 'gas', 'std', 'two', 'convertible', 'rwd', 'front', 'dohc','four', 'mpfi'], axis=1)"
   ]
  },
  {
   "cell_type": "code",
   "execution_count": 377,
   "metadata": {},
   "outputs": [],
   "source": [
    "df_new = pd.concat([x, df_2, df_3, df_4, df_5, df_6, df_7, df_8, df_14, df_15, df_17], axis=1)"
   ]
  },
  {
   "cell_type": "code",
   "execution_count": 378,
   "metadata": {},
   "outputs": [],
   "source": [
    "df_new = df_new.replace('?', np.NaN)"
   ]
  },
  {
   "cell_type": "code",
   "execution_count": 379,
   "metadata": {},
   "outputs": [],
   "source": [
    "imp = Imputer(missing_values='NaN', strategy='mean', axis=0)\n",
    "imp.fit(df_new)\n",
    "X_fixed= imp.transform(df_new)"
   ]
  },
  {
   "cell_type": "code",
   "execution_count": 380,
   "metadata": {},
   "outputs": [
    {
     "ename": "ValueError",
     "evalue": "could not convert string to float: '?'",
     "output_type": "error",
     "traceback": [
      "\u001b[0;31m---------------------------------------------------------------------------\u001b[0m",
      "\u001b[0;31mValueError\u001b[0m                                Traceback (most recent call last)",
      "\u001b[0;32m<ipython-input-380-1f8e9aa4d071>\u001b[0m in \u001b[0;36m<module>\u001b[0;34m()\u001b[0m\n\u001b[1;32m      1\u001b[0m \u001b[0;31m# Fit the Model\u001b[0m\u001b[0;34m\u001b[0m\u001b[0;34m\u001b[0m\u001b[0m\n\u001b[0;32m----> 2\u001b[0;31m \u001b[0mreg\u001b[0m \u001b[0;34m=\u001b[0m \u001b[0mLinearRegression\u001b[0m\u001b[0;34m(\u001b[0m\u001b[0;34m)\u001b[0m\u001b[0;34m.\u001b[0m\u001b[0mfit\u001b[0m\u001b[0;34m(\u001b[0m\u001b[0mX_fixed\u001b[0m\u001b[0;34m,\u001b[0m \u001b[0my\u001b[0m\u001b[0;34m)\u001b[0m\u001b[0;34m\u001b[0m\u001b[0m\n\u001b[0m\u001b[1;32m      3\u001b[0m \u001b[0;31m# Print the Score\u001b[0m\u001b[0;34m\u001b[0m\u001b[0;34m\u001b[0m\u001b[0m\n\u001b[1;32m      4\u001b[0m \u001b[0mreg\u001b[0m\u001b[0;34m.\u001b[0m\u001b[0mscore\u001b[0m\u001b[0;34m(\u001b[0m\u001b[0mX_fixed\u001b[0m\u001b[0;34m,\u001b[0m \u001b[0my\u001b[0m\u001b[0;34m)\u001b[0m\u001b[0;34m\u001b[0m\u001b[0m\n\u001b[1;32m      5\u001b[0m \u001b[0mprint\u001b[0m\u001b[0;34m(\u001b[0m\u001b[0;34m\"Multiple Linear Regression score:\"\u001b[0m\u001b[0;34m,\u001b[0m \u001b[0mreg\u001b[0m\u001b[0;34m.\u001b[0m\u001b[0mscore\u001b[0m\u001b[0;34m(\u001b[0m\u001b[0mX_fixed\u001b[0m\u001b[0;34m,\u001b[0m \u001b[0my\u001b[0m\u001b[0;34m)\u001b[0m\u001b[0;34m)\u001b[0m\u001b[0;34m\u001b[0m\u001b[0m\n",
      "\u001b[0;32m/anaconda3/lib/python3.6/site-packages/sklearn/linear_model/base.py\u001b[0m in \u001b[0;36mfit\u001b[0;34m(self, X, y, sample_weight)\u001b[0m\n\u001b[1;32m    480\u001b[0m         \u001b[0mn_jobs_\u001b[0m \u001b[0;34m=\u001b[0m \u001b[0mself\u001b[0m\u001b[0;34m.\u001b[0m\u001b[0mn_jobs\u001b[0m\u001b[0;34m\u001b[0m\u001b[0m\n\u001b[1;32m    481\u001b[0m         X, y = check_X_y(X, y, accept_sparse=['csr', 'csc', 'coo'],\n\u001b[0;32m--> 482\u001b[0;31m                          y_numeric=True, multi_output=True)\n\u001b[0m\u001b[1;32m    483\u001b[0m \u001b[0;34m\u001b[0m\u001b[0m\n\u001b[1;32m    484\u001b[0m         \u001b[0;32mif\u001b[0m \u001b[0msample_weight\u001b[0m \u001b[0;32mis\u001b[0m \u001b[0;32mnot\u001b[0m \u001b[0;32mNone\u001b[0m \u001b[0;32mand\u001b[0m \u001b[0mnp\u001b[0m\u001b[0;34m.\u001b[0m\u001b[0matleast_1d\u001b[0m\u001b[0;34m(\u001b[0m\u001b[0msample_weight\u001b[0m\u001b[0;34m)\u001b[0m\u001b[0;34m.\u001b[0m\u001b[0mndim\u001b[0m \u001b[0;34m>\u001b[0m \u001b[0;36m1\u001b[0m\u001b[0;34m:\u001b[0m\u001b[0;34m\u001b[0m\u001b[0m\n",
      "\u001b[0;32m/anaconda3/lib/python3.6/site-packages/sklearn/utils/validation.py\u001b[0m in \u001b[0;36mcheck_X_y\u001b[0;34m(X, y, accept_sparse, dtype, order, copy, force_all_finite, ensure_2d, allow_nd, multi_output, ensure_min_samples, ensure_min_features, y_numeric, warn_on_dtype, estimator)\u001b[0m\n\u001b[1;32m    579\u001b[0m         \u001b[0m_assert_all_finite\u001b[0m\u001b[0;34m(\u001b[0m\u001b[0my\u001b[0m\u001b[0;34m)\u001b[0m\u001b[0;34m\u001b[0m\u001b[0m\n\u001b[1;32m    580\u001b[0m     \u001b[0;32mif\u001b[0m \u001b[0my_numeric\u001b[0m \u001b[0;32mand\u001b[0m \u001b[0my\u001b[0m\u001b[0;34m.\u001b[0m\u001b[0mdtype\u001b[0m\u001b[0;34m.\u001b[0m\u001b[0mkind\u001b[0m \u001b[0;34m==\u001b[0m \u001b[0;34m'O'\u001b[0m\u001b[0;34m:\u001b[0m\u001b[0;34m\u001b[0m\u001b[0m\n\u001b[0;32m--> 581\u001b[0;31m         \u001b[0my\u001b[0m \u001b[0;34m=\u001b[0m \u001b[0my\u001b[0m\u001b[0;34m.\u001b[0m\u001b[0mastype\u001b[0m\u001b[0;34m(\u001b[0m\u001b[0mnp\u001b[0m\u001b[0;34m.\u001b[0m\u001b[0mfloat64\u001b[0m\u001b[0;34m)\u001b[0m\u001b[0;34m\u001b[0m\u001b[0m\n\u001b[0m\u001b[1;32m    582\u001b[0m \u001b[0;34m\u001b[0m\u001b[0m\n\u001b[1;32m    583\u001b[0m     \u001b[0mcheck_consistent_length\u001b[0m\u001b[0;34m(\u001b[0m\u001b[0mX\u001b[0m\u001b[0;34m,\u001b[0m \u001b[0my\u001b[0m\u001b[0;34m)\u001b[0m\u001b[0;34m\u001b[0m\u001b[0m\n",
      "\u001b[0;31mValueError\u001b[0m: could not convert string to float: '?'"
     ]
    }
   ],
   "source": [
    "# Fit the Model\n",
    "reg = LinearRegression().fit(X_fixed, y)\n",
    "# Print the Score\n",
    "reg.score(X_fixed, y)\n",
    "print(\"Multiple Linear Regression score:\", reg.score(X_fixed, y))\n",
    "print(\"Multiple Linear Regression MSE:\", mean_squared_error(y, reg.predict(X_fixed)))\n",
    "print(\"Multiple Linear Regression coef:\", reg.coef_)"
   ]
  },
  {
   "cell_type": "markdown",
   "metadata": {},
   "source": [
    "Automobile: Lasso regression"
   ]
  },
  {
   "cell_type": "code",
   "execution_count": 334,
   "metadata": {},
   "outputs": [
    {
     "ename": "ValueError",
     "evalue": "could not convert string to float: '?'",
     "output_type": "error",
     "traceback": [
      "\u001b[0;31m---------------------------------------------------------------------------\u001b[0m",
      "\u001b[0;31mValueError\u001b[0m                                Traceback (most recent call last)",
      "\u001b[0;32m<ipython-input-334-c6ec97d6c42f>\u001b[0m in \u001b[0;36m<module>\u001b[0;34m()\u001b[0m\n\u001b[1;32m      1\u001b[0m \u001b[0;31m# Scale data\u001b[0m\u001b[0;34m\u001b[0m\u001b[0;34m\u001b[0m\u001b[0m\n\u001b[1;32m      2\u001b[0m \u001b[0mscaler\u001b[0m \u001b[0;34m=\u001b[0m \u001b[0mStandardScaler\u001b[0m\u001b[0;34m(\u001b[0m\u001b[0;34m)\u001b[0m\u001b[0;34m\u001b[0m\u001b[0m\n\u001b[0;32m----> 3\u001b[0;31m \u001b[0mscaler\u001b[0m\u001b[0;34m.\u001b[0m\u001b[0mfit\u001b[0m\u001b[0;34m(\u001b[0m\u001b[0mx\u001b[0m\u001b[0;34m)\u001b[0m\u001b[0;34m\u001b[0m\u001b[0m\n\u001b[0m\u001b[1;32m      4\u001b[0m \u001b[0mX\u001b[0m \u001b[0;34m=\u001b[0m \u001b[0mscaler\u001b[0m\u001b[0;34m.\u001b[0m\u001b[0mtransform\u001b[0m\u001b[0;34m(\u001b[0m\u001b[0mx\u001b[0m\u001b[0;34m)\u001b[0m\u001b[0;34m\u001b[0m\u001b[0m\n",
      "\u001b[0;32m/anaconda3/lib/python3.6/site-packages/sklearn/preprocessing/data.py\u001b[0m in \u001b[0;36mfit\u001b[0;34m(self, X, y)\u001b[0m\n\u001b[1;32m    588\u001b[0m         \u001b[0;31m# Reset internal state before fitting\u001b[0m\u001b[0;34m\u001b[0m\u001b[0;34m\u001b[0m\u001b[0m\n\u001b[1;32m    589\u001b[0m         \u001b[0mself\u001b[0m\u001b[0;34m.\u001b[0m\u001b[0m_reset\u001b[0m\u001b[0;34m(\u001b[0m\u001b[0;34m)\u001b[0m\u001b[0;34m\u001b[0m\u001b[0m\n\u001b[0;32m--> 590\u001b[0;31m         \u001b[0;32mreturn\u001b[0m \u001b[0mself\u001b[0m\u001b[0;34m.\u001b[0m\u001b[0mpartial_fit\u001b[0m\u001b[0;34m(\u001b[0m\u001b[0mX\u001b[0m\u001b[0;34m,\u001b[0m \u001b[0my\u001b[0m\u001b[0;34m)\u001b[0m\u001b[0;34m\u001b[0m\u001b[0m\n\u001b[0m\u001b[1;32m    591\u001b[0m \u001b[0;34m\u001b[0m\u001b[0m\n\u001b[1;32m    592\u001b[0m     \u001b[0;32mdef\u001b[0m \u001b[0mpartial_fit\u001b[0m\u001b[0;34m(\u001b[0m\u001b[0mself\u001b[0m\u001b[0;34m,\u001b[0m \u001b[0mX\u001b[0m\u001b[0;34m,\u001b[0m \u001b[0my\u001b[0m\u001b[0;34m=\u001b[0m\u001b[0;32mNone\u001b[0m\u001b[0;34m)\u001b[0m\u001b[0;34m:\u001b[0m\u001b[0;34m\u001b[0m\u001b[0m\n",
      "\u001b[0;32m/anaconda3/lib/python3.6/site-packages/sklearn/preprocessing/data.py\u001b[0m in \u001b[0;36mpartial_fit\u001b[0;34m(self, X, y)\u001b[0m\n\u001b[1;32m    610\u001b[0m         \"\"\"\n\u001b[1;32m    611\u001b[0m         X = check_array(X, accept_sparse=('csr', 'csc'), copy=self.copy,\n\u001b[0;32m--> 612\u001b[0;31m                         warn_on_dtype=True, estimator=self, dtype=FLOAT_DTYPES)\n\u001b[0m\u001b[1;32m    613\u001b[0m \u001b[0;34m\u001b[0m\u001b[0m\n\u001b[1;32m    614\u001b[0m         \u001b[0;31m# Even in the case of `with_mean=False`, we update the mean anyway\u001b[0m\u001b[0;34m\u001b[0m\u001b[0;34m\u001b[0m\u001b[0m\n",
      "\u001b[0;32m/anaconda3/lib/python3.6/site-packages/sklearn/utils/validation.py\u001b[0m in \u001b[0;36mcheck_array\u001b[0;34m(array, accept_sparse, dtype, order, copy, force_all_finite, ensure_2d, allow_nd, ensure_min_samples, ensure_min_features, warn_on_dtype, estimator)\u001b[0m\n\u001b[1;32m    431\u001b[0m                                       force_all_finite)\n\u001b[1;32m    432\u001b[0m     \u001b[0;32melse\u001b[0m\u001b[0;34m:\u001b[0m\u001b[0;34m\u001b[0m\u001b[0m\n\u001b[0;32m--> 433\u001b[0;31m         \u001b[0marray\u001b[0m \u001b[0;34m=\u001b[0m \u001b[0mnp\u001b[0m\u001b[0;34m.\u001b[0m\u001b[0marray\u001b[0m\u001b[0;34m(\u001b[0m\u001b[0marray\u001b[0m\u001b[0;34m,\u001b[0m \u001b[0mdtype\u001b[0m\u001b[0;34m=\u001b[0m\u001b[0mdtype\u001b[0m\u001b[0;34m,\u001b[0m \u001b[0morder\u001b[0m\u001b[0;34m=\u001b[0m\u001b[0morder\u001b[0m\u001b[0;34m,\u001b[0m \u001b[0mcopy\u001b[0m\u001b[0;34m=\u001b[0m\u001b[0mcopy\u001b[0m\u001b[0;34m)\u001b[0m\u001b[0;34m\u001b[0m\u001b[0m\n\u001b[0m\u001b[1;32m    434\u001b[0m \u001b[0;34m\u001b[0m\u001b[0m\n\u001b[1;32m    435\u001b[0m         \u001b[0;32mif\u001b[0m \u001b[0mensure_2d\u001b[0m\u001b[0;34m:\u001b[0m\u001b[0;34m\u001b[0m\u001b[0m\n",
      "\u001b[0;31mValueError\u001b[0m: could not convert string to float: '?'"
     ]
    }
   ],
   "source": [
    "# Scale data \n",
    "scaler = StandardScaler()\n",
    "scaler.fit(x)\n",
    "X = scaler.transform(x)"
   ]
  },
  {
   "cell_type": "code",
   "execution_count": null,
   "metadata": {},
   "outputs": [],
   "source": [
    "# Fit the Model and Print Score\n",
    "lasso = linear_model.Lasso()\n",
    "lasso.fit(X, y)\n",
    "print(\"lasso score:\", lasso.score(X, y))\n",
    "print(\"lasso MSE:\", mean_squared_error(y, lasso.predict(X)))\n",
    "print(\"lasso coef:\", lasso.coef_)"
   ]
  },
  {
   "cell_type": "markdown",
   "metadata": {},
   "source": [
    "Automobile: Ridge regression"
   ]
  },
  {
   "cell_type": "code",
   "execution_count": null,
   "metadata": {},
   "outputs": [],
   "source": [
    "# Fit the Model and Print Score\n",
    "ridge = linear_model.Ridge()\n",
    "ridge.fit(X, y)"
   ]
  },
  {
   "cell_type": "code",
   "execution_count": null,
   "metadata": {},
   "outputs": [],
   "source": [
    "print(\"ridge score:\",ridge.score(X, y))\n",
    "print(\"ridge MSE:\", mean_squared_error(y, ridge.predict(X)))\n",
    "print(\"ridge coef:\", ridge.coef_)"
   ]
  },
  {
   "cell_type": "markdown",
   "metadata": {},
   "source": [
    "### Summary for automobile data: \n",
    "- Multiple Linear Regression - \n",
    "- Lasso Regression - \n",
    "- Ridge Regression - \n",
    "\n",
    "Thus since we want the smallest MSE of these, _________  performs the best.\n",
    "\n",
    "##### Data set attributes: \n",
    "-"
   ]
  },
  {
   "cell_type": "markdown",
   "metadata": {},
   "source": [
    "# 4. Breast Cancer "
   ]
  },
  {
   "cell_type": "markdown",
   "metadata": {},
   "source": [
    "Breast Cancer: Multiple Linear Regression "
   ]
  },
  {
   "cell_type": "code",
   "execution_count": 217,
   "metadata": {},
   "outputs": [],
   "source": [
    "Breast_cancer_wisconsin = pd.read_csv('/Users/mirandidallas-fuge/Desktop/breast-cancer-wisconsin.data')"
   ]
  },
  {
   "cell_type": "code",
   "execution_count": 228,
   "metadata": {},
   "outputs": [],
   "source": [
    "x=Breast_cancer_wisconsin.iloc[:,2:]"
   ]
  },
  {
   "cell_type": "code",
   "execution_count": 229,
   "metadata": {},
   "outputs": [],
   "source": [
    "y=Breast_cancer_wisconsin.iloc[:,1]"
   ]
  },
  {
   "cell_type": "code",
   "execution_count": 248,
   "metadata": {},
   "outputs": [],
   "source": [
    "import pandas as pd\n",
    "X = pd.DataFrame(x)"
   ]
  },
  {
   "cell_type": "code",
   "execution_count": 230,
   "metadata": {},
   "outputs": [],
   "source": [
    "X = X.replace('?', np.NaN)"
   ]
  },
  {
   "cell_type": "code",
   "execution_count": 261,
   "metadata": {},
   "outputs": [],
   "source": [
    "from sklearn.preprocessing import Imputer\n",
    "imp = Imputer(missing_values='NaN', strategy='mean', axis=0)\n",
    "imp.fit(X)\n",
    "X_fixed= imp.transform(X)"
   ]
  },
  {
   "cell_type": "code",
   "execution_count": 262,
   "metadata": {},
   "outputs": [
    {
     "name": "stdout",
     "output_type": "stream",
     "text": [
      "Multiple Linear Regression score: 0.5330725624458194\n",
      "Multiple Linear Regression MSE: 3.701758257116035\n",
      "Multiple Linear Regression coef: [ 0.08716186  0.16076712 -0.09082431 -0.01948014  0.00987729 -0.00819105\n",
      " -0.00554684  0.07202413  1.64568907]\n"
     ]
    }
   ],
   "source": [
    "# Fit the Model\n",
    "reg = LinearRegression().fit(X_fixed, y)\n",
    "# Print the Score\n",
    "reg.score(X_fixed, y)\n",
    "print(\"Multiple Linear Regression score:\", reg.score(X_fixed, y))\n",
    "print(\"Multiple Linear Regression MSE:\", mean_squared_error(y, reg.predict(X_fixed)))\n",
    "print(\"Multiple Linear Regression coef:\", reg.coef_)"
   ]
  },
  {
   "cell_type": "markdown",
   "metadata": {},
   "source": [
    "Breast Cancer: Lasso"
   ]
  },
  {
   "cell_type": "code",
   "execution_count": 263,
   "metadata": {},
   "outputs": [],
   "source": [
    "# Scale data \n",
    "scaler = StandardScaler()\n",
    "scaler.fit(X_fixed)\n",
    "X = scaler.transform(X_fixed)"
   ]
  },
  {
   "cell_type": "code",
   "execution_count": 264,
   "metadata": {},
   "outputs": [
    {
     "name": "stdout",
     "output_type": "stream",
     "text": [
      "lasso score: 0.4551149414498669\n",
      "lasso MSE: 4.3197991859989155\n",
      "lasso coef: [0.17375289 0.1993394  0.         0.         0.15732223 0.\n",
      " 0.01514637 0.         0.        ]\n"
     ]
    }
   ],
   "source": [
    "# Fit the Model and Print Score\n",
    "lasso = linear_model.Lasso()\n",
    "lasso.fit(X_fixed, y)\n",
    "print(\"lasso score:\", lasso.score(X_fixed, y))\n",
    "print(\"lasso MSE:\", mean_squared_error(y, lasso.predict(X_fixed)))\n",
    "print(\"lasso coef:\", lasso.coef_)"
   ]
  },
  {
   "cell_type": "markdown",
   "metadata": {},
   "source": [
    "Breast Cancer: Ridge Regression"
   ]
  },
  {
   "cell_type": "code",
   "execution_count": 265,
   "metadata": {},
   "outputs": [
    {
     "data": {
      "text/plain": [
       "Ridge(alpha=1.0, copy_X=True, fit_intercept=True, max_iter=None,\n",
       "   normalize=False, random_state=None, solver='auto', tol=0.001)"
      ]
     },
     "execution_count": 265,
     "metadata": {},
     "output_type": "execute_result"
    }
   ],
   "source": [
    "# Fit the Model and Print Score\n",
    "ridge = linear_model.Ridge()\n",
    "ridge.fit(X_fixed, y)"
   ]
  },
  {
   "cell_type": "code",
   "execution_count": 266,
   "metadata": {},
   "outputs": [
    {
     "name": "stdout",
     "output_type": "stream",
     "text": [
      "ridge score: 0.5330684615436043\n",
      "ridge MSE: 3.701790768695812\n",
      "ridge coef: [ 0.0879629   0.16133473 -0.09066844 -0.01920239  0.01132331 -0.00753354\n",
      " -0.00499077  0.07213587  1.63168369]\n"
     ]
    }
   ],
   "source": [
    "print(\"ridge score:\",ridge.score(X_fixed, y))\n",
    "print(\"ridge MSE:\", mean_squared_error(y, ridge.predict(X_fixed)))\n",
    "print(\"ridge coef:\", ridge.coef_)"
   ]
  },
  {
   "cell_type": "markdown",
   "metadata": {},
   "source": [
    "### Summary for breast cancer data: \n",
    "- Multiple Linear Regression - 3.701758257116035\n",
    "- Lasso Regression - 4.3197991859989155\n",
    "- Ridge Regression - 3.701790768695812\n",
    "\n",
    "Thus since we want the smallest MSE of these, multiple linear regression performs the best.\n",
    "\n",
    "##### Data set attributes: \n",
    "- small dimensions"
   ]
  },
  {
   "cell_type": "markdown",
   "metadata": {},
   "source": [
    "# 5. Parkinsons Data "
   ]
  },
  {
   "cell_type": "code",
   "execution_count": 7,
   "metadata": {},
   "outputs": [],
   "source": [
    "Parkinsons_data = pd.read_csv('/Users/mirandidallas-fuge/Desktop/parkinsons_updrs.data')"
   ]
  },
  {
   "cell_type": "code",
   "execution_count": 134,
   "metadata": {},
   "outputs": [],
   "source": [
    "y = Parkinsons_data['total_UPDRS']"
   ]
  },
  {
   "cell_type": "code",
   "execution_count": 135,
   "metadata": {},
   "outputs": [],
   "source": [
    "x = Parkinsons_data.drop(['total_UPDRS'], axis=1)"
   ]
  },
  {
   "cell_type": "markdown",
   "metadata": {},
   "source": [
    "Parkinsons: Multiple Linear Regression "
   ]
  },
  {
   "cell_type": "code",
   "execution_count": 136,
   "metadata": {},
   "outputs": [
    {
     "name": "stdout",
     "output_type": "stream",
     "text": [
      "Multiple Linear Regression score: 0.9100144198179335\n",
      "Multiple Linear Regression MSE: 10.30124083758564\n",
      "Multiple Linear Regression coef: [ 4.72741397e-02  7.43271063e-02 -1.75884711e+00  2.64879855e-03\n",
      "  1.20660278e+00 -3.56842204e+02  1.77854322e+04  8.27931046e+03\n",
      "  8.22633190e+01 -2.60542785e+03 -5.08475929e+01  6.92595138e-01\n",
      " -1.36712611e+04  1.06861484e+02 -4.25065839e+01  4.55455275e+03\n",
      " -4.26252046e+00 -8.81464413e-02  2.85995358e+00 -3.94378918e+00\n",
      " -3.95847026e+00]\n"
     ]
    }
   ],
   "source": [
    "# Fit the Model\n",
    "reg = LinearRegression().fit(x, y)\n",
    "# Print the Score\n",
    "reg.score(x, y)\n",
    "print(\"Multiple Linear Regression score:\", reg.score(x, y))\n",
    "print(\"Multiple Linear Regression MSE:\", mean_squared_error(y, reg.predict(x)))\n",
    "print(\"Multiple Linear Regression coef:\", reg.coef_)"
   ]
  },
  {
   "cell_type": "markdown",
   "metadata": {},
   "source": [
    "Parkinsons: Lasso Regression "
   ]
  },
  {
   "cell_type": "code",
   "execution_count": 137,
   "metadata": {},
   "outputs": [],
   "source": [
    "# Scale data \n",
    "scaler = StandardScaler()\n",
    "scaler.fit(x)\n",
    "X = scaler.transform(x)"
   ]
  },
  {
   "cell_type": "code",
   "execution_count": 138,
   "metadata": {},
   "outputs": [
    {
     "name": "stdout",
     "output_type": "stream",
     "text": [
      "lasso score: 0.8885117507280906\n",
      "lasso MSE: 12.762792705087232\n",
      "lasso coef: [ 0.          0.         -0.          0.          9.13478072  0.\n",
      "  0.          0.         -0.          0.          0.          0.\n",
      "  0.          0.          0.          0.         -0.         -0.\n",
      "  0.         -0.          0.        ]\n"
     ]
    }
   ],
   "source": [
    "# Fit the Model and Print Score\n",
    "lasso = linear_model.Lasso()\n",
    "lasso.fit(X, y)\n",
    "print(\"lasso score:\", lasso.score(X, y))\n",
    "print(\"lasso MSE:\", mean_squared_error(y, lasso.predict(X)))\n",
    "print(\"lasso coef:\", lasso.coef_)"
   ]
  },
  {
   "cell_type": "markdown",
   "metadata": {},
   "source": [
    "Parkinsons: Ridge Regression "
   ]
  },
  {
   "cell_type": "code",
   "execution_count": 139,
   "metadata": {},
   "outputs": [
    {
     "data": {
      "text/plain": [
       "Ridge(alpha=1.0, copy_X=True, fit_intercept=True, max_iter=None,\n",
       "   normalize=False, random_state=None, solver='auto', tol=0.001)"
      ]
     },
     "execution_count": 139,
     "metadata": {},
     "output_type": "execute_result"
    }
   ],
   "source": [
    "# Fit the Model and Print Score\n",
    "ridge = linear_model.Ridge()\n",
    "ridge.fit(X, y)"
   ]
  },
  {
   "cell_type": "code",
   "execution_count": 140,
   "metadata": {},
   "outputs": [
    {
     "name": "stdout",
     "output_type": "stream",
     "text": [
      "ridge score: 0.909998204912202\n",
      "ridge MSE: 10.303097064425131\n",
      "ridge coef: [ 0.58416848  0.6559799  -0.81844061  0.14182767  9.80558099 -1.96009871\n",
      "  0.63471423  0.76440024  0.29214967  0.65528174 -1.27777731  0.1376577\n",
      " -0.07298332  1.76981864 -0.85086344 -0.02896885 -0.25614925 -0.38072316\n",
      "  0.28682972 -0.28015241 -0.36377144]\n"
     ]
    }
   ],
   "source": [
    "print(\"ridge score:\",ridge.score(X, y))\n",
    "print(\"ridge MSE:\", mean_squared_error(y, ridge.predict(X)))\n",
    "print(\"ridge coef:\", ridge.coef_)"
   ]
  },
  {
   "cell_type": "markdown",
   "metadata": {},
   "source": [
    "### Summary for parkinson data: \n",
    "- Multiple Linear Regression - 10.30124083758564\n",
    "- Lasso Regression - 12.762792705087232\n",
    "- Ridge Regression - 10.303097064425131\n",
    "\n",
    "Thus since we want the smallest MSE of these, linear performs the best but due to the large MSE values non of them perform that well.\n",
    "\n",
    "##### Data set attributes: \n",
    "- small data set"
   ]
  },
  {
   "cell_type": "markdown",
   "metadata": {},
   "source": [
    "# 6. Mercedes-Benz Greener Manufacturing"
   ]
  },
  {
   "cell_type": "code",
   "execution_count": 157,
   "metadata": {},
   "outputs": [],
   "source": [
    "Mercedes = pd.read_csv('/Users/mirandidallas-fuge/Desktop/train_mercedes.csv')\n",
    "y = Mercedes['y']\n",
    "x = Mercedes.drop(['y'], axis=1)"
   ]
  },
  {
   "cell_type": "markdown",
   "metadata": {},
   "source": [
    "fix categorical data"
   ]
  },
  {
   "cell_type": "markdown",
   "metadata": {},
   "source": [
    "Mercedes-Benz Greener Manufacturing: Multiple Linear Regression"
   ]
  },
  {
   "cell_type": "code",
   "execution_count": null,
   "metadata": {},
   "outputs": [],
   "source": [
    "# Fit the Model\n",
    "reg = LinearRegression().fit(x, y)\n",
    "# Print the Score\n",
    "reg.score(x, y)\n",
    "print(\"Multiple Linear Regression score:\", reg.score(x, y))\n",
    "print(\"Multiple Linear Regression MSE:\", mean_squared_error(y, reg.predict(x)))\n",
    "print(\"Multiple Linear Regression coef:\", reg.coef_)"
   ]
  },
  {
   "cell_type": "markdown",
   "metadata": {},
   "source": [
    "Mercedes-Benz Greener Manufacturing: Lasso Regression "
   ]
  },
  {
   "cell_type": "code",
   "execution_count": null,
   "metadata": {},
   "outputs": [],
   "source": [
    "# Scale data \n",
    "scaler = StandardScaler()\n",
    "scaler.fit(x)\n",
    "X = scaler.transform(x)"
   ]
  },
  {
   "cell_type": "code",
   "execution_count": null,
   "metadata": {},
   "outputs": [],
   "source": [
    "# Fit the Model and Print Score\n",
    "lasso = linear_model.Lasso()\n",
    "lasso.fit(X, y)\n",
    "print(\"lasso score:\", lasso.score(X, y))\n",
    "print(\"lasso MSE:\", mean_squared_error(y, lasso.predict(X)))\n",
    "print(\"lasso coef:\", lasso.coef_)"
   ]
  },
  {
   "cell_type": "markdown",
   "metadata": {},
   "source": [
    "Mercedes-Benz Greener Manufacturing: Ridge Regression "
   ]
  },
  {
   "cell_type": "code",
   "execution_count": null,
   "metadata": {},
   "outputs": [],
   "source": [
    "# Fit the Model and Print Score\n",
    "ridge = linear_model.Ridge()\n",
    "ridge.fit(X, y)"
   ]
  },
  {
   "cell_type": "code",
   "execution_count": null,
   "metadata": {},
   "outputs": [],
   "source": [
    "print(\"ridge score:\",ridge.score(X, y))\n",
    "print(\"ridge MSE:\", mean_squared_error(y, ridge.predict(X)))\n",
    "print(\"ridge coef:\", ridge.coef_)"
   ]
  },
  {
   "cell_type": "markdown",
   "metadata": {},
   "source": [
    "### Summary for Mercedes data: \n",
    "- Multiple Linear Regression - \n",
    "- Lasso Regression - \n",
    "- Ridge Regression - \n",
    "\n",
    "Thus since we want the smallest MSE of these, _____ performs the best\n",
    "\n",
    "##### Data set attributes: \n",
    "- "
   ]
  },
  {
   "cell_type": "markdown",
   "metadata": {},
   "source": [
    "# 7. Song Year Prediction "
   ]
  },
  {
   "cell_type": "code",
   "execution_count": 351,
   "metadata": {},
   "outputs": [],
   "source": [
    "song = pd.read_csv('/Users/mirandidallas-fuge/Desktop/YearPredictionMSD.txt')"
   ]
  },
  {
   "cell_type": "code",
   "execution_count": 359,
   "metadata": {},
   "outputs": [],
   "source": [
    "y = song.iloc[:,0]\n",
    "x = song.iloc[:,1:]"
   ]
  },
  {
   "cell_type": "markdown",
   "metadata": {},
   "source": [
    "Song: Multiple Linear Regression "
   ]
  },
  {
   "cell_type": "code",
   "execution_count": 360,
   "metadata": {},
   "outputs": [
    {
     "name": "stdout",
     "output_type": "stream",
     "text": [
      "Multiple Linear Regression score: 0.23700077314993973\n",
      "Multiple Linear Regression MSE: 91.1690694545467\n",
      "Multiple Linear Regression coef: [ 8.75417828e-01 -5.63271810e-02 -4.36495594e-02  3.35266425e-03\n",
      " -1.47466963e-02 -2.20070428e-01 -6.73789497e-03 -1.00895620e-01\n",
      " -7.04729895e-02  2.50706569e-02 -1.65701122e-01 -1.85435368e-03\n",
      "  4.70143401e-02  3.55103260e-04 -4.22581347e-04  5.99183918e-04\n",
      "  4.76576350e-04  1.46662665e-03  1.92446773e-03  2.12835187e-03\n",
      "  7.69875469e-04 -4.02598883e-04  7.53936242e-03  2.81199236e-03\n",
      " -3.55559424e-03  7.11398144e-05  1.58942049e-03  5.29413275e-04\n",
      "  8.74563154e-04 -3.04158379e-04 -1.40496765e-03 -1.40135040e-03\n",
      " -5.55962706e-03  2.47233882e-03  1.84962263e-03 -5.29414513e-03\n",
      " -2.77269168e-04  6.79196361e-04  1.36514213e-03 -1.71044631e-03\n",
      " -1.99135793e-03 -7.64136852e-04 -1.40254468e-03 -2.35902050e-03\n",
      " -3.17994565e-03  6.81260459e-03  4.56073617e-04 -2.07499004e-03\n",
      "  2.75161566e-04  1.94120580e-03  2.20109055e-04 -1.60484536e-03\n",
      "  1.97086996e-03  4.90737802e-04 -8.43422665e-05  1.62881642e-04\n",
      " -1.89764404e-03  1.94043376e-03 -1.30450238e-03  2.33242093e-04\n",
      " -3.03164550e-03 -1.87986825e-03 -7.76850877e-03  1.19023057e-03\n",
      " -2.02500338e-03  6.59680106e-04 -1.93404970e-04 -4.27606853e-04\n",
      " -4.25102836e-03 -5.08404004e-03 -1.06134200e-03  2.37782410e-04\n",
      "  6.89098479e-04  3.98716376e-03  3.00119032e-03  1.52109911e-02\n",
      "  1.99605283e-04 -4.42313221e-03 -4.24465372e-05 -1.51543905e-04\n",
      " -8.28039000e-04 -5.56812186e-04  1.37232319e-03  9.96513887e-04\n",
      "  2.61367150e-02  1.07423051e-04  1.16488598e-03 -3.11969808e-02\n",
      " -1.38055771e-03 -1.61544407e-03]\n"
     ]
    }
   ],
   "source": [
    "# Fit the Model\n",
    "reg = LinearRegression().fit(x, y)\n",
    "# Print the Score\n",
    "reg.score(x, y)\n",
    "print(\"Multiple Linear Regression score:\", reg.score(x, y))\n",
    "print(\"Multiple Linear Regression MSE:\", mean_squared_error(y, reg.predict(x)))\n",
    "print(\"Multiple Linear Regression coef:\", reg.coef_)"
   ]
  },
  {
   "cell_type": "markdown",
   "metadata": {},
   "source": [
    "Song: Lasso Regression"
   ]
  },
  {
   "cell_type": "code",
   "execution_count": 361,
   "metadata": {},
   "outputs": [],
   "source": [
    "# Scale data \n",
    "scaler = StandardScaler()\n",
    "scaler.fit(x)\n",
    "X = scaler.transform(x)"
   ]
  },
  {
   "cell_type": "code",
   "execution_count": 362,
   "metadata": {},
   "outputs": [
    {
     "name": "stdout",
     "output_type": "stream",
     "text": [
      "lasso score: 0.09764067500655949\n",
      "lasso MSE: 107.82089558978214\n",
      "lasso coef: [ 1.68710504 -0.         -0.63795672  0.          0.         -0.86141556\n",
      "  0.         -0.         -0.          0.          0.         -0.\n",
      "  0.          0.29605591  0.          0.          0.          0.\n",
      "  0.          0.52770142  0.          0.          0.          0.\n",
      "  0.          0.          0.          0.          0.          0.\n",
      " -0.          0.         -0.          0.         -0.         -0.\n",
      " -0.          0.          0.         -0.00232873 -0.         -0.\n",
      " -0.         -0.         -0.         -0.          0.         -0.\n",
      " -0.         -0.          0.         -0.          0.         -0.\n",
      " -0.          0.         -0.          0.         -0.         -0.\n",
      " -0.         -0.         -0.         -0.         -0.         -0.\n",
      " -0.          0.         -0.          0.         -0.         -0.\n",
      "  0.          0.          0.         -0.          0.         -0.\n",
      " -0.         -0.          0.         -0.          0.          0.\n",
      "  0.         -0.          0.         -0.          0.         -0.        ]\n"
     ]
    }
   ],
   "source": [
    "# Fit the Model and Print Score\n",
    "lasso = linear_model.Lasso()\n",
    "lasso.fit(X, y)\n",
    "print(\"lasso score:\", lasso.score(X, y))\n",
    "print(\"lasso MSE:\", mean_squared_error(y, lasso.predict(X)))\n",
    "print(\"lasso coef:\", lasso.coef_)"
   ]
  },
  {
   "cell_type": "markdown",
   "metadata": {},
   "source": [
    "Song: Ridge Regression"
   ]
  },
  {
   "cell_type": "code",
   "execution_count": 363,
   "metadata": {},
   "outputs": [
    {
     "data": {
      "text/plain": [
       "Ridge(alpha=1.0, copy_X=True, fit_intercept=True, max_iter=None,\n",
       "   normalize=False, random_state=None, solver='auto', tol=0.001)"
      ]
     },
     "execution_count": 363,
     "metadata": {},
     "output_type": "execute_result"
    }
   ],
   "source": [
    "# Fit the Model and Print Score\n",
    "ridge = linear_model.Ridge()\n",
    "ridge.fit(X, y)"
   ]
  },
  {
   "cell_type": "code",
   "execution_count": 364,
   "metadata": {},
   "outputs": [
    {
     "name": "stdout",
     "output_type": "stream",
     "text": [
      "ridge score: 0.23700077314129467\n",
      "ridge MSE: 91.16906945557967\n",
      "ridge coef: [ 5.31160293e+00 -2.90534331e+00 -1.53943734e+00  5.46923690e-02\n",
      " -3.37113347e-01 -2.82957692e+00 -9.81646368e-02 -8.03506918e-01\n",
      " -7.45796459e-01  1.63720177e-01 -7.24224333e-01 -1.54414092e-02\n",
      "  1.04651115e+00  6.21202788e-01 -5.33077829e-01  6.54810843e-01\n",
      "  2.26711663e-01  8.46037751e-01  6.11013061e-01  6.58441345e-01\n",
      "  1.64762301e-01 -6.67066205e-02  1.40954825e+00  4.31568378e-01\n",
      " -4.31745114e-01  5.09175936e-02  8.66034495e-01  1.15605873e-01\n",
      "  1.42742202e-01 -4.10266604e-02 -1.39216946e-01 -1.00630539e-01\n",
      " -4.13699128e-01  1.32311792e-01  7.85886032e-02 -5.71301946e-01\n",
      " -1.15074828e-01  3.07948300e-01  3.55821050e-01 -3.51905638e-01\n",
      " -2.38634044e-01 -9.15784860e-02 -1.03259693e-01 -9.05238537e-02\n",
      " -1.32111584e-01  3.74513507e-01  2.14627667e-01 -5.44409368e-01\n",
      "  5.76530964e-02  2.37123064e-01  2.05938188e-02 -1.20442028e-01\n",
      "  1.37923342e-01  4.08665428e-02 -4.87585561e-03  4.45998036e-02\n",
      " -5.90419691e-01  5.17656574e-01 -2.20556006e-01  3.36010290e-02\n",
      " -1.80223481e-01 -9.24553037e-02 -2.92683949e-01  3.66811101e-01\n",
      " -4.49948948e-01  8.45310386e-02 -1.93240136e-02 -4.98985069e-02\n",
      " -4.52138027e-01 -1.87085652e-01 -2.67039961e-01  5.44653871e-02\n",
      "  1.12868311e-01  2.52344768e-01  1.94150661e-01  4.00928253e-01\n",
      "  5.35296928e-02 -6.37619593e-01 -8.53967536e-03 -1.87698109e-02\n",
      " -2.65790751e-02 -9.77846606e-02  1.67742545e-01  9.47211882e-02\n",
      "  4.22414932e-01  1.22868278e-02  2.02662147e-01 -4.16369244e-01\n",
      " -2.56171942e-01 -3.56843960e-02]\n"
     ]
    }
   ],
   "source": [
    "print(\"ridge score:\",ridge.score(X, y))\n",
    "print(\"ridge MSE:\", mean_squared_error(y, ridge.predict(X)))\n",
    "print(\"ridge coef:\", ridge.coef_)"
   ]
  },
  {
   "cell_type": "markdown",
   "metadata": {},
   "source": [
    "### Summary for Song data: \n",
    "- Multiple Linear Regression -  91.1690694545467\n",
    "- Lasso Regression - 107.82089558978214\n",
    "- Ridge Regression - 91.16906945557967\n",
    "\n",
    "Thus since we want the smallest MSE of these, none of these models perform well \n",
    "\n",
    "##### Data set attributes: \n",
    "- lots of columns"
   ]
  },
  {
   "cell_type": "markdown",
   "metadata": {},
   "source": [
    "# 8. Solar Flares"
   ]
  },
  {
   "cell_type": "code",
   "execution_count": 185,
   "metadata": {},
   "outputs": [],
   "source": [
    "solar = pd.read_csv('/Users/mirandidallas-fuge/Desktop/flare.data2', sep = \" \")"
   ]
  },
  {
   "cell_type": "code",
   "execution_count": 199,
   "metadata": {},
   "outputs": [],
   "source": [
    "x = solar.iloc[:,1:6]\n",
    "y = solar.iloc[:,7]"
   ]
  },
  {
   "cell_type": "markdown",
   "metadata": {},
   "source": [
    "Solar: Multiple Linear Regression"
   ]
  },
  {
   "cell_type": "code",
   "execution_count": 201,
   "metadata": {},
   "outputs": [
    {
     "name": "stdout",
     "output_type": "stream",
     "text": [
      "Multiple Linear Regression score: 0.07079476730209577\n",
      "Multiple Linear Regression MSE: 0.0851232049849271\n",
      "Multiple Linear Regression coef: [0.06338076 0.02650041 0.02537617 0.42973347 0.        ]\n"
     ]
    }
   ],
   "source": [
    "# Fit the Model\n",
    "reg = LinearRegression().fit(x, y)\n",
    "# Print the Score\n",
    "reg.score(x, y)\n",
    "print(\"Multiple Linear Regression score:\", reg.score(x, y))\n",
    "print(\"Multiple Linear Regression MSE:\", mean_squared_error(y, reg.predict(x)))\n",
    "print(\"Multiple Linear Regression coef:\", reg.coef_)"
   ]
  },
  {
   "cell_type": "markdown",
   "metadata": {},
   "source": [
    "Solar: Lasso Regression"
   ]
  },
  {
   "cell_type": "code",
   "execution_count": 202,
   "metadata": {},
   "outputs": [],
   "source": [
    "# Scale data \n",
    "scaler = StandardScaler()\n",
    "scaler.fit(x)\n",
    "X = scaler.transform(x)"
   ]
  },
  {
   "cell_type": "code",
   "execution_count": 203,
   "metadata": {},
   "outputs": [
    {
     "name": "stdout",
     "output_type": "stream",
     "text": [
      "lasso score: 0.0\n",
      "lasso MSE: 0.0916086156098969\n",
      "lasso coef: [0. 0. 0. 0. 0.]\n"
     ]
    }
   ],
   "source": [
    "# Fit the Model and Print Score\n",
    "lasso = linear_model.Lasso()\n",
    "lasso.fit(X, y)\n",
    "print(\"lasso score:\", lasso.score(X, y))\n",
    "print(\"lasso MSE:\", mean_squared_error(y, lasso.predict(X)))\n",
    "print(\"lasso coef:\", lasso.coef_)"
   ]
  },
  {
   "cell_type": "markdown",
   "metadata": {},
   "source": [
    "Solar: Ridge Regression "
   ]
  },
  {
   "cell_type": "code",
   "execution_count": 204,
   "metadata": {},
   "outputs": [
    {
     "data": {
      "text/plain": [
       "Ridge(alpha=1.0, copy_X=True, fit_intercept=True, max_iter=None,\n",
       "   normalize=False, random_state=None, solver='auto', tol=0.001)"
      ]
     },
     "execution_count": 204,
     "metadata": {},
     "output_type": "execute_result"
    }
   ],
   "source": [
    "# Fit the Model and Print Score\n",
    "ridge = linear_model.Ridge()\n",
    "ridge.fit(X, y)"
   ]
  },
  {
   "cell_type": "code",
   "execution_count": 205,
   "metadata": {},
   "outputs": [
    {
     "name": "stdout",
     "output_type": "stream",
     "text": [
      "ridge score: 0.07079472336923387\n",
      "ridge MSE: 0.08512320900955576\n",
      "ridge coef: [0.02029078 0.013006   0.00838167 0.06745725 0.        ]\n"
     ]
    }
   ],
   "source": [
    "print(\"ridge score:\",ridge.score(X, y))\n",
    "print(\"ridge MSE:\", mean_squared_error(y, ridge.predict(X)))\n",
    "print(\"ridge coef:\", ridge.coef_)"
   ]
  },
  {
   "cell_type": "markdown",
   "metadata": {},
   "source": [
    "### Summary for Solar data: \n",
    "- Multiple Linear Regression - 0.0851232049849271\n",
    "- Lasso Regression - 0.0916086156098969\n",
    "- Ridge Regression - 0.08512320900955576\n",
    "\n",
    "Thus since we want the smallest MSE of these, multiple linear regression performs the best \n",
    "\n",
    "##### Data set attributes: \n",
    "- small data set"
   ]
  },
  {
   "cell_type": "code",
   "execution_count": null,
   "metadata": {},
   "outputs": [],
   "source": []
  }
 ],
 "metadata": {
  "kernelspec": {
   "display_name": "Python 3",
   "language": "python",
   "name": "python3"
  },
  "language_info": {
   "codemirror_mode": {
    "name": "ipython",
    "version": 3
   },
   "file_extension": ".py",
   "mimetype": "text/x-python",
   "name": "python",
   "nbconvert_exporter": "python",
   "pygments_lexer": "ipython3",
   "version": "3.6.5"
  }
 },
 "nbformat": 4,
 "nbformat_minor": 2
}
