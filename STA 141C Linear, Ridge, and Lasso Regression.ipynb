{
 "cells": [
  {
   "cell_type": "code",
   "execution_count": 30,
   "metadata": {},
   "outputs": [],
   "source": [
    "import pandas as pd\n",
    "import numpy as np\n",
    "import matplotlib.pyplot as plt\n",
    "from sklearn.model_selection import train_test_split\n",
    "from sklearn.metrics import mean_squared_error\n",
    "from sklearn.preprocessing import StandardScaler\n",
    "from sklearn.model_selection import cross_val_score\n",
    "import time"
   ]
  },
  {
   "cell_type": "markdown",
   "metadata": {},
   "source": [
    "# 1. Graduate Admission Rate"
   ]
  },
  {
   "cell_type": "markdown",
   "metadata": {},
   "source": [
    "Graduate admission rate: Multiple Linear Regression"
   ]
  },
  {
   "cell_type": "code",
   "execution_count": 31,
   "metadata": {},
   "outputs": [],
   "source": [
    "from sklearn.linear_model import LinearRegression\n",
    "from sklearn.metrics import mean_squared_error"
   ]
  },
  {
   "cell_type": "code",
   "execution_count": 32,
   "metadata": {},
   "outputs": [],
   "source": [
    "#Import data\n",
    "admission_rate=pd.read_csv('/Users/mirandidallas-fuge/Desktop/Admission_Predict.csv')\n",
    "\n",
    "y=admission_rate['Chance of Admit ']\n",
    "x=admission_rate.iloc[:,1:8]"
   ]
  },
  {
   "cell_type": "code",
   "execution_count": 33,
   "metadata": {},
   "outputs": [],
   "source": [
    "X_train, X_test, y_train, y_test = train_test_split(x, y, test_size=0.3)"
   ]
  },
  {
   "cell_type": "code",
   "execution_count": 34,
   "metadata": {},
   "outputs": [
    {
     "name": "stdout",
     "output_type": "stream",
     "text": [
      "CPU times: user 2 µs, sys: 0 ns, total: 2 µs\n",
      "Wall time: 5.01 µs\n",
      "Multiple Linear Regression score: 0.8034713719824393\n",
      "Multiple Linear Regression MSE: 0.003986893243246914\n",
      "Multiple Linear Regression coef: [ 0.00173741  0.00291958  0.00571666 -0.00330517  0.02235313  0.11893945\n",
      "  0.02452511]\n"
     ]
    }
   ],
   "source": [
    "%time\n",
    "# Fit the Model\n",
    "reg = LinearRegression().fit(x, y)\n",
    "# Print the Score\n",
    "reg.score(x, y)\n",
    "print(\"Multiple Linear Regression score:\", reg.score(x, y))\n",
    "print(\"Multiple Linear Regression MSE:\", mean_squared_error(y, reg.predict(x)))\n",
    "print(\"Multiple Linear Regression coef:\", reg.coef_)"
   ]
  },
  {
   "cell_type": "markdown",
   "metadata": {},
   "source": [
    "Graduate admission rate: Lasso regression"
   ]
  },
  {
   "cell_type": "code",
   "execution_count": 35,
   "metadata": {},
   "outputs": [],
   "source": [
    "from sklearn import linear_model\n",
    "from sklearn.metrics import mean_squared_error\n",
    "from sklearn.preprocessing import StandardScaler"
   ]
  },
  {
   "cell_type": "code",
   "execution_count": 36,
   "metadata": {},
   "outputs": [],
   "source": [
    "# Scale data \n",
    "scaler = StandardScaler()\n",
    "scaler.fit(x)\n",
    "X = scaler.transform(x)"
   ]
  },
  {
   "cell_type": "code",
   "execution_count": 37,
   "metadata": {},
   "outputs": [
    {
     "name": "stdout",
     "output_type": "stream",
     "text": [
      "CPU times: user 1e+03 ns, sys: 1 µs, total: 2 µs\n",
      "Wall time: 3.1 µs\n",
      "lasso score: 0.0\n",
      "lasso MSE: 0.0202865775\n",
      "lasso coef: [0. 0. 0. 0. 0. 0. 0.]\n"
     ]
    }
   ],
   "source": [
    "# Fit the Model and Print Score\n",
    "%time\n",
    "lasso = linear_model.Lasso()\n",
    "lasso.fit(X, y)\n",
    "print(\"lasso score:\", lasso.score(X, y))\n",
    "print(\"lasso MSE:\", mean_squared_error(y, lasso.predict(X)))\n",
    "print(\"lasso coef:\", lasso.coef_)"
   ]
  },
  {
   "cell_type": "markdown",
   "metadata": {},
   "source": [
    "Graduate admission rate: Ridge regression"
   ]
  },
  {
   "cell_type": "code",
   "execution_count": 38,
   "metadata": {},
   "outputs": [
    {
     "name": "stdout",
     "output_type": "stream",
     "text": [
      "CPU times: user 2 µs, sys: 0 ns, total: 2 µs\n",
      "Wall time: 5.25 µs\n"
     ]
    },
    {
     "data": {
      "text/plain": [
       "Ridge(alpha=1.0, copy_X=True, fit_intercept=True, max_iter=None,\n",
       "   normalize=False, random_state=None, solver='auto', tol=0.001)"
      ]
     },
     "execution_count": 38,
     "metadata": {},
     "output_type": "execute_result"
    }
   ],
   "source": [
    "# Fit the Model and Print Score\n",
    "%time\n",
    "ridge = linear_model.Ridge()\n",
    "ridge.fit(X, y)"
   ]
  },
  {
   "cell_type": "code",
   "execution_count": 39,
   "metadata": {},
   "outputs": [
    {
     "name": "stdout",
     "output_type": "stream",
     "text": [
      "ridge score: 0.8034661029324273\n",
      "ridge MSE: 0.003987000134238337\n",
      "ridge coef: [ 0.02012161  0.01784985  0.00665018 -0.00311891  0.02005063  0.0701277\n",
      "  0.01220766]\n"
     ]
    }
   ],
   "source": [
    "print(\"ridge score:\",ridge.score(X, y))\n",
    "print(\"ridge MSE:\", mean_squared_error(y, ridge.predict(X)))\n",
    "print(\"ridge coef:\", ridge.coef_)"
   ]
  },
  {
   "cell_type": "markdown",
   "metadata": {},
   "source": [
    "### Summary for graduate school data: \n",
    "- Multiple Linear Regression - MSE 0.003986893243246914\n",
    "- Lasso Regression - MSE 0.0202865775\n",
    "- Ridge Regression - MSE 0.003987000134238337\n",
    "\n",
    "Thus since we want the smallest MSE of these, linear regression performs the best.\n",
    "\n",
    "##### Data set attributes: \n",
    "- small dataset\n",
    "- low dimension\n",
    "- all numerical attributes"
   ]
  },
  {
   "cell_type": "markdown",
   "metadata": {},
   "source": [
    "# 2. Crime incidence in community"
   ]
  },
  {
   "cell_type": "code",
   "execution_count": 40,
   "metadata": {},
   "outputs": [],
   "source": [
    "#Import data\n",
    "crime = pd.read_csv('/Users/mirandidallas-fuge/Desktop/Violent_Crime_pred')"
   ]
  },
  {
   "cell_type": "code",
   "execution_count": 41,
   "metadata": {},
   "outputs": [],
   "source": [
    "#subseting the data\n",
    "x=crime.iloc[:,2:-1]\n",
    "y=crime['target']\n",
    "\n",
    "#check the missing valuings in each column\n",
    "#preliminary decision: remove the columns with 1675(over 80%) missing values,to be discussed\n",
    "x.iloc[:,np.sort(x.isna().sum())==0]\n",
    "\n",
    "x=x.dropna(axis='columns')"
   ]
  },
  {
   "cell_type": "markdown",
   "metadata": {},
   "source": [
    "Crime: multiple linear regression "
   ]
  },
  {
   "cell_type": "code",
   "execution_count": 42,
   "metadata": {},
   "outputs": [
    {
     "name": "stdout",
     "output_type": "stream",
     "text": [
      "CPU times: user 2 µs, sys: 0 ns, total: 2 µs\n",
      "Wall time: 5.25 µs\n",
      "Multiple Linear Regression score: 0.6752443763457237\n",
      "Multiple Linear Regression MSE: 122683.07978516712\n",
      "Multiple Linear Regression coef: [ 3.74445526e-04 -1.58839756e+02  7.68343831e+00 -7.78658010e-01\n",
      " -1.70607592e+00 -1.02564150e-01  1.52165078e+01 -2.63289129e+01\n",
      "  1.34344029e+00 -8.12972136e+00 -1.01180719e-03  1.24852786e+00\n",
      " -1.19059838e-02 -1.38626681e+01  2.75088288e+01 -4.32705858e+00\n",
      "  5.03746403e+00  9.85498925e+00 -1.18362183e+01  8.36688662e-03\n",
      " -7.82605464e-03 -5.27346511e-04 -5.37451125e-04 -1.25607890e-04\n",
      "  1.91200132e-03  2.70297445e-03 -3.56959590e-04 -9.58268155e+00\n",
      " -1.79607712e+01  7.86021041e+00  2.76211020e+00 -4.64427961e+00\n",
      "  9.96105628e+00 -4.64363581e+00 -1.12027574e+00  2.32085805e+00\n",
      "  3.54829043e+00  1.57527151e+02  1.13562054e+01  1.01557620e+02\n",
      " -2.43140198e+02 -4.71190793e+02  4.67589646e+00 -1.51413164e+01\n",
      "  1.65198009e+00  1.45334088e-01  3.79935929e+00 -1.15612466e+01\n",
      " -4.74529478e-03  4.07218743e+01  1.29401661e-03  1.64632454e+00\n",
      " -4.78801094e-02 -7.51989622e-01  9.33026149e-01 -2.54024757e+00\n",
      " -3.07218193e+01  1.37840654e+01 -8.12994680e+00 -9.33062495e-01\n",
      " -9.10821293e+00  2.38255806e+01 -4.05984858e+01  6.15217897e+02\n",
      "  3.78953506e+02 -3.51760821e+02 -4.74029775e+01  1.95921032e+01\n",
      "  2.86581250e+00  3.29406977e+01  2.24546541e-02 -2.23876905e+00\n",
      "  4.27284598e+01  1.30408871e+01 -2.32134163e+00 -8.64406246e-01\n",
      "  3.46923236e+00 -1.29629341e+01  4.37270811e-06  2.60707830e-04\n",
      " -3.83399663e-04 -3.87859308e-04 -5.50551001e-01 -4.93601315e-03\n",
      " -3.75178612e-01  1.75372390e-01  9.54052795e-01 -3.77235423e-01\n",
      " -4.22450483e+00 -2.75071061e+01  1.12490911e-01 -5.39209554e-02\n",
      "  1.34466343e+01 -2.04603872e-01 -8.23703170e-01  1.21775627e+00\n",
      "  9.83838788e-01 -1.80124336e-02 -1.29859400e-02 -3.04766981e-01\n",
      "  9.75699566e+00]\n"
     ]
    }
   ],
   "source": [
    "# Fit the Model\n",
    "%time\n",
    "reg = LinearRegression().fit(x, y)\n",
    "# Print the Score\n",
    "reg.score(x, y)\n",
    "print(\"Multiple Linear Regression score:\", reg.score(x, y))\n",
    "print(\"Multiple Linear Regression MSE:\", mean_squared_error(y, reg.predict(x)))\n",
    "print(\"Multiple Linear Regression coef:\", reg.coef_)"
   ]
  },
  {
   "cell_type": "markdown",
   "metadata": {},
   "source": [
    "Crime: Lasso regression"
   ]
  },
  {
   "cell_type": "code",
   "execution_count": 43,
   "metadata": {},
   "outputs": [],
   "source": [
    "# Scale data \n",
    "scaler = StandardScaler()\n",
    "scaler.fit(x)\n",
    "X = scaler.transform(x)"
   ]
  },
  {
   "cell_type": "code",
   "execution_count": 44,
   "metadata": {},
   "outputs": [
    {
     "name": "stdout",
     "output_type": "stream",
     "text": [
      "CPU times: user 1 µs, sys: 0 ns, total: 1 µs\n",
      "Wall time: 2.86 µs\n",
      "lasso score: 0.6679159087013914\n",
      "lasso MSE: 125451.55834327749\n",
      "lasso coef: [  -0.           -0.          108.76167844  -10.42293264   -2.71448958\n",
      "   -0.           23.76270866  -90.74356619    0.           -0.\n",
      "  -39.38124579   44.54170032   -0.          -88.58945375   11.928513\n",
      "  -40.50956356    3.55909249   15.79905137  -48.22904683   -0.\n",
      "  -23.32834962   -0.           -4.98273642   -0.79228326   18.37421699\n",
      "   13.12378838   -0.          -41.83149327 -108.93029885   71.23018038\n",
      "    0.25681009   -9.36628505   62.73104936  -27.03053208   -0.\n",
      "    0.            0.           82.65827505   61.90728474  -51.71247592\n",
      "   -0.           -0.            0.         -124.30284639    0.\n",
      "    0.            7.83219879  -53.26836367  -46.69694761  133.09193878\n",
      "   12.81176371    5.01298517   -0.           -0.            1.4593455\n",
      "   -0.          -20.36449862   -0.            0.            0.\n",
      "   -5.29595132   -0.          -38.58646713   49.56574417  -10.56137333\n",
      "   -2.70187921  -19.30376273   92.68545034   16.13110893    1.49639966\n",
      "   75.7451478   -19.57738372    0.           41.57890739  -25.61057208\n",
      "    0.           15.60836267   -4.04781094   -0.           -0.\n",
      "   -0.          -11.33015096  -87.41578448    0.           -0.\n",
      "   10.09348639   77.1090808     8.42474639   -7.83977084  -44.42758509\n",
      "   36.95760269    0.           64.53764434   -7.30222115    0.\n",
      "    9.85387674    3.45912684    0.96746361  -29.39605791   -0.\n",
      "   25.40633194]\n"
     ]
    }
   ],
   "source": [
    "# Fit the Model and Print Score\n",
    "%time\n",
    "lasso = linear_model.Lasso()\n",
    "lasso.fit(X, y)\n",
    "print(\"lasso score:\", lasso.score(X, y))\n",
    "print(\"lasso MSE:\", mean_squared_error(y, lasso.predict(X)))\n",
    "print(\"lasso coef:\", lasso.coef_)"
   ]
  },
  {
   "cell_type": "markdown",
   "metadata": {},
   "source": [
    "Crime: Ridge regression"
   ]
  },
  {
   "cell_type": "code",
   "execution_count": 45,
   "metadata": {},
   "outputs": [
    {
     "name": "stdout",
     "output_type": "stream",
     "text": [
      "CPU times: user 2 µs, sys: 0 ns, total: 2 µs\n",
      "Wall time: 4.77 µs\n"
     ]
    },
    {
     "data": {
      "text/plain": [
       "Ridge(alpha=1.0, copy_X=True, fit_intercept=True, max_iter=None,\n",
       "   normalize=False, random_state=None, solver='auto', tol=0.001)"
      ]
     },
     "execution_count": 45,
     "metadata": {},
     "output_type": "execute_result"
    }
   ],
   "source": [
    "# Fit the Model and Print Score\n",
    "%time\n",
    "ridge = linear_model.Ridge()\n",
    "ridge.fit(X, y)"
   ]
  },
  {
   "cell_type": "code",
   "execution_count": 46,
   "metadata": {},
   "outputs": [
    {
     "name": "stdout",
     "output_type": "stream",
     "text": [
      "ridge score: 0.6747242483344726\n",
      "ridge MSE: 122879.56878075335\n",
      "ridge coef: [-2.56857091e+01 -4.77202128e+01  1.02102505e+02 -2.03964901e+01\n",
      " -1.01604232e+01  7.77758983e-02  5.54510403e+01 -1.58988455e+02\n",
      "  1.39904822e+01 -3.85992457e+01 -1.05344752e+02  5.16520617e+01\n",
      " -1.06962164e+02 -1.12202573e+02  1.85328660e+01 -5.34995574e+01\n",
      "  3.75105032e+01  4.22942152e+01 -5.31706604e+01  7.70608442e+01\n",
      " -4.78036383e+01 -4.57507178e+00 -5.32732623e+00 -1.64362773e+00\n",
      "  1.90312541e+01  1.53340311e+01 -1.14990980e+01 -8.11960509e+01\n",
      " -1.26250898e+02  8.75680641e+01  3.49447165e+01 -1.25916426e+01\n",
      "  7.88492401e+01 -3.79506654e+01 -9.43864495e+00  1.53785041e+01\n",
      "  2.74480905e+01  2.25169485e+02  1.04035461e+02  6.67410922e+01\n",
      " -2.55209360e+02 -1.16829611e+02  5.49143459e+01 -1.72611384e+02\n",
      "  1.72619001e+01  9.99623412e-01  2.90136622e+01 -7.62883266e+01\n",
      " -6.49534500e+01  1.26380587e+02  7.25947973e+01  1.64683940e+01\n",
      " -3.17158284e+00 -9.11127443e+00  1.46518850e+01 -3.22683709e+00\n",
      " -6.22548806e+01  2.16516928e+01 -2.01977926e+01 -1.15167900e+01\n",
      " -4.38509262e+01  1.01556848e+02 -1.42478374e+02  2.55217412e+02\n",
      "  3.52917612e+01 -1.02710424e+02 -3.93516770e+02  1.05485383e+02\n",
      "  3.95628253e+01  1.40690069e+01  1.30122360e+02 -1.35663403e+01\n",
      "  3.24844858e+02  4.52495859e+01 -3.13863461e+01 -6.07979452e+00\n",
      "  1.90166655e+01 -5.87202296e+00 -1.92430538e+01  3.34328243e+01\n",
      " -2.16577808e+01 -2.20204471e+01 -9.22296166e+01 -7.34608800e+00\n",
      " -6.16039861e+01  1.12177868e+01  1.59133833e+02  6.50720612e-01\n",
      " -1.12790835e+01 -4.23139299e+01  6.59834297e+01 -1.30394444e+01\n",
      "  1.15366337e+02 -7.30785411e+00 -6.03332230e+00  1.24273056e+01\n",
      "  8.20837671e+00 -9.20438549e-01 -3.67654571e+01 -2.39129295e+00\n",
      "  2.86065758e+01]\n"
     ]
    }
   ],
   "source": [
    "print(\"ridge score:\",ridge.score(X, y))\n",
    "print(\"ridge MSE:\", mean_squared_error(y, ridge.predict(X)))\n",
    "print(\"ridge coef:\", ridge.coef_)"
   ]
  },
  {
   "cell_type": "markdown",
   "metadata": {},
   "source": [
    "### Summary for crime data: \n",
    "- Multiple Linear Regression - 122683.07978516712\n",
    "- Lasso Regression - 125451.55834327749\n",
    "- Ridge Regression - 122879.56878075335\n",
    "\n",
    "Thus since we want the smallest MSE of these, none of these perform well.\n",
    "\n",
    "##### Data set attributes: \n",
    "- moderate high in feature\n",
    "- numeric attributes\n",
    "- contains irrelevant features"
   ]
  },
  {
   "cell_type": "markdown",
   "metadata": {},
   "source": [
    "# 3. Automobile"
   ]
  },
  {
   "cell_type": "markdown",
   "metadata": {},
   "source": [
    "Automobile: multiple linear regression "
   ]
  },
  {
   "cell_type": "code",
   "execution_count": 47,
   "metadata": {},
   "outputs": [],
   "source": [
    "import numpy as np\n",
    "from sklearn.preprocessing import Imputer\n",
    "cars=pd.read_csv('/Users/mirandidallas-fuge/Desktop/automobile_price')"
   ]
  },
  {
   "cell_type": "code",
   "execution_count": 48,
   "metadata": {},
   "outputs": [
    {
     "name": "stderr",
     "output_type": "stream",
     "text": [
      "/anaconda3/lib/python3.6/site-packages/ipykernel_launcher.py:2: SettingWithCopyWarning: \n",
      "A value is trying to be set on a copy of a slice from a DataFrame\n",
      "\n",
      "See the caveats in the documentation: http://pandas.pydata.org/pandas-docs/stable/indexing.html#indexing-view-versus-copy\n",
      "  \n"
     ]
    }
   ],
   "source": [
    "cars=cars.replace('?',np.nan).iloc[:,3:] #replace ? with NaN\n",
    "cars['X6'][cars['X6'].isna()]='four' #mode is four, assign four to the missing value\n",
    "impute=Imputer(strategy='mean') #use column mean to impute missing value\n",
    "cars[['X19','X20','X22','X23']]=impute.fit_transform(cars[['X19','X20','X22','X23']])\n",
    "pd.isna(cars).sum() #now no missing values\n",
    "x=cars.iloc[:,0:-1]\n",
    "y=cars.iloc[:,-1]"
   ]
  },
  {
   "cell_type": "code",
   "execution_count": 49,
   "metadata": {},
   "outputs": [],
   "source": [
    "#get categorical column\n",
    "cate_col=list(x.columns[x.dtypes=='object'])\n",
    "x=pd.get_dummies(x,columns=cate_col) #create dummy variables for the categorical var"
   ]
  },
  {
   "cell_type": "code",
   "execution_count": 50,
   "metadata": {},
   "outputs": [
    {
     "name": "stdout",
     "output_type": "stream",
     "text": [
      "CPU times: user 2 µs, sys: 1e+03 ns, total: 3 µs\n",
      "Wall time: 3.81 µs\n",
      "Multiple Linear Regression score: 0.9661197143457417\n",
      "Multiple Linear Regression MSE: 2129093.228056125\n",
      "Multiple Linear Regression coef: [ 2.83172282e+02 -1.31090091e+02  6.01155476e+02 -3.10629298e+02\n",
      "  6.17918143e+00  8.33002788e+01 -3.22372696e+03 -1.22082324e+03\n",
      " -8.99599743e+02  1.15936855e+01  2.25641131e+00 -1.76016213e+01\n",
      "  1.31340365e+02  2.64630972e+03  2.84721599e+03  7.81369552e+03\n",
      " -2.70350725e+03 -3.47145019e+03 -4.31555305e+02 -1.26806954e+03\n",
      "  1.15103898e+03 -2.23591966e+02  4.20420995e+03 -1.86706063e+03\n",
      " -3.96104619e+03 -7.46651168e+02 -3.83165576e+03 -3.40613151e+03\n",
      "  5.36974272e+03 -1.59909883e+03  3.06628668e+03 -2.33645587e+03\n",
      " -1.25705622e+03 -1.96455930e+02  2.01286802e+02  4.05368464e+03\n",
      " -4.05368464e+03 -8.26640075e+02  8.26640075e+02  1.17327015e+02\n",
      " -1.17327015e+02  2.04942336e+03 -1.98809112e+02 -9.51280472e+02\n",
      " -3.39174780e+02 -5.60158992e+02  2.97892440e+02 -2.77338500e+02\n",
      " -2.05539408e+01 -3.95094559e+03  3.95094559e+03 -9.52241184e+02\n",
      "  1.73541823e+02  1.84502621e+02  1.61448971e+03 -3.29633810e+03\n",
      "  2.27604512e+03  2.35360984e+03 -3.68526823e+03 -1.21037838e+03\n",
      " -1.55438251e+03  4.00519758e+03 -2.18482342e+03  2.27604512e+03\n",
      " -1.24057048e+03  1.12295950e+03 -1.61567016e+03  4.05368464e+03\n",
      " -1.83339972e+03 -9.16630123e+01 -1.00611144e+03  6.10770678e+02]\n"
     ]
    }
   ],
   "source": [
    "# Fit the Model\n",
    "%time\n",
    "reg = LinearRegression().fit(x, y)\n",
    "# Print the Score\n",
    "reg.score(x, y)\n",
    "print(\"Multiple Linear Regression score:\", reg.score(x, y))\n",
    "print(\"Multiple Linear Regression MSE:\", mean_squared_error(y, reg.predict(x)))\n",
    "print(\"Multiple Linear Regression coef:\", reg.coef_)"
   ]
  },
  {
   "cell_type": "markdown",
   "metadata": {},
   "source": [
    "Automobile: Lasso regression"
   ]
  },
  {
   "cell_type": "code",
   "execution_count": 51,
   "metadata": {},
   "outputs": [],
   "source": [
    "# Scale data \n",
    "scaler = StandardScaler()\n",
    "scaler.fit(x)\n",
    "X = scaler.transform(x)"
   ]
  },
  {
   "cell_type": "code",
   "execution_count": 52,
   "metadata": {},
   "outputs": [
    {
     "name": "stdout",
     "output_type": "stream",
     "text": [
      "CPU times: user 2 µs, sys: 0 ns, total: 2 µs\n",
      "Wall time: 4.05 µs\n",
      "lasso score: 0.9660907994695022\n",
      "lasso MSE: 2130910.2867379715\n",
      "lasso coef: [ 1.66016226e+03 -1.54939864e+03  1.24682551e+03 -7.23706448e+02\n",
      "  3.11068558e+03  3.36641453e+03 -8.11753712e+02 -3.90930159e+02\n",
      " -3.05876473e+03  5.37803243e+02  1.05024062e+03 -8.53708292e+01\n",
      "  8.36680321e+02  3.78432719e+02  5.36668707e+02  1.61004914e+03\n",
      " -2.67365823e+02 -6.01148614e+02  0.00000000e+00 -6.97327564e+01\n",
      "  2.37725868e+02  7.35743192e+01  9.01753183e+02 -1.06936028e+02\n",
      " -8.38818783e+02 -8.65898586e+01 -1.03900448e+02 -5.24683552e+02\n",
      "  7.92499262e+02 -1.13384034e+02  5.68551489e+02 -0.00000000e+00\n",
      " -2.91761967e+02  4.81335165e+01  1.33384322e+02  3.07818467e+03\n",
      " -0.00000000e+00 -6.40968271e+02  2.35292162e-13  1.07962145e+02\n",
      " -1.62328967e-11  4.07109762e+02  1.86480426e+01 -2.80780566e+02\n",
      "  0.00000000e+00 -7.62566053e+01  7.62492050e+01 -1.06848574e+02\n",
      "  0.00000000e+00 -1.17600182e+03  1.72215763e-10 -1.63043594e+02\n",
      " -5.25290878e+02  2.47275616e+02  0.00000000e+00 -7.35134503e+02\n",
      "  8.13797621e+02  5.52963141e+02 -4.88296829e+02  0.00000000e+00\n",
      " -8.01879010e+01  5.56966941e+02 -1.03034105e+02  5.67316217e+00\n",
      " -2.48761954e+02  5.47196530e+02 -1.70943152e+02  7.16352667e+01\n",
      " -1.19052009e+02 -0.00000000e+00 -1.74742747e+02  4.03175111e+01]\n"
     ]
    },
    {
     "name": "stderr",
     "output_type": "stream",
     "text": [
      "/anaconda3/lib/python3.6/site-packages/sklearn/linear_model/coordinate_descent.py:491: ConvergenceWarning: Objective did not converge. You might want to increase the number of iterations. Fitting data with very small alpha may cause precision problems.\n",
      "  ConvergenceWarning)\n"
     ]
    }
   ],
   "source": [
    "# Fit the Model and Print Score\n",
    "%time\n",
    "lasso = linear_model.Lasso()\n",
    "lasso.fit(X, y)\n",
    "print(\"lasso score:\", lasso.score(X, y))\n",
    "print(\"lasso MSE:\", mean_squared_error(y, lasso.predict(X)))\n",
    "print(\"lasso coef:\", lasso.coef_)"
   ]
  },
  {
   "cell_type": "markdown",
   "metadata": {},
   "source": [
    "Automobile: Ridge regression"
   ]
  },
  {
   "cell_type": "code",
   "execution_count": 53,
   "metadata": {},
   "outputs": [
    {
     "name": "stdout",
     "output_type": "stream",
     "text": [
      "CPU times: user 3 µs, sys: 0 ns, total: 3 µs\n",
      "Wall time: 8.34 µs\n"
     ]
    },
    {
     "data": {
      "text/plain": [
       "Ridge(alpha=1.0, copy_X=True, fit_intercept=True, max_iter=None,\n",
       "   normalize=False, random_state=None, solver='auto', tol=0.001)"
      ]
     },
     "execution_count": 53,
     "metadata": {},
     "output_type": "execute_result"
    }
   ],
   "source": [
    "# Fit the Model and Print Score\n",
    "%time\n",
    "ridge = linear_model.Ridge()\n",
    "ridge.fit(X, y)"
   ]
  },
  {
   "cell_type": "code",
   "execution_count": 54,
   "metadata": {},
   "outputs": [
    {
     "name": "stdout",
     "output_type": "stream",
     "text": [
      "ridge score: 0.9654295868239218\n",
      "ridge MSE: 2172461.9838038264\n",
      "ridge coef: [ 1.42868961e+03 -1.15099000e+03  1.21610354e+03 -5.72356496e+02\n",
      "  2.50494847e+03  2.73772741e+03 -5.45251083e+02 -4.28255580e+02\n",
      " -1.35050895e+03  1.12257977e+03  9.06462274e+02 -1.55074368e+02\n",
      "  7.37188070e+02  3.46137154e+02  4.15053449e+02  1.50124771e+03\n",
      " -2.70706491e+02 -5.53609265e+02 -3.12187983e+01 -8.52366695e+01\n",
      "  4.72962627e+02  1.07472686e+01  8.64450591e+02 -1.79228138e+02\n",
      " -7.94922431e+02 -1.86765386e+02 -2.99264248e+02 -4.98458249e+02\n",
      "  6.67744262e+02 -1.44019413e+02  4.00055544e+02 -1.79527906e+02\n",
      " -3.92433565e+02 -5.60797922e+01  5.74758776e+00  4.88070954e+02\n",
      " -4.88070954e+02 -3.14260343e+02  3.14260343e+02  4.63060487e+01\n",
      " -4.63060487e+01  4.57384894e+02  2.40173071e+01 -1.77308144e+02\n",
      "  3.86766570e+01 -5.43560343e+01  1.38925158e+02 -8.07800301e+01\n",
      "  2.60821424e+01 -5.29443319e+02  5.29443319e+02 -1.96870297e+02\n",
      " -1.60126958e+02  4.19220312e+02  8.24283410e+01 -6.90733252e+02\n",
      "  3.21283119e+02  7.78213865e+02 -3.97268614e+02 -1.93152246e+02\n",
      " -2.47465210e+00  4.28189171e+02 -2.36371262e+02  3.21283119e+02\n",
      " -3.16403234e+02  2.75933238e+02 -1.97544101e+02  4.88070954e+02\n",
      " -1.38985587e+02 -2.43743642e+02 -2.31680396e+02  5.72733038e+00]\n"
     ]
    }
   ],
   "source": [
    "print(\"ridge score:\",ridge.score(X, y))\n",
    "print(\"ridge MSE:\", mean_squared_error(y, ridge.predict(X)))\n",
    "print(\"ridge coef:\", ridge.coef_)"
   ]
  },
  {
   "cell_type": "markdown",
   "metadata": {},
   "source": [
    "### Summary for automobile data: \n",
    "- Multiple Linear Regression - 2129093.228056125\n",
    "- Lasso Regression - 2130910.2867379715\n",
    "- Ridge Regression - 2172461.9838038264\n",
    "\n",
    "Thus since we want the smallest MSE of these, none of these perform well. \n",
    "\n",
    "##### Data set attributes: \n",
    "- categorical attributes \n",
    "- numerical attributes"
   ]
  },
  {
   "cell_type": "markdown",
   "metadata": {},
   "source": [
    "# 4. Breast Cancer "
   ]
  },
  {
   "cell_type": "markdown",
   "metadata": {},
   "source": [
    "Breast Cancer: Multiple Linear Regression "
   ]
  },
  {
   "cell_type": "code",
   "execution_count": 55,
   "metadata": {},
   "outputs": [],
   "source": [
    "Breast_cancer_wisconsin = pd.read_csv('/Users/mirandidallas-fuge/Desktop/breast-cancer-wisconsin.data')"
   ]
  },
  {
   "cell_type": "code",
   "execution_count": 56,
   "metadata": {},
   "outputs": [],
   "source": [
    "x=Breast_cancer_wisconsin.iloc[:,2:]"
   ]
  },
  {
   "cell_type": "code",
   "execution_count": 57,
   "metadata": {},
   "outputs": [],
   "source": [
    "y=Breast_cancer_wisconsin.iloc[:,1]"
   ]
  },
  {
   "cell_type": "code",
   "execution_count": 58,
   "metadata": {},
   "outputs": [],
   "source": [
    "import pandas as pd\n",
    "X = pd.DataFrame(x)"
   ]
  },
  {
   "cell_type": "code",
   "execution_count": 59,
   "metadata": {},
   "outputs": [],
   "source": [
    "X = X.replace('?', np.NaN)"
   ]
  },
  {
   "cell_type": "code",
   "execution_count": 60,
   "metadata": {},
   "outputs": [],
   "source": [
    "from sklearn.preprocessing import Imputer\n",
    "imp = Imputer(missing_values='NaN', strategy='mean', axis=0)\n",
    "imp.fit(X)\n",
    "X_fixed= imp.transform(X)"
   ]
  },
  {
   "cell_type": "code",
   "execution_count": 61,
   "metadata": {},
   "outputs": [
    {
     "name": "stdout",
     "output_type": "stream",
     "text": [
      "CPU times: user 2 µs, sys: 1 µs, total: 3 µs\n",
      "Wall time: 2.86 µs\n",
      "Multiple Linear Regression score: 0.5330725624458194\n",
      "Multiple Linear Regression MSE: 3.701758257116035\n",
      "Multiple Linear Regression coef: [ 0.08716186  0.16076712 -0.09082431 -0.01948014  0.00987729 -0.00819105\n",
      " -0.00554684  0.07202413  1.64568907]\n"
     ]
    }
   ],
   "source": [
    "# Fit the Model\n",
    "%time\n",
    "reg = LinearRegression().fit(X_fixed, y)\n",
    "# Print the Score\n",
    "reg.score(X_fixed, y)\n",
    "print(\"Multiple Linear Regression score:\", reg.score(X_fixed, y))\n",
    "print(\"Multiple Linear Regression MSE:\", mean_squared_error(y, reg.predict(X_fixed)))\n",
    "print(\"Multiple Linear Regression coef:\", reg.coef_)"
   ]
  },
  {
   "cell_type": "markdown",
   "metadata": {},
   "source": [
    "Breast Cancer: Lasso"
   ]
  },
  {
   "cell_type": "code",
   "execution_count": 62,
   "metadata": {},
   "outputs": [],
   "source": [
    "# Scale data \n",
    "scaler = StandardScaler()\n",
    "scaler.fit(X_fixed)\n",
    "X = scaler.transform(X_fixed)"
   ]
  },
  {
   "cell_type": "code",
   "execution_count": 63,
   "metadata": {},
   "outputs": [
    {
     "name": "stdout",
     "output_type": "stream",
     "text": [
      "CPU times: user 2 µs, sys: 1e+03 ns, total: 3 µs\n",
      "Wall time: 5.96 µs\n",
      "lasso score: 0.4551149414498669\n",
      "lasso MSE: 4.3197991859989155\n",
      "lasso coef: [0.17375289 0.1993394  0.         0.         0.15732223 0.\n",
      " 0.01514637 0.         0.        ]\n"
     ]
    }
   ],
   "source": [
    "# Fit the Model and Print Score\n",
    "%time\n",
    "lasso = linear_model.Lasso()\n",
    "lasso.fit(X_fixed, y)\n",
    "print(\"lasso score:\", lasso.score(X_fixed, y))\n",
    "print(\"lasso MSE:\", mean_squared_error(y, lasso.predict(X_fixed)))\n",
    "print(\"lasso coef:\", lasso.coef_)"
   ]
  },
  {
   "cell_type": "markdown",
   "metadata": {},
   "source": [
    "Breast Cancer: Ridge Regression"
   ]
  },
  {
   "cell_type": "code",
   "execution_count": 64,
   "metadata": {},
   "outputs": [
    {
     "name": "stdout",
     "output_type": "stream",
     "text": [
      "CPU times: user 7 µs, sys: 0 ns, total: 7 µs\n",
      "Wall time: 12.2 µs\n"
     ]
    },
    {
     "data": {
      "text/plain": [
       "Ridge(alpha=1.0, copy_X=True, fit_intercept=True, max_iter=None,\n",
       "   normalize=False, random_state=None, solver='auto', tol=0.001)"
      ]
     },
     "execution_count": 64,
     "metadata": {},
     "output_type": "execute_result"
    }
   ],
   "source": [
    "# Fit the Model and Print Score\n",
    "%time\n",
    "ridge = linear_model.Ridge()\n",
    "ridge.fit(X_fixed, y)"
   ]
  },
  {
   "cell_type": "code",
   "execution_count": 65,
   "metadata": {},
   "outputs": [
    {
     "name": "stdout",
     "output_type": "stream",
     "text": [
      "ridge score: 0.5330684615436043\n",
      "ridge MSE: 3.701790768695812\n",
      "ridge coef: [ 0.0879629   0.16133473 -0.09066844 -0.01920239  0.01132331 -0.00753354\n",
      " -0.00499077  0.07213587  1.63168369]\n"
     ]
    }
   ],
   "source": [
    "print(\"ridge score:\",ridge.score(X_fixed, y))\n",
    "print(\"ridge MSE:\", mean_squared_error(y, ridge.predict(X_fixed)))\n",
    "print(\"ridge coef:\", ridge.coef_)"
   ]
  },
  {
   "cell_type": "markdown",
   "metadata": {},
   "source": [
    "### Summary for breast cancer data: \n",
    "- Multiple Linear Regression - 3.701758257116035\n",
    "- Lasso Regression - 4.3197991859989155\n",
    "- Ridge Regression - 3.701790768695812\n",
    "\n",
    "Thus since we want the smallest MSE of these, multiple linear regression performs the best.\n",
    "\n",
    "##### Data set attributes: \n",
    "- small dimensions"
   ]
  },
  {
   "cell_type": "markdown",
   "metadata": {},
   "source": [
    "# 5. Parkinsons Data "
   ]
  },
  {
   "cell_type": "code",
   "execution_count": 66,
   "metadata": {},
   "outputs": [],
   "source": [
    "Parkinsons_data = pd.read_csv('/Users/mirandidallas-fuge/Desktop/parkinsons_updrs.data')"
   ]
  },
  {
   "cell_type": "code",
   "execution_count": 67,
   "metadata": {},
   "outputs": [],
   "source": [
    "y = Parkinsons_data['total_UPDRS']"
   ]
  },
  {
   "cell_type": "code",
   "execution_count": 68,
   "metadata": {},
   "outputs": [],
   "source": [
    "x = Parkinsons_data.drop(['total_UPDRS', 'motor_UPDRS'], axis=1)"
   ]
  },
  {
   "cell_type": "markdown",
   "metadata": {},
   "source": [
    "Parkinsons: Multiple Linear Regression "
   ]
  },
  {
   "cell_type": "code",
   "execution_count": 69,
   "metadata": {},
   "outputs": [
    {
     "name": "stdout",
     "output_type": "stream",
     "text": [
      "CPU times: user 3 µs, sys: 1 µs, total: 4 µs\n",
      "Wall time: 5.72 µs\n",
      "Multiple Linear Regression score: 0.25291808513025216\n",
      "Multiple Linear Regression MSE: 85.52337735564949\n",
      "Multiple Linear Regression coef: [ 2.63599144e-01  3.18670952e-01 -4.81201100e+00  1.59401035e-02\n",
      " -2.55549336e+02 -4.46094581e+04 -2.60297943e+04 -1.66919255e+02\n",
      "  9.06235190e+03  1.41261449e+01 -5.88583107e-01 -1.49979833e+04\n",
      "  4.96070754e+01  9.72737839e+00  4.94934363e+03 -2.37172174e+01\n",
      " -4.85772182e-01  1.69271943e+00 -3.63399992e+01  1.54854842e+01]\n"
     ]
    }
   ],
   "source": [
    "# Fit the Model\n",
    "%time\n",
    "reg = LinearRegression().fit(x, y)\n",
    "# Print the Score\n",
    "reg.score(x, y)\n",
    "print(\"Multiple Linear Regression score:\", reg.score(x, y))\n",
    "print(\"Multiple Linear Regression MSE:\", mean_squared_error(y, reg.predict(x)))\n",
    "print(\"Multiple Linear Regression coef:\", reg.coef_)"
   ]
  },
  {
   "cell_type": "markdown",
   "metadata": {},
   "source": [
    "Parkinsons: Lasso Regression "
   ]
  },
  {
   "cell_type": "code",
   "execution_count": 70,
   "metadata": {},
   "outputs": [],
   "source": [
    "# Scale data \n",
    "scaler = StandardScaler()\n",
    "scaler.fit(x)\n",
    "X = scaler.transform(x)"
   ]
  },
  {
   "cell_type": "code",
   "execution_count": 71,
   "metadata": {},
   "outputs": [
    {
     "name": "stdout",
     "output_type": "stream",
     "text": [
      "CPU times: user 2 µs, sys: 0 ns, total: 2 µs\n",
      "Wall time: 4.29 µs\n",
      "lasso score: 0.17087504234391826\n",
      "lasso MSE: 94.91538373134212\n",
      "lasso coef: [ 1.9300962   2.30221711 -0.53213254  0.          0.          0.\n",
      "  0.          0.          0.          0.          0.          0.\n",
      "  0.          0.          0.          0.         -0.11427589  0.06575668\n",
      " -0.34042658  0.04626113]\n"
     ]
    }
   ],
   "source": [
    "# Fit the Model and Print Score\n",
    "%time\n",
    "lasso = linear_model.Lasso()\n",
    "lasso.fit(X, y)\n",
    "print(\"lasso score:\", lasso.score(X, y))\n",
    "print(\"lasso MSE:\", mean_squared_error(y, lasso.predict(X)))\n",
    "print(\"lasso coef:\", lasso.coef_)"
   ]
  },
  {
   "cell_type": "markdown",
   "metadata": {},
   "source": [
    "Parkinsons: Ridge Regression "
   ]
  },
  {
   "cell_type": "code",
   "execution_count": 72,
   "metadata": {},
   "outputs": [
    {
     "name": "stdout",
     "output_type": "stream",
     "text": [
      "CPU times: user 2 µs, sys: 1 µs, total: 3 µs\n",
      "Wall time: 3.81 µs\n"
     ]
    },
    {
     "data": {
      "text/plain": [
       "Ridge(alpha=1.0, copy_X=True, fit_intercept=True, max_iter=None,\n",
       "   normalize=False, random_state=None, solver='auto', tol=0.001)"
      ]
     },
     "execution_count": 72,
     "metadata": {},
     "output_type": "execute_result"
    }
   ],
   "source": [
    "# Fit the Model and Print Score\n",
    "%time\n",
    "ridge = linear_model.Ridge()\n",
    "ridge.fit(X, y)"
   ]
  },
  {
   "cell_type": "code",
   "execution_count": 73,
   "metadata": {},
   "outputs": [
    {
     "name": "stdout",
     "output_type": "stream",
     "text": [
      "ridge score: 0.25285758941088754\n",
      "ridge MSE: 85.5303026982828\n",
      "ridge coef: [ 3.26107376  2.81074917 -2.2407178   0.85276759 -1.39971816 -1.60425689\n",
      "  1.60078879 -0.61393149  1.97116337  0.33954156 -0.12361482 -1.00346174\n",
      "  0.80148824  0.20283382 -0.95398511 -1.41326791 -2.08745998  0.16700561\n",
      " -2.5740666   1.4119164 ]\n"
     ]
    }
   ],
   "source": [
    "print(\"ridge score:\",ridge.score(X, y))\n",
    "print(\"ridge MSE:\", mean_squared_error(y, ridge.predict(X)))\n",
    "print(\"ridge coef:\", ridge.coef_)"
   ]
  },
  {
   "cell_type": "markdown",
   "metadata": {},
   "source": [
    "### Summary for parkinson data: \n",
    "- Multiple Linear Regression - 10.30124083758564\n",
    "- Lasso Regression - 12.762792705087232\n",
    "- Ridge Regression - 10.303097064425131\n",
    "\n",
    "Thus since we want the smallest MSE of these, linear performs the best but due to the large MSE values non of them perform that well.\n",
    "\n",
    "##### Data set attributes: \n",
    "- small data set"
   ]
  },
  {
   "cell_type": "markdown",
   "metadata": {},
   "source": [
    "# 6. Mercedes-Benz Greener Manufacturing"
   ]
  },
  {
   "cell_type": "code",
   "execution_count": 74,
   "metadata": {},
   "outputs": [],
   "source": [
    "Mercedes = pd.read_csv('/Users/mirandidallas-fuge/Desktop/train_mercedes.csv')\n",
    "y = Mercedes['y']\n",
    "x = Mercedes.drop(['y'], axis=1)\n",
    "\n",
    "cate_col=list(x.columns[x.dtypes=='object'])\n",
    "x=pd.get_dummies(x,columns=cate_col) #change categorical variables to dummy var"
   ]
  },
  {
   "cell_type": "markdown",
   "metadata": {},
   "source": [
    "Mercedes-Benz Greener Manufacturing: Multiple Linear Regression"
   ]
  },
  {
   "cell_type": "code",
   "execution_count": 75,
   "metadata": {},
   "outputs": [
    {
     "name": "stdout",
     "output_type": "stream",
     "text": [
      "CPU times: user 2 µs, sys: 0 ns, total: 2 µs\n",
      "Wall time: 4.29 µs\n",
      "Multiple Linear Regression score: 0.6201092675543345\n",
      "Multiple Linear Regression MSE: 61.05927281061774\n",
      "Multiple Linear Regression coef: [ 1.22650732e-03 -2.85213807e+00  7.55333573e-11  2.40511832e+00\n",
      "  2.37282897e-01  7.94977063e-01  3.25719285e+00  5.57692485e-02\n",
      " -7.52309158e-01  4.19347527e+00  7.99439447e-01  1.15854791e+00\n",
      "  2.85544617e-01  5.28697920e-01 -4.03985314e-01 -5.02202737e+00\n",
      " -6.92738650e-02 -6.67002657e-02 -7.35128459e-01 -4.80594440e+00\n",
      " -3.31301054e+00  2.79771243e-01 -1.79107918e+00 -1.82973449e+00\n",
      "  8.93294928e-01  2.79771243e-01 -3.76314245e-01  2.79771243e-01\n",
      "  1.62928787e-01 -1.82973449e+00  1.51570151e+00  4.21029399e-01\n",
      "  6.48579544e-01  1.66768725e+00 -1.22348910e+00 -6.56075964e+00\n",
      "  1.58345080e-01  5.90532717e+00  1.30001424e+00  6.86854577e+00\n",
      " -1.31045948e-01  1.50234680e-02 -4.06390555e-01  3.97004575e-01\n",
      "  1.27715410e+00 -3.95542855e+00  2.78087799e-01 -4.53651321e-01\n",
      "  1.60985787e-01 -6.11000644e-01 -2.14082039e-01 -1.04222853e+00\n",
      "  1.01612116e+00 -2.38972957e+00 -2.89349116e-01 -3.56196828e+00\n",
      " -9.52637423e-01 -1.62497832e-01 -1.04398093e+00 -1.08833071e-01\n",
      " -8.76598663e-01  9.72272286e-01  1.40953421e+00  2.47862135e+00\n",
      " -3.54978157e+00  1.27715410e+00  1.42154951e+00 -1.03086716e+00\n",
      " -2.16046313e-01 -8.40226123e-01 -9.75515019e-01 -1.74913507e-01\n",
      " -7.08229304e-01  9.72272286e-01 -6.51067391e-01  2.60183601e+00\n",
      " -1.27125368e+00 -1.52609574e+00  1.54998327e+00 -3.22757604e+00\n",
      " -3.11854964e+00 -4.32234616e+00 -1.34769973e-12 -3.22757604e+00\n",
      "  1.14957365e+01  1.58523260e+00 -5.10341712e+00 -2.45972961e+00\n",
      " -1.74017778e+00 -7.87554538e-01 -2.85673418e+00  3.97004575e-01\n",
      " -2.00254017e+00  5.88441294e+00  2.27042089e+00 -4.79624738e-01\n",
      "  1.06403775e-12 -2.24597471e+00  8.37950097e-01  4.97475073e-01\n",
      "  7.90139591e-01 -2.09015383e+00  1.30001424e+00 -3.72512045e-01\n",
      "  2.42521987e+00  2.39206613e-01  8.92477316e-01  1.48824722e+00\n",
      "  1.48824722e+00  4.06390555e-01 -1.52609574e+00  3.96235371e+00\n",
      " -1.00363529e+00 -1.56945969e+00  2.43128973e+00 -6.03980155e+00\n",
      " -2.60551248e+00 -6.44926091e+00  2.60551248e+00 -3.79282618e+00\n",
      " -4.50060882e+00  2.25334168e+00  1.30001424e+00 -8.38143027e-01\n",
      " -1.27715410e+00  5.57990362e-01  7.15240441e-01 -1.43752824e+00\n",
      "  1.64409534e+00  7.06035793e-01  4.19596650e-02 -1.67735926e+00\n",
      "  1.09963282e+00 -2.48608542e-02  7.15240441e-01  1.30001424e+00\n",
      " -1.93555633e+00 -3.37076832e-01  5.95612889e-01  1.08764031e+00\n",
      "  1.35357628e+00 -1.76725324e+00  1.73932919e+00  2.43858519e-01\n",
      " -2.43858519e-01 -4.19596650e-02 -2.56986721e+00 -3.44589932e+00\n",
      " -4.50014297e+00 -7.23738743e-01 -1.36921444e+00 -6.93950159e-01\n",
      " -2.40241353e-01 -3.03729438e-02 -6.96087678e-01 -2.02756145e+00\n",
      "  2.72187933e-03  2.15735699e-01 -1.41926296e+00  1.01612116e+00\n",
      " -1.90574465e+00  1.65088167e+00 -6.38161949e-01  1.52029770e+00\n",
      " -2.72491435e-01 -1.99233601e+01 -2.43929714e+01  2.07773961e+00\n",
      "  5.50057114e-02 -9.98372458e-01 -1.59850561e+00 -2.06103604e-01\n",
      "  8.60192320e-01  4.28561506e-01 -1.70571560e+00  2.20043192e+00\n",
      " -5.13406674e+00  1.61565223e+00 -1.00270668e+00 -4.28561506e-01\n",
      "  2.33956773e-01  2.71293542e+00  7.63418654e-01  6.89013599e-01\n",
      " -2.09015383e+00 -2.14002774e+00 -4.54786412e+00  1.76236795e-01\n",
      " -1.63065107e+00  9.69597070e+00 -9.69597070e+00 -2.61781321e+00\n",
      "  8.07763595e+00 -6.06238127e+00 -3.37895419e-01 -3.18909693e+01\n",
      "  3.78349964e-01  7.87937141e-01 -1.62497832e-01  3.97004575e-01\n",
      " -9.13751289e-02  1.01612116e+00  9.96964078e+00  2.62985198e-01\n",
      " -3.25724218e+00 -2.11105385e-01 -1.39846594e+00  1.30001424e+00\n",
      " -9.61118154e-01  4.33001635e-01  1.91555653e-01  1.08764031e+00\n",
      " -1.56945969e+00 -5.78581141e+00 -5.46014256e+00 -3.80620109e-01\n",
      "  2.02134881e-01 -4.80594440e+00  1.50990331e-14  3.51254849e-01\n",
      "  1.42108547e-14  6.08309850e+00 -2.24241839e+00  1.18089468e+00\n",
      "  3.97004575e-01  1.89820903e+00 -2.49214951e+00 -3.22757604e+00\n",
      " -1.52609574e+00  9.72272286e-01  1.54998327e+00  1.28383042e-01\n",
      "  1.76236795e-01 -2.14082039e-01  8.26816049e+00  5.85965868e+00\n",
      " -6.69988480e+00  8.87569414e+00 -2.14082039e-01 -3.80620109e-01\n",
      " -2.82266959e+00  2.23899933e-01 -2.86610689e+00  6.41427406e+00\n",
      " -6.51663169e+00  3.68302580e+00  3.07511127e+00 -2.06103604e-01\n",
      "  4.80594440e+00  2.99175901e+00  4.03153354e+00 -2.06103604e-01\n",
      "  2.40406705e+00  3.55271368e-14  6.29090200e-01 -4.08553806e-01\n",
      "  3.43807471e+00  4.58321470e+00 -3.89563037e-01  2.24629217e+00\n",
      "  6.18887603e-01 -2.13669535e+00 -2.89026364e+00 -3.84615032e+00\n",
      " -4.80594440e+00  2.55998854e+00 -1.76503900e+00 -3.97944974e-01\n",
      " -2.57135884e+00  1.57945513e+00 -2.21455283e-02 -2.36140447e+00\n",
      "  1.93557767e+00 -7.97540601e-01 -1.95399252e-14 -1.95399252e-14\n",
      " -9.22080621e-01 -2.77283152e+00 -1.90958360e-14 -2.73074073e-01\n",
      " -5.67939240e+00 -5.67939240e+00  7.10542736e-15 -1.13982236e+00\n",
      " -1.13982236e+00 -5.67285041e-01 -6.37301414e-02 -1.22348910e+00\n",
      " -3.15128295e-01  2.47862032e+00 -9.91680280e-01 -4.19314361e+00\n",
      "  2.94646949e-01  2.72668492e+00  2.00089284e+00  3.94336583e-01\n",
      "  2.69272751e-01 -2.54921368e+00  1.43580106e+00  9.61604850e+00\n",
      " -3.69669148e+00  9.22152394e-01 -2.59211030e+00 -2.40891382e+00\n",
      " -1.52609574e+00 -5.35738798e-01  1.05407069e+00 -2.15998553e+00\n",
      "  1.60985787e-01  5.15279750e-01  1.08764031e+00  1.07635032e+00\n",
      "  3.82539890e-01 -1.44646926e+00  4.55191440e-15  5.62835839e-01\n",
      "  3.47243058e+00 -2.47579297e+00 -3.55348826e-01 -1.45142388e+00\n",
      " -3.34928122e+00  1.55891042e-01 -5.65447660e+00  4.02357053e+01\n",
      " -2.00014732e+00 -1.28987824e+00 -3.29179628e+00  1.52587560e+00\n",
      " -3.49566423e+00 -9.51810910e-01 -1.42811243e-01  1.77635684e-15\n",
      " -5.87117350e+00  2.02693435e+00  8.75569251e-02  3.65992738e-01\n",
      " -7.01022100e+00  1.89895066e+00  4.17092339e-01 -4.09534633e-01\n",
      "  2.70026981e+00 -4.25615728e+00  1.97670838e-01 -1.17521359e+00\n",
      "  1.73932919e+00 -3.65381781e-01 -2.67937408e+00 -5.76810968e-01\n",
      "  1.89820903e+00  1.89820903e+00 -9.42755478e-01  3.03566031e+00\n",
      "  2.94410958e+00 -9.28854896e-01 -2.16298397e+00  6.64057375e-01\n",
      " -2.91003208e+00  1.22312194e+00  4.57178437e-01  4.13788618e+00\n",
      "  3.54792854e+00  2.29453339e-01 -1.80766054e+00  2.78123295e-01\n",
      " -4.57199613e-02 -7.52309158e-01  8.57001187e+00 -3.96979778e+00\n",
      " -2.14082039e-01  4.17044930e+00  6.08309850e+00  1.69474990e+01\n",
      " -5.80277462e+00 -1.24614206e-01 -1.77456805e-01  1.76074419e+00\n",
      " -2.97877364e+00  4.20713983e+00 -1.44249548e+00 -4.28921941e+00\n",
      " -4.30445721e+00 -2.47301688e-01 -1.74271122e+00  1.40395524e+00\n",
      "  1.56294244e+00  4.09370722e+00 -2.09457706e+00  2.48533074e+00\n",
      " -2.82748300e+00 -1.91568076e+00 -2.62831331e+00  4.17627823e-01\n",
      " -2.89026364e+00 -1.90639764e+00 -3.35784473e+00  3.75924160e-01\n",
      " -1.96965354e-01 -4.99460855e+00 -2.25790109e+00  2.26436258e+00\n",
      "  4.50342315e+00 -8.43426244e-01 -5.04605521e+00 -1.55860931e+00\n",
      " -1.05682615e+00 -8.30197333e-01 -2.88971756e+00 -1.30979255e+00\n",
      "  1.74732743e+00  6.51786273e-03 -1.03480751e+00 -2.65822009e+00\n",
      "  4.29142125e+00  5.10083335e+00  1.26704078e+00  7.18146534e-01\n",
      "  3.65381781e-01  6.53932275e-01 -4.08637645e+00  1.07776034e+00\n",
      " -3.76260183e+00  3.07249408e+00 -2.13616048e+00  4.80513683e+00\n",
      "  1.59529545e+00  3.65315145e+00  2.69899632e+00  1.68129655e+00\n",
      " -3.84128208e+00  1.56930769e+00 -3.26899962e+00  5.60191745e-01\n",
      " -3.80052608e-02 -4.71689665e+00  2.07934293e+00  1.15048757e+00\n",
      "  6.25517875e-01 -1.91317493e+00 -1.70214658e+00  3.62010225e-01\n",
      " -6.22635006e-01 -9.93837898e-02  2.37359555e-01 -1.79107918e+00\n",
      "  2.74298341e+00 -1.56945969e+00  1.68983433e+00  7.17537096e+00\n",
      " -3.31301054e+00  8.22823015e-01 -9.13751289e-02 -3.73390917e-01\n",
      "  4.91648221e-01  3.68302580e+00  3.29730184e+00  3.01230623e+00\n",
      "  5.57692485e-02  3.78349964e-01  8.28814022e+00 -6.69988480e+00\n",
      " -2.06103604e-01 -6.11000644e-01 -1.25691859e-01 -1.62497832e-01\n",
      "  2.81292341e+00 -6.92738650e-02 -4.25832957e-01 -5.10341712e+00\n",
      " -3.96603078e-01 -4.03985314e-01 -2.09015383e+00  2.60183601e+00\n",
      " -4.77176655e+00 -3.97913302e+00  1.01612116e+00 -2.18251413e+00\n",
      "  1.24843742e+00 -7.35128459e-01 -2.86610689e+00 -4.32234616e+00\n",
      " -7.08229304e-01  1.92345798e-01  1.30001424e+00  3.97004575e-01\n",
      "  2.27042089e+00 -1.02357626e-01 -3.76314245e-01 -1.36531245e-01\n",
      " -3.32682352e-01  2.94403843e-01 -1.12308067e+00 -6.73625216e-01\n",
      "  2.51181135e+00 -5.40295713e-01 -2.68779589e+00 -1.19897587e+01\n",
      "  2.00377156e+01 -5.36016097e+00 -8.46872610e+00  2.18939391e+00\n",
      "  4.85905680e-01  7.33372642e-01  5.57972044e-02  3.55975247e+00\n",
      "  3.53947269e+00 -2.01305704e+00  3.86816585e+00  3.31511118e+00\n",
      "  6.90152410e+00  3.94372787e+00  3.74841561e-01  2.88960412e+00\n",
      "  3.87277399e+00 -7.84444335e-01 -1.71736377e+00 -9.06427277e-01\n",
      " -1.62815130e-01 -7.95209830e+00 -1.79701610e+00 -3.26283114e+00\n",
      " -5.69958468e+00 -4.54150668e+00  9.69597070e+00 -5.91090873e+00\n",
      " -7.90334210e+00  8.50085258e+00 -2.80614517e+00 -6.78330782e-01\n",
      " -1.17436271e+00 -9.91872609e-01 -8.89308240e-01  2.90853622e+00\n",
      "  3.14240735e+00  2.24547745e-02 -1.85979045e-01 -8.30131504e-01\n",
      "  2.01308990e-01 -1.10293537e+00 -4.21787079e-01  9.16920096e-01\n",
      "  3.19156733e-01  8.43890622e-01 -1.44779338e+00  9.87868626e-02\n",
      "  3.27118806e-01  3.75014820e-02 -1.10803585e+00 -9.54798056e-01\n",
      "  6.37788450e-01  4.21200089e-01 -5.24230537e-02 -8.04862714e-02\n",
      "  9.85448867e-02 -1.11820716e-01 -9.94680525e-02  6.14108639e-01\n",
      "  8.02557806e-01 -6.14313306e-01  1.80081310e+00 -8.91360979e-01\n",
      "  7.45802381e-01 -2.17861146e-01 -1.45513092e+00 -6.30698216e-01]\n"
     ]
    }
   ],
   "source": [
    "# Fit the Model\n",
    "%time\n",
    "reg = LinearRegression().fit(x, y)\n",
    "# Print the Score\n",
    "reg.score(x, y)\n",
    "print(\"Multiple Linear Regression score:\", reg.score(x, y))\n",
    "print(\"Multiple Linear Regression MSE:\", mean_squared_error(y, reg.predict(x)))\n",
    "print(\"Multiple Linear Regression coef:\", reg.coef_)"
   ]
  },
  {
   "cell_type": "markdown",
   "metadata": {},
   "source": [
    "Mercedes-Benz Greener Manufacturing: Lasso Regression "
   ]
  },
  {
   "cell_type": "code",
   "execution_count": 76,
   "metadata": {},
   "outputs": [],
   "source": [
    "# Scale data \n",
    "scaler = StandardScaler()\n",
    "scaler.fit(x)\n",
    "X = scaler.transform(x)"
   ]
  },
  {
   "cell_type": "code",
   "execution_count": 77,
   "metadata": {},
   "outputs": [
    {
     "name": "stdout",
     "output_type": "stream",
     "text": [
      "CPU times: user 1e+03 ns, sys: 1 µs, total: 2 µs\n",
      "Wall time: 3.81 µs\n",
      "lasso score: 0.5205575167814709\n",
      "lasso MSE: 77.06007775282386\n",
      "lasso coef: [-0.00000000e+00 -0.00000000e+00  0.00000000e+00  0.00000000e+00\n",
      "  0.00000000e+00  0.00000000e+00  0.00000000e+00  0.00000000e+00\n",
      " -0.00000000e+00  0.00000000e+00 -0.00000000e+00 -0.00000000e+00\n",
      "  0.00000000e+00 -0.00000000e+00  0.00000000e+00 -0.00000000e+00\n",
      " -0.00000000e+00 -0.00000000e+00 -0.00000000e+00 -1.95334828e+00\n",
      " -0.00000000e+00  0.00000000e+00 -0.00000000e+00 -0.00000000e+00\n",
      "  0.00000000e+00  0.00000000e+00 -0.00000000e+00  0.00000000e+00\n",
      " -0.00000000e+00 -0.00000000e+00 -0.00000000e+00  0.00000000e+00\n",
      " -0.00000000e+00 -0.00000000e+00  0.00000000e+00  0.00000000e+00\n",
      "  0.00000000e+00  0.00000000e+00  1.19220168e-03  0.00000000e+00\n",
      "  0.00000000e+00  0.00000000e+00  0.00000000e+00 -0.00000000e+00\n",
      " -0.00000000e+00  0.00000000e+00  0.00000000e+00  0.00000000e+00\n",
      "  0.00000000e+00  0.00000000e+00 -0.00000000e+00 -1.14340067e-01\n",
      "  0.00000000e+00  0.00000000e+00 -0.00000000e+00  0.00000000e+00\n",
      "  0.00000000e+00 -0.00000000e+00  0.00000000e+00  0.00000000e+00\n",
      " -0.00000000e+00  0.00000000e+00  0.00000000e+00 -0.00000000e+00\n",
      "  0.00000000e+00 -0.00000000e+00  0.00000000e+00  0.00000000e+00\n",
      " -0.00000000e+00 -0.00000000e+00 -0.00000000e+00  0.00000000e+00\n",
      "  0.00000000e+00  0.00000000e+00  0.00000000e+00  0.00000000e+00\n",
      " -0.00000000e+00 -0.00000000e+00 -0.00000000e+00 -0.00000000e+00\n",
      " -0.00000000e+00 -0.00000000e+00  0.00000000e+00 -0.00000000e+00\n",
      "  0.00000000e+00  0.00000000e+00 -0.00000000e+00 -0.00000000e+00\n",
      " -0.00000000e+00 -0.00000000e+00 -0.00000000e+00 -0.00000000e+00\n",
      " -0.00000000e+00  0.00000000e+00  0.00000000e+00 -0.00000000e+00\n",
      "  0.00000000e+00 -0.00000000e+00  0.00000000e+00 -0.00000000e+00\n",
      " -0.00000000e+00  0.00000000e+00  1.87191765e-05  0.00000000e+00\n",
      " -0.00000000e+00  0.00000000e+00  0.00000000e+00  1.45632280e+00\n",
      "  0.00000000e+00 -0.00000000e+00 -0.00000000e+00  0.00000000e+00\n",
      "  0.00000000e+00 -0.00000000e+00  0.00000000e+00 -0.00000000e+00\n",
      " -0.00000000e+00  0.00000000e+00  0.00000000e+00  0.00000000e+00\n",
      " -0.00000000e+00  0.00000000e+00  0.00000000e+00  0.00000000e+00\n",
      "  0.00000000e+00  0.00000000e+00  0.00000000e+00  0.00000000e+00\n",
      "  0.00000000e+00  0.00000000e+00  0.00000000e+00 -0.00000000e+00\n",
      " -0.00000000e+00 -0.00000000e+00  0.00000000e+00  0.00000000e+00\n",
      " -0.00000000e+00  0.00000000e+00  0.00000000e+00  0.00000000e+00\n",
      "  0.00000000e+00  0.00000000e+00  0.00000000e+00  0.00000000e+00\n",
      " -0.00000000e+00 -0.00000000e+00 -0.00000000e+00  0.00000000e+00\n",
      " -0.00000000e+00 -0.00000000e+00  0.00000000e+00  0.00000000e+00\n",
      "  0.00000000e+00 -0.00000000e+00 -0.00000000e+00 -0.00000000e+00\n",
      " -0.00000000e+00  0.00000000e+00  0.00000000e+00  0.00000000e+00\n",
      "  0.00000000e+00 -0.00000000e+00 -0.00000000e+00  0.00000000e+00\n",
      "  0.00000000e+00 -0.00000000e+00  0.00000000e+00  0.00000000e+00\n",
      "  0.00000000e+00  0.00000000e+00  0.00000000e+00  0.00000000e+00\n",
      " -0.00000000e+00 -0.00000000e+00  0.00000000e+00  0.00000000e+00\n",
      "  0.00000000e+00  0.00000000e+00 -0.00000000e+00  0.00000000e+00\n",
      "  0.00000000e+00  0.00000000e+00 -0.00000000e+00  0.00000000e+00\n",
      "  0.00000000e+00  0.00000000e+00 -0.00000000e+00  0.00000000e+00\n",
      " -0.00000000e+00  0.00000000e+00 -0.00000000e+00 -0.00000000e+00\n",
      "  0.00000000e+00  0.00000000e+00 -0.00000000e+00 -0.00000000e+00\n",
      "  0.00000000e+00 -0.00000000e+00 -0.00000000e+00 -0.00000000e+00\n",
      " -0.00000000e+00  0.00000000e+00 -0.00000000e+00  0.00000000e+00\n",
      "  0.00000000e+00 -0.00000000e+00  0.00000000e+00  0.00000000e+00\n",
      "  0.00000000e+00  0.00000000e+00  0.00000000e+00  0.00000000e+00\n",
      " -0.00000000e+00  0.00000000e+00 -0.00000000e+00 -0.00000000e+00\n",
      " -0.00000000e+00 -1.50185127e-04  0.00000000e+00 -0.00000000e+00\n",
      "  0.00000000e+00  9.49020506e-03  0.00000000e+00 -0.00000000e+00\n",
      " -0.00000000e+00  0.00000000e+00  0.00000000e+00 -0.00000000e+00\n",
      " -0.00000000e+00  0.00000000e+00 -0.00000000e+00  0.00000000e+00\n",
      "  0.00000000e+00 -0.00000000e+00 -0.00000000e+00 -0.00000000e+00\n",
      "  0.00000000e+00 -0.00000000e+00 -0.00000000e+00 -0.00000000e+00\n",
      "  0.00000000e+00 -0.00000000e+00 -0.00000000e+00 -0.00000000e+00\n",
      " -0.00000000e+00  0.00000000e+00  0.00000000e+00  0.00000000e+00\n",
      "  1.66010349e-01  6.16225306e-02 -0.00000000e+00  0.00000000e+00\n",
      "  0.00000000e+00  0.00000000e+00 -0.00000000e+00 -0.00000000e+00\n",
      " -0.00000000e+00 -0.00000000e+00 -0.00000000e+00 -0.00000000e+00\n",
      "  0.00000000e+00 -0.00000000e+00 -0.00000000e+00 -0.00000000e+00\n",
      " -6.39890411e-04  0.00000000e+00 -0.00000000e+00  0.00000000e+00\n",
      "  0.00000000e+00  0.00000000e+00  0.00000000e+00 -0.00000000e+00\n",
      "  0.00000000e+00 -0.00000000e+00  0.00000000e+00  0.00000000e+00\n",
      " -0.00000000e+00 -0.00000000e+00  0.00000000e+00  0.00000000e+00\n",
      " -0.00000000e+00 -0.00000000e+00  0.00000000e+00 -0.00000000e+00\n",
      " -0.00000000e+00  0.00000000e+00  0.00000000e+00  0.00000000e+00\n",
      " -0.00000000e+00  0.00000000e+00  0.00000000e+00  0.00000000e+00\n",
      " -0.00000000e+00  0.00000000e+00 -0.00000000e+00  0.00000000e+00\n",
      "  0.00000000e+00 -0.00000000e+00  6.55059164e+00  2.12842591e+00\n",
      " -0.00000000e+00  0.00000000e+00  0.00000000e+00  0.00000000e+00\n",
      " -0.00000000e+00  0.00000000e+00  0.00000000e+00  0.00000000e+00\n",
      "  0.00000000e+00 -0.00000000e+00  0.00000000e+00  0.00000000e+00\n",
      " -0.00000000e+00 -0.00000000e+00  0.00000000e+00 -0.00000000e+00\n",
      " -0.00000000e+00 -0.00000000e+00  0.00000000e+00 -0.00000000e+00\n",
      "  0.00000000e+00 -0.00000000e+00 -0.00000000e+00  0.00000000e+00\n",
      " -0.00000000e+00  0.00000000e+00  0.00000000e+00  0.00000000e+00\n",
      "  0.00000000e+00  0.00000000e+00 -0.00000000e+00  0.00000000e+00\n",
      " -5.27237056e-04  0.00000000e+00 -0.00000000e+00 -0.00000000e+00\n",
      " -0.00000000e+00 -0.00000000e+00  0.00000000e+00  0.00000000e+00\n",
      "  0.00000000e+00 -0.00000000e+00  0.00000000e+00 -0.00000000e+00\n",
      "  0.00000000e+00 -0.00000000e+00 -0.00000000e+00  0.00000000e+00\n",
      "  0.00000000e+00  0.00000000e+00  0.00000000e+00 -0.00000000e+00\n",
      "  0.00000000e+00  0.00000000e+00 -0.00000000e+00 -0.00000000e+00\n",
      " -0.00000000e+00  0.00000000e+00  0.00000000e+00 -0.00000000e+00\n",
      "  0.00000000e+00  0.00000000e+00 -0.00000000e+00  0.00000000e+00\n",
      "  0.00000000e+00 -0.00000000e+00  0.00000000e+00  0.00000000e+00\n",
      " -0.00000000e+00  0.00000000e+00  0.00000000e+00  0.00000000e+00\n",
      " -0.00000000e+00  0.00000000e+00  0.00000000e+00 -0.00000000e+00\n",
      " -0.00000000e+00  0.00000000e+00  0.00000000e+00 -0.00000000e+00\n",
      "  0.00000000e+00  0.00000000e+00 -0.00000000e+00  0.00000000e+00\n",
      "  0.00000000e+00  0.00000000e+00 -0.00000000e+00  0.00000000e+00\n",
      " -0.00000000e+00 -0.00000000e+00 -0.00000000e+00 -0.00000000e+00\n",
      " -0.00000000e+00  0.00000000e+00 -0.00000000e+00 -0.00000000e+00\n",
      " -0.00000000e+00  0.00000000e+00 -0.00000000e+00  0.00000000e+00\n",
      "  0.00000000e+00  0.00000000e+00 -0.00000000e+00 -0.00000000e+00\n",
      "  0.00000000e+00 -0.00000000e+00 -0.00000000e+00  0.00000000e+00\n",
      "  0.00000000e+00 -0.00000000e+00 -0.00000000e+00 -0.00000000e+00\n",
      "  0.00000000e+00  0.00000000e+00  0.00000000e+00 -0.00000000e+00\n",
      "  0.00000000e+00 -0.00000000e+00 -0.00000000e+00  0.00000000e+00\n",
      "  0.00000000e+00  0.00000000e+00  0.00000000e+00  0.00000000e+00\n",
      " -0.00000000e+00  0.00000000e+00 -0.00000000e+00 -0.00000000e+00\n",
      "  0.00000000e+00  0.00000000e+00  0.00000000e+00  0.00000000e+00\n",
      " -0.00000000e+00 -0.00000000e+00 -0.00000000e+00  0.00000000e+00\n",
      "  0.00000000e+00 -0.00000000e+00 -0.00000000e+00  0.00000000e+00\n",
      " -0.00000000e+00 -0.00000000e+00 -0.00000000e+00 -0.00000000e+00\n",
      "  0.00000000e+00 -0.00000000e+00 -0.00000000e+00  0.00000000e+00\n",
      " -0.00000000e+00  0.00000000e+00 -0.00000000e+00  0.00000000e+00\n",
      "  0.00000000e+00  0.00000000e+00  0.00000000e+00  0.00000000e+00\n",
      "  0.00000000e+00  0.00000000e+00  0.00000000e+00  0.00000000e+00\n",
      "  0.00000000e+00  0.00000000e+00  0.00000000e+00 -0.00000000e+00\n",
      " -0.00000000e+00 -0.00000000e+00 -0.00000000e+00 -0.00000000e+00\n",
      " -0.00000000e+00  0.00000000e+00  0.00000000e+00  0.00000000e+00\n",
      "  0.00000000e+00 -0.00000000e+00  0.00000000e+00  0.00000000e+00\n",
      " -0.00000000e+00 -0.00000000e+00 -0.00000000e+00 -0.00000000e+00\n",
      "  0.00000000e+00  0.00000000e+00  1.86671357e-02 -0.00000000e+00\n",
      "  0.00000000e+00 -0.00000000e+00 -0.00000000e+00  0.00000000e+00\n",
      " -0.00000000e+00  0.00000000e+00  0.00000000e+00 -0.00000000e+00\n",
      " -0.00000000e+00 -0.00000000e+00 -0.00000000e+00  0.00000000e+00\n",
      "  0.00000000e+00 -0.00000000e+00 -0.00000000e+00  0.00000000e+00\n",
      " -0.00000000e+00  0.00000000e+00  0.00000000e+00  0.00000000e+00\n",
      "  0.00000000e+00 -0.00000000e+00  0.00000000e+00 -0.00000000e+00\n",
      "  0.00000000e+00 -0.00000000e+00 -0.00000000e+00 -0.00000000e+00\n",
      "  0.00000000e+00  0.00000000e+00 -0.00000000e+00  0.00000000e+00\n",
      "  0.00000000e+00 -0.00000000e+00  0.00000000e+00  0.00000000e+00\n",
      " -0.00000000e+00 -0.00000000e+00  0.00000000e+00 -0.00000000e+00\n",
      " -0.00000000e+00 -0.00000000e+00 -0.00000000e+00 -0.00000000e+00\n",
      " -0.00000000e+00  0.00000000e+00 -0.00000000e+00  0.00000000e+00\n",
      " -0.00000000e+00  0.00000000e+00  0.00000000e+00 -0.00000000e+00\n",
      "  0.00000000e+00 -0.00000000e+00 -0.00000000e+00  0.00000000e+00\n",
      " -0.00000000e+00  0.00000000e+00 -0.00000000e+00  0.00000000e+00\n",
      " -0.00000000e+00 -0.00000000e+00  0.00000000e+00 -0.00000000e+00\n",
      " -0.00000000e+00 -0.00000000e+00 -0.00000000e+00  0.00000000e+00\n",
      "  0.00000000e+00 -0.00000000e+00  0.00000000e+00  0.00000000e+00\n",
      "  0.00000000e+00 -0.00000000e+00  0.00000000e+00 -0.00000000e+00\n",
      "  0.00000000e+00 -0.00000000e+00 -0.00000000e+00  0.00000000e+00]\n"
     ]
    }
   ],
   "source": [
    "# Fit the Model and Print Score\n",
    "%time\n",
    "lasso = linear_model.Lasso()\n",
    "lasso.fit(X, y)\n",
    "print(\"lasso score:\", lasso.score(X, y))\n",
    "print(\"lasso MSE:\", mean_squared_error(y, lasso.predict(X)))\n",
    "print(\"lasso coef:\", lasso.coef_)"
   ]
  },
  {
   "cell_type": "markdown",
   "metadata": {},
   "source": [
    "Mercedes-Benz Greener Manufacturing: Ridge Regression "
   ]
  },
  {
   "cell_type": "code",
   "execution_count": 78,
   "metadata": {},
   "outputs": [
    {
     "name": "stdout",
     "output_type": "stream",
     "text": [
      "CPU times: user 2 µs, sys: 0 ns, total: 2 µs\n",
      "Wall time: 4.05 µs\n"
     ]
    },
    {
     "data": {
      "text/plain": [
       "Ridge(alpha=1.0, copy_X=True, fit_intercept=True, max_iter=None,\n",
       "   normalize=False, random_state=None, solver='auto', tol=0.001)"
      ]
     },
     "execution_count": 78,
     "metadata": {},
     "output_type": "execute_result"
    }
   ],
   "source": [
    "# Fit the Model and Print Score\n",
    "%time\n",
    "ridge = linear_model.Ridge()\n",
    "ridge.fit(X, y)"
   ]
  },
  {
   "cell_type": "code",
   "execution_count": 79,
   "metadata": {},
   "outputs": [
    {
     "name": "stdout",
     "output_type": "stream",
     "text": [
      "ridge score: 0.6200545035766019\n",
      "ridge MSE: 61.068074943365346\n",
      "ridge coef: [ 2.38716907e+00 -1.28056999e-01  0.00000000e+00  3.29271354e-01\n",
      "  1.68236721e-01 -1.88278731e-01  3.60088511e-02  3.46866767e-02\n",
      " -1.24714668e-01  2.78846200e-01 -1.03512167e-01  1.37764921e-03\n",
      "  1.32278276e-01 -6.75020065e-02 -3.80003540e-03 -2.19492450e-01\n",
      "  4.35226209e-02 -3.11989210e-02  1.05906679e-02 -4.07756542e-01\n",
      " -7.10079359e-02  1.15010464e-01 -1.28434935e-01 -2.72698911e-02\n",
      "  1.90431991e-01  1.15010464e-01  5.53978605e-04  1.15010464e-01\n",
      "  2.72512418e-02 -2.72698911e-02  3.28094249e-02  1.18273697e-02\n",
      "  1.16806755e-02  2.90462395e-01  2.97500176e-02 -2.80536693e+00\n",
      "  7.74244950e-02  6.64035048e-01  1.66685479e-01  1.96878611e+00\n",
      " -5.14019037e-02  2.48966151e-03  1.13115396e-02  2.32938166e-02\n",
      " -3.66841822e-01 -2.86850727e-01  4.12088399e-02 -4.85265119e-02\n",
      "  1.42881912e-01  2.79469340e-02 -2.51032032e-02 -1.86954021e-02\n",
      "  1.30378910e-01 -3.35509896e-01 -1.41390487e-01 -1.44804067e-01\n",
      "  1.14647057e-01  6.93581661e-02 -2.70976805e-01 -1.94067554e-02\n",
      " -2.38749476e-01  2.92963262e-01  1.98509623e-01  1.64384762e-02\n",
      " -6.57720760e-01 -3.66841822e-01  1.25457572e-01 -7.42126171e-02\n",
      " -3.27346360e-02 -2.34777161e-01 -4.09091832e-01 -2.19619159e-02\n",
      "  5.40059049e-02  2.92963262e-01 -3.23802964e-01  1.12822846e-01\n",
      " -3.98808926e-02  1.76287484e-02  1.16091644e-01 -4.90554155e-02\n",
      " -1.26990457e-01 -5.75762584e-02  0.00000000e+00 -4.90554155e-02\n",
      "  4.30596748e-01  2.19359350e-01 -1.66305250e-01 -1.84420617e-01\n",
      "  5.81922512e-03 -3.66974500e-01 -1.82765120e-01  2.32938166e-02\n",
      " -7.94527107e-01  2.56137430e-01  1.27954286e-01 -5.33581766e-02\n",
      "  0.00000000e+00 -1.88389207e-01  1.03200615e-01  5.39038167e-03\n",
      " -9.94983433e-02 -1.69553071e-01  1.66685479e-01 -1.29820534e-01\n",
      " -1.95381309e-01  9.63443343e-02 -2.64675108e-01  4.70693723e-01\n",
      "  4.70693723e-01 -1.13115395e-02  1.76287484e-02  2.47579456e-01\n",
      " -2.34681001e-02 -8.32783187e-02  2.45006208e-01 -1.64116025e+00\n",
      " -1.66452909e-01 -1.83510808e+00  1.66452909e-01 -4.24082753e-01\n",
      " -1.54683823e+00  1.08676751e+00  1.66685479e-01 -2.45600073e-01\n",
      "  3.66841822e-01  1.47105204e-01 -2.12406324e-02 -4.35313272e-01\n",
      " -9.17791197e-03  7.99956041e-02  1.63247766e-02 -2.24821040e-01\n",
      "  3.74759579e-01  2.02534634e-02 -2.12406324e-02  1.66685479e-01\n",
      " -3.97014177e-01 -1.29722964e-01  1.63795569e-01  1.91575200e-01\n",
      "  3.46357671e-02  5.04236357e-01  4.59758489e-01  1.10456997e-01\n",
      " -1.10456997e-01 -1.63247766e-02 -2.65101476e-01 -1.28264107e-01\n",
      " -1.66350321e+00 -3.65567247e-01 -6.33831678e-01 -4.05553946e-02\n",
      "  4.36218081e-02 -3.28947708e-01 -4.89087466e-02 -1.01012419e-01\n",
      " -1.46141662e-01  1.69647562e-01  1.86324218e-01  1.30378910e-01\n",
      "  1.09868995e-01  2.21889050e-01 -1.82164919e-02  2.36670801e-01\n",
      "  6.86203031e-03 -6.97756610e+00 -3.86031553e+00  1.13355800e+00\n",
      "  1.64247602e-01 -3.05295614e-01 -3.10839005e-02 -8.36048448e-03\n",
      "  6.90107542e-03  3.57073552e-01 -2.09185469e-01  1.77862795e-01\n",
      " -8.21543445e-02  7.71290209e-01 -4.94336762e-02 -3.57073552e-01\n",
      "  6.66488877e-02  3.12222068e-01  1.65433574e-01  1.69118164e-01\n",
      " -1.69553071e-01  7.91028074e-02 -5.61127263e-01  5.50326835e-02\n",
      " -1.47695775e-01  1.77581027e-01 -1.77581027e-01 -3.59740497e-01\n",
      "  2.19036149e-01  7.01928199e-02  7.51722459e-02 -3.98005688e-01\n",
      "  1.64232465e-01  5.12255886e-02  6.93581661e-02  2.32938166e-02\n",
      "  2.52358342e-01  1.30378910e-01  9.49587802e-02  1.28608861e-01\n",
      " -8.13124170e-01 -1.01902785e-01 -1.23458270e-01  1.66685479e-01\n",
      " -4.73106129e-01  1.95611566e-01  6.40692817e-02  1.91575200e-01\n",
      " -8.32783187e-02 -4.70500153e-02  1.67016686e-02 -2.64824721e-02\n",
      " -1.68740769e-01 -4.07756542e-01  0.00000000e+00  1.37210826e-01\n",
      "  0.00000000e+00  3.62895587e-01  9.52856471e-02  4.00066532e-02\n",
      "  2.32938166e-02  1.01404227e-01 -7.28771456e-01 -4.90554155e-02\n",
      "  1.76287484e-02  2.92963262e-01  1.16091644e-01  7.46206809e-02\n",
      "  5.50326835e-02 -2.51032032e-02  2.81127916e-02  1.77698866e+00\n",
      " -1.91562163e+00  1.88371772e-01 -2.51032032e-02 -2.64824721e-02\n",
      "  3.94908575e-02  5.62081562e-02 -7.01088774e-02  1.57542791e-01\n",
      " -1.43531652e-01  5.04156054e-02  1.47658371e+00 -8.36048448e-03\n",
      "  4.07756542e-01  2.55206508e-01  1.27155696e-01 -8.36048448e-03\n",
      "  2.45549247e-01  0.00000000e+00  8.80895099e-03 -6.19262066e-03\n",
      "  1.52453488e-01  8.70270856e-01 -1.72003742e-01  2.25036109e-01\n",
      "  2.78377427e-01 -4.38053387e-01 -9.99241117e-02 -8.77957932e-02\n",
      " -4.07756542e-01  9.09772901e-02 -5.13446137e-02  4.96041785e-02\n",
      " -7.48581355e-01  3.90961885e-01  1.60111211e-01 -4.34288851e-01\n",
      "  2.64808762e-01 -1.22653376e-02  0.00000000e+00  0.00000000e+00\n",
      " -9.69194114e-02 -2.65460349e-01  0.00000000e+00 -9.35784446e-02\n",
      " -8.69436446e-02 -8.69436446e-02  0.00000000e+00 -7.75523564e-02\n",
      " -7.75523564e-02 -2.26653726e-01 -1.27032065e-02  2.97500176e-02\n",
      " -1.38722863e-02  2.49448264e-01 -2.19426365e-01 -3.85780159e-02\n",
      "  7.61141750e-02  1.70608592e-01 -4.77243327e-02  4.15928477e-01\n",
      "  5.68866111e-02 -8.77842083e-01  1.49131578e+00  9.86902753e-01\n",
      " -1.05440572e+00  6.97100723e-03 -6.80171239e-02 -5.11039729e-02\n",
      "  1.76287484e-02 -2.16822453e-01  1.69541857e-02 -1.55958494e-01\n",
      "  1.42881912e-01  3.68261483e-02  1.91575200e-01  3.54705718e-01\n",
      "  1.70977368e-02 -6.95124617e-01  0.00000000e+00  1.71125994e-01\n",
      "  9.28941713e-02  7.93903920e-02 -1.42739131e-01 -8.88733274e-02\n",
      " -1.05077136e-01  9.50480996e-02 -2.12701281e-01  6.66731037e-01\n",
      " -2.18553357e-01  1.54729568e-01 -3.33705792e-02  4.10916863e-01\n",
      " -4.44254806e-02  3.03668640e-01  7.93492965e-02  0.00000000e+00\n",
      " -2.53370718e-01  4.22254925e-01  4.55696633e-02  1.61305426e-01\n",
      " -1.47383393e+00  8.88529801e-02  1.63297062e-01 -2.01240399e-01\n",
      "  8.67958084e-01 -1.47430845e-01  9.61620145e-02 -2.06531541e-01\n",
      "  4.59758489e-01 -2.12199259e-03 -1.00943089e+00  2.07502603e-01\n",
      "  1.01404227e-01  1.01404227e-01 -3.36868777e-02  5.75764015e-01\n",
      "  9.41309067e-02 -1.10047218e-01  6.45477634e-03 -1.71615618e-01\n",
      " -1.07924688e-01 -1.70982685e-01 -8.47146828e-01  7.57176057e-01\n",
      "  2.27577047e-01  1.08469565e-01 -3.45738991e-01  1.49482492e-01\n",
      "  2.43444741e-03 -1.24714668e-01  3.50775737e-01 -8.62369296e-02\n",
      " -2.51032032e-02  5.29769915e-01  3.62895587e-01  2.92273278e-01\n",
      " -9.24190766e-02 -3.62660822e-02  3.75216102e-01  4.95872662e-02\n",
      " -2.94227783e-01  9.15167077e-01 -1.83285878e-01 -4.30314446e-01\n",
      "  8.31737771e-02  2.21480414e-01 -3.21343926e-01  2.78440929e-01\n",
      "  4.86158268e-01  4.52721485e-01 -8.85135109e-02  1.06931957e-01\n",
      " -2.53168343e-01 -3.95493294e-01 -2.74289475e-01 -1.82736599e-01\n",
      " -9.99241117e-02  7.58991122e-02 -1.95174348e-01 -4.66085740e-02\n",
      " -7.64455477e-01 -4.33169626e-02 -1.49878055e-01  1.21371716e-01\n",
      "  8.25715493e-01 -7.57605436e-02 -4.81993786e-01 -2.87249074e-01\n",
      " -3.24991355e-01 -8.83118192e-01 -6.83833181e-02  1.43486239e-01\n",
      "  2.06472526e-01 -7.00698458e-01 -2.70808039e-01 -1.15124354e-01\n",
      "  6.95226067e-01  1.20972513e+00  3.26662790e-01 -4.44255737e-01\n",
      "  2.12199259e-03 -3.19480661e-02 -1.27083007e-01  2.09353016e-01\n",
      " -6.54916057e-01  6.33536468e-02 -2.61089640e-01  3.64105838e-01\n",
      "  6.19221737e-02  2.43525225e-01  2.91229118e-01  4.59347041e-02\n",
      " -2.87823267e-01  2.95406194e-01 -2.57842557e-01  5.45393164e-02\n",
      " -1.02563629e-01 -2.03682931e-01  5.43324467e-02  1.03235167e-01\n",
      " -3.43293515e-02 -2.24900691e-01 -2.25515188e-01 -1.03881011e-01\n",
      " -1.47914896e-01 -5.74970721e-02 -5.38796429e-02 -1.28434935e-01\n",
      "  1.79464458e-01 -8.32783187e-02  1.14799453e+00  1.92391193e-01\n",
      " -7.10079359e-02 -5.91956292e-02  2.52358342e-01  3.81032057e-01\n",
      "  2.05217692e-01  5.04156054e-02  1.79989800e-01  1.40265659e-01\n",
      "  3.46866768e-02  1.64232465e-01  3.13350618e-01 -1.91562163e+00\n",
      " -8.36048448e-03  2.79469340e-02 -1.24407896e-04  6.93581661e-02\n",
      "  2.66185742e-01  4.35226209e-02  5.02548885e-04 -1.66305250e-01\n",
      "  2.80358702e-01 -3.80003540e-03 -1.69553071e-01  1.12822846e-01\n",
      " -3.98100645e-01 -4.61714873e-02  1.30378910e-01 -3.27096271e-02\n",
      "  7.73858556e-01  1.05906679e-02 -7.01088774e-02 -5.75762584e-02\n",
      "  5.40059049e-02  3.86839018e-01  1.66685479e-01  2.32938166e-02\n",
      "  1.27954286e-01  1.06901112e-01  5.53978607e-04 -2.21900800e-01\n",
      " -1.01862969e-01 -1.48212784e-01 -4.32088932e-01 -2.34987934e-01\n",
      "  8.46305514e-01 -2.61888166e-01 -7.74113421e-03 -1.48471728e-01\n",
      "  3.44352022e-01 -9.24999681e-02 -1.04827290e+00  5.64861269e-01\n",
      "  2.27998864e-01  2.92571940e-01  1.81537944e-01  7.95700074e-01\n",
      "  8.50321819e-01 -1.73428484e-01  7.08137341e-01  7.57046791e-01\n",
      "  2.78436016e-01  5.98251696e-02  2.57185494e-02  6.31037897e-01\n",
      "  6.49738151e-01  4.92245360e-02 -1.65100865e-01  6.81212750e-02\n",
      "  2.10084652e-01 -4.14190238e-01 -1.02332657e-01 -4.05638064e-01\n",
      " -8.93593828e-01 -6.58788472e-01  1.77581027e-01 -9.46264994e-01\n",
      " -1.37199197e+00  2.12492018e-01 -4.35888750e-02 -8.27341295e-02\n",
      " -7.06048466e-02 -6.52821093e-02 -2.12718369e-01  1.71881454e-01\n",
      "  2.37353332e-01  1.36786130e-01  2.18981853e-02 -1.72128462e-01\n",
      "  2.11572033e-01 -8.26382586e-02 -3.61630034e-02  1.87302983e-01\n",
      "  5.43646993e-02  1.18357289e-01 -2.32836448e-01  1.10486764e-02\n",
      "  6.39646254e-02 -5.80971586e-03 -1.91087304e-01 -2.31377356e-01\n",
      "  1.49818350e-01  7.15278849e-02 -1.97367423e-02 -2.30471491e-02\n",
      "  1.00574326e-02 -3.28874080e-02 -2.54581552e-02  9.27023827e-02\n",
      "  1.65298379e-01 -1.61350543e-01  2.88522681e-01 -1.55018350e-01\n",
      "  1.43858801e-01 -5.73511234e-02 -2.36616640e-01 -1.14557480e-01]\n"
     ]
    }
   ],
   "source": [
    "print(\"ridge score:\",ridge.score(X, y))\n",
    "print(\"ridge MSE:\", mean_squared_error(y, ridge.predict(X)))\n",
    "print(\"ridge coef:\", ridge.coef_)"
   ]
  },
  {
   "cell_type": "markdown",
   "metadata": {},
   "source": [
    "### Summary for Mercedes data: \n",
    "- Multiple Linear Regression - 61.05927281061774\n",
    "- Lasso Regression - 77.06007775282386\n",
    "- Ridge Regression - 61.068074943365346\n",
    "\n",
    "Thus since we want the smallest MSE of these, multiple linear regression performs the best\n",
    "\n",
    "##### Data set attributes: \n",
    "- categorical data"
   ]
  },
  {
   "cell_type": "markdown",
   "metadata": {},
   "source": [
    "# 7. Song Year Prediction "
   ]
  },
  {
   "cell_type": "code",
   "execution_count": 80,
   "metadata": {},
   "outputs": [],
   "source": [
    "song = pd.read_csv('/Users/mirandidallas-fuge/Desktop/YearPredictionMSD.txt')"
   ]
  },
  {
   "cell_type": "code",
   "execution_count": 81,
   "metadata": {},
   "outputs": [],
   "source": [
    "y = song.iloc[:,0]\n",
    "x = song.iloc[:,1:]"
   ]
  },
  {
   "cell_type": "markdown",
   "metadata": {},
   "source": [
    "Song: Multiple Linear Regression "
   ]
  },
  {
   "cell_type": "code",
   "execution_count": 82,
   "metadata": {},
   "outputs": [
    {
     "name": "stdout",
     "output_type": "stream",
     "text": [
      "CPU times: user 2 µs, sys: 1 µs, total: 3 µs\n",
      "Wall time: 3.81 µs\n",
      "Multiple Linear Regression score: 0.23700077314993973\n",
      "Multiple Linear Regression MSE: 91.1690694545467\n",
      "Multiple Linear Regression coef: [ 8.75417828e-01 -5.63271810e-02 -4.36495594e-02  3.35266425e-03\n",
      " -1.47466963e-02 -2.20070428e-01 -6.73789497e-03 -1.00895620e-01\n",
      " -7.04729895e-02  2.50706569e-02 -1.65701122e-01 -1.85435368e-03\n",
      "  4.70143401e-02  3.55103260e-04 -4.22581347e-04  5.99183918e-04\n",
      "  4.76576350e-04  1.46662665e-03  1.92446773e-03  2.12835187e-03\n",
      "  7.69875469e-04 -4.02598883e-04  7.53936242e-03  2.81199236e-03\n",
      " -3.55559424e-03  7.11398144e-05  1.58942049e-03  5.29413275e-04\n",
      "  8.74563154e-04 -3.04158379e-04 -1.40496765e-03 -1.40135040e-03\n",
      " -5.55962706e-03  2.47233882e-03  1.84962263e-03 -5.29414513e-03\n",
      " -2.77269168e-04  6.79196361e-04  1.36514213e-03 -1.71044631e-03\n",
      " -1.99135793e-03 -7.64136852e-04 -1.40254468e-03 -2.35902050e-03\n",
      " -3.17994565e-03  6.81260459e-03  4.56073617e-04 -2.07499004e-03\n",
      "  2.75161566e-04  1.94120580e-03  2.20109055e-04 -1.60484536e-03\n",
      "  1.97086996e-03  4.90737802e-04 -8.43422665e-05  1.62881642e-04\n",
      " -1.89764404e-03  1.94043376e-03 -1.30450238e-03  2.33242093e-04\n",
      " -3.03164550e-03 -1.87986825e-03 -7.76850877e-03  1.19023057e-03\n",
      " -2.02500338e-03  6.59680106e-04 -1.93404970e-04 -4.27606853e-04\n",
      " -4.25102836e-03 -5.08404004e-03 -1.06134200e-03  2.37782410e-04\n",
      "  6.89098479e-04  3.98716376e-03  3.00119032e-03  1.52109911e-02\n",
      "  1.99605283e-04 -4.42313221e-03 -4.24465372e-05 -1.51543905e-04\n",
      " -8.28039000e-04 -5.56812186e-04  1.37232319e-03  9.96513887e-04\n",
      "  2.61367150e-02  1.07423051e-04  1.16488598e-03 -3.11969808e-02\n",
      " -1.38055771e-03 -1.61544407e-03]\n"
     ]
    }
   ],
   "source": [
    "# Fit the Model\n",
    "%time\n",
    "reg = LinearRegression().fit(x, y)\n",
    "# Print the Score\n",
    "reg.score(x, y)\n",
    "print(\"Multiple Linear Regression score:\", reg.score(x, y))\n",
    "print(\"Multiple Linear Regression MSE:\", mean_squared_error(y, reg.predict(x)))\n",
    "print(\"Multiple Linear Regression coef:\", reg.coef_)"
   ]
  },
  {
   "cell_type": "markdown",
   "metadata": {},
   "source": [
    "Song: Lasso Regression"
   ]
  },
  {
   "cell_type": "code",
   "execution_count": 83,
   "metadata": {},
   "outputs": [],
   "source": [
    "# Scale data \n",
    "scaler = StandardScaler()\n",
    "scaler.fit(x)\n",
    "X = scaler.transform(x)"
   ]
  },
  {
   "cell_type": "code",
   "execution_count": 84,
   "metadata": {},
   "outputs": [
    {
     "name": "stdout",
     "output_type": "stream",
     "text": [
      "CPU times: user 4 µs, sys: 1e+03 ns, total: 5 µs\n",
      "Wall time: 20.3 µs\n",
      "lasso score: 0.09764067500655949\n",
      "lasso MSE: 107.82089558978214\n",
      "lasso coef: [ 1.68710504 -0.         -0.63795672  0.          0.         -0.86141556\n",
      "  0.         -0.         -0.          0.          0.         -0.\n",
      "  0.          0.29605591  0.          0.          0.          0.\n",
      "  0.          0.52770142  0.          0.          0.          0.\n",
      "  0.          0.          0.          0.          0.          0.\n",
      " -0.          0.         -0.          0.         -0.         -0.\n",
      " -0.          0.          0.         -0.00232873 -0.         -0.\n",
      " -0.         -0.         -0.         -0.          0.         -0.\n",
      " -0.         -0.          0.         -0.          0.         -0.\n",
      " -0.          0.         -0.          0.         -0.         -0.\n",
      " -0.         -0.         -0.         -0.         -0.         -0.\n",
      " -0.          0.         -0.          0.         -0.         -0.\n",
      "  0.          0.          0.         -0.          0.         -0.\n",
      " -0.         -0.          0.         -0.          0.          0.\n",
      "  0.         -0.          0.         -0.          0.         -0.        ]\n"
     ]
    }
   ],
   "source": [
    "# Fit the Model and Print Score\n",
    "%time\n",
    "lasso = linear_model.Lasso()\n",
    "lasso.fit(X, y)\n",
    "print(\"lasso score:\", lasso.score(X, y))\n",
    "print(\"lasso MSE:\", mean_squared_error(y, lasso.predict(X)))\n",
    "print(\"lasso coef:\", lasso.coef_)"
   ]
  },
  {
   "cell_type": "markdown",
   "metadata": {},
   "source": [
    "Song: Ridge Regression"
   ]
  },
  {
   "cell_type": "code",
   "execution_count": 85,
   "metadata": {},
   "outputs": [
    {
     "name": "stdout",
     "output_type": "stream",
     "text": [
      "CPU times: user 1 µs, sys: 0 ns, total: 1 µs\n",
      "Wall time: 4.05 µs\n"
     ]
    },
    {
     "data": {
      "text/plain": [
       "Ridge(alpha=1.0, copy_X=True, fit_intercept=True, max_iter=None,\n",
       "   normalize=False, random_state=None, solver='auto', tol=0.001)"
      ]
     },
     "execution_count": 85,
     "metadata": {},
     "output_type": "execute_result"
    }
   ],
   "source": [
    "# Fit the Model and Print Score\n",
    "%time\n",
    "ridge = linear_model.Ridge()\n",
    "ridge.fit(X, y)"
   ]
  },
  {
   "cell_type": "code",
   "execution_count": 86,
   "metadata": {},
   "outputs": [
    {
     "name": "stdout",
     "output_type": "stream",
     "text": [
      "ridge score: 0.23700077314129467\n",
      "ridge MSE: 91.16906945557967\n",
      "ridge coef: [ 5.31160293e+00 -2.90534331e+00 -1.53943734e+00  5.46923690e-02\n",
      " -3.37113347e-01 -2.82957692e+00 -9.81646368e-02 -8.03506918e-01\n",
      " -7.45796459e-01  1.63720177e-01 -7.24224333e-01 -1.54414092e-02\n",
      "  1.04651115e+00  6.21202788e-01 -5.33077829e-01  6.54810843e-01\n",
      "  2.26711663e-01  8.46037751e-01  6.11013061e-01  6.58441345e-01\n",
      "  1.64762301e-01 -6.67066205e-02  1.40954825e+00  4.31568378e-01\n",
      " -4.31745114e-01  5.09175936e-02  8.66034495e-01  1.15605873e-01\n",
      "  1.42742202e-01 -4.10266604e-02 -1.39216946e-01 -1.00630539e-01\n",
      " -4.13699128e-01  1.32311792e-01  7.85886032e-02 -5.71301946e-01\n",
      " -1.15074828e-01  3.07948300e-01  3.55821050e-01 -3.51905638e-01\n",
      " -2.38634044e-01 -9.15784860e-02 -1.03259693e-01 -9.05238537e-02\n",
      " -1.32111584e-01  3.74513507e-01  2.14627667e-01 -5.44409368e-01\n",
      "  5.76530964e-02  2.37123064e-01  2.05938188e-02 -1.20442028e-01\n",
      "  1.37923342e-01  4.08665428e-02 -4.87585561e-03  4.45998036e-02\n",
      " -5.90419691e-01  5.17656574e-01 -2.20556006e-01  3.36010290e-02\n",
      " -1.80223481e-01 -9.24553037e-02 -2.92683949e-01  3.66811101e-01\n",
      " -4.49948948e-01  8.45310386e-02 -1.93240136e-02 -4.98985069e-02\n",
      " -4.52138027e-01 -1.87085652e-01 -2.67039961e-01  5.44653871e-02\n",
      "  1.12868311e-01  2.52344768e-01  1.94150661e-01  4.00928253e-01\n",
      "  5.35296928e-02 -6.37619593e-01 -8.53967536e-03 -1.87698109e-02\n",
      " -2.65790751e-02 -9.77846606e-02  1.67742545e-01  9.47211882e-02\n",
      "  4.22414932e-01  1.22868278e-02  2.02662147e-01 -4.16369244e-01\n",
      " -2.56171942e-01 -3.56843960e-02]\n"
     ]
    }
   ],
   "source": [
    "print(\"ridge score:\",ridge.score(X, y))\n",
    "print(\"ridge MSE:\", mean_squared_error(y, ridge.predict(X)))\n",
    "print(\"ridge coef:\", ridge.coef_)"
   ]
  },
  {
   "cell_type": "markdown",
   "metadata": {},
   "source": [
    "### Summary for Song data: \n",
    "- Multiple Linear Regression -  91.1690694545467\n",
    "- Lasso Regression - 107.82089558978214\n",
    "- Ridge Regression - 91.16906945557967\n",
    "\n",
    "Thus since we want the smallest MSE of these, none of these models perform well \n",
    "\n",
    "##### Data set attributes: \n",
    "- lots of columns"
   ]
  },
  {
   "cell_type": "markdown",
   "metadata": {},
   "source": [
    "# 8. Solar Flares"
   ]
  },
  {
   "cell_type": "code",
   "execution_count": 87,
   "metadata": {},
   "outputs": [],
   "source": [
    "solar = pd.read_csv('/Users/mirandidallas-fuge/Desktop/flare.data2', sep = \" \")"
   ]
  },
  {
   "cell_type": "code",
   "execution_count": 88,
   "metadata": {},
   "outputs": [],
   "source": [
    "x = solar.iloc[:,1:6]\n",
    "y = solar.iloc[:,7]"
   ]
  },
  {
   "cell_type": "markdown",
   "metadata": {},
   "source": [
    "Solar: Multiple Linear Regression"
   ]
  },
  {
   "cell_type": "code",
   "execution_count": 89,
   "metadata": {},
   "outputs": [
    {
     "name": "stdout",
     "output_type": "stream",
     "text": [
      "CPU times: user 2 µs, sys: 0 ns, total: 2 µs\n",
      "Wall time: 5.01 µs\n",
      "Multiple Linear Regression score: 0.07079476730209577\n",
      "Multiple Linear Regression MSE: 0.0851232049849271\n",
      "Multiple Linear Regression coef: [0.06338076 0.02650041 0.02537617 0.42973347 0.        ]\n"
     ]
    }
   ],
   "source": [
    "# Fit the Model\n",
    "%time\n",
    "reg = LinearRegression().fit(x, y)\n",
    "# Print the Score\n",
    "reg.score(x, y)\n",
    "print(\"Multiple Linear Regression score:\", reg.score(x, y))\n",
    "print(\"Multiple Linear Regression MSE:\", mean_squared_error(y, reg.predict(x)))\n",
    "print(\"Multiple Linear Regression coef:\", reg.coef_)"
   ]
  },
  {
   "cell_type": "markdown",
   "metadata": {},
   "source": [
    "Solar: Lasso Regression"
   ]
  },
  {
   "cell_type": "code",
   "execution_count": 90,
   "metadata": {},
   "outputs": [],
   "source": [
    "# Scale data \n",
    "scaler = StandardScaler()\n",
    "scaler.fit(x)\n",
    "X = scaler.transform(x)"
   ]
  },
  {
   "cell_type": "code",
   "execution_count": 91,
   "metadata": {},
   "outputs": [
    {
     "name": "stdout",
     "output_type": "stream",
     "text": [
      "CPU times: user 2 µs, sys: 0 ns, total: 2 µs\n",
      "Wall time: 5.01 µs\n",
      "lasso score: 0.0\n",
      "lasso MSE: 0.0916086156098969\n",
      "lasso coef: [0. 0. 0. 0. 0.]\n"
     ]
    }
   ],
   "source": [
    "# Fit the Model and Print Score\n",
    "%time\n",
    "lasso = linear_model.Lasso()\n",
    "lasso.fit(X, y)\n",
    "print(\"lasso score:\", lasso.score(X, y))\n",
    "print(\"lasso MSE:\", mean_squared_error(y, lasso.predict(X)))\n",
    "print(\"lasso coef:\", lasso.coef_)"
   ]
  },
  {
   "cell_type": "markdown",
   "metadata": {},
   "source": [
    "Solar: Ridge Regression "
   ]
  },
  {
   "cell_type": "code",
   "execution_count": 92,
   "metadata": {},
   "outputs": [
    {
     "name": "stdout",
     "output_type": "stream",
     "text": [
      "CPU times: user 2 µs, sys: 0 ns, total: 2 µs\n",
      "Wall time: 5.96 µs\n"
     ]
    },
    {
     "data": {
      "text/plain": [
       "Ridge(alpha=1.0, copy_X=True, fit_intercept=True, max_iter=None,\n",
       "   normalize=False, random_state=None, solver='auto', tol=0.001)"
      ]
     },
     "execution_count": 92,
     "metadata": {},
     "output_type": "execute_result"
    }
   ],
   "source": [
    "# Fit the Model and Print Score\n",
    "%time\n",
    "ridge = linear_model.Ridge()\n",
    "ridge.fit(X, y)"
   ]
  },
  {
   "cell_type": "code",
   "execution_count": 93,
   "metadata": {},
   "outputs": [
    {
     "name": "stdout",
     "output_type": "stream",
     "text": [
      "ridge score: 0.07079472336923387\n",
      "ridge MSE: 0.08512320900955576\n",
      "ridge coef: [0.02029078 0.013006   0.00838167 0.06745725 0.        ]\n"
     ]
    }
   ],
   "source": [
    "print(\"ridge score:\",ridge.score(X, y))\n",
    "print(\"ridge MSE:\", mean_squared_error(y, ridge.predict(X)))\n",
    "print(\"ridge coef:\", ridge.coef_)"
   ]
  },
  {
   "cell_type": "markdown",
   "metadata": {},
   "source": [
    "### Summary for Solar data: \n",
    "- Multiple Linear Regression - 0.0851232049849271\n",
    "- Lasso Regression - 0.0916086156098969\n",
    "- Ridge Regression - 0.08512320900955576\n",
    "\n",
    "Thus since we want the smallest MSE of these, multiple linear regression performs the best \n",
    "\n",
    "##### Data set attributes: \n",
    "- small data set"
   ]
  },
  {
   "cell_type": "code",
   "execution_count": null,
   "metadata": {},
   "outputs": [],
   "source": []
  }
 ],
 "metadata": {
  "kernelspec": {
   "display_name": "Python 3",
   "language": "python",
   "name": "python3"
  },
  "language_info": {
   "codemirror_mode": {
    "name": "ipython",
    "version": 3
   },
   "file_extension": ".py",
   "mimetype": "text/x-python",
   "name": "python",
   "nbconvert_exporter": "python",
   "pygments_lexer": "ipython3",
   "version": "3.6.5"
  }
 },
 "nbformat": 4,
 "nbformat_minor": 2
}
