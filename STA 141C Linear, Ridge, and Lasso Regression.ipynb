{
 "cells": [
  {
   "cell_type": "code",
   "execution_count": 1,
   "metadata": {},
   "outputs": [],
   "source": [
    "import pandas as pd\n",
    "import numpy as np\n",
    "import matplotlib.pyplot as plt"
   ]
  },
  {
   "cell_type": "markdown",
   "metadata": {},
   "source": [
    "# 1. Graduate Admission Rate"
   ]
  },
  {
   "cell_type": "markdown",
   "metadata": {},
   "source": [
    "Graduate admission rate: Multiple Linear Regression"
   ]
  },
  {
   "cell_type": "code",
   "execution_count": 12,
   "metadata": {},
   "outputs": [],
   "source": [
    "from sklearn.linear_model import LinearRegression\n",
    "from sklearn.metrics import mean_squared_error"
   ]
  },
  {
   "cell_type": "code",
   "execution_count": 58,
   "metadata": {},
   "outputs": [],
   "source": [
    "#Import data\n",
    "admission_rate=pd.read_csv('/Users/mirandidallas-fuge/Desktop/Admission_Predict.csv')\n",
    "\n",
    "y=admission_rate['Chance of Admit ']\n",
    "x=admission_rate.iloc[:,1:8]"
   ]
  },
  {
   "cell_type": "code",
   "execution_count": 13,
   "metadata": {},
   "outputs": [
    {
     "name": "stdout",
     "output_type": "stream",
     "text": [
      "Multiple Linear Regression score: 0.8034713719824393\n",
      "Multiple Linear Regression MSE: 0.003986893243246914\n",
      "Multiple Linear Regression coef: [ 0.00173741  0.00291958  0.00571666 -0.00330517  0.02235313  0.11893945\n",
      "  0.02452511]\n"
     ]
    }
   ],
   "source": [
    "# Fit the Model\n",
    "reg = LinearRegression().fit(x, y)\n",
    "# Print the Score\n",
    "reg.score(x, y)\n",
    "print(\"Multiple Linear Regression score:\", reg.score(x, y))\n",
    "print(\"Multiple Linear Regression MSE:\", mean_squared_error(y, reg.predict(x)))\n",
    "print(\"Multiple Linear Regression coef:\", reg.coef_)"
   ]
  },
  {
   "cell_type": "markdown",
   "metadata": {},
   "source": [
    "Graduate admission rate: Lasso regression"
   ]
  },
  {
   "cell_type": "code",
   "execution_count": 16,
   "metadata": {},
   "outputs": [],
   "source": [
    "from sklearn import linear_model\n",
    "from sklearn.metrics import mean_squared_error\n",
    "from sklearn.preprocessing import StandardScaler"
   ]
  },
  {
   "cell_type": "code",
   "execution_count": 17,
   "metadata": {},
   "outputs": [],
   "source": [
    "# Scale data \n",
    "scaler = StandardScaler()\n",
    "scaler.fit(x)\n",
    "X = scaler.transform(x)"
   ]
  },
  {
   "cell_type": "code",
   "execution_count": 18,
   "metadata": {},
   "outputs": [
    {
     "name": "stdout",
     "output_type": "stream",
     "text": [
      "lasso score: 0.0\n",
      "lasso MSE: 0.0202865775\n",
      "lasso coef: [0. 0. 0. 0. 0. 0. 0.]\n"
     ]
    }
   ],
   "source": [
    "# Fit the Model and Print Score\n",
    "lasso = linear_model.Lasso()\n",
    "lasso.fit(X, y)\n",
    "print(\"lasso score:\", lasso.score(X, y))\n",
    "print(\"lasso MSE:\", mean_squared_error(y, lasso.predict(X)))\n",
    "print(\"lasso coef:\", lasso.coef_)"
   ]
  },
  {
   "cell_type": "markdown",
   "metadata": {},
   "source": [
    "Graduate admission rate: Ridge regression"
   ]
  },
  {
   "cell_type": "code",
   "execution_count": 27,
   "metadata": {},
   "outputs": [
    {
     "data": {
      "text/plain": [
       "Ridge(alpha=1.0, copy_X=True, fit_intercept=True, max_iter=None,\n",
       "   normalize=False, random_state=None, solver='auto', tol=0.001)"
      ]
     },
     "execution_count": 27,
     "metadata": {},
     "output_type": "execute_result"
    }
   ],
   "source": [
    "# Fit the Model and Print Score\n",
    "ridge = linear_model.Ridge()\n",
    "ridge.fit(X, y)"
   ]
  },
  {
   "cell_type": "code",
   "execution_count": 29,
   "metadata": {},
   "outputs": [
    {
     "name": "stdout",
     "output_type": "stream",
     "text": [
      "ridge score: 0.8034661029324273\n",
      "ridge MSE: 0.003987000134238337\n",
      "ridge coef: [ 0.02012161  0.01784985  0.00665018 -0.00311891  0.02005063  0.0701277\n",
      "  0.01220766]\n"
     ]
    }
   ],
   "source": [
    "print(\"ridge score:\",ridge.score(X, y))\n",
    "print(\"ridge MSE:\", mean_squared_error(y, ridge.predict(X)))\n",
    "print(\"ridge coef:\", ridge.coef_)"
   ]
  },
  {
   "cell_type": "markdown",
   "metadata": {},
   "source": [
    "### Summary for graduate school data: \n",
    "- Multiple Linear Regression - MSE 0.003986893243246914\n",
    "- Lasso Regression - MSE 0.0202865775\n",
    "- Ridge Regression - MSE 0.003987000134238337\n",
    "\n",
    "Thus since we want the smallest MSE of these, linear regression performs the best.\n",
    "\n",
    "##### Data set attributes: \n",
    "- small dataset, low dimension, all numerical attributes"
   ]
  },
  {
   "cell_type": "markdown",
   "metadata": {},
   "source": [
    "# 2. Crime incidence in community"
   ]
  },
  {
   "cell_type": "code",
   "execution_count": 206,
   "metadata": {},
   "outputs": [],
   "source": [
    "#Import data\n",
    "crime = pd.read_csv('/Users/mirandidallas-fuge/Desktop/CommViolPredUnnormalizedData.txt')"
   ]
  },
  {
   "cell_type": "code",
   "execution_count": null,
   "metadata": {},
   "outputs": [],
   "source": []
  },
  {
   "cell_type": "code",
   "execution_count": null,
   "metadata": {},
   "outputs": [],
   "source": []
  },
  {
   "cell_type": "code",
   "execution_count": null,
   "metadata": {},
   "outputs": [],
   "source": []
  },
  {
   "cell_type": "markdown",
   "metadata": {},
   "source": [
    "Crime: multiple linear regression "
   ]
  },
  {
   "cell_type": "code",
   "execution_count": null,
   "metadata": {},
   "outputs": [],
   "source": [
    "# Fit the Model\n",
    "reg = LinearRegression().fit(x, y)\n",
    "# Print the Score\n",
    "reg.score(x, y)\n",
    "print(\"Multiple Linear Regression score:\", reg.score(x, y))\n",
    "print(\"Multiple Linear Regression MSE:\", mean_squared_error(y, reg.predict(x)))\n",
    "print(\"Multiple Linear Regression coef:\", reg.coef_)"
   ]
  },
  {
   "cell_type": "markdown",
   "metadata": {},
   "source": [
    "Crime: Lasso regression"
   ]
  },
  {
   "cell_type": "code",
   "execution_count": null,
   "metadata": {},
   "outputs": [],
   "source": [
    "# Scale data \n",
    "scaler = StandardScaler()\n",
    "scaler.fit(x)\n",
    "X = scaler.transform(x)"
   ]
  },
  {
   "cell_type": "code",
   "execution_count": null,
   "metadata": {},
   "outputs": [],
   "source": [
    "# Fit the Model and Print Score\n",
    "lasso = linear_model.Lasso()\n",
    "lasso.fit(X, y)\n",
    "print(\"lasso score:\", lasso.score(X, y))\n",
    "print(\"lasso MSE:\", mean_squared_error(y, lasso.predict(X)))\n",
    "print(\"lasso coef:\", lasso.coef_)"
   ]
  },
  {
   "cell_type": "markdown",
   "metadata": {},
   "source": [
    "Crime: Ridge regression"
   ]
  },
  {
   "cell_type": "code",
   "execution_count": null,
   "metadata": {},
   "outputs": [],
   "source": [
    "# Fit the Model and Print Score\n",
    "ridge = linear_model.Ridge()\n",
    "ridge.fit(X, y)"
   ]
  },
  {
   "cell_type": "code",
   "execution_count": null,
   "metadata": {},
   "outputs": [],
   "source": [
    "print(\"ridge score:\",ridge.score(X, y))\n",
    "print(\"ridge MSE:\", mean_squared_error(y, ridge.predict(X)))\n",
    "print(\"ridge coef:\", ridge.coef_)"
   ]
  },
  {
   "cell_type": "markdown",
   "metadata": {},
   "source": [
    "### Summary for crime data: \n",
    "- Multiple Linear Regression - \n",
    "- Lasso Regression - \n",
    "- Ridge Regression - \n",
    "\n",
    "Thus since we want the smallest MSE of these, _________  performs the best.\n",
    "\n",
    "##### Data set attributes: \n",
    "-"
   ]
  },
  {
   "cell_type": "markdown",
   "metadata": {},
   "source": [
    "# 3. Automobile"
   ]
  },
  {
   "cell_type": "markdown",
   "metadata": {},
   "source": [
    "Automobile: multiple linear regression "
   ]
  },
  {
   "cell_type": "code",
   "execution_count": 112,
   "metadata": {},
   "outputs": [],
   "source": [
    "#process missing values\n",
    "import numpy as np\n",
    "from sklearn.preprocessing import Imputer\n",
    "cars=pd.read_csv('/Users/mirandidallas-fuge/Desktop/imports-85.data')"
   ]
  },
  {
   "cell_type": "code",
   "execution_count": 120,
   "metadata": {},
   "outputs": [],
   "source": [
    "x = cars.iloc[:, 0:-1]\n",
    "y = cars.iloc[:,-1]"
   ]
  },
  {
   "cell_type": "markdown",
   "metadata": {},
   "source": [
    "fix missing values "
   ]
  },
  {
   "cell_type": "code",
   "execution_count": null,
   "metadata": {},
   "outputs": [],
   "source": []
  },
  {
   "cell_type": "code",
   "execution_count": null,
   "metadata": {},
   "outputs": [],
   "source": []
  },
  {
   "cell_type": "code",
   "execution_count": null,
   "metadata": {},
   "outputs": [],
   "source": []
  },
  {
   "cell_type": "code",
   "execution_count": null,
   "metadata": {},
   "outputs": [],
   "source": [
    "# Fit the Model\n",
    "reg = LinearRegression().fit(x, y)\n",
    "# Print the Score\n",
    "reg.score(x, y)\n",
    "print(\"Multiple Linear Regression score:\", reg.score(x, y))\n",
    "print(\"Multiple Linear Regression MSE:\", mean_squared_error(y, reg.predict(x)))\n",
    "print(\"Multiple Linear Regression coef:\", reg.coef_)"
   ]
  },
  {
   "cell_type": "markdown",
   "metadata": {},
   "source": [
    "Automobile: Lasso regression"
   ]
  },
  {
   "cell_type": "code",
   "execution_count": null,
   "metadata": {},
   "outputs": [],
   "source": [
    "# Scale data \n",
    "scaler = StandardScaler()\n",
    "scaler.fit(x)\n",
    "X = scaler.transform(x)"
   ]
  },
  {
   "cell_type": "code",
   "execution_count": null,
   "metadata": {},
   "outputs": [],
   "source": [
    "# Fit the Model and Print Score\n",
    "lasso = linear_model.Lasso()\n",
    "lasso.fit(X, y)\n",
    "print(\"lasso score:\", lasso.score(X, y))\n",
    "print(\"lasso MSE:\", mean_squared_error(y, lasso.predict(X)))\n",
    "print(\"lasso coef:\", lasso.coef_)"
   ]
  },
  {
   "cell_type": "markdown",
   "metadata": {},
   "source": [
    "Automobile: Ridge regression"
   ]
  },
  {
   "cell_type": "code",
   "execution_count": null,
   "metadata": {},
   "outputs": [],
   "source": [
    "# Fit the Model and Print Score\n",
    "ridge = linear_model.Ridge()\n",
    "ridge.fit(X, y)"
   ]
  },
  {
   "cell_type": "code",
   "execution_count": null,
   "metadata": {},
   "outputs": [],
   "source": [
    "print(\"ridge score:\",ridge.score(X, y))\n",
    "print(\"ridge MSE:\", mean_squared_error(y, ridge.predict(X)))\n",
    "print(\"ridge coef:\", ridge.coef_)"
   ]
  },
  {
   "cell_type": "markdown",
   "metadata": {},
   "source": [
    "### Summary for automobile data: \n",
    "- Multiple Linear Regression - \n",
    "- Lasso Regression - \n",
    "- Ridge Regression - \n",
    "\n",
    "Thus since we want the smallest MSE of these, _________  performs the best.\n",
    "\n",
    "##### Data set attributes: \n",
    "-"
   ]
  },
  {
   "cell_type": "markdown",
   "metadata": {},
   "source": [
    "# 4. Breast Cancer "
   ]
  },
  {
   "cell_type": "markdown",
   "metadata": {},
   "source": [
    "Breast Cancer: Multiple Linear Regression "
   ]
  },
  {
   "cell_type": "code",
   "execution_count": 75,
   "metadata": {},
   "outputs": [],
   "source": [
    "Breast_cancer_wisconsin = pd.read_csv('/Users/mirandidallas-fuge/Desktop/breast-cancer-wisconsin.data')"
   ]
  },
  {
   "cell_type": "code",
   "execution_count": 79,
   "metadata": {},
   "outputs": [],
   "source": [
    "x=Breast_cancer_wisconsin.iloc[:,2:]"
   ]
  },
  {
   "cell_type": "code",
   "execution_count": 80,
   "metadata": {},
   "outputs": [],
   "source": [
    "y=Breast_cancer_wisconsin.iloc[:,1]"
   ]
  },
  {
   "cell_type": "markdown",
   "metadata": {},
   "source": [
    "fix missing values"
   ]
  },
  {
   "cell_type": "code",
   "execution_count": null,
   "metadata": {},
   "outputs": [],
   "source": []
  },
  {
   "cell_type": "code",
   "execution_count": null,
   "metadata": {},
   "outputs": [],
   "source": []
  },
  {
   "cell_type": "code",
   "execution_count": null,
   "metadata": {},
   "outputs": [],
   "source": []
  },
  {
   "cell_type": "code",
   "execution_count": null,
   "metadata": {},
   "outputs": [],
   "source": []
  },
  {
   "cell_type": "code",
   "execution_count": 98,
   "metadata": {},
   "outputs": [],
   "source": [
    "from sklearn.preprocessing import Imputer\n",
    "imputer = Imputer(missing_values='NaN', strategy='mean', axis=0)\n",
    "\n",
    "imputer = imputer.fit(x[:,1:5])\n",
    "x[:,1:5] = imputer.transform(x[:, 1:5])\n",
    "\n",
    "imputer = imputer.fit(x)\n",
    "x = imputer.transform(x)"
   ]
  },
  {
   "cell_type": "code",
   "execution_count": null,
   "metadata": {},
   "outputs": [],
   "source": [
    "# Fit the Model\n",
    "reg = LinearRegression().fit(x, y)\n",
    "# Print the Score\n",
    "reg.score(x, y)\n",
    "print(\"Multiple Linear Regression score:\", reg.score(x, y))\n",
    "print(\"Multiple Linear Regression MSE:\", mean_squared_error(y, reg.predict(x)))\n",
    "print(\"Multiple Linear Regression coef:\", reg.coef_)"
   ]
  },
  {
   "cell_type": "markdown",
   "metadata": {},
   "source": [
    "Breast Cancer: Lasso"
   ]
  },
  {
   "cell_type": "code",
   "execution_count": null,
   "metadata": {},
   "outputs": [],
   "source": [
    "# Scale data \n",
    "scaler = StandardScaler()\n",
    "scaler.fit(x)\n",
    "X = scaler.transform(x)"
   ]
  },
  {
   "cell_type": "code",
   "execution_count": null,
   "metadata": {},
   "outputs": [],
   "source": [
    "# Fit the Model and Print Score\n",
    "lasso = linear_model.Lasso()\n",
    "lasso.fit(X, y)\n",
    "print(\"lasso score:\", lasso.score(X, y))\n",
    "print(\"lasso MSE:\", mean_squared_error(y, lasso.predict(X)))\n",
    "print(\"lasso coef:\", lasso.coef_)"
   ]
  },
  {
   "cell_type": "markdown",
   "metadata": {},
   "source": [
    "Breast Cancer: Ridge Regression"
   ]
  },
  {
   "cell_type": "code",
   "execution_count": null,
   "metadata": {},
   "outputs": [],
   "source": [
    "# Fit the Model and Print Score\n",
    "ridge = linear_model.Ridge()\n",
    "ridge.fit(X, y)"
   ]
  },
  {
   "cell_type": "code",
   "execution_count": null,
   "metadata": {},
   "outputs": [],
   "source": [
    "print(\"ridge score:\",ridge.score(X, y))\n",
    "print(\"ridge MSE:\", mean_squared_error(y, ridge.predict(X)))\n",
    "print(\"ridge coef:\", ridge.coef_)"
   ]
  },
  {
   "cell_type": "markdown",
   "metadata": {},
   "source": [
    "### Summary for breast cancer data: \n",
    "- Multiple Linear Regression - \n",
    "- Lasso Regression - \n",
    "- Ridge Regression - \n",
    "\n",
    "Thus since we want the smallest MSE of these, _________  performs the best.\n",
    "\n",
    "##### Data set attributes: \n",
    "-"
   ]
  },
  {
   "cell_type": "markdown",
   "metadata": {},
   "source": [
    "# 5. Parkinsons Data "
   ]
  },
  {
   "cell_type": "code",
   "execution_count": 7,
   "metadata": {},
   "outputs": [],
   "source": [
    "Parkinsons_data = pd.read_csv('/Users/mirandidallas-fuge/Desktop/parkinsons_updrs.data')"
   ]
  },
  {
   "cell_type": "code",
   "execution_count": 134,
   "metadata": {},
   "outputs": [],
   "source": [
    "y = Parkinsons_data['total_UPDRS']"
   ]
  },
  {
   "cell_type": "code",
   "execution_count": 135,
   "metadata": {},
   "outputs": [],
   "source": [
    "x = Parkinsons_data.drop(['total_UPDRS'], axis=1)"
   ]
  },
  {
   "cell_type": "markdown",
   "metadata": {},
   "source": [
    "Parkinsons: Multiple Linear Regression "
   ]
  },
  {
   "cell_type": "code",
   "execution_count": 136,
   "metadata": {},
   "outputs": [
    {
     "name": "stdout",
     "output_type": "stream",
     "text": [
      "Multiple Linear Regression score: 0.9100144198179335\n",
      "Multiple Linear Regression MSE: 10.30124083758564\n",
      "Multiple Linear Regression coef: [ 4.72741397e-02  7.43271063e-02 -1.75884711e+00  2.64879855e-03\n",
      "  1.20660278e+00 -3.56842204e+02  1.77854322e+04  8.27931046e+03\n",
      "  8.22633190e+01 -2.60542785e+03 -5.08475929e+01  6.92595138e-01\n",
      " -1.36712611e+04  1.06861484e+02 -4.25065839e+01  4.55455275e+03\n",
      " -4.26252046e+00 -8.81464413e-02  2.85995358e+00 -3.94378918e+00\n",
      " -3.95847026e+00]\n"
     ]
    }
   ],
   "source": [
    "# Fit the Model\n",
    "reg = LinearRegression().fit(x, y)\n",
    "# Print the Score\n",
    "reg.score(x, y)\n",
    "print(\"Multiple Linear Regression score:\", reg.score(x, y))\n",
    "print(\"Multiple Linear Regression MSE:\", mean_squared_error(y, reg.predict(x)))\n",
    "print(\"Multiple Linear Regression coef:\", reg.coef_)"
   ]
  },
  {
   "cell_type": "markdown",
   "metadata": {},
   "source": [
    "Parkinsons: Lasso Regression "
   ]
  },
  {
   "cell_type": "code",
   "execution_count": 137,
   "metadata": {},
   "outputs": [],
   "source": [
    "# Scale data \n",
    "scaler = StandardScaler()\n",
    "scaler.fit(x)\n",
    "X = scaler.transform(x)"
   ]
  },
  {
   "cell_type": "code",
   "execution_count": 138,
   "metadata": {},
   "outputs": [
    {
     "name": "stdout",
     "output_type": "stream",
     "text": [
      "lasso score: 0.8885117507280906\n",
      "lasso MSE: 12.762792705087232\n",
      "lasso coef: [ 0.          0.         -0.          0.          9.13478072  0.\n",
      "  0.          0.         -0.          0.          0.          0.\n",
      "  0.          0.          0.          0.         -0.         -0.\n",
      "  0.         -0.          0.        ]\n"
     ]
    }
   ],
   "source": [
    "# Fit the Model and Print Score\n",
    "lasso = linear_model.Lasso()\n",
    "lasso.fit(X, y)\n",
    "print(\"lasso score:\", lasso.score(X, y))\n",
    "print(\"lasso MSE:\", mean_squared_error(y, lasso.predict(X)))\n",
    "print(\"lasso coef:\", lasso.coef_)"
   ]
  },
  {
   "cell_type": "markdown",
   "metadata": {},
   "source": [
    "Parkinsons: Ridge Regression "
   ]
  },
  {
   "cell_type": "code",
   "execution_count": 139,
   "metadata": {},
   "outputs": [
    {
     "data": {
      "text/plain": [
       "Ridge(alpha=1.0, copy_X=True, fit_intercept=True, max_iter=None,\n",
       "   normalize=False, random_state=None, solver='auto', tol=0.001)"
      ]
     },
     "execution_count": 139,
     "metadata": {},
     "output_type": "execute_result"
    }
   ],
   "source": [
    "# Fit the Model and Print Score\n",
    "ridge = linear_model.Ridge()\n",
    "ridge.fit(X, y)"
   ]
  },
  {
   "cell_type": "code",
   "execution_count": 140,
   "metadata": {},
   "outputs": [
    {
     "name": "stdout",
     "output_type": "stream",
     "text": [
      "ridge score: 0.909998204912202\n",
      "ridge MSE: 10.303097064425131\n",
      "ridge coef: [ 0.58416848  0.6559799  -0.81844061  0.14182767  9.80558099 -1.96009871\n",
      "  0.63471423  0.76440024  0.29214967  0.65528174 -1.27777731  0.1376577\n",
      " -0.07298332  1.76981864 -0.85086344 -0.02896885 -0.25614925 -0.38072316\n",
      "  0.28682972 -0.28015241 -0.36377144]\n"
     ]
    }
   ],
   "source": [
    "print(\"ridge score:\",ridge.score(X, y))\n",
    "print(\"ridge MSE:\", mean_squared_error(y, ridge.predict(X)))\n",
    "print(\"ridge coef:\", ridge.coef_)"
   ]
  },
  {
   "cell_type": "markdown",
   "metadata": {},
   "source": [
    "### Summary for parkinson data: \n",
    "- Multiple Linear Regression - 10.30124083758564\n",
    "- Lasso Regression - 12.762792705087232\n",
    "- Ridge Regression - 10.303097064425131\n",
    "\n",
    "Thus since we want the smallest MSE of these, linear performs the best but due to the large MSE values non of them perform that well.\n",
    "\n",
    "##### Data set attributes: \n",
    "- small data set"
   ]
  },
  {
   "cell_type": "markdown",
   "metadata": {},
   "source": [
    "# 6. Mercedes-Benz Greener Manufacturing"
   ]
  },
  {
   "cell_type": "code",
   "execution_count": 157,
   "metadata": {},
   "outputs": [],
   "source": [
    "Mercedes = pd.read_csv('/Users/mirandidallas-fuge/Desktop/train_mercedes.csv')\n",
    "y = Mercedes['y']\n",
    "x = Mercedes.drop(['y'], axis=1)"
   ]
  },
  {
   "cell_type": "markdown",
   "metadata": {},
   "source": [
    "fix categorical data"
   ]
  },
  {
   "cell_type": "code",
   "execution_count": null,
   "metadata": {},
   "outputs": [],
   "source": []
  },
  {
   "cell_type": "markdown",
   "metadata": {},
   "source": [
    "Mercedes-Benz Greener Manufacturing: Multiple Linear Regression"
   ]
  },
  {
   "cell_type": "code",
   "execution_count": null,
   "metadata": {},
   "outputs": [],
   "source": [
    "# Fit the Model\n",
    "reg = LinearRegression().fit(x, y)\n",
    "# Print the Score\n",
    "reg.score(x, y)\n",
    "print(\"Multiple Linear Regression score:\", reg.score(x, y))\n",
    "print(\"Multiple Linear Regression MSE:\", mean_squared_error(y, reg.predict(x)))\n",
    "print(\"Multiple Linear Regression coef:\", reg.coef_)"
   ]
  },
  {
   "cell_type": "markdown",
   "metadata": {},
   "source": [
    "Mercedes-Benz Greener Manufacturing: Lasso Regression "
   ]
  },
  {
   "cell_type": "code",
   "execution_count": null,
   "metadata": {},
   "outputs": [],
   "source": [
    "# Scale data \n",
    "scaler = StandardScaler()\n",
    "scaler.fit(x)\n",
    "X = scaler.transform(x)"
   ]
  },
  {
   "cell_type": "code",
   "execution_count": null,
   "metadata": {},
   "outputs": [],
   "source": [
    "# Fit the Model and Print Score\n",
    "lasso = linear_model.Lasso()\n",
    "lasso.fit(X, y)\n",
    "print(\"lasso score:\", lasso.score(X, y))\n",
    "print(\"lasso MSE:\", mean_squared_error(y, lasso.predict(X)))\n",
    "print(\"lasso coef:\", lasso.coef_)"
   ]
  },
  {
   "cell_type": "markdown",
   "metadata": {},
   "source": [
    "Mercedes-Benz Greener Manufacturing: Ridge Regression "
   ]
  },
  {
   "cell_type": "code",
   "execution_count": null,
   "metadata": {},
   "outputs": [],
   "source": [
    "# Fit the Model and Print Score\n",
    "ridge = linear_model.Ridge()\n",
    "ridge.fit(X, y)"
   ]
  },
  {
   "cell_type": "code",
   "execution_count": null,
   "metadata": {},
   "outputs": [],
   "source": [
    "print(\"ridge score:\",ridge.score(X, y))\n",
    "print(\"ridge MSE:\", mean_squared_error(y, ridge.predict(X)))\n",
    "print(\"ridge coef:\", ridge.coef_)"
   ]
  },
  {
   "cell_type": "markdown",
   "metadata": {},
   "source": [
    "### Summary for Mercedes data: \n",
    "- Multiple Linear Regression - \n",
    "- Lasso Regression - \n",
    "- Ridge Regression - \n",
    "\n",
    "Thus since we want the smallest MSE of these, _____ performs the best\n",
    "\n",
    "##### Data set attributes: \n",
    "- "
   ]
  },
  {
   "cell_type": "markdown",
   "metadata": {},
   "source": [
    "# 7. Russian Housing Prices "
   ]
  },
  {
   "cell_type": "code",
   "execution_count": 165,
   "metadata": {},
   "outputs": [],
   "source": [
    "russian = pd.read_csv('/Users/mirandidallas-fuge/Desktop/train_russian.csv')"
   ]
  },
  {
   "cell_type": "code",
   "execution_count": 166,
   "metadata": {},
   "outputs": [],
   "source": [
    "y = russian['price_doc']\n",
    "x = russian.drop(['price_doc'], axis=1)"
   ]
  },
  {
   "cell_type": "markdown",
   "metadata": {},
   "source": [
    "fix missing values "
   ]
  },
  {
   "cell_type": "code",
   "execution_count": null,
   "metadata": {},
   "outputs": [],
   "source": []
  },
  {
   "cell_type": "markdown",
   "metadata": {},
   "source": [
    "Russian: Multiple Linear Regression "
   ]
  },
  {
   "cell_type": "code",
   "execution_count": null,
   "metadata": {},
   "outputs": [],
   "source": [
    "# Fit the Model\n",
    "reg = LinearRegression().fit(x, y)\n",
    "# Print the Score\n",
    "reg.score(x, y)\n",
    "print(\"Multiple Linear Regression score:\", reg.score(x, y))\n",
    "print(\"Multiple Linear Regression MSE:\", mean_squared_error(y, reg.predict(x)))\n",
    "print(\"Multiple Linear Regression coef:\", reg.coef_)"
   ]
  },
  {
   "cell_type": "markdown",
   "metadata": {},
   "source": [
    "Russian: Lasso Regression"
   ]
  },
  {
   "cell_type": "code",
   "execution_count": null,
   "metadata": {},
   "outputs": [],
   "source": [
    "# Scale data \n",
    "scaler = StandardScaler()\n",
    "scaler.fit(x)\n",
    "X = scaler.transform(x)"
   ]
  },
  {
   "cell_type": "code",
   "execution_count": null,
   "metadata": {},
   "outputs": [],
   "source": [
    "# Fit the Model and Print Score\n",
    "lasso = linear_model.Lasso()\n",
    "lasso.fit(X, y)\n",
    "print(\"lasso score:\", lasso.score(X, y))\n",
    "print(\"lasso MSE:\", mean_squared_error(y, lasso.predict(X)))\n",
    "print(\"lasso coef:\", lasso.coef_)"
   ]
  },
  {
   "cell_type": "markdown",
   "metadata": {},
   "source": [
    "Russian: Ridge Regression"
   ]
  },
  {
   "cell_type": "code",
   "execution_count": null,
   "metadata": {},
   "outputs": [],
   "source": [
    "# Fit the Model and Print Score\n",
    "ridge = linear_model.Ridge()\n",
    "ridge.fit(X, y)"
   ]
  },
  {
   "cell_type": "code",
   "execution_count": null,
   "metadata": {},
   "outputs": [],
   "source": [
    "print(\"ridge score:\",ridge.score(X, y))\n",
    "print(\"ridge MSE:\", mean_squared_error(y, ridge.predict(X)))\n",
    "print(\"ridge coef:\", ridge.coef_)"
   ]
  },
  {
   "cell_type": "markdown",
   "metadata": {},
   "source": [
    "### Summary for Russian data: \n",
    "- Multiple Linear Regression - \n",
    "- Lasso Regression - \n",
    "- Ridge Regression - \n",
    "\n",
    "Thus since we want the smallest MSE of these, ________ performs the best \n",
    "\n",
    "##### Data set attributes: \n",
    "- "
   ]
  },
  {
   "cell_type": "markdown",
   "metadata": {},
   "source": [
    "# 8. Solar Flares"
   ]
  },
  {
   "cell_type": "code",
   "execution_count": 185,
   "metadata": {},
   "outputs": [],
   "source": [
    "solar = pd.read_csv('/Users/mirandidallas-fuge/Desktop/flare.data2', sep = \" \")"
   ]
  },
  {
   "cell_type": "code",
   "execution_count": 199,
   "metadata": {},
   "outputs": [],
   "source": [
    "x = solar.iloc[:,1:6]\n",
    "y = solar.iloc[:,7]"
   ]
  },
  {
   "cell_type": "markdown",
   "metadata": {},
   "source": [
    "Solar: Multiple Linear Regression"
   ]
  },
  {
   "cell_type": "code",
   "execution_count": 201,
   "metadata": {},
   "outputs": [
    {
     "name": "stdout",
     "output_type": "stream",
     "text": [
      "Multiple Linear Regression score: 0.07079476730209577\n",
      "Multiple Linear Regression MSE: 0.0851232049849271\n",
      "Multiple Linear Regression coef: [0.06338076 0.02650041 0.02537617 0.42973347 0.        ]\n"
     ]
    }
   ],
   "source": [
    "# Fit the Model\n",
    "reg = LinearRegression().fit(x, y)\n",
    "# Print the Score\n",
    "reg.score(x, y)\n",
    "print(\"Multiple Linear Regression score:\", reg.score(x, y))\n",
    "print(\"Multiple Linear Regression MSE:\", mean_squared_error(y, reg.predict(x)))\n",
    "print(\"Multiple Linear Regression coef:\", reg.coef_)"
   ]
  },
  {
   "cell_type": "markdown",
   "metadata": {},
   "source": [
    "Solar: Lasso Regression"
   ]
  },
  {
   "cell_type": "code",
   "execution_count": 202,
   "metadata": {},
   "outputs": [],
   "source": [
    "# Scale data \n",
    "scaler = StandardScaler()\n",
    "scaler.fit(x)\n",
    "X = scaler.transform(x)"
   ]
  },
  {
   "cell_type": "code",
   "execution_count": 203,
   "metadata": {},
   "outputs": [
    {
     "name": "stdout",
     "output_type": "stream",
     "text": [
      "lasso score: 0.0\n",
      "lasso MSE: 0.0916086156098969\n",
      "lasso coef: [0. 0. 0. 0. 0.]\n"
     ]
    }
   ],
   "source": [
    "# Fit the Model and Print Score\n",
    "lasso = linear_model.Lasso()\n",
    "lasso.fit(X, y)\n",
    "print(\"lasso score:\", lasso.score(X, y))\n",
    "print(\"lasso MSE:\", mean_squared_error(y, lasso.predict(X)))\n",
    "print(\"lasso coef:\", lasso.coef_)"
   ]
  },
  {
   "cell_type": "markdown",
   "metadata": {},
   "source": [
    "Solar: Ridge Regression "
   ]
  },
  {
   "cell_type": "code",
   "execution_count": 204,
   "metadata": {},
   "outputs": [
    {
     "data": {
      "text/plain": [
       "Ridge(alpha=1.0, copy_X=True, fit_intercept=True, max_iter=None,\n",
       "   normalize=False, random_state=None, solver='auto', tol=0.001)"
      ]
     },
     "execution_count": 204,
     "metadata": {},
     "output_type": "execute_result"
    }
   ],
   "source": [
    "# Fit the Model and Print Score\n",
    "ridge = linear_model.Ridge()\n",
    "ridge.fit(X, y)"
   ]
  },
  {
   "cell_type": "code",
   "execution_count": 205,
   "metadata": {},
   "outputs": [
    {
     "name": "stdout",
     "output_type": "stream",
     "text": [
      "ridge score: 0.07079472336923387\n",
      "ridge MSE: 0.08512320900955576\n",
      "ridge coef: [0.02029078 0.013006   0.00838167 0.06745725 0.        ]\n"
     ]
    }
   ],
   "source": [
    "print(\"ridge score:\",ridge.score(X, y))\n",
    "print(\"ridge MSE:\", mean_squared_error(y, ridge.predict(X)))\n",
    "print(\"ridge coef:\", ridge.coef_)"
   ]
  },
  {
   "cell_type": "markdown",
   "metadata": {},
   "source": [
    "### Summary for Solar data: \n",
    "- Multiple Linear Regression - 0.0851232049849271\n",
    "- Lasso Regression - 0.0916086156098969\n",
    "- Ridge Regression - 0.08512320900955576\n",
    "\n",
    "Thus since we want the smallest MSE of these, multiple linear regression performs the best \n",
    "\n",
    "##### Data set attributes: \n",
    "- small data set"
   ]
  },
  {
   "cell_type": "code",
   "execution_count": null,
   "metadata": {},
   "outputs": [],
   "source": []
  }
 ],
 "metadata": {
  "kernelspec": {
   "display_name": "Python 3",
   "language": "python",
   "name": "python3"
  },
  "language_info": {
   "codemirror_mode": {
    "name": "ipython",
    "version": 3
   },
   "file_extension": ".py",
   "mimetype": "text/x-python",
   "name": "python",
   "nbconvert_exporter": "python",
   "pygments_lexer": "ipython3",
   "version": "3.6.5"
  }
 },
 "nbformat": 4,
 "nbformat_minor": 2
}
