{
 "cells": [
  {
   "cell_type": "code",
   "execution_count": 277,
   "metadata": {},
   "outputs": [],
   "source": [
    "# First import packages\n",
    "\n",
    "import seaborn\n",
    "import numpy as np\n",
    "import matplotlib.pyplot as plt\n",
    "import pyreadr\n",
    "import pandas as pd\n",
    "import functools \n",
    "from sklearn.metrics import mean_squared_error\n",
    "from sklearn.model_selection import train_test_split\n",
    "from sklearn.ensemble import RandomForestRegressor\n",
    "from sklearn.preprocessing import Imputer"
   ]
  },
  {
   "cell_type": "markdown",
   "metadata": {},
   "source": [
    "## 1) Admissions Data"
   ]
  },
  {
   "cell_type": "code",
   "execution_count": 278,
   "metadata": {},
   "outputs": [],
   "source": [
    "# load data\n",
    "\n",
    "admit_data = pd.read_csv('/Users/seandeely/Documents/Spring_Quarter_2019/STA141C/Project/Admission_Predict.csv')                                  "
   ]
  },
  {
   "cell_type": "code",
   "execution_count": 279,
   "metadata": {},
   "outputs": [],
   "source": [
    "# split data into and y\n",
    "\n",
    "y_admit = admissions_data['Chance of Admit ']\n",
    "x_admit = admissions_data.iloc[:,1:8]"
   ]
  },
  {
   "cell_type": "code",
   "execution_count": 280,
   "metadata": {},
   "outputs": [],
   "source": [
    "# split data into 3 test and training sets\n",
    "\n",
    "x_admit_train0, x_admit_test0, y_admit_train0, y_admit_test0 = train_test_split(x_admit,\n",
    "    y_admit, test_size = 0.30, random_state = 0)\n",
    "\n",
    "x_admit_train1, x_admit_test1, y_admit_train1, y_admit_test1 = train_test_split(x_admit,\n",
    "    y_admit, test_size = 0.30, random_state = 1)\n",
    "\n",
    "x_admit_train2, x_admit_test2, y_admit_train2, y_admit_test2 = train_test_split(x_admit,\n",
    "    y_admit, test_size = 0.30, random_state = 2)"
   ]
  },
  {
   "cell_type": "markdown",
   "metadata": {},
   "source": [
    "### Random Forest"
   ]
  },
  {
   "cell_type": "code",
   "execution_count": 281,
   "metadata": {},
   "outputs": [],
   "source": [
    "# setup random forest regressors\n",
    "\n",
    "rfr0 = RandomForestRegressor(n_estimators = 100)\n",
    "rfr1 = RandomForestRegressor(n_estimators = 100)\n",
    "rfr2 = RandomForestRegressor(n_estimators = 100)"
   ]
  },
  {
   "cell_type": "code",
   "execution_count": 282,
   "metadata": {},
   "outputs": [
    {
     "data": {
      "text/plain": [
       "RandomForestRegressor(bootstrap=True, criterion='mse', max_depth=None,\n",
       "           max_features='auto', max_leaf_nodes=None,\n",
       "           min_impurity_decrease=0.0, min_impurity_split=None,\n",
       "           min_samples_leaf=1, min_samples_split=2,\n",
       "           min_weight_fraction_leaf=0.0, n_estimators=100, n_jobs=None,\n",
       "           oob_score=False, random_state=None, verbose=0, warm_start=False)"
      ]
     },
     "execution_count": 282,
     "metadata": {},
     "output_type": "execute_result"
    }
   ],
   "source": [
    "# fit the model for all three training sets\n",
    "\n",
    "rfr0.fit(x_admit_train0, y_admit_train0)\n",
    "rfr1.fit(x_admit_train1, y_admit_train1)\n",
    "rfr2.fit(x_admit_train2, y_admit_train2)"
   ]
  },
  {
   "cell_type": "code",
   "execution_count": 283,
   "metadata": {},
   "outputs": [
    {
     "name": "stdout",
     "output_type": "stream",
     "text": [
      "RESULTS First Trial\n",
      "\n",
      "Training score: 0.9671810090836367\n",
      "Testing score: 0.6707947216596681\n",
      "Training MSE: 0.0007087937142857145\n",
      "Testing MSE 0.005665711999999997\n"
     ]
    }
   ],
   "source": [
    "# show results\n",
    "\n",
    "print('RESULTS First Trial')\n",
    "print()\n",
    "print('Training score:', rfr0.score(x_admit_train0, y_admit_train0))\n",
    "print('Testing score:', rfr0.score(x_admit_test0, y_admit_test0))\n",
    "print('Training MSE:', mean_squared_error(y_admit_train0, rfr0.predict(x_admit_train0)))\n",
    "print('Testing MSE',  mean_squared_error(y_admit_test0, rfr0.predict(x_admit_test0)))"
   ]
  },
  {
   "cell_type": "code",
   "execution_count": 284,
   "metadata": {},
   "outputs": [
    {
     "name": "stdout",
     "output_type": "stream",
     "text": [
      "RESULTS Second Trial\n",
      "\n",
      "Training score: 0.962090242697574\n",
      "Testing score: 0.7895298786983787\n",
      "Training MSE: 0.0007265946071428568\n",
      "Testing MSE 0.004803207333333336\n"
     ]
    }
   ],
   "source": [
    "print('RESULTS Second Trial')\n",
    "print()\n",
    "print('Training score:', rfr1.score(x_admit_train1, y_admit_train1))\n",
    "print('Testing score:', rfr1.score(x_admit_test1, y_admit_test1))\n",
    "print('Training MSE:', mean_squared_error(y_admit_train1, rfr1.predict(x_admit_train1)))\n",
    "print('Testing MSE',  mean_squared_error(y_admit_test1, rfr1.predict(x_admit_test1)))"
   ]
  },
  {
   "cell_type": "code",
   "execution_count": 285,
   "metadata": {},
   "outputs": [
    {
     "name": "stdout",
     "output_type": "stream",
     "text": [
      "RESULTS Third Trial\n",
      "\n",
      "Training score: 0.9674591919999803\n",
      "Testing score: 0.7174149334129059\n",
      "Training MSE: 0.0006894815714285707\n",
      "Testing MSE 0.005063875333333332\n"
     ]
    }
   ],
   "source": [
    "print('RESULTS Third Trial')\n",
    "print()\n",
    "print('Training score:', rfr2.score(x_admit_train2, y_admit_train2))\n",
    "print('Testing score:', rfr2.score(x_admit_test2, y_admit_test2))\n",
    "print('Training MSE:', mean_squared_error(y_admit_train2, rfr2.predict(x_admit_train2)))\n",
    "print('Testing MSE',  mean_squared_error(y_admit_test2, rfr2.predict(x_admit_test2)))"
   ]
  },
  {
   "cell_type": "markdown",
   "metadata": {},
   "source": [
    "## 2) Crime Data"
   ]
  },
  {
   "cell_type": "code",
   "execution_count": 286,
   "metadata": {},
   "outputs": [],
   "source": [
    "# load data\n",
    "\n",
    "crime_data = pd.read_csv('/Users/seandeely/Documents/Spring_Quarter_2019/STA141C/Project/Violent_Crime_pred.csv')"
   ]
  },
  {
   "cell_type": "code",
   "execution_count": 287,
   "metadata": {},
   "outputs": [],
   "source": [
    "# split and clean data\n",
    "\n",
    "x_crime = crime_data.iloc[:,2:-1]\n",
    "y_crime = crime_data['target']\n",
    "\n",
    "x_crime.iloc[:,np.sort(x.isna().sum())==0]\n",
    "\n",
    "x_crime = x_crime.dropna(axis='columns')"
   ]
  },
  {
   "cell_type": "code",
   "execution_count": 288,
   "metadata": {},
   "outputs": [],
   "source": [
    "# split data into 3 test and training sets\n",
    "\n",
    "x_crime_train0, x_crime_test0, y_crime_train0, y_crime_test0 = train_test_split(x_crime,\n",
    "    y_crime, test_size = 0.30, random_state = 0)\n",
    "\n",
    "x_crime_train1, x_crime_test1, y_crime_train1, y_crime_test1 = train_test_split(x_crime,\n",
    "    y_crime, test_size = 0.30, random_state = 1)\n",
    "\n",
    "x_crime_train2, x_crime_test2, y_crime_train2, y_crime_test2 = train_test_split(x_crime,\n",
    "    y_crime, test_size = 0.30, random_state = 2)"
   ]
  },
  {
   "cell_type": "markdown",
   "metadata": {},
   "source": [
    "### Random Forest"
   ]
  },
  {
   "cell_type": "code",
   "execution_count": 289,
   "metadata": {},
   "outputs": [],
   "source": [
    "# setup random forest regressors\n",
    "\n",
    "rfr0 = RandomForestRegressor(n_estimators = 100)\n",
    "rfr1 = RandomForestRegressor(n_estimators = 100)\n",
    "rfr2 = RandomForestRegressor(n_estimators = 100)"
   ]
  },
  {
   "cell_type": "code",
   "execution_count": 290,
   "metadata": {},
   "outputs": [
    {
     "data": {
      "text/plain": [
       "RandomForestRegressor(bootstrap=True, criterion='mse', max_depth=None,\n",
       "           max_features='auto', max_leaf_nodes=None,\n",
       "           min_impurity_decrease=0.0, min_impurity_split=None,\n",
       "           min_samples_leaf=1, min_samples_split=2,\n",
       "           min_weight_fraction_leaf=0.0, n_estimators=100, n_jobs=None,\n",
       "           oob_score=False, random_state=None, verbose=0, warm_start=False)"
      ]
     },
     "execution_count": 290,
     "metadata": {},
     "output_type": "execute_result"
    }
   ],
   "source": [
    "# fit the models\n",
    "\n",
    "rfr0.fit(x_crime_train0, y_crime_train0)\n",
    "rfr1.fit(x_crime_train1, y_crime_train1)\n",
    "rfr2.fit(x_crime_train2, y_crime_train2)"
   ]
  },
  {
   "cell_type": "code",
   "execution_count": 291,
   "metadata": {},
   "outputs": [
    {
     "name": "stdout",
     "output_type": "stream",
     "text": [
      "RESULTS First Trial\n",
      "\n",
      "Training score: 0.9492154782861237\n",
      "Testing score: 0.6328619660632688\n",
      "Training MSE: 18917.74231713482\n",
      "Testing MSE 143093.07015936796\n"
     ]
    }
   ],
   "source": [
    "# show results\n",
    "\n",
    "print('RESULTS First Trial')\n",
    "print()\n",
    "print('Training score:', rfr0.score(x_crime_train0, y_crime_train0))\n",
    "print('Testing score:', rfr0.score(x_crime_test0, y_crime_test0))\n",
    "print('Training MSE:', mean_squared_error(y_crime_train0, rfr0.predict(x_crime_train0)))\n",
    "print('Testing MSE',  mean_squared_error(y_crime_test0, rfr0.predict(x_crime_test0)))"
   ]
  },
  {
   "cell_type": "code",
   "execution_count": 292,
   "metadata": {},
   "outputs": [
    {
     "name": "stdout",
     "output_type": "stream",
     "text": [
      "RESULTS Second Trial\n",
      "\n",
      "Training score: 0.9497464006540621\n",
      "Testing score: 0.6220942038495314\n",
      "Training MSE: 18727.51317558342\n",
      "Testing MSE 147258.6378294905\n"
     ]
    }
   ],
   "source": [
    "# show results\n",
    "\n",
    "print('RESULTS Second Trial')\n",
    "print()\n",
    "print('Training score:', rfr1.score(x_crime_train1, y_crime_train1))\n",
    "print('Testing score:', rfr1.score(x_crime_test1, y_crime_test1))\n",
    "print('Training MSE:', mean_squared_error(y_crime_train1, rfr1.predict(x_crime_train1)))\n",
    "print('Testing MSE',  mean_squared_error(y_crime_test1, rfr1.predict(x_crime_test1)))"
   ]
  },
  {
   "cell_type": "code",
   "execution_count": 293,
   "metadata": {},
   "outputs": [
    {
     "name": "stdout",
     "output_type": "stream",
     "text": [
      "RESULTS Third Trial\n",
      "\n",
      "Training score: 0.9496448270318226\n",
      "Testing score: 0.6110492694805438\n",
      "Training MSE: 19059.272964373104\n",
      "Testing MSE 146225.37319245015\n"
     ]
    }
   ],
   "source": [
    "# show results\n",
    "\n",
    "print('RESULTS Third Trial')\n",
    "print()\n",
    "print('Training score:', rfr2.score(x_crime_train2, y_crime_train2))\n",
    "print('Testing score:', rfr2.score(x_crime_test2, y_crime_test2))\n",
    "print('Training MSE:', mean_squared_error(y_crime_train2, rfr2.predict(x_crime_train2)))\n",
    "print('Testing MSE',  mean_squared_error(y_crime_test2, rfr2.predict(x_crime_test2)))"
   ]
  },
  {
   "cell_type": "markdown",
   "metadata": {},
   "source": [
    "## 3) Automobile Data"
   ]
  },
  {
   "cell_type": "code",
   "execution_count": 294,
   "metadata": {},
   "outputs": [],
   "source": [
    "# load data\n",
    "\n",
    "auto_data = pd.read_csv('/Users/seandeely/Documents/Spring_Quarter_2019/STA141C/Project/automobile_price.csv')"
   ]
  },
  {
   "cell_type": "code",
   "execution_count": 295,
   "metadata": {},
   "outputs": [
    {
     "name": "stderr",
     "output_type": "stream",
     "text": [
      "/Users/seandeely/anaconda3/lib/python3.7/site-packages/ipykernel_launcher.py:4: SettingWithCopyWarning: \n",
      "A value is trying to be set on a copy of a slice from a DataFrame\n",
      "\n",
      "See the caveats in the documentation: http://pandas.pydata.org/pandas-docs/stable/indexing.html#indexing-view-versus-copy\n",
      "  after removing the cwd from sys.path.\n",
      "/Users/seandeely/anaconda3/lib/python3.7/site-packages/sklearn/utils/deprecation.py:58: DeprecationWarning: Class Imputer is deprecated; Imputer was deprecated in version 0.20 and will be removed in 0.22. Import impute.SimpleImputer from sklearn instead.\n",
      "  warnings.warn(msg, category=DeprecationWarning)\n"
     ]
    }
   ],
   "source": [
    "# split and clean data\n",
    "\n",
    "auto_data = auto_data.replace('?', np.nan).iloc[:,3:] # replace ? with NaN\n",
    "auto_data['X6'][auto_data['X6'].isna()] = 'four' # mode is four, assign four to the missing value\n",
    "impute = Imputer(strategy = 'mean') # use column mean to impute missing value\n",
    "auto_data[['X19','X20','X22','X23']] = impute.fit_transform(auto_data[['X19','X20','X22','X23']])\n",
    "pd.isna(auto_data).sum() # now no missing values\n",
    "x_auto = auto_data.iloc[:,0:-1]\n",
    "y_auto = auto_data.iloc[:,-1]\n",
    "\n",
    "# get categorical column\n",
    "\n",
    "cate_col = list(x_auto.columns[x_auto.dtypes == 'object'])\n",
    "x_auto = pd.get_dummies(x_auto, columns = cate_col) # create dummy variables for the categorical var\n"
   ]
  },
  {
   "cell_type": "code",
   "execution_count": 296,
   "metadata": {},
   "outputs": [],
   "source": [
    "# split data into 3 test and training sets\n",
    "\n",
    "x_auto_train0, x_auto_test0, y_auto_train0, y_auto_test0 = train_test_split(x_auto,\n",
    "    y_auto, test_size = 0.30, random_state = 0)\n",
    "\n",
    "x_auto_train1, x_auto_test1, y_auto_train1, y_auto_test1 = train_test_split(x_auto,\n",
    "    y_auto, test_size = 0.30, random_state = 1)\n",
    "\n",
    "x_auto_train2, x_auto_test2, y_auto_train2, y_auto_test2 = train_test_split(x_auto,\n",
    "    y_auto, test_size = 0.30, random_state = 2)"
   ]
  },
  {
   "cell_type": "markdown",
   "metadata": {},
   "source": [
    "### Random Forest"
   ]
  },
  {
   "cell_type": "code",
   "execution_count": 297,
   "metadata": {},
   "outputs": [],
   "source": [
    "# setup random forest regressors\n",
    "\n",
    "rfr0 = RandomForestRegressor(n_estimators = 100)\n",
    "rfr1 = RandomForestRegressor(n_estimators = 100)\n",
    "rfr2 = RandomForestRegressor(n_estimators = 100)"
   ]
  },
  {
   "cell_type": "code",
   "execution_count": 298,
   "metadata": {},
   "outputs": [
    {
     "data": {
      "text/plain": [
       "RandomForestRegressor(bootstrap=True, criterion='mse', max_depth=None,\n",
       "           max_features='auto', max_leaf_nodes=None,\n",
       "           min_impurity_decrease=0.0, min_impurity_split=None,\n",
       "           min_samples_leaf=1, min_samples_split=2,\n",
       "           min_weight_fraction_leaf=0.0, n_estimators=100, n_jobs=None,\n",
       "           oob_score=False, random_state=None, verbose=0, warm_start=False)"
      ]
     },
     "execution_count": 298,
     "metadata": {},
     "output_type": "execute_result"
    }
   ],
   "source": [
    "# fit the models\n",
    "\n",
    "rfr0.fit(x_auto_train0, y_auto_train0)\n",
    "rfr1.fit(x_auto_train1, y_auto_train1)\n",
    "rfr2.fit(x_auto_train2, y_auto_train2)"
   ]
  },
  {
   "cell_type": "code",
   "execution_count": 299,
   "metadata": {},
   "outputs": [
    {
     "name": "stdout",
     "output_type": "stream",
     "text": [
      "RESULTS First Trial\n",
      "\n",
      "Training score: 0.9858515594129023\n",
      "Testing score: 0.89334179164415\n",
      "Training MSE: 730977.9269399601\n",
      "Testing MSE 9139884.351885986\n"
     ]
    }
   ],
   "source": [
    "# show results\n",
    "\n",
    "print('RESULTS First Trial')\n",
    "print()\n",
    "print('Training score:', rfr0.score(x_auto_train0, y_auto_train0))\n",
    "print('Testing score:', rfr0.score(x_auto_test0, y_auto_test0))\n",
    "print('Training MSE:', mean_squared_error(y_auto_train0, rfr0.predict(x_auto_train0)))\n",
    "print('Testing MSE',  mean_squared_error(y_auto_test0, rfr0.predict(x_auto_test0)))"
   ]
  },
  {
   "cell_type": "code",
   "execution_count": 300,
   "metadata": {},
   "outputs": [
    {
     "name": "stdout",
     "output_type": "stream",
     "text": [
      "RESULTS Second Trial\n",
      "\n",
      "Training score: 0.9904020938958945\n",
      "Testing score: 0.8986764068156954\n",
      "Training MSE: 656460.2524619194\n",
      "Testing MSE 5029194.499610316\n"
     ]
    }
   ],
   "source": [
    "# show results\n",
    "\n",
    "print('RESULTS Second Trial')\n",
    "print()\n",
    "print('Training score:', rfr1.score(x_auto_train1, y_auto_train1))\n",
    "print('Testing score:', rfr1.score(x_auto_test1, y_auto_test1))\n",
    "print('Training MSE:', mean_squared_error(y_auto_train1, rfr1.predict(x_auto_train1)))\n",
    "print('Testing MSE',  mean_squared_error(y_auto_test1, rfr1.predict(x_auto_test1)))"
   ]
  },
  {
   "cell_type": "code",
   "execution_count": 301,
   "metadata": {},
   "outputs": [
    {
     "name": "stdout",
     "output_type": "stream",
     "text": [
      "RESULTS Third Trial\n",
      "\n",
      "Training score: 0.9896022474496484\n",
      "Testing score: 0.8547676930443577\n",
      "Training MSE: 627151.4782883042\n",
      "Testing MSE 9569044.515407786\n"
     ]
    }
   ],
   "source": [
    "# show results\n",
    "\n",
    "print('RESULTS Third Trial')\n",
    "print()\n",
    "print('Training score:', rfr2.score(x_auto_train2, y_auto_train2))\n",
    "print('Testing score:', rfr2.score(x_auto_test2, y_auto_test2))\n",
    "print('Training MSE:', mean_squared_error(y_auto_train2, rfr2.predict(x_auto_train2)))\n",
    "print('Testing MSE',  mean_squared_error(y_auto_test2, rfr2.predict(x_auto_test2)))"
   ]
  },
  {
   "cell_type": "markdown",
   "metadata": {},
   "source": [
    "## 4) Forest Fire Data"
   ]
  },
  {
   "cell_type": "code",
   "execution_count": 180,
   "metadata": {},
   "outputs": [],
   "source": [
    "# load data\n",
    "\n",
    "fire_data = pd.read_csv('/Users/seandeely/Documents/Spring_Quarter_2019/STA141C/Project/')"
   ]
  },
  {
   "cell_type": "code",
   "execution_count": 181,
   "metadata": {},
   "outputs": [
    {
     "name": "stderr",
     "output_type": "stream",
     "text": [
      "/Users/seandeely/anaconda3/lib/python3.7/site-packages/sklearn/utils/deprecation.py:58: DeprecationWarning: Class Imputer is deprecated; Imputer was deprecated in version 0.20 and will be removed in 0.22. Import impute.SimpleImputer from sklearn instead.\n",
      "  warnings.warn(msg, category=DeprecationWarning)\n"
     ]
    }
   ],
   "source": []
  },
  {
   "cell_type": "code",
   "execution_count": 182,
   "metadata": {},
   "outputs": [],
   "source": []
  },
  {
   "cell_type": "markdown",
   "metadata": {},
   "source": [
    "### Random Forest"
   ]
  },
  {
   "cell_type": "code",
   "execution_count": 142,
   "metadata": {},
   "outputs": [],
   "source": [
    "# setup random forest regressor\n",
    "\n",
    "rfr = RandomForestRegressor(n_estimators = 100)"
   ]
  },
  {
   "cell_type": "code",
   "execution_count": 143,
   "metadata": {},
   "outputs": [
    {
     "data": {
      "text/plain": [
       "RandomForestRegressor(bootstrap=True, criterion='mse', max_depth=None,\n",
       "           max_features='auto', max_leaf_nodes=None,\n",
       "           min_impurity_decrease=0.0, min_impurity_split=None,\n",
       "           min_samples_leaf=1, min_samples_split=2,\n",
       "           min_weight_fraction_leaf=0.0, n_estimators=100, n_jobs=None,\n",
       "           oob_score=False, random_state=None, verbose=0, warm_start=False)"
      ]
     },
     "execution_count": 143,
     "metadata": {},
     "output_type": "execute_result"
    }
   ],
   "source": [
    "# fit the model\n",
    "\n"
   ]
  },
  {
   "cell_type": "code",
   "execution_count": 144,
   "metadata": {},
   "outputs": [
    {
     "name": "stdout",
     "output_type": "stream",
     "text": [
      "RESULTS\n",
      "\n",
      "Training score: 0.836670384722332\n",
      "Testing score: -0.011627309748838854\n",
      "Training MSE: 0.000655679178149532\n",
      "Testing MSE 0.003403262648227838\n"
     ]
    }
   ],
   "source": [
    "# show results\n",
    "\n"
   ]
  },
  {
   "cell_type": "markdown",
   "metadata": {},
   "source": [
    "## 5) Parkinsons Data "
   ]
  },
  {
   "cell_type": "code",
   "execution_count": 302,
   "metadata": {},
   "outputs": [],
   "source": [
    "# load data\n",
    "\n",
    "parkinsons_data = pd.read_csv('/Users/seandeely/Documents/Spring_Quarter_2019/STA141C/Project/parkinsons_updrs.csv')"
   ]
  },
  {
   "cell_type": "code",
   "execution_count": 303,
   "metadata": {},
   "outputs": [],
   "source": [
    "# separate and clean data\n",
    "\n",
    "y_parkinsons = parkinsons_data['total_UPDRS']\n",
    "x_parkinsons = parkinsons_data.drop(['total_UPDRS', 'motor_UPDRS'], axis=1)"
   ]
  },
  {
   "cell_type": "code",
   "execution_count": 304,
   "metadata": {},
   "outputs": [],
   "source": [
    "# split data into 3 test and training sets\n",
    "\n",
    "x_parkinsons_train0, x_parkinsons_test0, y_parkinsons_train0, y_parkinsons_test0 = train_test_split(x_parkinsons,\n",
    "    y_parkinsons, test_size = 0.30, random_state = 0)\n",
    "\n",
    "x_parkinsons_train1, x_parkinsons_test1, y_parkinsons_train1, y_parkinsons_test1 = train_test_split(x_parkinsons,\n",
    "    y_parkinsons, test_size = 0.30, random_state = 1)\n",
    "\n",
    "x_parkinsons_train2, x_parkinsons_test2, y_parkinsons_train2, y_parkinsons_test2 = train_test_split(x_parkinsons,\n",
    "    y_parkinsons, test_size = 0.30, random_state = 2)"
   ]
  },
  {
   "cell_type": "markdown",
   "metadata": {},
   "source": [
    "### Random Forest"
   ]
  },
  {
   "cell_type": "code",
   "execution_count": 305,
   "metadata": {},
   "outputs": [],
   "source": [
    "# set up random forest regressor\n",
    "\n",
    "rfr0 = RandomForestRegressor(n_estimators = 100)\n",
    "rfr1 = RandomForestRegressor(n_estimators = 100)\n",
    "rfr2 = RandomForestRegressor(n_estimators = 100)"
   ]
  },
  {
   "cell_type": "code",
   "execution_count": 306,
   "metadata": {},
   "outputs": [
    {
     "data": {
      "text/plain": [
       "RandomForestRegressor(bootstrap=True, criterion='mse', max_depth=None,\n",
       "           max_features='auto', max_leaf_nodes=None,\n",
       "           min_impurity_decrease=0.0, min_impurity_split=None,\n",
       "           min_samples_leaf=1, min_samples_split=2,\n",
       "           min_weight_fraction_leaf=0.0, n_estimators=100, n_jobs=None,\n",
       "           oob_score=False, random_state=None, verbose=0, warm_start=False)"
      ]
     },
     "execution_count": 306,
     "metadata": {},
     "output_type": "execute_result"
    }
   ],
   "source": [
    "# fit the model\n",
    "\n",
    "rfr0.fit(x_parkinsons_train0, y_parkinsons_train0)\n",
    "rfr1.fit(x_parkinsons_train1, y_parkinsons_train1)\n",
    "rfr2.fit(x_parkinsons_train2, y_parkinsons_train2)"
   ]
  },
  {
   "cell_type": "code",
   "execution_count": 307,
   "metadata": {},
   "outputs": [
    {
     "name": "stdout",
     "output_type": "stream",
     "text": [
      "RESULTS First Trial\n",
      "\n",
      "Training score: 0.999668718518272\n",
      "Testing score: 0.9973930165913937\n",
      "Training MSE: 0.03851618286446125\n",
      "Testing MSE 0.2874605341988534\n"
     ]
    }
   ],
   "source": [
    "# show results\n",
    "\n",
    "print('RESULTS First Trial')\n",
    "print()\n",
    "print('Training score:', rfr0.score(x_parkinsons_train0, y_parkinsons_train0))\n",
    "print('Testing score:', rfr0.score(x_parkinsons_test0, y_parkinsons_test0))\n",
    "print('Training MSE:', mean_squared_error(y_parkinsons_train0, rfr0.predict(x_parkinsons_train0)))\n",
    "print('Testing MSE',  mean_squared_error(y_parkinsons_test0, rfr0.predict(x_parkinsons_test0)))"
   ]
  },
  {
   "cell_type": "code",
   "execution_count": 308,
   "metadata": {},
   "outputs": [
    {
     "name": "stdout",
     "output_type": "stream",
     "text": [
      "RESULTS Second Trial\n",
      "\n",
      "Training score: 0.9996787609847358\n",
      "Testing score: 0.998534036613565\n",
      "Training MSE: 0.03625002925751551\n",
      "Testing MSE 0.17339912542614672\n"
     ]
    }
   ],
   "source": [
    "# show results\n",
    "\n",
    "print('RESULTS Second Trial')\n",
    "print()\n",
    "print('Training score:', rfr1.score(x_parkinsons_train1, y_parkinsons_train1))\n",
    "print('Testing score:', rfr1.score(x_parkinsons_test1, y_parkinsons_test1))\n",
    "print('Training MSE:', mean_squared_error(y_parkinsons_train1, rfr1.predict(x_parkinsons_train1)))\n",
    "print('Testing MSE',  mean_squared_error(y_parkinsons_test1, rfr1.predict(x_parkinsons_test1)))"
   ]
  },
  {
   "cell_type": "code",
   "execution_count": 309,
   "metadata": {},
   "outputs": [
    {
     "name": "stdout",
     "output_type": "stream",
     "text": [
      "RESULTS Third Trial\n",
      "\n",
      "Training score: 0.9996569408653002\n",
      "Testing score: 0.9980961719847051\n",
      "Training MSE: 0.03958140122096109\n",
      "Testing MSE 0.21381352157029893\n"
     ]
    }
   ],
   "source": [
    "# show results\n",
    "\n",
    "print('RESULTS Third Trial')\n",
    "print()\n",
    "print('Training score:', rfr2.score(x_parkinsons_train2, y_parkinsons_train2))\n",
    "print('Testing score:', rfr2.score(x_parkinsons_test2, y_parkinsons_test2))\n",
    "print('Training MSE:', mean_squared_error(y_parkinsons_train2, rfr2.predict(x_parkinsons_train2)))\n",
    "print('Testing MSE',  mean_squared_error(y_parkinsons_test2, rfr2.predict(x_parkinsons_test2)))"
   ]
  },
  {
   "cell_type": "markdown",
   "metadata": {},
   "source": [
    "## 6) Mercedes Data"
   ]
  },
  {
   "cell_type": "code",
   "execution_count": 322,
   "metadata": {},
   "outputs": [],
   "source": [
    "# load data\n",
    "\n",
    "mercedes_data = pd.read_csv('/Users/seandeely/Documents/Spring_Quarter_2019/STA141C/Project/mercedes_data.csv')"
   ]
  },
  {
   "cell_type": "code",
   "execution_count": 323,
   "metadata": {},
   "outputs": [],
   "source": [
    "# clean and split data\n",
    "\n",
    "x_mercedes = mercedes_data.drop(['y'], axis = 1)\n",
    "y_mercedes = mercedes_data['y']\n",
    "\n",
    "cate_col = list(x_mercedes.columns[x_mercedes.dtypes == 'object'])\n",
    "x_mercedes = pd.get_dummies(x_mercedes, columns = cate_col) # change categorical variables to dummy var"
   ]
  },
  {
   "cell_type": "code",
   "execution_count": 324,
   "metadata": {},
   "outputs": [],
   "source": [
    "# split into 3 test and train sets\n",
    "\n",
    "x_mercedes_train0, x_mercedes_test0, y_mercedes_train0, y_mercedes_test0 = train_test_split(x_mercedes,\n",
    "    y_mercedes, test_size = 0.30, random_state = 0)\n",
    "\n",
    "x_mercedes_train1, x_mercedes_test1, y_mercedes_train1, y_mercedes_test1 = train_test_split(x_mercedes,\n",
    "    y_mercedes, test_size = 0.30, random_state = 1)\n",
    "\n",
    "x_mercedes_train2, x_mercedes_test2, y_mercedes_train2, y_mercedes_test2 = train_test_split(x_mercedes,\n",
    "    y_mercedes, test_size = 0.30, random_state = 2)"
   ]
  },
  {
   "cell_type": "markdown",
   "metadata": {},
   "source": [
    "### Random Forest"
   ]
  },
  {
   "cell_type": "code",
   "execution_count": 325,
   "metadata": {},
   "outputs": [],
   "source": [
    "# setup random forest regressor\n",
    "\n",
    "rfr0 = RandomForestRegressor(n_estimators = 100)\n",
    "rfr1 = RandomForestRegressor(n_estimators = 100)\n",
    "rfr2 = RandomForestRegressor(n_estimators = 100)"
   ]
  },
  {
   "cell_type": "code",
   "execution_count": 326,
   "metadata": {},
   "outputs": [
    {
     "data": {
      "text/plain": [
       "RandomForestRegressor(bootstrap=True, criterion='mse', max_depth=None,\n",
       "           max_features='auto', max_leaf_nodes=None,\n",
       "           min_impurity_decrease=0.0, min_impurity_split=None,\n",
       "           min_samples_leaf=1, min_samples_split=2,\n",
       "           min_weight_fraction_leaf=0.0, n_estimators=100, n_jobs=None,\n",
       "           oob_score=False, random_state=None, verbose=0, warm_start=False)"
      ]
     },
     "execution_count": 326,
     "metadata": {},
     "output_type": "execute_result"
    }
   ],
   "source": [
    "# fit the model\n",
    "\n",
    "rfr0.fit(x_mercedes_train0, y_mercedes_train0)\n",
    "rfr1.fit(x_mercedes_train1, y_mercedes_train1)\n",
    "rfr2.fit(x_mercedes_train2, y_mercedes_train2)"
   ]
  },
  {
   "cell_type": "code",
   "execution_count": 327,
   "metadata": {},
   "outputs": [
    {
     "name": "stdout",
     "output_type": "stream",
     "text": [
      "RESULTS First Trial\n",
      "\n",
      "Training score: 0.9340853872482707\n",
      "Testing score: 0.47024708073954224\n",
      "Training MSE: 10.237266266978946\n",
      "Testing MSE 91.60272281831354\n"
     ]
    }
   ],
   "source": [
    "# show results\n",
    "\n",
    "print('RESULTS First Trial')\n",
    "print()\n",
    "print('Training score:', rfr0.score(x_mercedes_train0, y_mercedes_train0))\n",
    "print('Testing score:', rfr0.score(x_mercedes_test0, y_mercedes_test0))\n",
    "print('Training MSE:', mean_squared_error(y_mercedes_train0, rfr0.predict(x_mercedes_train0)))\n",
    "print('Testing MSE',  mean_squared_error(y_mercedes_test0, rfr0.predict(x_mercedes_test0)))"
   ]
  },
  {
   "cell_type": "code",
   "execution_count": 328,
   "metadata": {},
   "outputs": [
    {
     "name": "stdout",
     "output_type": "stream",
     "text": [
      "RESULTS Second Trial\n",
      "\n",
      "Training score: 0.9284306296679422\n",
      "Testing score: 0.5166188963933678\n",
      "Training MSE: 11.835161080689073\n",
      "Testing MSE 72.4390564107443\n"
     ]
    }
   ],
   "source": [
    "# show results\n",
    "\n",
    "print('RESULTS Second Trial')\n",
    "print()\n",
    "print('Training score:', rfr1.score(x_mercedes_train1, y_mercedes_train1))\n",
    "print('Testing score:', rfr1.score(x_mercedes_test1, y_mercedes_test1))\n",
    "print('Training MSE:', mean_squared_error(y_mercedes_train1, rfr1.predict(x_mercedes_train1)))\n",
    "print('Testing MSE',  mean_squared_error(y_mercedes_test1, rfr1.predict(x_mercedes_test1)))"
   ]
  },
  {
   "cell_type": "code",
   "execution_count": 329,
   "metadata": {},
   "outputs": [
    {
     "name": "stdout",
     "output_type": "stream",
     "text": [
      "RESULTS Third Trial\n",
      "\n",
      "Training score: 0.9293375370291639\n",
      "Testing score: 0.5445782832718087\n",
      "Training MSE: 11.369798957817377\n",
      "Testing MSE 73.01165375981788\n"
     ]
    }
   ],
   "source": [
    "# show results\n",
    "\n",
    "print('RESULTS Third Trial')\n",
    "print()\n",
    "print('Training score:', rfr2.score(x_mercedes_train2, y_mercedes_train2))\n",
    "print('Testing score:', rfr2.score(x_mercedes_test2, y_mercedes_test2))\n",
    "print('Training MSE:', mean_squared_error(y_mercedes_train2, rfr2.predict(x_mercedes_train2)))\n",
    "print('Testing MSE',  mean_squared_error(y_mercedes_test2, rfr2.predict(x_mercedes_test2)))"
   ]
  },
  {
   "cell_type": "markdown",
   "metadata": {},
   "source": [
    "## 7) Song Year Prediction Data"
   ]
  },
  {
   "cell_type": "code",
   "execution_count": 171,
   "metadata": {},
   "outputs": [],
   "source": [
    "# load the data\n",
    "\n",
    "song_data = pd.read_csv('/Users/seandeely/Documents/Spring_Quarter_2019/STA141C/Project/YearPredictionMSD.csv')"
   ]
  },
  {
   "cell_type": "code",
   "execution_count": 172,
   "metadata": {},
   "outputs": [],
   "source": [
    "# clean and sperate the data\n",
    "\n",
    "x_song = song_data.iloc[:,1:]\n",
    "y_song = song_data.iloc[:, 0]"
   ]
  },
  {
   "cell_type": "code",
   "execution_count": 173,
   "metadata": {},
   "outputs": [],
   "source": [
    "# split into test and train\n",
    "\n",
    "x_song_train, x_song_test, y_song_train, y_song_test = train_test_split(x_song,\n",
    "    y_song, test_size = 0.30, random_state = 0)"
   ]
  },
  {
   "cell_type": "markdown",
   "metadata": {},
   "source": [
    "### Random Forest"
   ]
  },
  {
   "cell_type": "code",
   "execution_count": 174,
   "metadata": {},
   "outputs": [],
   "source": [
    "# setup random forest regressor\n",
    "\n",
    "rfr = RandomForestRegressor(n_estimators = 100)"
   ]
  },
  {
   "cell_type": "code",
   "execution_count": 175,
   "metadata": {},
   "outputs": [
    {
     "data": {
      "text/plain": [
       "RandomForestRegressor(bootstrap=True, criterion='mse', max_depth=None,\n",
       "           max_features='auto', max_leaf_nodes=None,\n",
       "           min_impurity_decrease=0.0, min_impurity_split=None,\n",
       "           min_samples_leaf=1, min_samples_split=2,\n",
       "           min_weight_fraction_leaf=0.0, n_estimators=100, n_jobs=None,\n",
       "           oob_score=False, random_state=None, verbose=0, warm_start=False)"
      ]
     },
     "execution_count": 175,
     "metadata": {},
     "output_type": "execute_result"
    }
   ],
   "source": [
    "# fit the model\n",
    "\n",
    "rfr.fit(x_song_train, y_song_train)"
   ]
  },
  {
   "cell_type": "code",
   "execution_count": 177,
   "metadata": {},
   "outputs": [
    {
     "name": "stdout",
     "output_type": "stream",
     "text": [
      "RESULTS\n",
      "\n",
      "Training score: 0.9017017888696248\n",
      "Testing score: 0.3009849069505902\n",
      "Training MSE: 11.703180940597159\n",
      "Testing MSE 84.22433410933822\n"
     ]
    }
   ],
   "source": [
    "# show results\n",
    "\n",
    "print('RESULTS')\n",
    "print()\n",
    "print('Training score:', rfr.score(x_song_train, y_song_train))\n",
    "print('Testing score:', rfr.score(x_song_test, y_song_test))\n",
    "print('Training MSE:', mean_squared_error(y_song_train, rfr.predict(x_song_train)))\n",
    "print('Testing MSE',  mean_squared_error(y_song_test, rfr.predict(x_song_test)))"
   ]
  },
  {
   "cell_type": "markdown",
   "metadata": {},
   "source": [
    "## 8) Solar Flare Data"
   ]
  },
  {
   "cell_type": "code",
   "execution_count": 210,
   "metadata": {},
   "outputs": [],
   "source": [
    "# load the data\n",
    "\n",
    "flare_data = pd.read_csv('/Users/seandeely/Documents/Spring_Quarter_2019/STA141C/Project/flare.data2', sep = ' ')"
   ]
  },
  {
   "cell_type": "code",
   "execution_count": 211,
   "metadata": {},
   "outputs": [],
   "source": [
    "# divide and clean data\n",
    "\n",
    "x_flare = flare_data.iloc[:,1:6]\n",
    "y_flare = flare_data.iloc[:,7]"
   ]
  },
  {
   "cell_type": "code",
   "execution_count": 212,
   "metadata": {},
   "outputs": [],
   "source": [
    "# seperate into test and training\n",
    "\n",
    "x_flare_train, x_flare_test, y_flare_train, y_flare_test = train_test_split(x_flare,\n",
    "    y_flare, test_size = 0.30, random_state = 0)"
   ]
  },
  {
   "cell_type": "markdown",
   "metadata": {},
   "source": [
    "### Random Forest"
   ]
  },
  {
   "cell_type": "code",
   "execution_count": 213,
   "metadata": {},
   "outputs": [],
   "source": [
    "# setup random forest regressor\n",
    "\n",
    "rfr = RandomForestRegressor(n_estimators = 100)"
   ]
  },
  {
   "cell_type": "code",
   "execution_count": 214,
   "metadata": {},
   "outputs": [
    {
     "data": {
      "text/plain": [
       "RandomForestRegressor(bootstrap=True, criterion='mse', max_depth=None,\n",
       "           max_features='auto', max_leaf_nodes=None,\n",
       "           min_impurity_decrease=0.0, min_impurity_split=None,\n",
       "           min_samples_leaf=1, min_samples_split=2,\n",
       "           min_weight_fraction_leaf=0.0, n_estimators=100, n_jobs=None,\n",
       "           oob_score=False, random_state=None, verbose=0, warm_start=False)"
      ]
     },
     "execution_count": 214,
     "metadata": {},
     "output_type": "execute_result"
    }
   ],
   "source": [
    "# fit the model\n",
    "\n",
    "rfr.fit(x_flare_train, y_flare_train)"
   ]
  },
  {
   "cell_type": "code",
   "execution_count": 215,
   "metadata": {},
   "outputs": [
    {
     "name": "stdout",
     "output_type": "stream",
     "text": [
      "RESULTS\n",
      "\n",
      "Training score: 0.16172978859703835\n",
      "Testing score: -0.050112092872844904\n",
      "Training MSE: 0.07445854762499406\n",
      "Testing MSE 0.10300122910952003\n"
     ]
    }
   ],
   "source": [
    "# show results\n",
    "\n",
    "print('RESULTS')\n",
    "print()\n",
    "print('Training score:', rfr.score(x_flare_train, y_flare_train))\n",
    "print('Testing score:', rfr.score(x_flare_test, y_flare_test))\n",
    "print('Training MSE:', mean_squared_error(y_flare_train, rfr.predict(x_flare_train)))\n",
    "print('Testing MSE',  mean_squared_error(y_flare_test, rfr.predict(x_flare_test)))"
   ]
  },
  {
   "cell_type": "code",
   "execution_count": 220,
   "metadata": {},
   "outputs": [
    {
     "data": {
      "text/html": [
       "<div>\n",
       "<style scoped>\n",
       "    .dataframe tbody tr th:only-of-type {\n",
       "        vertical-align: middle;\n",
       "    }\n",
       "\n",
       "    .dataframe tbody tr th {\n",
       "        vertical-align: top;\n",
       "    }\n",
       "\n",
       "    .dataframe thead th {\n",
       "        text-align: right;\n",
       "    }\n",
       "</style>\n",
       "<table border=\"1\" class=\"dataframe\">\n",
       "  <thead>\n",
       "    <tr style=\"text-align: right;\">\n",
       "      <th></th>\n",
       "      <th></th>\n",
       "      <th></th>\n",
       "      <th></th>\n",
       "      <th>DATA2;</th>\n",
       "      <th>1978</th>\n",
       "      <th>FLARE</th>\n",
       "      <th>DATA</th>\n",
       "      <th>(08/19/78</th>\n",
       "    </tr>\n",
       "  </thead>\n",
       "  <tbody>\n",
       "    <tr>\n",
       "      <th>H</th>\n",
       "      <th>A</th>\n",
       "      <th>X</th>\n",
       "      <th>1</th>\n",
       "      <td>1</td>\n",
       "      <td>1</td>\n",
       "      <td>1</td>\n",
       "      <td>1</td>\n",
       "      <td>1</td>\n",
       "    </tr>\n",
       "    <tr>\n",
       "      <th>D</th>\n",
       "      <th>R</th>\n",
       "      <th>O</th>\n",
       "      <th>1</th>\n",
       "      <td>1</td>\n",
       "      <td>1</td>\n",
       "      <td>2</td>\n",
       "      <td>1</td>\n",
       "      <td>1</td>\n",
       "    </tr>\n",
       "    <tr>\n",
       "      <th>C</th>\n",
       "      <th>S</th>\n",
       "      <th>O</th>\n",
       "      <th>1</th>\n",
       "      <td>1</td>\n",
       "      <td>1</td>\n",
       "      <td>2</td>\n",
       "      <td>1</td>\n",
       "      <td>1</td>\n",
       "    </tr>\n",
       "    <tr>\n",
       "      <th rowspan=\"2\" valign=\"top\">H</th>\n",
       "      <th>R</th>\n",
       "      <th>X</th>\n",
       "      <th>1</th>\n",
       "      <td>1</td>\n",
       "      <td>1</td>\n",
       "      <td>1</td>\n",
       "      <td>1</td>\n",
       "      <td>1</td>\n",
       "    </tr>\n",
       "    <tr>\n",
       "      <th>S</th>\n",
       "      <th>X</th>\n",
       "      <th>1</th>\n",
       "      <td>1</td>\n",
       "      <td>1</td>\n",
       "      <td>2</td>\n",
       "      <td>1</td>\n",
       "      <td>1</td>\n",
       "    </tr>\n",
       "    <tr>\n",
       "      <th>C</th>\n",
       "      <th>A</th>\n",
       "      <th>O</th>\n",
       "      <th>1</th>\n",
       "      <td>1</td>\n",
       "      <td>1</td>\n",
       "      <td>2</td>\n",
       "      <td>1</td>\n",
       "      <td>1</td>\n",
       "    </tr>\n",
       "    <tr>\n",
       "      <th>B</th>\n",
       "      <th>X</th>\n",
       "      <th>O</th>\n",
       "      <th>1</th>\n",
       "      <td>1</td>\n",
       "      <td>1</td>\n",
       "      <td>2</td>\n",
       "      <td>1</td>\n",
       "      <td>1</td>\n",
       "    </tr>\n",
       "    <tr>\n",
       "      <th rowspan=\"2\" valign=\"top\">C</th>\n",
       "      <th rowspan=\"2\" valign=\"top\">A</th>\n",
       "      <th rowspan=\"2\" valign=\"top\">O</th>\n",
       "      <th>1</th>\n",
       "      <td>1</td>\n",
       "      <td>1</td>\n",
       "      <td>2</td>\n",
       "      <td>1</td>\n",
       "      <td>1</td>\n",
       "    </tr>\n",
       "    <tr>\n",
       "      <th>1</th>\n",
       "      <td>1</td>\n",
       "      <td>1</td>\n",
       "      <td>2</td>\n",
       "      <td>1</td>\n",
       "      <td>1</td>\n",
       "    </tr>\n",
       "    <tr>\n",
       "      <th>B</th>\n",
       "      <th>X</th>\n",
       "      <th>O</th>\n",
       "      <th>1</th>\n",
       "      <td>1</td>\n",
       "      <td>1</td>\n",
       "      <td>2</td>\n",
       "      <td>1</td>\n",
       "      <td>1</td>\n",
       "    </tr>\n",
       "    <tr>\n",
       "      <th>C</th>\n",
       "      <th>A</th>\n",
       "      <th>O</th>\n",
       "      <th>1</th>\n",
       "      <td>1</td>\n",
       "      <td>1</td>\n",
       "      <td>2</td>\n",
       "      <td>1</td>\n",
       "      <td>1</td>\n",
       "    </tr>\n",
       "    <tr>\n",
       "      <th rowspan=\"2\" valign=\"top\">B</th>\n",
       "      <th rowspan=\"2\" valign=\"top\">X</th>\n",
       "      <th>O</th>\n",
       "      <th>1</th>\n",
       "      <td>1</td>\n",
       "      <td>1</td>\n",
       "      <td>2</td>\n",
       "      <td>1</td>\n",
       "      <td>1</td>\n",
       "    </tr>\n",
       "    <tr>\n",
       "      <th>I</th>\n",
       "      <th>1</th>\n",
       "      <td>1</td>\n",
       "      <td>1</td>\n",
       "      <td>2</td>\n",
       "      <td>1</td>\n",
       "      <td>1</td>\n",
       "    </tr>\n",
       "    <tr>\n",
       "      <th>C</th>\n",
       "      <th>S</th>\n",
       "      <th>O</th>\n",
       "      <th>2</th>\n",
       "      <td>1</td>\n",
       "      <td>1</td>\n",
       "      <td>2</td>\n",
       "      <td>1</td>\n",
       "      <td>1</td>\n",
       "    </tr>\n",
       "    <tr>\n",
       "      <th rowspan=\"2\" valign=\"top\">B</th>\n",
       "      <th rowspan=\"2\" valign=\"top\">X</th>\n",
       "      <th rowspan=\"2\" valign=\"top\">O</th>\n",
       "      <th>1</th>\n",
       "      <td>1</td>\n",
       "      <td>1</td>\n",
       "      <td>2</td>\n",
       "      <td>1</td>\n",
       "      <td>1</td>\n",
       "    </tr>\n",
       "    <tr>\n",
       "      <th>1</th>\n",
       "      <td>1</td>\n",
       "      <td>1</td>\n",
       "      <td>2</td>\n",
       "      <td>1</td>\n",
       "      <td>1</td>\n",
       "    </tr>\n",
       "    <tr>\n",
       "      <th>D</th>\n",
       "      <th>R</th>\n",
       "      <th>I</th>\n",
       "      <th>1</th>\n",
       "      <td>1</td>\n",
       "      <td>1</td>\n",
       "      <td>2</td>\n",
       "      <td>1</td>\n",
       "      <td>1</td>\n",
       "    </tr>\n",
       "    <tr>\n",
       "      <th>H</th>\n",
       "      <th>S</th>\n",
       "      <th>X</th>\n",
       "      <th>1</th>\n",
       "      <td>1</td>\n",
       "      <td>1</td>\n",
       "      <td>2</td>\n",
       "      <td>1</td>\n",
       "      <td>1</td>\n",
       "    </tr>\n",
       "    <tr>\n",
       "      <th rowspan=\"2\" valign=\"top\">B</th>\n",
       "      <th rowspan=\"2\" valign=\"top\">X</th>\n",
       "      <th rowspan=\"2\" valign=\"top\">O</th>\n",
       "      <th>1</th>\n",
       "      <td>1</td>\n",
       "      <td>1</td>\n",
       "      <td>2</td>\n",
       "      <td>1</td>\n",
       "      <td>1</td>\n",
       "    </tr>\n",
       "    <tr>\n",
       "      <th>1</th>\n",
       "      <td>1</td>\n",
       "      <td>2</td>\n",
       "      <td>2</td>\n",
       "      <td>1</td>\n",
       "      <td>1</td>\n",
       "    </tr>\n",
       "    <tr>\n",
       "      <th>H</th>\n",
       "      <th>S</th>\n",
       "      <th>X</th>\n",
       "      <th>1</th>\n",
       "      <td>1</td>\n",
       "      <td>1</td>\n",
       "      <td>2</td>\n",
       "      <td>1</td>\n",
       "      <td>1</td>\n",
       "    </tr>\n",
       "    <tr>\n",
       "      <th rowspan=\"2\" valign=\"top\">B</th>\n",
       "      <th rowspan=\"2\" valign=\"top\">X</th>\n",
       "      <th rowspan=\"2\" valign=\"top\">O</th>\n",
       "      <th>1</th>\n",
       "      <td>1</td>\n",
       "      <td>1</td>\n",
       "      <td>2</td>\n",
       "      <td>1</td>\n",
       "      <td>1</td>\n",
       "    </tr>\n",
       "    <tr>\n",
       "      <th>2</th>\n",
       "      <td>1</td>\n",
       "      <td>2</td>\n",
       "      <td>2</td>\n",
       "      <td>1</td>\n",
       "      <td>1</td>\n",
       "    </tr>\n",
       "    <tr>\n",
       "      <th>C</th>\n",
       "      <th>R</th>\n",
       "      <th>O</th>\n",
       "      <th>1</th>\n",
       "      <td>1</td>\n",
       "      <td>1</td>\n",
       "      <td>2</td>\n",
       "      <td>1</td>\n",
       "      <td>1</td>\n",
       "    </tr>\n",
       "    <tr>\n",
       "      <th rowspan=\"2\" valign=\"top\">B</th>\n",
       "      <th rowspan=\"2\" valign=\"top\">X</th>\n",
       "      <th rowspan=\"2\" valign=\"top\">O</th>\n",
       "      <th>1</th>\n",
       "      <td>1</td>\n",
       "      <td>2</td>\n",
       "      <td>2</td>\n",
       "      <td>1</td>\n",
       "      <td>1</td>\n",
       "    </tr>\n",
       "    <tr>\n",
       "      <th>1</th>\n",
       "      <td>1</td>\n",
       "      <td>1</td>\n",
       "      <td>2</td>\n",
       "      <td>1</td>\n",
       "      <td>1</td>\n",
       "    </tr>\n",
       "    <tr>\n",
       "      <th>D</th>\n",
       "      <th>A</th>\n",
       "      <th>I</th>\n",
       "      <th>2</th>\n",
       "      <td>1</td>\n",
       "      <td>1</td>\n",
       "      <td>2</td>\n",
       "      <td>1</td>\n",
       "      <td>1</td>\n",
       "    </tr>\n",
       "    <tr>\n",
       "      <th>B</th>\n",
       "      <th>X</th>\n",
       "      <th>O</th>\n",
       "      <th>1</th>\n",
       "      <td>1</td>\n",
       "      <td>1</td>\n",
       "      <td>2</td>\n",
       "      <td>1</td>\n",
       "      <td>1</td>\n",
       "    </tr>\n",
       "    <tr>\n",
       "      <th>D</th>\n",
       "      <th>R</th>\n",
       "      <th>O</th>\n",
       "      <th>1</th>\n",
       "      <td>1</td>\n",
       "      <td>1</td>\n",
       "      <td>2</td>\n",
       "      <td>1</td>\n",
       "      <td>1</td>\n",
       "    </tr>\n",
       "    <tr>\n",
       "      <th>B</th>\n",
       "      <th>X</th>\n",
       "      <th>O</th>\n",
       "      <th>1</th>\n",
       "      <td>1</td>\n",
       "      <td>1</td>\n",
       "      <td>2</td>\n",
       "      <td>1</td>\n",
       "      <td>1</td>\n",
       "    </tr>\n",
       "    <tr>\n",
       "      <th>...</th>\n",
       "      <th>...</th>\n",
       "      <th>...</th>\n",
       "      <th>...</th>\n",
       "      <td>...</td>\n",
       "      <td>...</td>\n",
       "      <td>...</td>\n",
       "      <td>...</td>\n",
       "      <td>...</td>\n",
       "    </tr>\n",
       "    <tr>\n",
       "      <th rowspan=\"2\" valign=\"top\">C</th>\n",
       "      <th rowspan=\"2\" valign=\"top\">R</th>\n",
       "      <th rowspan=\"2\" valign=\"top\">O</th>\n",
       "      <th>1</th>\n",
       "      <td>1</td>\n",
       "      <td>1</td>\n",
       "      <td>2</td>\n",
       "      <td>1</td>\n",
       "      <td>1</td>\n",
       "    </tr>\n",
       "    <tr>\n",
       "      <th>1</th>\n",
       "      <td>1</td>\n",
       "      <td>1</td>\n",
       "      <td>2</td>\n",
       "      <td>1</td>\n",
       "      <td>1</td>\n",
       "    </tr>\n",
       "    <tr>\n",
       "      <th>D</th>\n",
       "      <th>H</th>\n",
       "      <th>O</th>\n",
       "      <th>1</th>\n",
       "      <td>1</td>\n",
       "      <td>2</td>\n",
       "      <td>2</td>\n",
       "      <td>1</td>\n",
       "      <td>1</td>\n",
       "    </tr>\n",
       "    <tr>\n",
       "      <th>C</th>\n",
       "      <th>S</th>\n",
       "      <th>O</th>\n",
       "      <th>1</th>\n",
       "      <td>1</td>\n",
       "      <td>1</td>\n",
       "      <td>2</td>\n",
       "      <td>1</td>\n",
       "      <td>1</td>\n",
       "    </tr>\n",
       "    <tr>\n",
       "      <th>E</th>\n",
       "      <th>A</th>\n",
       "      <th>I</th>\n",
       "      <th>1</th>\n",
       "      <td>1</td>\n",
       "      <td>2</td>\n",
       "      <td>2</td>\n",
       "      <td>1</td>\n",
       "      <td>1</td>\n",
       "    </tr>\n",
       "    <tr>\n",
       "      <th>H</th>\n",
       "      <th>S</th>\n",
       "      <th>X</th>\n",
       "      <th>1</th>\n",
       "      <td>1</td>\n",
       "      <td>1</td>\n",
       "      <td>1</td>\n",
       "      <td>1</td>\n",
       "      <td>1</td>\n",
       "    </tr>\n",
       "    <tr>\n",
       "      <th>C</th>\n",
       "      <th>S</th>\n",
       "      <th>O</th>\n",
       "      <th>1</th>\n",
       "      <td>1</td>\n",
       "      <td>1</td>\n",
       "      <td>2</td>\n",
       "      <td>1</td>\n",
       "      <td>1</td>\n",
       "    </tr>\n",
       "    <tr>\n",
       "      <th>H</th>\n",
       "      <th>S</th>\n",
       "      <th>X</th>\n",
       "      <th>1</th>\n",
       "      <td>1</td>\n",
       "      <td>1</td>\n",
       "      <td>2</td>\n",
       "      <td>1</td>\n",
       "      <td>1</td>\n",
       "    </tr>\n",
       "    <tr>\n",
       "      <th>D</th>\n",
       "      <th>S</th>\n",
       "      <th>O</th>\n",
       "      <th>1</th>\n",
       "      <td>1</td>\n",
       "      <td>2</td>\n",
       "      <td>2</td>\n",
       "      <td>1</td>\n",
       "      <td>1</td>\n",
       "    </tr>\n",
       "    <tr>\n",
       "      <th>B</th>\n",
       "      <th>X</th>\n",
       "      <th>O</th>\n",
       "      <th>1</th>\n",
       "      <td>1</td>\n",
       "      <td>1</td>\n",
       "      <td>2</td>\n",
       "      <td>1</td>\n",
       "      <td>1</td>\n",
       "    </tr>\n",
       "    <tr>\n",
       "      <th>E</th>\n",
       "      <th>A</th>\n",
       "      <th>O</th>\n",
       "      <th>1</th>\n",
       "      <td>1</td>\n",
       "      <td>2</td>\n",
       "      <td>2</td>\n",
       "      <td>1</td>\n",
       "      <td>1</td>\n",
       "    </tr>\n",
       "    <tr>\n",
       "      <th rowspan=\"4\" valign=\"top\">H</th>\n",
       "      <th rowspan=\"4\" valign=\"top\">S</th>\n",
       "      <th rowspan=\"4\" valign=\"top\">X</th>\n",
       "      <th>1</th>\n",
       "      <td>1</td>\n",
       "      <td>1</td>\n",
       "      <td>1</td>\n",
       "      <td>1</td>\n",
       "      <td>1</td>\n",
       "    </tr>\n",
       "    <tr>\n",
       "      <th>1</th>\n",
       "      <td>1</td>\n",
       "      <td>1</td>\n",
       "      <td>1</td>\n",
       "      <td>1</td>\n",
       "      <td>1</td>\n",
       "    </tr>\n",
       "    <tr>\n",
       "      <th>1</th>\n",
       "      <td>1</td>\n",
       "      <td>1</td>\n",
       "      <td>2</td>\n",
       "      <td>1</td>\n",
       "      <td>1</td>\n",
       "    </tr>\n",
       "    <tr>\n",
       "      <th>1</th>\n",
       "      <td>1</td>\n",
       "      <td>1</td>\n",
       "      <td>2</td>\n",
       "      <td>1</td>\n",
       "      <td>1</td>\n",
       "    </tr>\n",
       "    <tr>\n",
       "      <th>D</th>\n",
       "      <th>H</th>\n",
       "      <th>O</th>\n",
       "      <th>1</th>\n",
       "      <td>1</td>\n",
       "      <td>2</td>\n",
       "      <td>2</td>\n",
       "      <td>1</td>\n",
       "      <td>1</td>\n",
       "    </tr>\n",
       "    <tr>\n",
       "      <th>E</th>\n",
       "      <th>A</th>\n",
       "      <th>I</th>\n",
       "      <th>2</th>\n",
       "      <td>1</td>\n",
       "      <td>2</td>\n",
       "      <td>2</td>\n",
       "      <td>1</td>\n",
       "      <td>1</td>\n",
       "    </tr>\n",
       "    <tr>\n",
       "      <th>D</th>\n",
       "      <th>S</th>\n",
       "      <th>O</th>\n",
       "      <th>1</th>\n",
       "      <td>1</td>\n",
       "      <td>1</td>\n",
       "      <td>2</td>\n",
       "      <td>1</td>\n",
       "      <td>1</td>\n",
       "    </tr>\n",
       "    <tr>\n",
       "      <th rowspan=\"3\" valign=\"top\">H</th>\n",
       "      <th rowspan=\"3\" valign=\"top\">S</th>\n",
       "      <th rowspan=\"3\" valign=\"top\">X</th>\n",
       "      <th>1</th>\n",
       "      <td>1</td>\n",
       "      <td>1</td>\n",
       "      <td>1</td>\n",
       "      <td>1</td>\n",
       "      <td>1</td>\n",
       "    </tr>\n",
       "    <tr>\n",
       "      <th>1</th>\n",
       "      <td>1</td>\n",
       "      <td>1</td>\n",
       "      <td>2</td>\n",
       "      <td>1</td>\n",
       "      <td>1</td>\n",
       "    </tr>\n",
       "    <tr>\n",
       "      <th>1</th>\n",
       "      <td>1</td>\n",
       "      <td>1</td>\n",
       "      <td>2</td>\n",
       "      <td>1</td>\n",
       "      <td>1</td>\n",
       "    </tr>\n",
       "    <tr>\n",
       "      <th>D</th>\n",
       "      <th>S</th>\n",
       "      <th>O</th>\n",
       "      <th>1</th>\n",
       "      <td>1</td>\n",
       "      <td>2</td>\n",
       "      <td>2</td>\n",
       "      <td>1</td>\n",
       "      <td>1</td>\n",
       "    </tr>\n",
       "    <tr>\n",
       "      <th rowspan=\"2\" valign=\"top\">H</th>\n",
       "      <th rowspan=\"2\" valign=\"top\">S</th>\n",
       "      <th rowspan=\"2\" valign=\"top\">X</th>\n",
       "      <th>1</th>\n",
       "      <td>2</td>\n",
       "      <td>2</td>\n",
       "      <td>2</td>\n",
       "      <td>1</td>\n",
       "      <td>1</td>\n",
       "    </tr>\n",
       "    <tr>\n",
       "      <th>2</th>\n",
       "      <td>1</td>\n",
       "      <td>1</td>\n",
       "      <td>2</td>\n",
       "      <td>1</td>\n",
       "      <td>1</td>\n",
       "    </tr>\n",
       "    <tr>\n",
       "      <th>D</th>\n",
       "      <th>R</th>\n",
       "      <th>O</th>\n",
       "      <th>1</th>\n",
       "      <td>1</td>\n",
       "      <td>1</td>\n",
       "      <td>2</td>\n",
       "      <td>1</td>\n",
       "      <td>1</td>\n",
       "    </tr>\n",
       "    <tr>\n",
       "      <th rowspan=\"2\" valign=\"top\">H</th>\n",
       "      <th rowspan=\"2\" valign=\"top\">S</th>\n",
       "      <th rowspan=\"2\" valign=\"top\">X</th>\n",
       "      <th>1</th>\n",
       "      <td>1</td>\n",
       "      <td>1</td>\n",
       "      <td>1</td>\n",
       "      <td>1</td>\n",
       "      <td>1</td>\n",
       "    </tr>\n",
       "    <tr>\n",
       "      <th>2</th>\n",
       "      <td>1</td>\n",
       "      <td>1</td>\n",
       "      <td>2</td>\n",
       "      <td>1</td>\n",
       "      <td>1</td>\n",
       "    </tr>\n",
       "    <tr>\n",
       "      <th>C</th>\n",
       "      <th>S</th>\n",
       "      <th>O</th>\n",
       "      <th>1</th>\n",
       "      <td>1</td>\n",
       "      <td>2</td>\n",
       "      <td>2</td>\n",
       "      <td>1</td>\n",
       "      <td>1</td>\n",
       "    </tr>\n",
       "    <tr>\n",
       "      <th>H</th>\n",
       "      <th>R</th>\n",
       "      <th>X</th>\n",
       "      <th>1</th>\n",
       "      <td>1</td>\n",
       "      <td>1</td>\n",
       "      <td>2</td>\n",
       "      <td>1</td>\n",
       "      <td>1</td>\n",
       "    </tr>\n",
       "    <tr>\n",
       "      <th>B</th>\n",
       "      <th>X</th>\n",
       "      <th>O</th>\n",
       "      <th>1</th>\n",
       "      <td>1</td>\n",
       "      <td>1</td>\n",
       "      <td>2</td>\n",
       "      <td>1</td>\n",
       "      <td>1</td>\n",
       "    </tr>\n",
       "  </tbody>\n",
       "</table>\n",
       "<p>1066 rows × 5 columns</p>\n",
       "</div>"
      ],
      "text/plain": [
       "         DATA2;  1978  FLARE  DATA  (08/19/78\n",
       "H A X 1       1     1      1     1          1\n",
       "D R O 1       1     1      2     1          1\n",
       "C S O 1       1     1      2     1          1\n",
       "H R X 1       1     1      1     1          1\n",
       "  S X 1       1     1      2     1          1\n",
       "C A O 1       1     1      2     1          1\n",
       "B X O 1       1     1      2     1          1\n",
       "C A O 1       1     1      2     1          1\n",
       "      1       1     1      2     1          1\n",
       "B X O 1       1     1      2     1          1\n",
       "C A O 1       1     1      2     1          1\n",
       "B X O 1       1     1      2     1          1\n",
       "    I 1       1     1      2     1          1\n",
       "C S O 2       1     1      2     1          1\n",
       "B X O 1       1     1      2     1          1\n",
       "      1       1     1      2     1          1\n",
       "D R I 1       1     1      2     1          1\n",
       "H S X 1       1     1      2     1          1\n",
       "B X O 1       1     1      2     1          1\n",
       "      1       1     2      2     1          1\n",
       "H S X 1       1     1      2     1          1\n",
       "B X O 1       1     1      2     1          1\n",
       "      2       1     2      2     1          1\n",
       "C R O 1       1     1      2     1          1\n",
       "B X O 1       1     2      2     1          1\n",
       "      1       1     1      2     1          1\n",
       "D A I 2       1     1      2     1          1\n",
       "B X O 1       1     1      2     1          1\n",
       "D R O 1       1     1      2     1          1\n",
       "B X O 1       1     1      2     1          1\n",
       "...         ...   ...    ...   ...        ...\n",
       "C R O 1       1     1      2     1          1\n",
       "      1       1     1      2     1          1\n",
       "D H O 1       1     2      2     1          1\n",
       "C S O 1       1     1      2     1          1\n",
       "E A I 1       1     2      2     1          1\n",
       "H S X 1       1     1      1     1          1\n",
       "C S O 1       1     1      2     1          1\n",
       "H S X 1       1     1      2     1          1\n",
       "D S O 1       1     2      2     1          1\n",
       "B X O 1       1     1      2     1          1\n",
       "E A O 1       1     2      2     1          1\n",
       "H S X 1       1     1      1     1          1\n",
       "      1       1     1      1     1          1\n",
       "      1       1     1      2     1          1\n",
       "      1       1     1      2     1          1\n",
       "D H O 1       1     2      2     1          1\n",
       "E A I 2       1     2      2     1          1\n",
       "D S O 1       1     1      2     1          1\n",
       "H S X 1       1     1      1     1          1\n",
       "      1       1     1      2     1          1\n",
       "      1       1     1      2     1          1\n",
       "D S O 1       1     2      2     1          1\n",
       "H S X 1       2     2      2     1          1\n",
       "      2       1     1      2     1          1\n",
       "D R O 1       1     1      2     1          1\n",
       "H S X 1       1     1      1     1          1\n",
       "      2       1     1      2     1          1\n",
       "C S O 1       1     2      2     1          1\n",
       "H R X 1       1     1      2     1          1\n",
       "B X O 1       1     1      2     1          1\n",
       "\n",
       "[1066 rows x 5 columns]"
      ]
     },
     "execution_count": 220,
     "metadata": {},
     "output_type": "execute_result"
    }
   ],
   "source": []
  },
  {
   "cell_type": "code",
   "execution_count": null,
   "metadata": {},
   "outputs": [],
   "source": []
  }
 ],
 "metadata": {
  "kernelspec": {
   "display_name": "Python 3",
   "language": "python",
   "name": "python3"
  },
  "language_info": {
   "codemirror_mode": {
    "name": "ipython",
    "version": 3
   },
   "file_extension": ".py",
   "mimetype": "text/x-python",
   "name": "python",
   "nbconvert_exporter": "python",
   "pygments_lexer": "ipython3",
   "version": "3.7.1"
  }
 },
 "nbformat": 4,
 "nbformat_minor": 2
}
