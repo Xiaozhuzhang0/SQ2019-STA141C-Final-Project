{
 "cells": [
  {
   "cell_type": "code",
   "execution_count": 390,
   "metadata": {},
   "outputs": [],
   "source": [
    "# First import packages\n",
    "\n",
    "import seaborn\n",
    "import numpy as np\n",
    "import matplotlib.pyplot as plt\n",
    "import pyreadr\n",
    "import pandas as pd\n",
    "import functools \n",
    "from sklearn.metrics import mean_squared_error\n",
    "from sklearn.model_selection import train_test_split\n",
    "from sklearn.ensemble import RandomForestRegressor\n",
    "from sklearn.preprocessing import Imputer\n",
    "from sklearn.linear_model import LinearRegression\n",
    "from sklearn import linear_model\n",
    "from sklearn.preprocessing import StandardScaler\n",
    "from sklearn.kernel_ridge import KernelRidge"
   ]
  },
  {
   "cell_type": "markdown",
   "metadata": {},
   "source": [
    "## 1) Admissions Data"
   ]
  },
  {
   "cell_type": "code",
   "execution_count": 278,
   "metadata": {},
   "outputs": [],
   "source": [
    "# load data\n",
    "\n",
    "admit_data = pd.read_csv('/Users/seandeely/Documents/Spring_Quarter_2019/STA141C/Project/Admission_Predict.csv')                                  "
   ]
  },
  {
   "cell_type": "code",
   "execution_count": 279,
   "metadata": {},
   "outputs": [],
   "source": [
    "# split data into and y\n",
    "\n",
    "y_admit = admissions_data['Chance of Admit ']\n",
    "x_admit = admissions_data.iloc[:,1:8]"
   ]
  },
  {
   "cell_type": "code",
   "execution_count": 280,
   "metadata": {},
   "outputs": [],
   "source": [
    "# split data into 3 test and training sets\n",
    "\n",
    "x_admit_train0, x_admit_test0, y_admit_train0, y_admit_test0 = train_test_split(x_admit,\n",
    "    y_admit, test_size = 0.30, random_state = 0)\n",
    "\n",
    "x_admit_train1, x_admit_test1, y_admit_train1, y_admit_test1 = train_test_split(x_admit,\n",
    "    y_admit, test_size = 0.30, random_state = 1)\n",
    "\n",
    "x_admit_train2, x_admit_test2, y_admit_train2, y_admit_test2 = train_test_split(x_admit,\n",
    "    y_admit, test_size = 0.30, random_state = 2)"
   ]
  },
  {
   "cell_type": "markdown",
   "metadata": {},
   "source": [
    "### Random Forest"
   ]
  },
  {
   "cell_type": "code",
   "execution_count": 281,
   "metadata": {},
   "outputs": [],
   "source": [
    "# setup random forest regressors\n",
    "\n",
    "rfr0 = RandomForestRegressor(n_estimators = 100)\n",
    "rfr1 = RandomForestRegressor(n_estimators = 100)\n",
    "rfr2 = RandomForestRegressor(n_estimators = 100)"
   ]
  },
  {
   "cell_type": "code",
   "execution_count": 282,
   "metadata": {},
   "outputs": [
    {
     "data": {
      "text/plain": [
       "RandomForestRegressor(bootstrap=True, criterion='mse', max_depth=None,\n",
       "           max_features='auto', max_leaf_nodes=None,\n",
       "           min_impurity_decrease=0.0, min_impurity_split=None,\n",
       "           min_samples_leaf=1, min_samples_split=2,\n",
       "           min_weight_fraction_leaf=0.0, n_estimators=100, n_jobs=None,\n",
       "           oob_score=False, random_state=None, verbose=0, warm_start=False)"
      ]
     },
     "execution_count": 282,
     "metadata": {},
     "output_type": "execute_result"
    }
   ],
   "source": [
    "# fit the model for all three training sets\n",
    "\n",
    "rfr0.fit(x_admit_train0, y_admit_train0)\n",
    "rfr1.fit(x_admit_train1, y_admit_train1)\n",
    "rfr2.fit(x_admit_train2, y_admit_train2)"
   ]
  },
  {
   "cell_type": "code",
   "execution_count": 283,
   "metadata": {},
   "outputs": [
    {
     "name": "stdout",
     "output_type": "stream",
     "text": [
      "RESULTS First Trial\n",
      "\n",
      "Training score: 0.9671810090836367\n",
      "Testing score: 0.6707947216596681\n",
      "Training MSE: 0.0007087937142857145\n",
      "Testing MSE 0.005665711999999997\n"
     ]
    }
   ],
   "source": [
    "# show results\n",
    "\n",
    "print('RESULTS First Trial')\n",
    "print()\n",
    "print('Training score:', rfr0.score(x_admit_train0, y_admit_train0))\n",
    "print('Testing score:', rfr0.score(x_admit_test0, y_admit_test0))\n",
    "print('Training MSE:', mean_squared_error(y_admit_train0, rfr0.predict(x_admit_train0)))\n",
    "print('Testing MSE',  mean_squared_error(y_admit_test0, rfr0.predict(x_admit_test0)))"
   ]
  },
  {
   "cell_type": "code",
   "execution_count": 284,
   "metadata": {},
   "outputs": [
    {
     "name": "stdout",
     "output_type": "stream",
     "text": [
      "RESULTS Second Trial\n",
      "\n",
      "Training score: 0.962090242697574\n",
      "Testing score: 0.7895298786983787\n",
      "Training MSE: 0.0007265946071428568\n",
      "Testing MSE 0.004803207333333336\n"
     ]
    }
   ],
   "source": [
    "print('RESULTS Second Trial')\n",
    "print()\n",
    "print('Training score:', rfr1.score(x_admit_train1, y_admit_train1))\n",
    "print('Testing score:', rfr1.score(x_admit_test1, y_admit_test1))\n",
    "print('Training MSE:', mean_squared_error(y_admit_train1, rfr1.predict(x_admit_train1)))\n",
    "print('Testing MSE',  mean_squared_error(y_admit_test1, rfr1.predict(x_admit_test1)))"
   ]
  },
  {
   "cell_type": "code",
   "execution_count": 285,
   "metadata": {},
   "outputs": [
    {
     "name": "stdout",
     "output_type": "stream",
     "text": [
      "RESULTS Third Trial\n",
      "\n",
      "Training score: 0.9674591919999803\n",
      "Testing score: 0.7174149334129059\n",
      "Training MSE: 0.0006894815714285707\n",
      "Testing MSE 0.005063875333333332\n"
     ]
    }
   ],
   "source": [
    "print('RESULTS Third Trial')\n",
    "print()\n",
    "print('Training score:', rfr2.score(x_admit_train2, y_admit_train2))\n",
    "print('Testing score:', rfr2.score(x_admit_test2, y_admit_test2))\n",
    "print('Training MSE:', mean_squared_error(y_admit_train2, rfr2.predict(x_admit_train2)))\n",
    "print('Testing MSE',  mean_squared_error(y_admit_test2, rfr2.predict(x_admit_test2)))"
   ]
  },
  {
   "cell_type": "markdown",
   "metadata": {},
   "source": [
    "### Kernel Regression"
   ]
  },
  {
   "cell_type": "code",
   "execution_count": 448,
   "metadata": {},
   "outputs": [
    {
     "data": {
      "text/plain": [
       "KernelRidge(alpha=1, coef0=1, degree=3, gamma=None, kernel='poly',\n",
       "      kernel_params=None)"
      ]
     },
     "execution_count": 448,
     "metadata": {},
     "output_type": "execute_result"
    }
   ],
   "source": [
    "# Setup and fit models\n",
    "\n",
    "kr0 = KernelRidge(kernel = 'poly')\n",
    "kr1 = KernelRidge(kernel = 'poly')\n",
    "kr2 = KernelRidge(kernel = 'poly')\n",
    "\n",
    "\n",
    "kr0.fit(x_admit_train0, y_admit_train0)\n",
    "kr1.fit(x_admit_train1, y_admit_train1)\n",
    "kr2.fit(x_admit_train2, y_admit_train2)"
   ]
  },
  {
   "cell_type": "code",
   "execution_count": 449,
   "metadata": {},
   "outputs": [
    {
     "name": "stdout",
     "output_type": "stream",
     "text": [
      "RESULTS First Trial\n",
      "\n",
      "Training score: 0.8625165083619724\n",
      "Testing score: 0.6858768683997786\n",
      "Training MSE: 0.0029692392109015157\n",
      "Testing MSE 0.005406144169854621\n"
     ]
    }
   ],
   "source": [
    "# show results\n",
    "\n",
    "print('RESULTS First Trial')\n",
    "print()\n",
    "print('Training score:', kr0.score(x_admit_train0, y_admit_train0))\n",
    "print('Testing score:', kr0.score(x_admit_test0, y_admit_test0))\n",
    "print('Training MSE:', mean_squared_error(y_admit_train0, kr0.predict(x_admit_train0)))\n",
    "print('Testing MSE',  mean_squared_error(y_admit_test0, kr0.predict(x_admit_test0)))"
   ]
  },
  {
   "cell_type": "code",
   "execution_count": 450,
   "metadata": {},
   "outputs": [
    {
     "name": "stdout",
     "output_type": "stream",
     "text": [
      "RESULTS Second Trial\n",
      "\n",
      "Training score: 0.8204484583363615\n",
      "Testing score: 0.7962525384521087\n",
      "Training MSE: 0.0034413615691661834\n",
      "Testing MSE 0.004649787320892015\n"
     ]
    }
   ],
   "source": [
    "# show results\n",
    "\n",
    "print('RESULTS Second Trial')\n",
    "print()\n",
    "print('Training score:', kr1.score(x_admit_train1, y_admit_train1))\n",
    "print('Testing score:', kr1.score(x_admit_test1, y_admit_test1))\n",
    "print('Training MSE:', mean_squared_error(y_admit_train1, kr1.predict(x_admit_train1)))\n",
    "print('Testing MSE',  mean_squared_error(y_admit_test1, kr1.predict(x_admit_test1)))"
   ]
  },
  {
   "cell_type": "code",
   "execution_count": 451,
   "metadata": {},
   "outputs": [
    {
     "name": "stdout",
     "output_type": "stream",
     "text": [
      "RESULTS Third Trial\n",
      "\n",
      "Training score: 0.8493200050120276\n",
      "Testing score: 0.7474234325065947\n",
      "Training MSE: 0.003192639830181641\n",
      "Testing MSE 0.0045261282393832996\n"
     ]
    }
   ],
   "source": [
    "# show results\n",
    "\n",
    "print('RESULTS Third Trial')\n",
    "print()\n",
    "print('Training score:', kr2.score(x_admit_train2, y_admit_train2))\n",
    "print('Testing score:', kr2.score(x_admit_test2, y_admit_test2))\n",
    "print('Training MSE:', mean_squared_error(y_admit_train2, kr2.predict(x_admit_train2)))\n",
    "print('Testing MSE',  mean_squared_error(y_admit_test2, kr2.predict(x_admit_test2)))"
   ]
  },
  {
   "cell_type": "markdown",
   "metadata": {},
   "source": [
    "## 2) Crime Data"
   ]
  },
  {
   "cell_type": "code",
   "execution_count": 286,
   "metadata": {},
   "outputs": [],
   "source": [
    "# load data\n",
    "\n",
    "crime_data = pd.read_csv('/Users/seandeely/Documents/Spring_Quarter_2019/STA141C/Project/Violent_Crime_pred.csv')"
   ]
  },
  {
   "cell_type": "code",
   "execution_count": 287,
   "metadata": {},
   "outputs": [],
   "source": [
    "# split and clean data\n",
    "\n",
    "x_crime = crime_data.iloc[:,2:-1]\n",
    "y_crime = crime_data['target']\n",
    "\n",
    "x_crime.iloc[:,np.sort(x.isna().sum())==0]\n",
    "\n",
    "x_crime = x_crime.dropna(axis='columns')"
   ]
  },
  {
   "cell_type": "code",
   "execution_count": 288,
   "metadata": {},
   "outputs": [],
   "source": [
    "# split data into 3 test and training sets\n",
    "\n",
    "x_crime_train0, x_crime_test0, y_crime_train0, y_crime_test0 = train_test_split(x_crime,\n",
    "    y_crime, test_size = 0.30, random_state = 0)\n",
    "\n",
    "x_crime_train1, x_crime_test1, y_crime_train1, y_crime_test1 = train_test_split(x_crime,\n",
    "    y_crime, test_size = 0.30, random_state = 1)\n",
    "\n",
    "x_crime_train2, x_crime_test2, y_crime_train2, y_crime_test2 = train_test_split(x_crime,\n",
    "    y_crime, test_size = 0.30, random_state = 2)"
   ]
  },
  {
   "cell_type": "markdown",
   "metadata": {},
   "source": [
    "### Random Forest"
   ]
  },
  {
   "cell_type": "code",
   "execution_count": 289,
   "metadata": {},
   "outputs": [],
   "source": [
    "# setup random forest regressors\n",
    "\n",
    "rfr0 = RandomForestRegressor(n_estimators = 100)\n",
    "rfr1 = RandomForestRegressor(n_estimators = 100)\n",
    "rfr2 = RandomForestRegressor(n_estimators = 100)"
   ]
  },
  {
   "cell_type": "code",
   "execution_count": 290,
   "metadata": {},
   "outputs": [
    {
     "data": {
      "text/plain": [
       "RandomForestRegressor(bootstrap=True, criterion='mse', max_depth=None,\n",
       "           max_features='auto', max_leaf_nodes=None,\n",
       "           min_impurity_decrease=0.0, min_impurity_split=None,\n",
       "           min_samples_leaf=1, min_samples_split=2,\n",
       "           min_weight_fraction_leaf=0.0, n_estimators=100, n_jobs=None,\n",
       "           oob_score=False, random_state=None, verbose=0, warm_start=False)"
      ]
     },
     "execution_count": 290,
     "metadata": {},
     "output_type": "execute_result"
    }
   ],
   "source": [
    "# fit the models\n",
    "\n",
    "rfr0.fit(x_crime_train0, y_crime_train0)\n",
    "rfr1.fit(x_crime_train1, y_crime_train1)\n",
    "rfr2.fit(x_crime_train2, y_crime_train2)"
   ]
  },
  {
   "cell_type": "code",
   "execution_count": 291,
   "metadata": {},
   "outputs": [
    {
     "name": "stdout",
     "output_type": "stream",
     "text": [
      "RESULTS First Trial\n",
      "\n",
      "Training score: 0.9492154782861237\n",
      "Testing score: 0.6328619660632688\n",
      "Training MSE: 18917.74231713482\n",
      "Testing MSE 143093.07015936796\n"
     ]
    }
   ],
   "source": [
    "# show results\n",
    "\n",
    "print('RESULTS First Trial')\n",
    "print()\n",
    "print('Training score:', rfr0.score(x_crime_train0, y_crime_train0))\n",
    "print('Testing score:', rfr0.score(x_crime_test0, y_crime_test0))\n",
    "print('Training MSE:', mean_squared_error(y_crime_train0, rfr0.predict(x_crime_train0)))\n",
    "print('Testing MSE',  mean_squared_error(y_crime_test0, rfr0.predict(x_crime_test0)))"
   ]
  },
  {
   "cell_type": "code",
   "execution_count": 292,
   "metadata": {},
   "outputs": [
    {
     "name": "stdout",
     "output_type": "stream",
     "text": [
      "RESULTS Second Trial\n",
      "\n",
      "Training score: 0.9497464006540621\n",
      "Testing score: 0.6220942038495314\n",
      "Training MSE: 18727.51317558342\n",
      "Testing MSE 147258.6378294905\n"
     ]
    }
   ],
   "source": [
    "# show results\n",
    "\n",
    "print('RESULTS Second Trial')\n",
    "print()\n",
    "print('Training score:', rfr1.score(x_crime_train1, y_crime_train1))\n",
    "print('Testing score:', rfr1.score(x_crime_test1, y_crime_test1))\n",
    "print('Training MSE:', mean_squared_error(y_crime_train1, rfr1.predict(x_crime_train1)))\n",
    "print('Testing MSE',  mean_squared_error(y_crime_test1, rfr1.predict(x_crime_test1)))"
   ]
  },
  {
   "cell_type": "code",
   "execution_count": 293,
   "metadata": {},
   "outputs": [
    {
     "name": "stdout",
     "output_type": "stream",
     "text": [
      "RESULTS Third Trial\n",
      "\n",
      "Training score: 0.9496448270318226\n",
      "Testing score: 0.6110492694805438\n",
      "Training MSE: 19059.272964373104\n",
      "Testing MSE 146225.37319245015\n"
     ]
    }
   ],
   "source": [
    "# show results\n",
    "\n",
    "print('RESULTS Third Trial')\n",
    "print()\n",
    "print('Training score:', rfr2.score(x_crime_train2, y_crime_train2))\n",
    "print('Testing score:', rfr2.score(x_crime_test2, y_crime_test2))\n",
    "print('Training MSE:', mean_squared_error(y_crime_train2, rfr2.predict(x_crime_train2)))\n",
    "print('Testing MSE',  mean_squared_error(y_crime_test2, rfr2.predict(x_crime_test2)))"
   ]
  },
  {
   "cell_type": "markdown",
   "metadata": {},
   "source": [
    "### Kernel Regression"
   ]
  },
  {
   "cell_type": "code",
   "execution_count": 458,
   "metadata": {},
   "outputs": [
    {
     "name": "stderr",
     "output_type": "stream",
     "text": [
      "/Users/seandeely/anaconda3/lib/python3.7/site-packages/sklearn/linear_model/ridge.py:165: LinAlgWarning: Ill-conditioned matrix (rcond=9.826e-17): result may not be accurate.\n",
      "  overwrite_a=False)\n"
     ]
    },
    {
     "data": {
      "text/plain": [
       "KernelRidge(alpha=1, coef0=1, degree=3, gamma=None, kernel='linear',\n",
       "      kernel_params=None)"
      ]
     },
     "execution_count": 458,
     "metadata": {},
     "output_type": "execute_result"
    }
   ],
   "source": [
    "# Setup and fit models\n",
    "\n",
    "kr0 = KernelRidge(kernel = 'linear')\n",
    "kr1 = KernelRidge(kernel = 'linear')\n",
    "kr2 = KernelRidge(kernel = 'linear')\n",
    "\n",
    "\n",
    "kr0.fit(x_crime_train0, y_crime_train0)\n",
    "kr1.fit(x_crime_train1, y_crime_train1)\n",
    "kr2.fit(x_crime_train2, y_crime_train2)"
   ]
  },
  {
   "cell_type": "code",
   "execution_count": 459,
   "metadata": {},
   "outputs": [
    {
     "name": "stdout",
     "output_type": "stream",
     "text": [
      "RESULTS First Trial\n",
      "\n",
      "Training score: 0.6833728426085787\n",
      "Testing score: 0.5541407040182813\n",
      "Training MSE: 117946.7832322054\n",
      "Testing MSE 173774.90105564223\n"
     ]
    }
   ],
   "source": [
    "# show results\n",
    "\n",
    "print('RESULTS First Trial')\n",
    "print()\n",
    "print('Training score:', kr0.score(x_crime_train0, y_crime_train0))\n",
    "print('Testing score:', kr0.score(x_crime_test0, y_crime_test0))\n",
    "print('Training MSE:', mean_squared_error(y_crime_train0, kr0.predict(x_crime_train0)))\n",
    "print('Testing MSE',  mean_squared_error(y_crime_test0, kr0.predict(x_crime_test0)))"
   ]
  },
  {
   "cell_type": "code",
   "execution_count": 454,
   "metadata": {},
   "outputs": [
    {
     "name": "stdout",
     "output_type": "stream",
     "text": [
      "RESULTS Second Trial\n",
      "\n",
      "Training score: 0.6796770656951607\n",
      "Testing score: 0.37529918625903613\n",
      "Training MSE: 119371.58831828664\n",
      "Testing MSE 243427.30865615103\n"
     ]
    }
   ],
   "source": [
    "# show results\n",
    "\n",
    "print('RESULTS Second Trial')\n",
    "print()\n",
    "print('Training score:', kr1.score(x_crime_train1, y_crime_train1))\n",
    "print('Testing score:', kr1.score(x_crime_test1, y_crime_test1))\n",
    "print('Training MSE:', mean_squared_error(y_crime_train1, kr1.predict(x_crime_train1)))\n",
    "print('Testing MSE',  mean_squared_error(y_crime_test1, kr1.predict(x_crime_test1)))"
   ]
  },
  {
   "cell_type": "code",
   "execution_count": 455,
   "metadata": {},
   "outputs": [
    {
     "name": "stdout",
     "output_type": "stream",
     "text": [
      "RESULTS Third Trial\n",
      "\n",
      "Training score: 0.6899981403501634\n",
      "Testing score: 0.5997764361326436\n",
      "Training MSE: 117334.7188433533\n",
      "Testing MSE 150463.37593647777\n"
     ]
    }
   ],
   "source": [
    "# show results\n",
    "\n",
    "print('RESULTS Third Trial')\n",
    "print()\n",
    "print('Training score:', kr2.score(x_crime_train2, y_crime_train2))\n",
    "print('Testing score:', kr2.score(x_crime_test2, y_crime_test2))\n",
    "print('Training MSE:', mean_squared_error(y_crime_train2, kr2.predict(x_crime_train2)))\n",
    "print('Testing MSE',  mean_squared_error(y_crime_test2, kr2.predict(x_crime_test2)))"
   ]
  },
  {
   "cell_type": "markdown",
   "metadata": {},
   "source": [
    "## 3) Automobile Data"
   ]
  },
  {
   "cell_type": "code",
   "execution_count": 294,
   "metadata": {},
   "outputs": [],
   "source": [
    "# load data\n",
    "\n",
    "auto_data = pd.read_csv('/Users/seandeely/Documents/Spring_Quarter_2019/STA141C/Project/automobile_price.csv')"
   ]
  },
  {
   "cell_type": "code",
   "execution_count": 295,
   "metadata": {},
   "outputs": [
    {
     "name": "stderr",
     "output_type": "stream",
     "text": [
      "/Users/seandeely/anaconda3/lib/python3.7/site-packages/ipykernel_launcher.py:4: SettingWithCopyWarning: \n",
      "A value is trying to be set on a copy of a slice from a DataFrame\n",
      "\n",
      "See the caveats in the documentation: http://pandas.pydata.org/pandas-docs/stable/indexing.html#indexing-view-versus-copy\n",
      "  after removing the cwd from sys.path.\n",
      "/Users/seandeely/anaconda3/lib/python3.7/site-packages/sklearn/utils/deprecation.py:58: DeprecationWarning: Class Imputer is deprecated; Imputer was deprecated in version 0.20 and will be removed in 0.22. Import impute.SimpleImputer from sklearn instead.\n",
      "  warnings.warn(msg, category=DeprecationWarning)\n"
     ]
    }
   ],
   "source": [
    "# split and clean data\n",
    "\n",
    "auto_data = auto_data.replace('?', np.nan).iloc[:,3:] # replace ? with NaN\n",
    "auto_data['X6'][auto_data['X6'].isna()] = 'four' # mode is four, assign four to the missing value\n",
    "impute = Imputer(strategy = 'mean') # use column mean to impute missing value\n",
    "auto_data[['X19','X20','X22','X23']] = impute.fit_transform(auto_data[['X19','X20','X22','X23']])\n",
    "pd.isna(auto_data).sum() # now no missing values\n",
    "x_auto = auto_data.iloc[:,0:-1]\n",
    "y_auto = auto_data.iloc[:,-1]\n",
    "\n",
    "# get categorical column\n",
    "\n",
    "cate_col = list(x_auto.columns[x_auto.dtypes == 'object'])\n",
    "x_auto = pd.get_dummies(x_auto, columns = cate_col) # create dummy variables for the categorical var\n"
   ]
  },
  {
   "cell_type": "code",
   "execution_count": 296,
   "metadata": {},
   "outputs": [],
   "source": [
    "# split data into 3 test and training sets\n",
    "\n",
    "x_auto_train0, x_auto_test0, y_auto_train0, y_auto_test0 = train_test_split(x_auto,\n",
    "    y_auto, test_size = 0.30, random_state = 0)\n",
    "\n",
    "x_auto_train1, x_auto_test1, y_auto_train1, y_auto_test1 = train_test_split(x_auto,\n",
    "    y_auto, test_size = 0.30, random_state = 1)\n",
    "\n",
    "x_auto_train2, x_auto_test2, y_auto_train2, y_auto_test2 = train_test_split(x_auto,\n",
    "    y_auto, test_size = 0.30, random_state = 2)"
   ]
  },
  {
   "cell_type": "markdown",
   "metadata": {},
   "source": [
    "### Random Forest"
   ]
  },
  {
   "cell_type": "code",
   "execution_count": 297,
   "metadata": {},
   "outputs": [],
   "source": [
    "# setup random forest regressors\n",
    "\n",
    "rfr0 = RandomForestRegressor(n_estimators = 100)\n",
    "rfr1 = RandomForestRegressor(n_estimators = 100)\n",
    "rfr2 = RandomForestRegressor(n_estimators = 100)"
   ]
  },
  {
   "cell_type": "code",
   "execution_count": 298,
   "metadata": {},
   "outputs": [
    {
     "data": {
      "text/plain": [
       "RandomForestRegressor(bootstrap=True, criterion='mse', max_depth=None,\n",
       "           max_features='auto', max_leaf_nodes=None,\n",
       "           min_impurity_decrease=0.0, min_impurity_split=None,\n",
       "           min_samples_leaf=1, min_samples_split=2,\n",
       "           min_weight_fraction_leaf=0.0, n_estimators=100, n_jobs=None,\n",
       "           oob_score=False, random_state=None, verbose=0, warm_start=False)"
      ]
     },
     "execution_count": 298,
     "metadata": {},
     "output_type": "execute_result"
    }
   ],
   "source": [
    "# fit the models\n",
    "\n",
    "rfr0.fit(x_auto_train0, y_auto_train0)\n",
    "rfr1.fit(x_auto_train1, y_auto_train1)\n",
    "rfr2.fit(x_auto_train2, y_auto_train2)"
   ]
  },
  {
   "cell_type": "code",
   "execution_count": 299,
   "metadata": {},
   "outputs": [
    {
     "name": "stdout",
     "output_type": "stream",
     "text": [
      "RESULTS First Trial\n",
      "\n",
      "Training score: 0.9858515594129023\n",
      "Testing score: 0.89334179164415\n",
      "Training MSE: 730977.9269399601\n",
      "Testing MSE 9139884.351885986\n"
     ]
    }
   ],
   "source": [
    "# show results\n",
    "\n",
    "print('RESULTS First Trial')\n",
    "print()\n",
    "print('Training score:', rfr0.score(x_auto_train0, y_auto_train0))\n",
    "print('Testing score:', rfr0.score(x_auto_test0, y_auto_test0))\n",
    "print('Training MSE:', mean_squared_error(y_auto_train0, rfr0.predict(x_auto_train0)))\n",
    "print('Testing MSE',  mean_squared_error(y_auto_test0, rfr0.predict(x_auto_test0)))"
   ]
  },
  {
   "cell_type": "code",
   "execution_count": 300,
   "metadata": {},
   "outputs": [
    {
     "name": "stdout",
     "output_type": "stream",
     "text": [
      "RESULTS Second Trial\n",
      "\n",
      "Training score: 0.9904020938958945\n",
      "Testing score: 0.8986764068156954\n",
      "Training MSE: 656460.2524619194\n",
      "Testing MSE 5029194.499610316\n"
     ]
    }
   ],
   "source": [
    "# show results\n",
    "\n",
    "print('RESULTS Second Trial')\n",
    "print()\n",
    "print('Training score:', rfr1.score(x_auto_train1, y_auto_train1))\n",
    "print('Testing score:', rfr1.score(x_auto_test1, y_auto_test1))\n",
    "print('Training MSE:', mean_squared_error(y_auto_train1, rfr1.predict(x_auto_train1)))\n",
    "print('Testing MSE',  mean_squared_error(y_auto_test1, rfr1.predict(x_auto_test1)))"
   ]
  },
  {
   "cell_type": "code",
   "execution_count": 301,
   "metadata": {},
   "outputs": [
    {
     "name": "stdout",
     "output_type": "stream",
     "text": [
      "RESULTS Third Trial\n",
      "\n",
      "Training score: 0.9896022474496484\n",
      "Testing score: 0.8547676930443577\n",
      "Training MSE: 627151.4782883042\n",
      "Testing MSE 9569044.515407786\n"
     ]
    }
   ],
   "source": [
    "# show results\n",
    "\n",
    "print('RESULTS Third Trial')\n",
    "print()\n",
    "print('Training score:', rfr2.score(x_auto_train2, y_auto_train2))\n",
    "print('Testing score:', rfr2.score(x_auto_test2, y_auto_test2))\n",
    "print('Training MSE:', mean_squared_error(y_auto_train2, rfr2.predict(x_auto_train2)))\n",
    "print('Testing MSE',  mean_squared_error(y_auto_test2, rfr2.predict(x_auto_test2)))"
   ]
  },
  {
   "cell_type": "markdown",
   "metadata": {},
   "source": [
    "### Kernel Regression"
   ]
  },
  {
   "cell_type": "code",
   "execution_count": 460,
   "metadata": {},
   "outputs": [
    {
     "data": {
      "text/plain": [
       "KernelRidge(alpha=1, coef0=1, degree=3, gamma=None, kernel='linear',\n",
       "      kernel_params=None)"
      ]
     },
     "execution_count": 460,
     "metadata": {},
     "output_type": "execute_result"
    }
   ],
   "source": [
    "# Setup and fit models\n",
    "\n",
    "kr0 = KernelRidge(kernel = 'linear')\n",
    "kr1 = KernelRidge(kernel = 'linear')\n",
    "kr2 = KernelRidge(kernel = 'linear')\n",
    "\n",
    "\n",
    "kr0.fit(x_auto_train0, y_auto_train0)\n",
    "kr1.fit(x_auto_train1, y_auto_train1)\n",
    "kr2.fit(x_auto_train2, y_auto_train2)"
   ]
  },
  {
   "cell_type": "code",
   "execution_count": 461,
   "metadata": {},
   "outputs": [
    {
     "name": "stdout",
     "output_type": "stream",
     "text": [
      "RESULTS First Trial\n",
      "\n",
      "Training score: 0.9551583872435614\n",
      "Testing score: 0.807233156700467\n",
      "Training MSE: 2316737.9423593306\n",
      "Testing MSE 16518809.773717921\n"
     ]
    }
   ],
   "source": [
    "# show results\n",
    "\n",
    "print('RESULTS First Trial')\n",
    "print()\n",
    "print('Training score:', kr0.score(x_auto_train0, y_auto_train0))\n",
    "print('Testing score:', kr0.score(x_auto_test0, y_auto_test0))\n",
    "print('Training MSE:', mean_squared_error(y_auto_train0, kr0.predict(x_auto_train0)))\n",
    "print('Testing MSE',  mean_squared_error(y_auto_test0, kr0.predict(x_auto_test0)))"
   ]
  },
  {
   "cell_type": "code",
   "execution_count": 462,
   "metadata": {},
   "outputs": [
    {
     "name": "stdout",
     "output_type": "stream",
     "text": [
      "RESULTS Second Trial\n",
      "\n",
      "Training score: 0.8790178072520484\n",
      "Testing score: 0.9426866099163684\n",
      "Training MSE: 2512914.97628127\n",
      "Testing MSE 4585702.103624542\n"
     ]
    }
   ],
   "source": [
    "# show results\n",
    "\n",
    "print('RESULTS Second Trial')\n",
    "print()\n",
    "print('Training score:', kr0.score(x_auto_train1, y_auto_train1))\n",
    "print('Testing score:', kr0.score(x_auto_test1, y_auto_test1))\n",
    "print('Training MSE:', mean_squared_error(y_auto_train1, kr1.predict(x_auto_train1)))\n",
    "print('Testing MSE',  mean_squared_error(y_auto_test1, kr1.predict(x_auto_test1)))"
   ]
  },
  {
   "cell_type": "code",
   "execution_count": 463,
   "metadata": {},
   "outputs": [
    {
     "name": "stdout",
     "output_type": "stream",
     "text": [
      "RESULTS Third Trial\n",
      "\n",
      "Training score: 0.9696846920144403\n",
      "Testing score: 0.8734449573020082\n",
      "Training MSE: 1828499.9691848024\n",
      "Testing MSE 8338439.7219297085\n"
     ]
    }
   ],
   "source": [
    "# show results\n",
    "\n",
    "print('RESULTS Third Trial')\n",
    "print()\n",
    "print('Training score:', kr2.score(x_auto_train2, y_auto_train2))\n",
    "print('Testing score:', kr2.score(x_auto_test2, y_auto_test2))\n",
    "print('Training MSE:', mean_squared_error(y_auto_train2, kr2.predict(x_auto_train2)))\n",
    "print('Testing MSE',  mean_squared_error(y_auto_test2, kr2.predict(x_auto_test2)))"
   ]
  },
  {
   "cell_type": "markdown",
   "metadata": {},
   "source": [
    "## 4) Forest Fire Data"
   ]
  },
  {
   "cell_type": "code",
   "execution_count": 180,
   "metadata": {},
   "outputs": [],
   "source": [
    "# load data\n",
    "\n",
    "fire_data = pd.read_csv('/Users/seandeely/Documents/Spring_Quarter_2019/STA141C/Project/')"
   ]
  },
  {
   "cell_type": "code",
   "execution_count": 181,
   "metadata": {},
   "outputs": [
    {
     "name": "stderr",
     "output_type": "stream",
     "text": [
      "/Users/seandeely/anaconda3/lib/python3.7/site-packages/sklearn/utils/deprecation.py:58: DeprecationWarning: Class Imputer is deprecated; Imputer was deprecated in version 0.20 and will be removed in 0.22. Import impute.SimpleImputer from sklearn instead.\n",
      "  warnings.warn(msg, category=DeprecationWarning)\n"
     ]
    }
   ],
   "source": []
  },
  {
   "cell_type": "code",
   "execution_count": 182,
   "metadata": {},
   "outputs": [],
   "source": []
  },
  {
   "cell_type": "markdown",
   "metadata": {},
   "source": [
    "### Random Forest"
   ]
  },
  {
   "cell_type": "code",
   "execution_count": 142,
   "metadata": {},
   "outputs": [],
   "source": [
    "# setup random forest regressor\n",
    "\n",
    "rfr = RandomForestRegressor(n_estimators = 100)"
   ]
  },
  {
   "cell_type": "code",
   "execution_count": 143,
   "metadata": {},
   "outputs": [
    {
     "data": {
      "text/plain": [
       "RandomForestRegressor(bootstrap=True, criterion='mse', max_depth=None,\n",
       "           max_features='auto', max_leaf_nodes=None,\n",
       "           min_impurity_decrease=0.0, min_impurity_split=None,\n",
       "           min_samples_leaf=1, min_samples_split=2,\n",
       "           min_weight_fraction_leaf=0.0, n_estimators=100, n_jobs=None,\n",
       "           oob_score=False, random_state=None, verbose=0, warm_start=False)"
      ]
     },
     "execution_count": 143,
     "metadata": {},
     "output_type": "execute_result"
    }
   ],
   "source": [
    "# fit the model\n",
    "\n"
   ]
  },
  {
   "cell_type": "code",
   "execution_count": 144,
   "metadata": {},
   "outputs": [
    {
     "name": "stdout",
     "output_type": "stream",
     "text": [
      "RESULTS\n",
      "\n",
      "Training score: 0.836670384722332\n",
      "Testing score: -0.011627309748838854\n",
      "Training MSE: 0.000655679178149532\n",
      "Testing MSE 0.003403262648227838\n"
     ]
    }
   ],
   "source": [
    "# show results\n",
    "\n"
   ]
  },
  {
   "cell_type": "markdown",
   "metadata": {},
   "source": [
    "## 5) Parkinsons Data "
   ]
  },
  {
   "cell_type": "code",
   "execution_count": 302,
   "metadata": {},
   "outputs": [],
   "source": [
    "# load data\n",
    "\n",
    "parkinsons_data = pd.read_csv('/Users/seandeely/Documents/Spring_Quarter_2019/STA141C/Project/parkinsons_updrs.csv')"
   ]
  },
  {
   "cell_type": "code",
   "execution_count": 303,
   "metadata": {},
   "outputs": [],
   "source": [
    "# separate and clean data\n",
    "\n",
    "y_parkinsons = parkinsons_data['total_UPDRS']\n",
    "x_parkinsons = parkinsons_data.drop(['total_UPDRS', 'motor_UPDRS'], axis=1)"
   ]
  },
  {
   "cell_type": "code",
   "execution_count": 304,
   "metadata": {},
   "outputs": [],
   "source": [
    "# split data into 3 test and training sets\n",
    "\n",
    "x_parkinsons_train0, x_parkinsons_test0, y_parkinsons_train0, y_parkinsons_test0 = train_test_split(x_parkinsons,\n",
    "    y_parkinsons, test_size = 0.30, random_state = 0)\n",
    "\n",
    "x_parkinsons_train1, x_parkinsons_test1, y_parkinsons_train1, y_parkinsons_test1 = train_test_split(x_parkinsons,\n",
    "    y_parkinsons, test_size = 0.30, random_state = 1)\n",
    "\n",
    "x_parkinsons_train2, x_parkinsons_test2, y_parkinsons_train2, y_parkinsons_test2 = train_test_split(x_parkinsons,\n",
    "    y_parkinsons, test_size = 0.30, random_state = 2)"
   ]
  },
  {
   "cell_type": "markdown",
   "metadata": {},
   "source": [
    "### Random Forest"
   ]
  },
  {
   "cell_type": "code",
   "execution_count": 305,
   "metadata": {},
   "outputs": [],
   "source": [
    "# set up random forest regressor\n",
    "\n",
    "rfr0 = RandomForestRegressor(n_estimators = 100)\n",
    "rfr1 = RandomForestRegressor(n_estimators = 100)\n",
    "rfr2 = RandomForestRegressor(n_estimators = 100)"
   ]
  },
  {
   "cell_type": "code",
   "execution_count": 306,
   "metadata": {},
   "outputs": [
    {
     "data": {
      "text/plain": [
       "RandomForestRegressor(bootstrap=True, criterion='mse', max_depth=None,\n",
       "           max_features='auto', max_leaf_nodes=None,\n",
       "           min_impurity_decrease=0.0, min_impurity_split=None,\n",
       "           min_samples_leaf=1, min_samples_split=2,\n",
       "           min_weight_fraction_leaf=0.0, n_estimators=100, n_jobs=None,\n",
       "           oob_score=False, random_state=None, verbose=0, warm_start=False)"
      ]
     },
     "execution_count": 306,
     "metadata": {},
     "output_type": "execute_result"
    }
   ],
   "source": [
    "# fit the model\n",
    "\n",
    "rfr0.fit(x_parkinsons_train0, y_parkinsons_train0)\n",
    "rfr1.fit(x_parkinsons_train1, y_parkinsons_train1)\n",
    "rfr2.fit(x_parkinsons_train2, y_parkinsons_train2)"
   ]
  },
  {
   "cell_type": "code",
   "execution_count": 307,
   "metadata": {},
   "outputs": [
    {
     "name": "stdout",
     "output_type": "stream",
     "text": [
      "RESULTS First Trial\n",
      "\n",
      "Training score: 0.999668718518272\n",
      "Testing score: 0.9973930165913937\n",
      "Training MSE: 0.03851618286446125\n",
      "Testing MSE 0.2874605341988534\n"
     ]
    }
   ],
   "source": [
    "# show results\n",
    "\n",
    "print('RESULTS First Trial')\n",
    "print()\n",
    "print('Training score:', rfr0.score(x_parkinsons_train0, y_parkinsons_train0))\n",
    "print('Testing score:', rfr0.score(x_parkinsons_test0, y_parkinsons_test0))\n",
    "print('Training MSE:', mean_squared_error(y_parkinsons_train0, rfr0.predict(x_parkinsons_train0)))\n",
    "print('Testing MSE',  mean_squared_error(y_parkinsons_test0, rfr0.predict(x_parkinsons_test0)))"
   ]
  },
  {
   "cell_type": "code",
   "execution_count": 308,
   "metadata": {},
   "outputs": [
    {
     "name": "stdout",
     "output_type": "stream",
     "text": [
      "RESULTS Second Trial\n",
      "\n",
      "Training score: 0.9996787609847358\n",
      "Testing score: 0.998534036613565\n",
      "Training MSE: 0.03625002925751551\n",
      "Testing MSE 0.17339912542614672\n"
     ]
    }
   ],
   "source": [
    "# show results\n",
    "\n",
    "print('RESULTS Second Trial')\n",
    "print()\n",
    "print('Training score:', rfr1.score(x_parkinsons_train1, y_parkinsons_train1))\n",
    "print('Testing score:', rfr1.score(x_parkinsons_test1, y_parkinsons_test1))\n",
    "print('Training MSE:', mean_squared_error(y_parkinsons_train1, rfr1.predict(x_parkinsons_train1)))\n",
    "print('Testing MSE',  mean_squared_error(y_parkinsons_test1, rfr1.predict(x_parkinsons_test1)))"
   ]
  },
  {
   "cell_type": "code",
   "execution_count": 309,
   "metadata": {},
   "outputs": [
    {
     "name": "stdout",
     "output_type": "stream",
     "text": [
      "RESULTS Third Trial\n",
      "\n",
      "Training score: 0.9996569408653002\n",
      "Testing score: 0.9980961719847051\n",
      "Training MSE: 0.03958140122096109\n",
      "Testing MSE 0.21381352157029893\n"
     ]
    }
   ],
   "source": [
    "# show results\n",
    "\n",
    "print('RESULTS Third Trial')\n",
    "print()\n",
    "print('Training score:', rfr2.score(x_parkinsons_train2, y_parkinsons_train2))\n",
    "print('Testing score:', rfr2.score(x_parkinsons_test2, y_parkinsons_test2))\n",
    "print('Training MSE:', mean_squared_error(y_parkinsons_train2, rfr2.predict(x_parkinsons_train2)))\n",
    "print('Testing MSE',  mean_squared_error(y_parkinsons_test2, rfr2.predict(x_parkinsons_test2)))"
   ]
  },
  {
   "cell_type": "markdown",
   "metadata": {},
   "source": [
    "### Kernel Regression"
   ]
  },
  {
   "cell_type": "code",
   "execution_count": 479,
   "metadata": {},
   "outputs": [
    {
     "data": {
      "text/plain": [
       "KernelRidge(alpha=1, coef0=1, degree=3, gamma=None, kernel='poly',\n",
       "      kernel_params=None)"
      ]
     },
     "execution_count": 479,
     "metadata": {},
     "output_type": "execute_result"
    }
   ],
   "source": [
    "# Setup and fit models\n",
    "\n",
    "kr0 = KernelRidge(kernel = 'poly')\n",
    "kr1 = KernelRidge(kernel = 'poly')\n",
    "kr2 = KernelRidge(kernel = 'poly')\n",
    "\n",
    "\n",
    "kr0.fit(x_parkinsons_train0, y_parkinsons_train0)\n",
    "kr1.fit(x_parkinsons_train1, y_parkinsons_train1)\n",
    "kr2.fit(x_parkinsons_train2, y_parkinsons_train2)"
   ]
  },
  {
   "cell_type": "code",
   "execution_count": 480,
   "metadata": {},
   "outputs": [
    {
     "name": "stdout",
     "output_type": "stream",
     "text": [
      "RESULTS First Trial\n",
      "\n",
      "Training score: 0.6486741142445986\n",
      "Testing score: 0.5840790323738478\n",
      "Training MSE: 40.84662985141879\n",
      "Testing MSE 45.861766186779576\n"
     ]
    }
   ],
   "source": [
    "# show results\n",
    "\n",
    "print('RESULTS First Trial')\n",
    "print()\n",
    "print('Training score:', kr0.score(x_parkinsons_train0, y_parkinsons_train0))\n",
    "print('Testing score:', kr0.score(x_parkinsons_test0, y_parkinsons_test0))\n",
    "print('Training MSE:', mean_squared_error(y_parkinsons_train0, kr0.predict(x_parkinsons_train0)))\n",
    "print('Testing MSE',  mean_squared_error(y_parkinsons_test0, kr0.predict(x_parkinsons_test0)))"
   ]
  },
  {
   "cell_type": "code",
   "execution_count": 481,
   "metadata": {},
   "outputs": [
    {
     "name": "stdout",
     "output_type": "stream",
     "text": [
      "RESULTS Second Trial\n",
      "\n",
      "Training score: 0.6398544106264059\n",
      "Testing score: 0.6121402352337073\n",
      "Training MSE: 40.6404189136936\n",
      "Testing MSE 45.87736953104918\n"
     ]
    }
   ],
   "source": [
    "# show results\n",
    "\n",
    "print('RESULTS Second Trial')\n",
    "print()\n",
    "print('Training score:', kr1.score(x_parkinsons_train1, y_parkinsons_train1))\n",
    "print('Testing score:', kr1.score(x_parkinsons_test1, y_parkinsons_test1))\n",
    "print('Training MSE:', mean_squared_error(y_parkinsons_train1, kr1.predict(x_parkinsons_train1)))\n",
    "print('Testing MSE',  mean_squared_error(y_parkinsons_test1, kr1.predict(x_parkinsons_test1)))"
   ]
  },
  {
   "cell_type": "code",
   "execution_count": 482,
   "metadata": {},
   "outputs": [
    {
     "name": "stdout",
     "output_type": "stream",
     "text": [
      "RESULTS Third Trial\n",
      "\n",
      "Training score: 0.6430007344123171\n",
      "Testing score: 0.6126481573104572\n",
      "Training MSE: 41.18978256962617\n",
      "Testing MSE 43.50238619603793\n"
     ]
    }
   ],
   "source": [
    "# show results\n",
    "\n",
    "print('RESULTS Third Trial')\n",
    "print()\n",
    "print('Training score:', kr2.score(x_parkinsons_train2, y_parkinsons_train2))\n",
    "print('Testing score:', kr2.score(x_parkinsons_test2, y_parkinsons_test2))\n",
    "print('Training MSE:', mean_squared_error(y_parkinsons_train2, kr2.predict(x_parkinsons_train2)))\n",
    "print('Testing MSE',  mean_squared_error(y_parkinsons_test2, kr2.predict(x_parkinsons_test2)))"
   ]
  },
  {
   "cell_type": "markdown",
   "metadata": {},
   "source": [
    "## 6) Mercedes Data"
   ]
  },
  {
   "cell_type": "code",
   "execution_count": 322,
   "metadata": {},
   "outputs": [],
   "source": [
    "# load data\n",
    "\n",
    "mercedes_data = pd.read_csv('/Users/seandeely/Documents/Spring_Quarter_2019/STA141C/Project/mercedes_data.csv')"
   ]
  },
  {
   "cell_type": "code",
   "execution_count": 323,
   "metadata": {},
   "outputs": [],
   "source": [
    "# clean and split data\n",
    "\n",
    "x_mercedes = mercedes_data.drop(['y'], axis = 1)\n",
    "y_mercedes = mercedes_data['y']\n",
    "\n",
    "cate_col = list(x_mercedes.columns[x_mercedes.dtypes == 'object'])\n",
    "x_mercedes = pd.get_dummies(x_mercedes, columns = cate_col) # change categorical variables to dummy var"
   ]
  },
  {
   "cell_type": "code",
   "execution_count": 324,
   "metadata": {},
   "outputs": [],
   "source": [
    "# split into 3 test and train sets\n",
    "\n",
    "x_mercedes_train0, x_mercedes_test0, y_mercedes_train0, y_mercedes_test0 = train_test_split(x_mercedes,\n",
    "    y_mercedes, test_size = 0.30, random_state = 0)\n",
    "\n",
    "x_mercedes_train1, x_mercedes_test1, y_mercedes_train1, y_mercedes_test1 = train_test_split(x_mercedes,\n",
    "    y_mercedes, test_size = 0.30, random_state = 1)\n",
    "\n",
    "x_mercedes_train2, x_mercedes_test2, y_mercedes_train2, y_mercedes_test2 = train_test_split(x_mercedes,\n",
    "    y_mercedes, test_size = 0.30, random_state = 2)"
   ]
  },
  {
   "cell_type": "markdown",
   "metadata": {},
   "source": [
    "### Random Forest"
   ]
  },
  {
   "cell_type": "code",
   "execution_count": 325,
   "metadata": {},
   "outputs": [],
   "source": [
    "# setup random forest regressor\n",
    "\n",
    "rfr0 = RandomForestRegressor(n_estimators = 100)\n",
    "rfr1 = RandomForestRegressor(n_estimators = 100)\n",
    "rfr2 = RandomForestRegressor(n_estimators = 100)"
   ]
  },
  {
   "cell_type": "code",
   "execution_count": 326,
   "metadata": {},
   "outputs": [
    {
     "data": {
      "text/plain": [
       "RandomForestRegressor(bootstrap=True, criterion='mse', max_depth=None,\n",
       "           max_features='auto', max_leaf_nodes=None,\n",
       "           min_impurity_decrease=0.0, min_impurity_split=None,\n",
       "           min_samples_leaf=1, min_samples_split=2,\n",
       "           min_weight_fraction_leaf=0.0, n_estimators=100, n_jobs=None,\n",
       "           oob_score=False, random_state=None, verbose=0, warm_start=False)"
      ]
     },
     "execution_count": 326,
     "metadata": {},
     "output_type": "execute_result"
    }
   ],
   "source": [
    "# fit the model\n",
    "\n",
    "rfr0.fit(x_mercedes_train0, y_mercedes_train0)\n",
    "rfr1.fit(x_mercedes_train1, y_mercedes_train1)\n",
    "rfr2.fit(x_mercedes_train2, y_mercedes_train2)"
   ]
  },
  {
   "cell_type": "code",
   "execution_count": 327,
   "metadata": {},
   "outputs": [
    {
     "name": "stdout",
     "output_type": "stream",
     "text": [
      "RESULTS First Trial\n",
      "\n",
      "Training score: 0.9340853872482707\n",
      "Testing score: 0.47024708073954224\n",
      "Training MSE: 10.237266266978946\n",
      "Testing MSE 91.60272281831354\n"
     ]
    }
   ],
   "source": [
    "# show results\n",
    "\n",
    "print('RESULTS First Trial')\n",
    "print()\n",
    "print('Training score:', rfr0.score(x_mercedes_train0, y_mercedes_train0))\n",
    "print('Testing score:', rfr0.score(x_mercedes_test0, y_mercedes_test0))\n",
    "print('Training MSE:', mean_squared_error(y_mercedes_train0, rfr0.predict(x_mercedes_train0)))\n",
    "print('Testing MSE',  mean_squared_error(y_mercedes_test0, rfr0.predict(x_mercedes_test0)))"
   ]
  },
  {
   "cell_type": "code",
   "execution_count": 328,
   "metadata": {},
   "outputs": [
    {
     "name": "stdout",
     "output_type": "stream",
     "text": [
      "RESULTS Second Trial\n",
      "\n",
      "Training score: 0.9284306296679422\n",
      "Testing score: 0.5166188963933678\n",
      "Training MSE: 11.835161080689073\n",
      "Testing MSE 72.4390564107443\n"
     ]
    }
   ],
   "source": [
    "# show results\n",
    "\n",
    "print('RESULTS Second Trial')\n",
    "print()\n",
    "print('Training score:', rfr1.score(x_mercedes_train1, y_mercedes_train1))\n",
    "print('Testing score:', rfr1.score(x_mercedes_test1, y_mercedes_test1))\n",
    "print('Training MSE:', mean_squared_error(y_mercedes_train1, rfr1.predict(x_mercedes_train1)))\n",
    "print('Testing MSE',  mean_squared_error(y_mercedes_test1, rfr1.predict(x_mercedes_test1)))"
   ]
  },
  {
   "cell_type": "code",
   "execution_count": 329,
   "metadata": {},
   "outputs": [
    {
     "name": "stdout",
     "output_type": "stream",
     "text": [
      "RESULTS Third Trial\n",
      "\n",
      "Training score: 0.9293375370291639\n",
      "Testing score: 0.5445782832718087\n",
      "Training MSE: 11.369798957817377\n",
      "Testing MSE 73.01165375981788\n"
     ]
    }
   ],
   "source": [
    "# show results\n",
    "\n",
    "print('RESULTS Third Trial')\n",
    "print()\n",
    "print('Training score:', rfr2.score(x_mercedes_train2, y_mercedes_train2))\n",
    "print('Testing score:', rfr2.score(x_mercedes_test2, y_mercedes_test2))\n",
    "print('Training MSE:', mean_squared_error(y_mercedes_train2, rfr2.predict(x_mercedes_train2)))\n",
    "print('Testing MSE',  mean_squared_error(y_mercedes_test2, rfr2.predict(x_mercedes_test2)))"
   ]
  },
  {
   "cell_type": "markdown",
   "metadata": {},
   "source": [
    "### Kernel Regression"
   ]
  },
  {
   "cell_type": "code",
   "execution_count": 489,
   "metadata": {},
   "outputs": [
    {
     "data": {
      "text/plain": [
       "KernelRidge(alpha=1, coef0=1, degree=3, gamma=None, kernel='linear',\n",
       "      kernel_params=None)"
      ]
     },
     "execution_count": 489,
     "metadata": {},
     "output_type": "execute_result"
    }
   ],
   "source": [
    "# Setup and fit models\n",
    "\n",
    "kr0 = KernelRidge(kernel = 'linear')\n",
    "kr1 = KernelRidge(kernel = 'linear')\n",
    "kr2 = KernelRidge(kernel = 'linear')\n",
    "\n",
    "\n",
    "kr0.fit(x_mercedes_train0, y_mercedes_train0)\n",
    "kr1.fit(x_mercedes_train1, y_mercedes_train1)\n",
    "kr2.fit(x_mercedes_train2, y_mercedes_train2)"
   ]
  },
  {
   "cell_type": "code",
   "execution_count": 490,
   "metadata": {},
   "outputs": [
    {
     "name": "stdout",
     "output_type": "stream",
     "text": [
      "RESULTS First Trial\n",
      "\n",
      "Training score: 0.6515721384677278\n",
      "Testing score: 0.4846830556248829\n",
      "Training MSE: 54.114689359930445\n",
      "Testing MSE 89.10651268344529\n"
     ]
    }
   ],
   "source": [
    "# show results\n",
    "\n",
    "print('RESULTS First Trial')\n",
    "print()\n",
    "print('Training score:', kr0.score(x_mercedes_train0, y_mercedes_train0))\n",
    "print('Testing score:', kr0.score(x_mercedes_test0, y_mercedes_test0))\n",
    "print('Training MSE:', mean_squared_error(y_mercedes_train0, kr0.predict(x_mercedes_train0)))\n",
    "print('Testing MSE',  mean_squared_error(y_mercedes_test0, kr0.predict(x_mercedes_test0)))"
   ]
  },
  {
   "cell_type": "code",
   "execution_count": 491,
   "metadata": {},
   "outputs": [
    {
     "name": "stdout",
     "output_type": "stream",
     "text": [
      "RESULTS Second Trial\n",
      "\n",
      "Training score: 0.6176433727220247\n",
      "Testing score: 0.5695028992024433\n",
      "Training MSE: 63.228896008280984\n",
      "Testing MSE 64.51390742554509\n"
     ]
    }
   ],
   "source": [
    "# show results\n",
    "\n",
    "print('RESULTS Second Trial')\n",
    "print()\n",
    "print('Training score:', kr1.score(x_mercedes_train1, y_mercedes_train1))\n",
    "print('Testing score:', kr1.score(x_mercedes_test1, y_mercedes_test1))\n",
    "print('Training MSE:', mean_squared_error(y_mercedes_train1, kr1.predict(x_mercedes_train1)))\n",
    "print('Testing MSE',  mean_squared_error(y_mercedes_test1, kr1.predict(x_mercedes_test1)))"
   ]
  },
  {
   "cell_type": "code",
   "execution_count": 492,
   "metadata": {},
   "outputs": [
    {
     "name": "stdout",
     "output_type": "stream",
     "text": [
      "RESULTS Third Trial\n",
      "\n",
      "Training score: 0.6321714513266092\n",
      "Testing score: 0.5345344492346462\n",
      "Training MSE: 59.18469967694521\n",
      "Testing MSE 74.62184691971069\n"
     ]
    }
   ],
   "source": [
    "# show results\n",
    "\n",
    "print('RESULTS Third Trial')\n",
    "print()\n",
    "print('Training score:', kr2.score(x_mercedes_train2, y_mercedes_train2))\n",
    "print('Testing score:', kr2.score(x_mercedes_test2, y_mercedes_test2))\n",
    "print('Training MSE:', mean_squared_error(y_mercedes_train2, kr2.predict(x_mercedes_train2)))\n",
    "print('Testing MSE',  mean_squared_error(y_mercedes_test2, kr2.predict(x_mercedes_test2)))"
   ]
  },
  {
   "cell_type": "markdown",
   "metadata": {},
   "source": [
    "## 7) Song Year Prediction Data"
   ]
  },
  {
   "cell_type": "code",
   "execution_count": 171,
   "metadata": {},
   "outputs": [],
   "source": [
    "# load the data\n",
    "\n",
    "song_data = pd.read_csv('/Users/seandeely/Documents/Spring_Quarter_2019/STA141C/Project/YearPredictionMSD.csv')"
   ]
  },
  {
   "cell_type": "code",
   "execution_count": 172,
   "metadata": {},
   "outputs": [],
   "source": [
    "# clean and sperate the data\n",
    "\n",
    "x_song = song_data.iloc[:,1:]\n",
    "y_song = song_data.iloc[:, 0]"
   ]
  },
  {
   "cell_type": "code",
   "execution_count": 173,
   "metadata": {},
   "outputs": [],
   "source": [
    "# split into test and train\n",
    "\n",
    "x_song_train, x_song_test, y_song_train, y_song_test = train_test_split(x_song,\n",
    "    y_song, test_size = 0.30, random_state = 0)"
   ]
  },
  {
   "cell_type": "markdown",
   "metadata": {},
   "source": [
    "### Random Forest"
   ]
  },
  {
   "cell_type": "code",
   "execution_count": 174,
   "metadata": {},
   "outputs": [],
   "source": [
    "# setup random forest regressor\n",
    "\n",
    "rfr = RandomForestRegressor(n_estimators = 100)"
   ]
  },
  {
   "cell_type": "code",
   "execution_count": 175,
   "metadata": {},
   "outputs": [
    {
     "data": {
      "text/plain": [
       "RandomForestRegressor(bootstrap=True, criterion='mse', max_depth=None,\n",
       "           max_features='auto', max_leaf_nodes=None,\n",
       "           min_impurity_decrease=0.0, min_impurity_split=None,\n",
       "           min_samples_leaf=1, min_samples_split=2,\n",
       "           min_weight_fraction_leaf=0.0, n_estimators=100, n_jobs=None,\n",
       "           oob_score=False, random_state=None, verbose=0, warm_start=False)"
      ]
     },
     "execution_count": 175,
     "metadata": {},
     "output_type": "execute_result"
    }
   ],
   "source": [
    "# fit the models\n",
    "\n",
    "rfr.fit(x_song_train, y_song_train)"
   ]
  },
  {
   "cell_type": "code",
   "execution_count": 177,
   "metadata": {},
   "outputs": [
    {
     "name": "stdout",
     "output_type": "stream",
     "text": [
      "RESULTS\n",
      "\n",
      "Training score: 0.9017017888696248\n",
      "Testing score: 0.3009849069505902\n",
      "Training MSE: 11.703180940597159\n",
      "Testing MSE 84.22433410933822\n"
     ]
    }
   ],
   "source": [
    "# show results\n",
    "\n",
    "print('RESULTS')\n",
    "print()\n",
    "print('Training score:', rfr.score(x_song_train, y_song_train))\n",
    "print('Testing score:', rfr.score(x_song_test, y_song_test))\n",
    "print('Training MSE:', mean_squared_error(y_song_train, rfr.predict(x_song_train)))\n",
    "print('Testing MSE',  mean_squared_error(y_song_test, rfr.predict(x_song_test)))"
   ]
  },
  {
   "cell_type": "markdown",
   "metadata": {},
   "source": [
    "## 8) Solar Flare Data"
   ]
  },
  {
   "cell_type": "code",
   "execution_count": 210,
   "metadata": {},
   "outputs": [],
   "source": [
    "# load the data\n",
    "\n",
    "flare_data = pd.read_csv('/Users/seandeely/Documents/Spring_Quarter_2019/STA141C/Project/flare.data2', sep = ' ')"
   ]
  },
  {
   "cell_type": "code",
   "execution_count": 211,
   "metadata": {},
   "outputs": [],
   "source": [
    "# divide and clean data\n",
    "\n",
    "x_flare = flare_data.iloc[:,1:6]\n",
    "y_flare = flare_data.iloc[:,7]"
   ]
  },
  {
   "cell_type": "code",
   "execution_count": 212,
   "metadata": {},
   "outputs": [],
   "source": [
    "# seperate into test and training\n",
    "\n",
    "x_flare_train, x_flare_test, y_flare_train, y_flare_test = train_test_split(x_flare,\n",
    "    y_flare, test_size = 0.30, random_state = 0)"
   ]
  },
  {
   "cell_type": "code",
   "execution_count": 493,
   "metadata": {},
   "outputs": [
    {
     "data": {
      "text/html": [
       "<div>\n",
       "<style scoped>\n",
       "    .dataframe tbody tr th:only-of-type {\n",
       "        vertical-align: middle;\n",
       "    }\n",
       "\n",
       "    .dataframe tbody tr th {\n",
       "        vertical-align: top;\n",
       "    }\n",
       "\n",
       "    .dataframe thead th {\n",
       "        text-align: right;\n",
       "    }\n",
       "</style>\n",
       "<table border=\"1\" class=\"dataframe\">\n",
       "  <thead>\n",
       "    <tr style=\"text-align: right;\">\n",
       "      <th></th>\n",
       "      <th></th>\n",
       "      <th></th>\n",
       "      <th></th>\n",
       "      <th>*******</th>\n",
       "      <th>DATA2;</th>\n",
       "      <th>1978</th>\n",
       "      <th>FLARE</th>\n",
       "      <th>DATA</th>\n",
       "      <th>(08/19/78</th>\n",
       "      <th>to</th>\n",
       "      <th>12/23/78)</th>\n",
       "      <th>*****</th>\n",
       "    </tr>\n",
       "  </thead>\n",
       "  <tbody>\n",
       "    <tr>\n",
       "      <th>H</th>\n",
       "      <th>A</th>\n",
       "      <th>X</th>\n",
       "      <th>1</th>\n",
       "      <td>3</td>\n",
       "      <td>1</td>\n",
       "      <td>1</td>\n",
       "      <td>1</td>\n",
       "      <td>1</td>\n",
       "      <td>1</td>\n",
       "      <td>0</td>\n",
       "      <td>0</td>\n",
       "      <td>0</td>\n",
       "    </tr>\n",
       "    <tr>\n",
       "      <th>D</th>\n",
       "      <th>R</th>\n",
       "      <th>O</th>\n",
       "      <th>1</th>\n",
       "      <td>3</td>\n",
       "      <td>1</td>\n",
       "      <td>1</td>\n",
       "      <td>2</td>\n",
       "      <td>1</td>\n",
       "      <td>1</td>\n",
       "      <td>0</td>\n",
       "      <td>0</td>\n",
       "      <td>0</td>\n",
       "    </tr>\n",
       "    <tr>\n",
       "      <th>C</th>\n",
       "      <th>S</th>\n",
       "      <th>O</th>\n",
       "      <th>1</th>\n",
       "      <td>3</td>\n",
       "      <td>1</td>\n",
       "      <td>1</td>\n",
       "      <td>2</td>\n",
       "      <td>1</td>\n",
       "      <td>1</td>\n",
       "      <td>0</td>\n",
       "      <td>0</td>\n",
       "      <td>0</td>\n",
       "    </tr>\n",
       "    <tr>\n",
       "      <th rowspan=\"2\" valign=\"top\">H</th>\n",
       "      <th>R</th>\n",
       "      <th>X</th>\n",
       "      <th>1</th>\n",
       "      <td>2</td>\n",
       "      <td>1</td>\n",
       "      <td>1</td>\n",
       "      <td>1</td>\n",
       "      <td>1</td>\n",
       "      <td>1</td>\n",
       "      <td>0</td>\n",
       "      <td>0</td>\n",
       "      <td>0</td>\n",
       "    </tr>\n",
       "    <tr>\n",
       "      <th>S</th>\n",
       "      <th>X</th>\n",
       "      <th>1</th>\n",
       "      <td>1</td>\n",
       "      <td>1</td>\n",
       "      <td>1</td>\n",
       "      <td>2</td>\n",
       "      <td>1</td>\n",
       "      <td>1</td>\n",
       "      <td>0</td>\n",
       "      <td>0</td>\n",
       "      <td>0</td>\n",
       "    </tr>\n",
       "    <tr>\n",
       "      <th>C</th>\n",
       "      <th>A</th>\n",
       "      <th>O</th>\n",
       "      <th>1</th>\n",
       "      <td>2</td>\n",
       "      <td>1</td>\n",
       "      <td>1</td>\n",
       "      <td>2</td>\n",
       "      <td>1</td>\n",
       "      <td>1</td>\n",
       "      <td>0</td>\n",
       "      <td>0</td>\n",
       "      <td>0</td>\n",
       "    </tr>\n",
       "    <tr>\n",
       "      <th>B</th>\n",
       "      <th>X</th>\n",
       "      <th>O</th>\n",
       "      <th>1</th>\n",
       "      <td>3</td>\n",
       "      <td>1</td>\n",
       "      <td>1</td>\n",
       "      <td>2</td>\n",
       "      <td>1</td>\n",
       "      <td>1</td>\n",
       "      <td>0</td>\n",
       "      <td>0</td>\n",
       "      <td>0</td>\n",
       "    </tr>\n",
       "    <tr>\n",
       "      <th rowspan=\"2\" valign=\"top\">C</th>\n",
       "      <th rowspan=\"2\" valign=\"top\">A</th>\n",
       "      <th rowspan=\"2\" valign=\"top\">O</th>\n",
       "      <th>1</th>\n",
       "      <td>3</td>\n",
       "      <td>1</td>\n",
       "      <td>1</td>\n",
       "      <td>2</td>\n",
       "      <td>1</td>\n",
       "      <td>1</td>\n",
       "      <td>0</td>\n",
       "      <td>0</td>\n",
       "      <td>0</td>\n",
       "    </tr>\n",
       "    <tr>\n",
       "      <th>1</th>\n",
       "      <td>2</td>\n",
       "      <td>1</td>\n",
       "      <td>1</td>\n",
       "      <td>2</td>\n",
       "      <td>1</td>\n",
       "      <td>1</td>\n",
       "      <td>1</td>\n",
       "      <td>0</td>\n",
       "      <td>0</td>\n",
       "    </tr>\n",
       "    <tr>\n",
       "      <th>B</th>\n",
       "      <th>X</th>\n",
       "      <th>O</th>\n",
       "      <th>1</th>\n",
       "      <td>3</td>\n",
       "      <td>1</td>\n",
       "      <td>1</td>\n",
       "      <td>2</td>\n",
       "      <td>1</td>\n",
       "      <td>1</td>\n",
       "      <td>0</td>\n",
       "      <td>0</td>\n",
       "      <td>0</td>\n",
       "    </tr>\n",
       "    <tr>\n",
       "      <th>C</th>\n",
       "      <th>A</th>\n",
       "      <th>O</th>\n",
       "      <th>1</th>\n",
       "      <td>2</td>\n",
       "      <td>1</td>\n",
       "      <td>1</td>\n",
       "      <td>2</td>\n",
       "      <td>1</td>\n",
       "      <td>1</td>\n",
       "      <td>0</td>\n",
       "      <td>0</td>\n",
       "      <td>0</td>\n",
       "    </tr>\n",
       "    <tr>\n",
       "      <th rowspan=\"2\" valign=\"top\">B</th>\n",
       "      <th rowspan=\"2\" valign=\"top\">X</th>\n",
       "      <th>O</th>\n",
       "      <th>1</th>\n",
       "      <td>3</td>\n",
       "      <td>1</td>\n",
       "      <td>1</td>\n",
       "      <td>2</td>\n",
       "      <td>1</td>\n",
       "      <td>1</td>\n",
       "      <td>0</td>\n",
       "      <td>0</td>\n",
       "      <td>0</td>\n",
       "    </tr>\n",
       "    <tr>\n",
       "      <th>I</th>\n",
       "      <th>1</th>\n",
       "      <td>2</td>\n",
       "      <td>1</td>\n",
       "      <td>1</td>\n",
       "      <td>2</td>\n",
       "      <td>1</td>\n",
       "      <td>1</td>\n",
       "      <td>0</td>\n",
       "      <td>0</td>\n",
       "      <td>0</td>\n",
       "    </tr>\n",
       "    <tr>\n",
       "      <th>C</th>\n",
       "      <th>S</th>\n",
       "      <th>O</th>\n",
       "      <th>2</th>\n",
       "      <td>2</td>\n",
       "      <td>1</td>\n",
       "      <td>1</td>\n",
       "      <td>2</td>\n",
       "      <td>1</td>\n",
       "      <td>1</td>\n",
       "      <td>0</td>\n",
       "      <td>0</td>\n",
       "      <td>0</td>\n",
       "    </tr>\n",
       "    <tr>\n",
       "      <th rowspan=\"2\" valign=\"top\">B</th>\n",
       "      <th rowspan=\"2\" valign=\"top\">X</th>\n",
       "      <th rowspan=\"2\" valign=\"top\">O</th>\n",
       "      <th>1</th>\n",
       "      <td>3</td>\n",
       "      <td>1</td>\n",
       "      <td>1</td>\n",
       "      <td>2</td>\n",
       "      <td>1</td>\n",
       "      <td>1</td>\n",
       "      <td>0</td>\n",
       "      <td>0</td>\n",
       "      <td>0</td>\n",
       "    </tr>\n",
       "    <tr>\n",
       "      <th>1</th>\n",
       "      <td>2</td>\n",
       "      <td>1</td>\n",
       "      <td>1</td>\n",
       "      <td>2</td>\n",
       "      <td>1</td>\n",
       "      <td>1</td>\n",
       "      <td>0</td>\n",
       "      <td>0</td>\n",
       "      <td>0</td>\n",
       "    </tr>\n",
       "    <tr>\n",
       "      <th>D</th>\n",
       "      <th>R</th>\n",
       "      <th>I</th>\n",
       "      <th>1</th>\n",
       "      <td>3</td>\n",
       "      <td>1</td>\n",
       "      <td>1</td>\n",
       "      <td>2</td>\n",
       "      <td>1</td>\n",
       "      <td>1</td>\n",
       "      <td>1</td>\n",
       "      <td>0</td>\n",
       "      <td>0</td>\n",
       "    </tr>\n",
       "    <tr>\n",
       "      <th>H</th>\n",
       "      <th>S</th>\n",
       "      <th>X</th>\n",
       "      <th>1</th>\n",
       "      <td>3</td>\n",
       "      <td>1</td>\n",
       "      <td>1</td>\n",
       "      <td>2</td>\n",
       "      <td>1</td>\n",
       "      <td>1</td>\n",
       "      <td>0</td>\n",
       "      <td>0</td>\n",
       "      <td>0</td>\n",
       "    </tr>\n",
       "    <tr>\n",
       "      <th rowspan=\"2\" valign=\"top\">B</th>\n",
       "      <th rowspan=\"2\" valign=\"top\">X</th>\n",
       "      <th rowspan=\"2\" valign=\"top\">O</th>\n",
       "      <th>1</th>\n",
       "      <td>2</td>\n",
       "      <td>1</td>\n",
       "      <td>1</td>\n",
       "      <td>2</td>\n",
       "      <td>1</td>\n",
       "      <td>1</td>\n",
       "      <td>0</td>\n",
       "      <td>0</td>\n",
       "      <td>0</td>\n",
       "    </tr>\n",
       "    <tr>\n",
       "      <th>1</th>\n",
       "      <td>2</td>\n",
       "      <td>1</td>\n",
       "      <td>2</td>\n",
       "      <td>2</td>\n",
       "      <td>1</td>\n",
       "      <td>1</td>\n",
       "      <td>0</td>\n",
       "      <td>0</td>\n",
       "      <td>0</td>\n",
       "    </tr>\n",
       "    <tr>\n",
       "      <th>H</th>\n",
       "      <th>S</th>\n",
       "      <th>X</th>\n",
       "      <th>1</th>\n",
       "      <td>2</td>\n",
       "      <td>1</td>\n",
       "      <td>1</td>\n",
       "      <td>2</td>\n",
       "      <td>1</td>\n",
       "      <td>1</td>\n",
       "      <td>0</td>\n",
       "      <td>0</td>\n",
       "      <td>0</td>\n",
       "    </tr>\n",
       "    <tr>\n",
       "      <th rowspan=\"2\" valign=\"top\">B</th>\n",
       "      <th rowspan=\"2\" valign=\"top\">X</th>\n",
       "      <th rowspan=\"2\" valign=\"top\">O</th>\n",
       "      <th>1</th>\n",
       "      <td>3</td>\n",
       "      <td>1</td>\n",
       "      <td>1</td>\n",
       "      <td>2</td>\n",
       "      <td>1</td>\n",
       "      <td>1</td>\n",
       "      <td>0</td>\n",
       "      <td>0</td>\n",
       "      <td>0</td>\n",
       "    </tr>\n",
       "    <tr>\n",
       "      <th>2</th>\n",
       "      <td>2</td>\n",
       "      <td>1</td>\n",
       "      <td>2</td>\n",
       "      <td>2</td>\n",
       "      <td>1</td>\n",
       "      <td>1</td>\n",
       "      <td>0</td>\n",
       "      <td>0</td>\n",
       "      <td>0</td>\n",
       "    </tr>\n",
       "    <tr>\n",
       "      <th>C</th>\n",
       "      <th>R</th>\n",
       "      <th>O</th>\n",
       "      <th>1</th>\n",
       "      <td>3</td>\n",
       "      <td>1</td>\n",
       "      <td>1</td>\n",
       "      <td>2</td>\n",
       "      <td>1</td>\n",
       "      <td>1</td>\n",
       "      <td>5</td>\n",
       "      <td>0</td>\n",
       "      <td>0</td>\n",
       "    </tr>\n",
       "    <tr>\n",
       "      <th rowspan=\"2\" valign=\"top\">B</th>\n",
       "      <th rowspan=\"2\" valign=\"top\">X</th>\n",
       "      <th rowspan=\"2\" valign=\"top\">O</th>\n",
       "      <th>1</th>\n",
       "      <td>2</td>\n",
       "      <td>1</td>\n",
       "      <td>2</td>\n",
       "      <td>2</td>\n",
       "      <td>1</td>\n",
       "      <td>1</td>\n",
       "      <td>0</td>\n",
       "      <td>0</td>\n",
       "      <td>0</td>\n",
       "    </tr>\n",
       "    <tr>\n",
       "      <th>1</th>\n",
       "      <td>3</td>\n",
       "      <td>1</td>\n",
       "      <td>1</td>\n",
       "      <td>2</td>\n",
       "      <td>1</td>\n",
       "      <td>1</td>\n",
       "      <td>0</td>\n",
       "      <td>0</td>\n",
       "      <td>0</td>\n",
       "    </tr>\n",
       "    <tr>\n",
       "      <th>D</th>\n",
       "      <th>A</th>\n",
       "      <th>I</th>\n",
       "      <th>2</th>\n",
       "      <td>3</td>\n",
       "      <td>1</td>\n",
       "      <td>1</td>\n",
       "      <td>2</td>\n",
       "      <td>1</td>\n",
       "      <td>1</td>\n",
       "      <td>2</td>\n",
       "      <td>0</td>\n",
       "      <td>0</td>\n",
       "    </tr>\n",
       "    <tr>\n",
       "      <th>B</th>\n",
       "      <th>X</th>\n",
       "      <th>O</th>\n",
       "      <th>1</th>\n",
       "      <td>3</td>\n",
       "      <td>1</td>\n",
       "      <td>1</td>\n",
       "      <td>2</td>\n",
       "      <td>1</td>\n",
       "      <td>1</td>\n",
       "      <td>0</td>\n",
       "      <td>0</td>\n",
       "      <td>0</td>\n",
       "    </tr>\n",
       "    <tr>\n",
       "      <th>D</th>\n",
       "      <th>R</th>\n",
       "      <th>O</th>\n",
       "      <th>1</th>\n",
       "      <td>3</td>\n",
       "      <td>1</td>\n",
       "      <td>1</td>\n",
       "      <td>2</td>\n",
       "      <td>1</td>\n",
       "      <td>1</td>\n",
       "      <td>0</td>\n",
       "      <td>0</td>\n",
       "      <td>0</td>\n",
       "    </tr>\n",
       "    <tr>\n",
       "      <th>B</th>\n",
       "      <th>X</th>\n",
       "      <th>O</th>\n",
       "      <th>1</th>\n",
       "      <td>3</td>\n",
       "      <td>1</td>\n",
       "      <td>1</td>\n",
       "      <td>2</td>\n",
       "      <td>1</td>\n",
       "      <td>1</td>\n",
       "      <td>0</td>\n",
       "      <td>0</td>\n",
       "      <td>0</td>\n",
       "    </tr>\n",
       "    <tr>\n",
       "      <th>...</th>\n",
       "      <th>...</th>\n",
       "      <th>...</th>\n",
       "      <th>...</th>\n",
       "      <td>...</td>\n",
       "      <td>...</td>\n",
       "      <td>...</td>\n",
       "      <td>...</td>\n",
       "      <td>...</td>\n",
       "      <td>...</td>\n",
       "      <td>...</td>\n",
       "      <td>...</td>\n",
       "      <td>...</td>\n",
       "    </tr>\n",
       "    <tr>\n",
       "      <th rowspan=\"2\" valign=\"top\">C</th>\n",
       "      <th rowspan=\"2\" valign=\"top\">R</th>\n",
       "      <th rowspan=\"2\" valign=\"top\">O</th>\n",
       "      <th>1</th>\n",
       "      <td>3</td>\n",
       "      <td>1</td>\n",
       "      <td>1</td>\n",
       "      <td>2</td>\n",
       "      <td>1</td>\n",
       "      <td>1</td>\n",
       "      <td>1</td>\n",
       "      <td>0</td>\n",
       "      <td>0</td>\n",
       "    </tr>\n",
       "    <tr>\n",
       "      <th>1</th>\n",
       "      <td>2</td>\n",
       "      <td>1</td>\n",
       "      <td>1</td>\n",
       "      <td>2</td>\n",
       "      <td>1</td>\n",
       "      <td>1</td>\n",
       "      <td>0</td>\n",
       "      <td>0</td>\n",
       "      <td>0</td>\n",
       "    </tr>\n",
       "    <tr>\n",
       "      <th>D</th>\n",
       "      <th>H</th>\n",
       "      <th>O</th>\n",
       "      <th>1</th>\n",
       "      <td>2</td>\n",
       "      <td>1</td>\n",
       "      <td>2</td>\n",
       "      <td>2</td>\n",
       "      <td>1</td>\n",
       "      <td>1</td>\n",
       "      <td>0</td>\n",
       "      <td>0</td>\n",
       "      <td>0</td>\n",
       "    </tr>\n",
       "    <tr>\n",
       "      <th>C</th>\n",
       "      <th>S</th>\n",
       "      <th>O</th>\n",
       "      <th>1</th>\n",
       "      <td>2</td>\n",
       "      <td>1</td>\n",
       "      <td>1</td>\n",
       "      <td>2</td>\n",
       "      <td>1</td>\n",
       "      <td>1</td>\n",
       "      <td>0</td>\n",
       "      <td>0</td>\n",
       "      <td>0</td>\n",
       "    </tr>\n",
       "    <tr>\n",
       "      <th>E</th>\n",
       "      <th>A</th>\n",
       "      <th>I</th>\n",
       "      <th>1</th>\n",
       "      <td>2</td>\n",
       "      <td>1</td>\n",
       "      <td>2</td>\n",
       "      <td>2</td>\n",
       "      <td>1</td>\n",
       "      <td>1</td>\n",
       "      <td>0</td>\n",
       "      <td>0</td>\n",
       "      <td>0</td>\n",
       "    </tr>\n",
       "    <tr>\n",
       "      <th>H</th>\n",
       "      <th>S</th>\n",
       "      <th>X</th>\n",
       "      <th>1</th>\n",
       "      <td>2</td>\n",
       "      <td>1</td>\n",
       "      <td>1</td>\n",
       "      <td>1</td>\n",
       "      <td>1</td>\n",
       "      <td>1</td>\n",
       "      <td>1</td>\n",
       "      <td>0</td>\n",
       "      <td>0</td>\n",
       "    </tr>\n",
       "    <tr>\n",
       "      <th>C</th>\n",
       "      <th>S</th>\n",
       "      <th>O</th>\n",
       "      <th>1</th>\n",
       "      <td>3</td>\n",
       "      <td>1</td>\n",
       "      <td>1</td>\n",
       "      <td>2</td>\n",
       "      <td>1</td>\n",
       "      <td>1</td>\n",
       "      <td>0</td>\n",
       "      <td>0</td>\n",
       "      <td>0</td>\n",
       "    </tr>\n",
       "    <tr>\n",
       "      <th>H</th>\n",
       "      <th>S</th>\n",
       "      <th>X</th>\n",
       "      <th>1</th>\n",
       "      <td>2</td>\n",
       "      <td>1</td>\n",
       "      <td>1</td>\n",
       "      <td>2</td>\n",
       "      <td>1</td>\n",
       "      <td>1</td>\n",
       "      <td>0</td>\n",
       "      <td>0</td>\n",
       "      <td>0</td>\n",
       "    </tr>\n",
       "    <tr>\n",
       "      <th>D</th>\n",
       "      <th>S</th>\n",
       "      <th>O</th>\n",
       "      <th>1</th>\n",
       "      <td>3</td>\n",
       "      <td>1</td>\n",
       "      <td>2</td>\n",
       "      <td>2</td>\n",
       "      <td>1</td>\n",
       "      <td>1</td>\n",
       "      <td>0</td>\n",
       "      <td>0</td>\n",
       "      <td>0</td>\n",
       "    </tr>\n",
       "    <tr>\n",
       "      <th>B</th>\n",
       "      <th>X</th>\n",
       "      <th>O</th>\n",
       "      <th>1</th>\n",
       "      <td>1</td>\n",
       "      <td>1</td>\n",
       "      <td>1</td>\n",
       "      <td>2</td>\n",
       "      <td>1</td>\n",
       "      <td>1</td>\n",
       "      <td>0</td>\n",
       "      <td>0</td>\n",
       "      <td>0</td>\n",
       "    </tr>\n",
       "    <tr>\n",
       "      <th>E</th>\n",
       "      <th>A</th>\n",
       "      <th>O</th>\n",
       "      <th>1</th>\n",
       "      <td>2</td>\n",
       "      <td>1</td>\n",
       "      <td>2</td>\n",
       "      <td>2</td>\n",
       "      <td>1</td>\n",
       "      <td>1</td>\n",
       "      <td>4</td>\n",
       "      <td>1</td>\n",
       "      <td>0</td>\n",
       "    </tr>\n",
       "    <tr>\n",
       "      <th rowspan=\"4\" valign=\"top\">H</th>\n",
       "      <th rowspan=\"4\" valign=\"top\">S</th>\n",
       "      <th rowspan=\"4\" valign=\"top\">X</th>\n",
       "      <th>1</th>\n",
       "      <td>3</td>\n",
       "      <td>1</td>\n",
       "      <td>1</td>\n",
       "      <td>1</td>\n",
       "      <td>1</td>\n",
       "      <td>1</td>\n",
       "      <td>1</td>\n",
       "      <td>0</td>\n",
       "      <td>0</td>\n",
       "    </tr>\n",
       "    <tr>\n",
       "      <th>1</th>\n",
       "      <td>3</td>\n",
       "      <td>1</td>\n",
       "      <td>1</td>\n",
       "      <td>1</td>\n",
       "      <td>1</td>\n",
       "      <td>1</td>\n",
       "      <td>0</td>\n",
       "      <td>0</td>\n",
       "      <td>0</td>\n",
       "    </tr>\n",
       "    <tr>\n",
       "      <th>1</th>\n",
       "      <td>2</td>\n",
       "      <td>1</td>\n",
       "      <td>1</td>\n",
       "      <td>2</td>\n",
       "      <td>1</td>\n",
       "      <td>1</td>\n",
       "      <td>0</td>\n",
       "      <td>0</td>\n",
       "      <td>0</td>\n",
       "    </tr>\n",
       "    <tr>\n",
       "      <th>1</th>\n",
       "      <td>2</td>\n",
       "      <td>1</td>\n",
       "      <td>1</td>\n",
       "      <td>2</td>\n",
       "      <td>1</td>\n",
       "      <td>1</td>\n",
       "      <td>1</td>\n",
       "      <td>0</td>\n",
       "      <td>0</td>\n",
       "    </tr>\n",
       "    <tr>\n",
       "      <th>D</th>\n",
       "      <th>H</th>\n",
       "      <th>O</th>\n",
       "      <th>1</th>\n",
       "      <td>3</td>\n",
       "      <td>1</td>\n",
       "      <td>2</td>\n",
       "      <td>2</td>\n",
       "      <td>1</td>\n",
       "      <td>1</td>\n",
       "      <td>0</td>\n",
       "      <td>0</td>\n",
       "      <td>0</td>\n",
       "    </tr>\n",
       "    <tr>\n",
       "      <th>E</th>\n",
       "      <th>A</th>\n",
       "      <th>I</th>\n",
       "      <th>2</th>\n",
       "      <td>2</td>\n",
       "      <td>1</td>\n",
       "      <td>2</td>\n",
       "      <td>2</td>\n",
       "      <td>1</td>\n",
       "      <td>1</td>\n",
       "      <td>0</td>\n",
       "      <td>0</td>\n",
       "      <td>0</td>\n",
       "    </tr>\n",
       "    <tr>\n",
       "      <th>D</th>\n",
       "      <th>S</th>\n",
       "      <th>O</th>\n",
       "      <th>1</th>\n",
       "      <td>3</td>\n",
       "      <td>1</td>\n",
       "      <td>1</td>\n",
       "      <td>2</td>\n",
       "      <td>1</td>\n",
       "      <td>1</td>\n",
       "      <td>0</td>\n",
       "      <td>0</td>\n",
       "      <td>0</td>\n",
       "    </tr>\n",
       "    <tr>\n",
       "      <th rowspan=\"3\" valign=\"top\">H</th>\n",
       "      <th rowspan=\"3\" valign=\"top\">S</th>\n",
       "      <th rowspan=\"3\" valign=\"top\">X</th>\n",
       "      <th>1</th>\n",
       "      <td>1</td>\n",
       "      <td>1</td>\n",
       "      <td>1</td>\n",
       "      <td>1</td>\n",
       "      <td>1</td>\n",
       "      <td>1</td>\n",
       "      <td>0</td>\n",
       "      <td>0</td>\n",
       "      <td>0</td>\n",
       "    </tr>\n",
       "    <tr>\n",
       "      <th>1</th>\n",
       "      <td>2</td>\n",
       "      <td>1</td>\n",
       "      <td>1</td>\n",
       "      <td>2</td>\n",
       "      <td>1</td>\n",
       "      <td>1</td>\n",
       "      <td>0</td>\n",
       "      <td>0</td>\n",
       "      <td>0</td>\n",
       "    </tr>\n",
       "    <tr>\n",
       "      <th>1</th>\n",
       "      <td>2</td>\n",
       "      <td>1</td>\n",
       "      <td>1</td>\n",
       "      <td>2</td>\n",
       "      <td>1</td>\n",
       "      <td>1</td>\n",
       "      <td>1</td>\n",
       "      <td>0</td>\n",
       "      <td>0</td>\n",
       "    </tr>\n",
       "    <tr>\n",
       "      <th>D</th>\n",
       "      <th>S</th>\n",
       "      <th>O</th>\n",
       "      <th>1</th>\n",
       "      <td>2</td>\n",
       "      <td>1</td>\n",
       "      <td>2</td>\n",
       "      <td>2</td>\n",
       "      <td>1</td>\n",
       "      <td>1</td>\n",
       "      <td>0</td>\n",
       "      <td>0</td>\n",
       "      <td>0</td>\n",
       "    </tr>\n",
       "    <tr>\n",
       "      <th rowspan=\"2\" valign=\"top\">H</th>\n",
       "      <th rowspan=\"2\" valign=\"top\">S</th>\n",
       "      <th rowspan=\"2\" valign=\"top\">X</th>\n",
       "      <th>1</th>\n",
       "      <td>2</td>\n",
       "      <td>2</td>\n",
       "      <td>2</td>\n",
       "      <td>2</td>\n",
       "      <td>1</td>\n",
       "      <td>1</td>\n",
       "      <td>0</td>\n",
       "      <td>0</td>\n",
       "      <td>0</td>\n",
       "    </tr>\n",
       "    <tr>\n",
       "      <th>2</th>\n",
       "      <td>2</td>\n",
       "      <td>1</td>\n",
       "      <td>1</td>\n",
       "      <td>2</td>\n",
       "      <td>1</td>\n",
       "      <td>1</td>\n",
       "      <td>0</td>\n",
       "      <td>0</td>\n",
       "      <td>0</td>\n",
       "    </tr>\n",
       "    <tr>\n",
       "      <th>D</th>\n",
       "      <th>R</th>\n",
       "      <th>O</th>\n",
       "      <th>1</th>\n",
       "      <td>3</td>\n",
       "      <td>1</td>\n",
       "      <td>1</td>\n",
       "      <td>2</td>\n",
       "      <td>1</td>\n",
       "      <td>1</td>\n",
       "      <td>0</td>\n",
       "      <td>0</td>\n",
       "      <td>0</td>\n",
       "    </tr>\n",
       "    <tr>\n",
       "      <th rowspan=\"2\" valign=\"top\">H</th>\n",
       "      <th rowspan=\"2\" valign=\"top\">S</th>\n",
       "      <th rowspan=\"2\" valign=\"top\">X</th>\n",
       "      <th>1</th>\n",
       "      <td>2</td>\n",
       "      <td>1</td>\n",
       "      <td>1</td>\n",
       "      <td>1</td>\n",
       "      <td>1</td>\n",
       "      <td>1</td>\n",
       "      <td>0</td>\n",
       "      <td>0</td>\n",
       "      <td>0</td>\n",
       "    </tr>\n",
       "    <tr>\n",
       "      <th>2</th>\n",
       "      <td>2</td>\n",
       "      <td>1</td>\n",
       "      <td>1</td>\n",
       "      <td>2</td>\n",
       "      <td>1</td>\n",
       "      <td>1</td>\n",
       "      <td>0</td>\n",
       "      <td>0</td>\n",
       "      <td>0</td>\n",
       "    </tr>\n",
       "    <tr>\n",
       "      <th>C</th>\n",
       "      <th>S</th>\n",
       "      <th>O</th>\n",
       "      <th>1</th>\n",
       "      <td>2</td>\n",
       "      <td>1</td>\n",
       "      <td>2</td>\n",
       "      <td>2</td>\n",
       "      <td>1</td>\n",
       "      <td>1</td>\n",
       "      <td>0</td>\n",
       "      <td>0</td>\n",
       "      <td>0</td>\n",
       "    </tr>\n",
       "    <tr>\n",
       "      <th>H</th>\n",
       "      <th>R</th>\n",
       "      <th>X</th>\n",
       "      <th>1</th>\n",
       "      <td>2</td>\n",
       "      <td>1</td>\n",
       "      <td>1</td>\n",
       "      <td>2</td>\n",
       "      <td>1</td>\n",
       "      <td>1</td>\n",
       "      <td>0</td>\n",
       "      <td>0</td>\n",
       "      <td>0</td>\n",
       "    </tr>\n",
       "    <tr>\n",
       "      <th>B</th>\n",
       "      <th>X</th>\n",
       "      <th>O</th>\n",
       "      <th>1</th>\n",
       "      <td>1</td>\n",
       "      <td>1</td>\n",
       "      <td>1</td>\n",
       "      <td>2</td>\n",
       "      <td>1</td>\n",
       "      <td>1</td>\n",
       "      <td>0</td>\n",
       "      <td>0</td>\n",
       "      <td>0</td>\n",
       "    </tr>\n",
       "  </tbody>\n",
       "</table>\n",
       "<p>1066 rows × 9 columns</p>\n",
       "</div>"
      ],
      "text/plain": [
       "         *******  DATA2;  1978  FLARE  DATA  (08/19/78  to  12/23/78)  *****\n",
       "H A X 1        3       1     1      1     1          1   0          0      0\n",
       "D R O 1        3       1     1      2     1          1   0          0      0\n",
       "C S O 1        3       1     1      2     1          1   0          0      0\n",
       "H R X 1        2       1     1      1     1          1   0          0      0\n",
       "  S X 1        1       1     1      2     1          1   0          0      0\n",
       "C A O 1        2       1     1      2     1          1   0          0      0\n",
       "B X O 1        3       1     1      2     1          1   0          0      0\n",
       "C A O 1        3       1     1      2     1          1   0          0      0\n",
       "      1        2       1     1      2     1          1   1          0      0\n",
       "B X O 1        3       1     1      2     1          1   0          0      0\n",
       "C A O 1        2       1     1      2     1          1   0          0      0\n",
       "B X O 1        3       1     1      2     1          1   0          0      0\n",
       "    I 1        2       1     1      2     1          1   0          0      0\n",
       "C S O 2        2       1     1      2     1          1   0          0      0\n",
       "B X O 1        3       1     1      2     1          1   0          0      0\n",
       "      1        2       1     1      2     1          1   0          0      0\n",
       "D R I 1        3       1     1      2     1          1   1          0      0\n",
       "H S X 1        3       1     1      2     1          1   0          0      0\n",
       "B X O 1        2       1     1      2     1          1   0          0      0\n",
       "      1        2       1     2      2     1          1   0          0      0\n",
       "H S X 1        2       1     1      2     1          1   0          0      0\n",
       "B X O 1        3       1     1      2     1          1   0          0      0\n",
       "      2        2       1     2      2     1          1   0          0      0\n",
       "C R O 1        3       1     1      2     1          1   5          0      0\n",
       "B X O 1        2       1     2      2     1          1   0          0      0\n",
       "      1        3       1     1      2     1          1   0          0      0\n",
       "D A I 2        3       1     1      2     1          1   2          0      0\n",
       "B X O 1        3       1     1      2     1          1   0          0      0\n",
       "D R O 1        3       1     1      2     1          1   0          0      0\n",
       "B X O 1        3       1     1      2     1          1   0          0      0\n",
       "...          ...     ...   ...    ...   ...        ...  ..        ...    ...\n",
       "C R O 1        3       1     1      2     1          1   1          0      0\n",
       "      1        2       1     1      2     1          1   0          0      0\n",
       "D H O 1        2       1     2      2     1          1   0          0      0\n",
       "C S O 1        2       1     1      2     1          1   0          0      0\n",
       "E A I 1        2       1     2      2     1          1   0          0      0\n",
       "H S X 1        2       1     1      1     1          1   1          0      0\n",
       "C S O 1        3       1     1      2     1          1   0          0      0\n",
       "H S X 1        2       1     1      2     1          1   0          0      0\n",
       "D S O 1        3       1     2      2     1          1   0          0      0\n",
       "B X O 1        1       1     1      2     1          1   0          0      0\n",
       "E A O 1        2       1     2      2     1          1   4          1      0\n",
       "H S X 1        3       1     1      1     1          1   1          0      0\n",
       "      1        3       1     1      1     1          1   0          0      0\n",
       "      1        2       1     1      2     1          1   0          0      0\n",
       "      1        2       1     1      2     1          1   1          0      0\n",
       "D H O 1        3       1     2      2     1          1   0          0      0\n",
       "E A I 2        2       1     2      2     1          1   0          0      0\n",
       "D S O 1        3       1     1      2     1          1   0          0      0\n",
       "H S X 1        1       1     1      1     1          1   0          0      0\n",
       "      1        2       1     1      2     1          1   0          0      0\n",
       "      1        2       1     1      2     1          1   1          0      0\n",
       "D S O 1        2       1     2      2     1          1   0          0      0\n",
       "H S X 1        2       2     2      2     1          1   0          0      0\n",
       "      2        2       1     1      2     1          1   0          0      0\n",
       "D R O 1        3       1     1      2     1          1   0          0      0\n",
       "H S X 1        2       1     1      1     1          1   0          0      0\n",
       "      2        2       1     1      2     1          1   0          0      0\n",
       "C S O 1        2       1     2      2     1          1   0          0      0\n",
       "H R X 1        2       1     1      2     1          1   0          0      0\n",
       "B X O 1        1       1     1      2     1          1   0          0      0\n",
       "\n",
       "[1066 rows x 9 columns]"
      ]
     },
     "execution_count": 493,
     "metadata": {},
     "output_type": "execute_result"
    }
   ],
   "source": [
    "flare_data"
   ]
  },
  {
   "cell_type": "markdown",
   "metadata": {},
   "source": [
    "### Random Forest"
   ]
  },
  {
   "cell_type": "code",
   "execution_count": 213,
   "metadata": {},
   "outputs": [],
   "source": [
    "# setup random forest regressor\n",
    "\n",
    "rfr = RandomForestRegressor(n_estimators = 100)"
   ]
  },
  {
   "cell_type": "code",
   "execution_count": 214,
   "metadata": {},
   "outputs": [
    {
     "data": {
      "text/plain": [
       "RandomForestRegressor(bootstrap=True, criterion='mse', max_depth=None,\n",
       "           max_features='auto', max_leaf_nodes=None,\n",
       "           min_impurity_decrease=0.0, min_impurity_split=None,\n",
       "           min_samples_leaf=1, min_samples_split=2,\n",
       "           min_weight_fraction_leaf=0.0, n_estimators=100, n_jobs=None,\n",
       "           oob_score=False, random_state=None, verbose=0, warm_start=False)"
      ]
     },
     "execution_count": 214,
     "metadata": {},
     "output_type": "execute_result"
    }
   ],
   "source": [
    "# fit the model\n",
    "\n",
    "rfr.fit(x_flare_train, y_flare_train)"
   ]
  },
  {
   "cell_type": "code",
   "execution_count": 215,
   "metadata": {},
   "outputs": [
    {
     "name": "stdout",
     "output_type": "stream",
     "text": [
      "RESULTS\n",
      "\n",
      "Training score: 0.16172978859703835\n",
      "Testing score: -0.050112092872844904\n",
      "Training MSE: 0.07445854762499406\n",
      "Testing MSE 0.10300122910952003\n"
     ]
    }
   ],
   "source": [
    "# show results\n",
    "\n",
    "print('RESULTS')\n",
    "print()\n",
    "print('Training score:', rfr.score(x_flare_train, y_flare_train))\n",
    "print('Testing score:', rfr.score(x_flare_test, y_flare_test))\n",
    "print('Training MSE:', mean_squared_error(y_flare_train, rfr.predict(x_flare_train)))\n",
    "print('Testing MSE',  mean_squared_error(y_flare_test, rfr.predict(x_flare_test)))"
   ]
  },
  {
   "cell_type": "markdown",
   "metadata": {},
   "source": [
    "### Kernel Regression"
   ]
  },
  {
   "cell_type": "code",
   "execution_count": null,
   "metadata": {},
   "outputs": [],
   "source": []
  },
  {
   "cell_type": "code",
   "execution_count": null,
   "metadata": {},
   "outputs": [],
   "source": []
  },
  {
   "cell_type": "code",
   "execution_count": null,
   "metadata": {},
   "outputs": [],
   "source": []
  },
  {
   "cell_type": "code",
   "execution_count": null,
   "metadata": {},
   "outputs": [],
   "source": []
  },
  {
   "cell_type": "markdown",
   "metadata": {},
   "source": [
    "# Lasso Regression Correction (Fixes Ridge as well)"
   ]
  },
  {
   "cell_type": "code",
   "execution_count": 385,
   "metadata": {},
   "outputs": [
    {
     "name": "stderr",
     "output_type": "stream",
     "text": [
      "/Users/seandeely/anaconda3/lib/python3.7/site-packages/sklearn/preprocessing/data.py:645: DataConversionWarning: Data with input dtype int64, float64 were all converted to float64 by StandardScaler.\n",
      "  return self.partial_fit(X, y)\n",
      "/Users/seandeely/anaconda3/lib/python3.7/site-packages/ipykernel_launcher.py:11: DataConversionWarning: Data with input dtype int64, float64 were all converted to float64 by StandardScaler.\n",
      "  # This is added back by InteractiveShellApp.init_path()\n"
     ]
    }
   ],
   "source": [
    "# Import data\n",
    "admission_rate=pd.read_csv('/Users/seandeely/Documents/Spring_Quarter_2019/STA141C/Project/Admission_Predict.csv')\n",
    "\n",
    "y=admission_rate['Chance of Admit ']\n",
    "x=admission_rate.iloc[:,1:8]\n",
    "\n",
    "# Scale data (BEFORE splitting)\n",
    "\n",
    "scaler = StandardScaler()\n",
    "scaler.fit(x)\n",
    "x = scaler.transform(x)"
   ]
  },
  {
   "cell_type": "code",
   "execution_count": 386,
   "metadata": {},
   "outputs": [],
   "source": [
    "# split data into 3 test and training sets\n",
    "x_train0, x_test0, y_train0, y_test0 = train_test_split(x,\n",
    "    y, test_size = 0.30, random_state = 0)\n",
    "\n",
    "x_train1, x_test1, y_train1, y_test1 = train_test_split(x,\n",
    "    y, test_size = 0.30, random_state = 1)\n",
    "\n",
    "x_train2, x_test2, y_train2, y_test2 = train_test_split(x,\n",
    "    y, test_size = 0.30, random_state = 2)"
   ]
  },
  {
   "cell_type": "code",
   "execution_count": 387,
   "metadata": {},
   "outputs": [
    {
     "name": "stdout",
     "output_type": "stream",
     "text": [
      "RESULTS First Trial\n",
      "\n",
      "Training score: 0.8170491403077088\n",
      "Testing score: 0.7348901587312239\n",
      "Training MSE: 0.0039512006844917655\n",
      "Testing MSE 0.004562612168817649\n",
      "\n",
      "\n",
      "RESULTS Second Trial\n",
      "\n",
      "Training score: 0.7857213759041137\n",
      "Testing score: 0.815997379021666\n",
      "Training MSE: 0.004106955669803228\n",
      "Testing MSE 0.004199183869757572\n",
      "\n",
      "\n",
      "RESULTS Third Trial\n",
      "\n",
      "Training score: 0.8045174475484963\n",
      "Testing score: 0.7702217402115641\n",
      "Training MSE: 0.004141925961120853\n",
      "Testing MSE 0.004117586523349779\n"
     ]
    }
   ],
   "source": [
    "# Fit the Model and Print Score\n",
    "\n",
    "lasso = linear_model.Lasso(alpha = 0.01) # Make sure alpha is small\n",
    "\n",
    "lasso_0 = lasso.fit(x_train0, y_train0)\n",
    "\n",
    "lasso_1 = lasso.fit(x_train1, y_train1)\n",
    "\n",
    "lasso_2 = lasso.fit(x_train2, y_train2)\n",
    "\n",
    "\n",
    "print('RESULTS First Trial')\n",
    "print()\n",
    "print('Training score:', lasso_0.score(x_train0, y_train0))\n",
    "print('Testing score:', lasso_0.score(x_test0, y_test0))\n",
    "print('Training MSE:', mean_squared_error(y_train0, lasso_0.predict(x_train0)))\n",
    "print('Testing MSE',  mean_squared_error(y_test0, lasso_0.predict(x_test0)))\n",
    "print()\n",
    "print()\n",
    "\n",
    "\n",
    "print('RESULTS Second Trial')\n",
    "print()\n",
    "print('Training score:', lasso_1.score(x_train1, y_train1))\n",
    "print('Testing score:', lasso_1.score(x_test1, y_test1))\n",
    "print('Training MSE:', mean_squared_error(y_train1, lasso_1.predict(x_train1)))\n",
    "print('Testing MSE',  mean_squared_error(y_test1, lasso_1.predict(x_test1)))\n",
    "print()\n",
    "print()\n",
    "\n",
    "\n",
    "\n",
    "print('RESULTS Third Trial')\n",
    "print()\n",
    "print('Training score:', lasso_2.score(x_train2, y_train2))\n",
    "print('Testing score:', lasso_2.score(x_test2, y_test2))\n",
    "print('Training MSE:', mean_squared_error(y_train2, lasso_2.predict(x_train2)))\n",
    "print('Testing MSE',  mean_squared_error(y_test2, lasso_2.predict(x_test2)))"
   ]
  },
  {
   "cell_type": "code",
   "execution_count": 388,
   "metadata": {},
   "outputs": [
    {
     "name": "stdout",
     "output_type": "stream",
     "text": [
      "RESULTS First Trial\n",
      "\n",
      "Training score: 0.8206923919741509\n",
      "Testing score: 0.7443859805845199\n",
      "Training MSE: 0.003872517159842398\n",
      "Testing MSE 0.00439918650293734\n",
      "\n",
      "\n",
      "RESULTS Second Trial\n",
      "\n",
      "Training score: 0.7869104607118758\n",
      "Testing score: 0.8288731733926584\n",
      "Training MSE: 0.004084165162286571\n",
      "Testing MSE 0.0039053411639009346\n",
      "\n",
      "\n",
      "RESULTS Third Trial\n",
      "\n",
      "Training score: 0.8133129585111267\n",
      "Testing score: 0.7653209031393656\n",
      "Training MSE: 0.003955564801311054\n",
      "Testing MSE 0.004205408672843806\n"
     ]
    }
   ],
   "source": [
    "# Fit the Model and Print Score\n",
    "\n",
    "ridge = linear_model.Ridge()\n",
    "\n",
    "ridge_0 = ridge.fit(x_train0, y_train0)\n",
    "\n",
    "ridge_1 = ridge.fit(x_train1, y_train1)\n",
    "\n",
    "ridge_2 = ridge.fit(x_train2, y_train2)\n",
    "\n",
    "\n",
    "print('RESULTS First Trial')\n",
    "print()\n",
    "print('Training score:', ridge_0.score(x_train0, y_train0))\n",
    "print('Testing score:', ridge_0.score(x_test0, y_test0))\n",
    "print('Training MSE:', mean_squared_error(y_train0, ridge_0.predict(x_train0)))\n",
    "print('Testing MSE',  mean_squared_error(y_test0, ridge_0.predict(x_test0)))\n",
    "print()\n",
    "print()\n",
    "\n",
    "\n",
    "print('RESULTS Second Trial')\n",
    "print()\n",
    "print('Training score:', ridge_1.score(x_train1, y_train1))\n",
    "print('Testing score:', ridge_1.score(x_test1, y_test1))\n",
    "print('Training MSE:', mean_squared_error(y_train1, ridge_1.predict(x_train1)))\n",
    "print('Testing MSE',  mean_squared_error(y_test1, ridge_1.predict(x_test1)))\n",
    "print()\n",
    "print()\n",
    "\n",
    "\n",
    "\n",
    "print('RESULTS Third Trial')\n",
    "print()\n",
    "print('Training score:', ridge_2.score(x_train2, y_train2))\n",
    "print('Testing score:', ridge_2.score(x_test2, y_test2))\n",
    "print('Training MSE:', mean_squared_error(y_train2, ridge_2.predict(x_train2)))\n",
    "print('Testing MSE',  mean_squared_error(y_test2, ridge_2.predict(x_test2)))"
   ]
  },
  {
   "cell_type": "code",
   "execution_count": null,
   "metadata": {},
   "outputs": [],
   "source": []
  }
 ],
 "metadata": {
  "kernelspec": {
   "display_name": "Python 3",
   "language": "python",
   "name": "python3"
  },
  "language_info": {
   "codemirror_mode": {
    "name": "ipython",
    "version": 3
   },
   "file_extension": ".py",
   "mimetype": "text/x-python",
   "name": "python",
   "nbconvert_exporter": "python",
   "pygments_lexer": "ipython3",
   "version": "3.7.1"
  }
 },
 "nbformat": 4,
 "nbformat_minor": 2
}
