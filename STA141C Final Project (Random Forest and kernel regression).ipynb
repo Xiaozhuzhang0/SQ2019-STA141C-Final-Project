{
 "cells": [
  {
   "cell_type": "code",
   "execution_count": 127,
   "metadata": {},
   "outputs": [],
   "source": [
    "# First import packages\n",
    "\n",
    "import seaborn\n",
    "import numpy as np\n",
    "import matplotlib.pyplot as plt\n",
    "import pyreadr\n",
    "import pandas as pd\n",
    "import functools \n",
    "from sklearn.metrics import mean_squared_error\n",
    "from sklearn.model_selection import train_test_split\n",
    "from sklearn.ensemble import RandomForestRegressor\n",
    "from sklearn.preprocessing import Imputer\n",
    "from sklearn.linear_model import LinearRegression\n",
    "from sklearn import linear_model\n",
    "from sklearn.preprocessing import StandardScaler\n",
    "from sklearn.kernel_ridge import KernelRidge"
   ]
  },
  {
   "cell_type": "markdown",
   "metadata": {},
   "source": [
    "## 1) Admissions Data"
   ]
  },
  {
   "cell_type": "code",
   "execution_count": 128,
   "metadata": {},
   "outputs": [],
   "source": [
    "# load data\n",
    "\n",
    "admit_data = pd.read_csv('/Users/seandeely/Documents/Spring_Quarter_2019/STA141C/Project/Admission_Predict.csv')                                  "
   ]
  },
  {
   "cell_type": "code",
   "execution_count": 129,
   "metadata": {},
   "outputs": [],
   "source": [
    "# split data into and y\n",
    "\n",
    "y_admit = admit_data['Chance of Admit ']\n",
    "x_admit = admit_data.iloc[:,1:8]"
   ]
  },
  {
   "cell_type": "code",
   "execution_count": 130,
   "metadata": {},
   "outputs": [],
   "source": [
    "# split data into 3 test and training sets\n",
    "\n",
    "x_admit_train0, x_admit_test0, y_admit_train0, y_admit_test0 = train_test_split(x_admit,\n",
    "    y_admit, test_size = 0.30, random_state = 0)\n",
    "\n",
    "x_admit_train1, x_admit_test1, y_admit_train1, y_admit_test1 = train_test_split(x_admit,\n",
    "    y_admit, test_size = 0.30, random_state = 1)\n",
    "\n",
    "x_admit_train2, x_admit_test2, y_admit_train2, y_admit_test2 = train_test_split(x_admit,\n",
    "    y_admit, test_size = 0.30, random_state = 2)"
   ]
  },
  {
   "cell_type": "markdown",
   "metadata": {},
   "source": [
    "### Random Forest"
   ]
  },
  {
   "cell_type": "code",
   "execution_count": 131,
   "metadata": {},
   "outputs": [],
   "source": [
    "# setup random forest regressors\n",
    "\n",
    "rfr0 = RandomForestRegressor(n_estimators = 100)\n",
    "rfr1 = RandomForestRegressor(n_estimators = 100)\n",
    "rfr2 = RandomForestRegressor(n_estimators = 100)"
   ]
  },
  {
   "cell_type": "code",
   "execution_count": 132,
   "metadata": {},
   "outputs": [
    {
     "name": "stdout",
     "output_type": "stream",
     "text": [
      "CPU times: user 101 ms, sys: 9.71 ms, total: 111 ms\n",
      "Wall time: 127 ms\n",
      "CPU times: user 110 ms, sys: 8.32 ms, total: 118 ms\n",
      "Wall time: 136 ms\n",
      "CPU times: user 109 ms, sys: 9.54 ms, total: 118 ms\n",
      "Wall time: 140 ms\n"
     ]
    },
    {
     "data": {
      "text/plain": [
       "RandomForestRegressor(bootstrap=True, criterion='mse', max_depth=None,\n",
       "           max_features='auto', max_leaf_nodes=None,\n",
       "           min_impurity_decrease=0.0, min_impurity_split=None,\n",
       "           min_samples_leaf=1, min_samples_split=2,\n",
       "           min_weight_fraction_leaf=0.0, n_estimators=100, n_jobs=None,\n",
       "           oob_score=False, random_state=None, verbose=0, warm_start=False)"
      ]
     },
     "execution_count": 132,
     "metadata": {},
     "output_type": "execute_result"
    }
   ],
   "source": [
    "# fit the model for all three training sets\n",
    "\n",
    "%time rfr0.fit(x_admit_train0, y_admit_train0)\n",
    "%time rfr1.fit(x_admit_train1, y_admit_train1)\n",
    "%time rfr2.fit(x_admit_train2, y_admit_train2)"
   ]
  },
  {
   "cell_type": "code",
   "execution_count": 133,
   "metadata": {},
   "outputs": [
    {
     "name": "stdout",
     "output_type": "stream",
     "text": [
      "RESULTS First Trial\n",
      "\n",
      "Training score: 0.969087645917413\n",
      "CPU times: user 10.7 ms, sys: 1.58 ms, total: 12.3 ms\n",
      "Wall time: 10.8 ms\n",
      "Testing score: 0.6816758936342522\n",
      "CPU times: user 9.21 ms, sys: 700 µs, total: 9.91 ms\n",
      "Wall time: 9.43 ms\n",
      "Training MSE: 0.000667615964285714\n",
      "CPU times: user 10.9 ms, sys: 865 µs, total: 11.8 ms\n",
      "Wall time: 11.1 ms\n",
      "Testing MSE 0.00547844408333333\n",
      "CPU times: user 8.64 ms, sys: 630 µs, total: 9.27 ms\n",
      "Wall time: 8.81 ms\n"
     ]
    }
   ],
   "source": [
    "# show results\n",
    "\n",
    "print('RESULTS First Trial')\n",
    "print()\n",
    "%time print('Training score:', rfr0.score(x_admit_train0, y_admit_train0))\n",
    "%time print('Testing score:', rfr0.score(x_admit_test0, y_admit_test0))\n",
    "%time print('Training MSE:', mean_squared_error(y_admit_train0, rfr0.predict(x_admit_train0)))\n",
    "%time print('Testing MSE',  mean_squared_error(y_admit_test0, rfr0.predict(x_admit_test0)))"
   ]
  },
  {
   "cell_type": "code",
   "execution_count": 134,
   "metadata": {},
   "outputs": [
    {
     "name": "stdout",
     "output_type": "stream",
     "text": [
      "RESULTS Second Trial\n",
      "\n",
      "Training score: 0.9618448955340769\n",
      "CPU times: user 11 ms, sys: 1.53 ms, total: 12.5 ms\n",
      "Wall time: 11.1 ms\n",
      "Testing score: 0.7895983051915073\n",
      "CPU times: user 9.62 ms, sys: 840 µs, total: 10.5 ms\n",
      "Wall time: 10.1 ms\n",
      "Training MSE: 0.0007312970357142857\n",
      "CPU times: user 10.1 ms, sys: 656 µs, total: 10.7 ms\n",
      "Wall time: 10.1 ms\n",
      "Testing MSE 0.0048016457500000016\n",
      "CPU times: user 8.49 ms, sys: 573 µs, total: 9.07 ms\n",
      "Wall time: 8.61 ms\n"
     ]
    }
   ],
   "source": [
    "print('RESULTS Second Trial')\n",
    "print()\n",
    "%time print('Training score:', rfr1.score(x_admit_train1, y_admit_train1))\n",
    "%time print('Testing score:', rfr1.score(x_admit_test1, y_admit_test1))\n",
    "%time print('Training MSE:', mean_squared_error(y_admit_train1, rfr1.predict(x_admit_train1)))\n",
    "%time print('Testing MSE',  mean_squared_error(y_admit_test1, rfr1.predict(x_admit_test1)))"
   ]
  },
  {
   "cell_type": "code",
   "execution_count": 135,
   "metadata": {},
   "outputs": [
    {
     "name": "stdout",
     "output_type": "stream",
     "text": [
      "RESULTS Third Trial\n",
      "\n",
      "Training score: 0.9697749016814136\n",
      "CPU times: user 11.7 ms, sys: 1.63 ms, total: 13.4 ms\n",
      "Wall time: 12 ms\n",
      "Testing score: 0.7193757178482091\n",
      "CPU times: user 8.84 ms, sys: 674 µs, total: 9.51 ms\n",
      "Wall time: 8.97 ms\n",
      "Training MSE: 0.0006404158214285703\n",
      "CPU times: user 10.6 ms, sys: 739 µs, total: 11.4 ms\n",
      "Wall time: 10.7 ms\n",
      "Testing MSE 0.0050287384166666635\n",
      "CPU times: user 8.91 ms, sys: 680 µs, total: 9.59 ms\n",
      "Wall time: 9.05 ms\n"
     ]
    }
   ],
   "source": [
    "print('RESULTS Third Trial')\n",
    "print()\n",
    "%time print('Training score:', rfr2.score(x_admit_train2, y_admit_train2))\n",
    "%time print('Testing score:', rfr2.score(x_admit_test2, y_admit_test2))\n",
    "%time print('Training MSE:', mean_squared_error(y_admit_train2, rfr2.predict(x_admit_train2)))\n",
    "%time print('Testing MSE',  mean_squared_error(y_admit_test2, rfr2.predict(x_admit_test2)))"
   ]
  },
  {
   "cell_type": "markdown",
   "metadata": {},
   "source": [
    "### Kernel Regression"
   ]
  },
  {
   "cell_type": "code",
   "execution_count": 136,
   "metadata": {},
   "outputs": [
    {
     "name": "stdout",
     "output_type": "stream",
     "text": [
      "CPU times: user 37.9 ms, sys: 6.23 ms, total: 44.1 ms\n",
      "Wall time: 10 ms\n",
      "CPU times: user 49.4 ms, sys: 5.95 ms, total: 55.3 ms\n",
      "Wall time: 7.59 ms\n",
      "CPU times: user 48.5 ms, sys: 6.43 ms, total: 54.9 ms\n",
      "Wall time: 7.77 ms\n"
     ]
    },
    {
     "data": {
      "text/plain": [
       "KernelRidge(alpha=1, coef0=1, degree=3, gamma=None, kernel='poly',\n",
       "      kernel_params=None)"
      ]
     },
     "execution_count": 136,
     "metadata": {},
     "output_type": "execute_result"
    }
   ],
   "source": [
    "# Setup and fit models\n",
    "\n",
    "kr0 = KernelRidge(kernel = 'poly')\n",
    "kr1 = KernelRidge(kernel = 'poly')\n",
    "kr2 = KernelRidge(kernel = 'poly')\n",
    "\n",
    "\n",
    "%time kr0.fit(x_admit_train0, y_admit_train0)\n",
    "%time kr1.fit(x_admit_train1, y_admit_train1)\n",
    "%time kr2.fit(x_admit_train2, y_admit_train2)"
   ]
  },
  {
   "cell_type": "code",
   "execution_count": 137,
   "metadata": {},
   "outputs": [
    {
     "name": "stdout",
     "output_type": "stream",
     "text": [
      "RESULTS First Trial\n",
      "\n",
      "Training score: 0.8625165083619724\n",
      "CPU times: user 19 ms, sys: 1.78 ms, total: 20.7 ms\n",
      "Wall time: 5.64 ms\n",
      "Testing score: 0.6858768683997786\n",
      "CPU times: user 16.4 ms, sys: 847 µs, total: 17.3 ms\n",
      "Wall time: 3.73 ms\n",
      "Training MSE: 0.0029692392109015157\n",
      "CPU times: user 19.4 ms, sys: 372 µs, total: 19.8 ms\n",
      "Wall time: 4.92 ms\n",
      "Testing MSE 0.005406144169854621\n",
      "CPU times: user 13.1 ms, sys: 340 µs, total: 13.4 ms\n",
      "Wall time: 2.98 ms\n"
     ]
    }
   ],
   "source": [
    "# show results\n",
    "\n",
    "print('RESULTS First Trial')\n",
    "print()\n",
    "%time print('Training score:', kr0.score(x_admit_train0, y_admit_train0))\n",
    "%time print('Testing score:', kr0.score(x_admit_test0, y_admit_test0))\n",
    "%time print('Training MSE:', mean_squared_error(y_admit_train0, kr0.predict(x_admit_train0)))\n",
    "%time print('Testing MSE',  mean_squared_error(y_admit_test0, kr0.predict(x_admit_test0)))"
   ]
  },
  {
   "cell_type": "code",
   "execution_count": 138,
   "metadata": {},
   "outputs": [
    {
     "name": "stdout",
     "output_type": "stream",
     "text": [
      "RESULTS Second Trial\n",
      "\n",
      "Training score: 0.8204484583363615\n",
      "CPU times: user 18.6 ms, sys: 1.64 ms, total: 20.2 ms\n",
      "Wall time: 5.51 ms\n",
      "Testing score: 0.7962525384521087\n",
      "CPU times: user 16.4 ms, sys: 312 µs, total: 16.8 ms\n",
      "Wall time: 3.13 ms\n",
      "Training MSE: 0.0034413615691661834\n",
      "CPU times: user 18.3 ms, sys: 343 µs, total: 18.6 ms\n",
      "Wall time: 4.15 ms\n",
      "Testing MSE 0.004649787320892015\n",
      "CPU times: user 12.3 ms, sys: 343 µs, total: 12.6 ms\n",
      "Wall time: 2.35 ms\n"
     ]
    }
   ],
   "source": [
    "# show results\n",
    "\n",
    "print('RESULTS Second Trial')\n",
    "print()\n",
    "%time print('Training score:', kr1.score(x_admit_train1, y_admit_train1))\n",
    "%time print('Testing score:', kr1.score(x_admit_test1, y_admit_test1))\n",
    "%time print('Training MSE:', mean_squared_error(y_admit_train1, kr1.predict(x_admit_train1)))\n",
    "%time print('Testing MSE',  mean_squared_error(y_admit_test1, kr1.predict(x_admit_test1)))"
   ]
  },
  {
   "cell_type": "code",
   "execution_count": 139,
   "metadata": {},
   "outputs": [
    {
     "name": "stdout",
     "output_type": "stream",
     "text": [
      "RESULTS Third Trial\n",
      "\n",
      "Training score: 0.8493200050120276\n",
      "CPU times: user 17.6 ms, sys: 1.72 ms, total: 19.3 ms\n",
      "Wall time: 5.22 ms\n",
      "Testing score: 0.7474234325065947\n",
      "CPU times: user 13.4 ms, sys: 400 µs, total: 13.8 ms\n",
      "Wall time: 2.97 ms\n",
      "Training MSE: 0.003192639830181641\n",
      "CPU times: user 17.8 ms, sys: 367 µs, total: 18.2 ms\n",
      "Wall time: 3.71 ms\n",
      "Testing MSE 0.0045261282393832996\n",
      "CPU times: user 10.3 ms, sys: 336 µs, total: 10.6 ms\n",
      "Wall time: 2.06 ms\n"
     ]
    }
   ],
   "source": [
    "# show results\n",
    "\n",
    "print('RESULTS Third Trial')\n",
    "print()\n",
    "%time print('Training score:', kr2.score(x_admit_train2, y_admit_train2))\n",
    "%time print('Testing score:', kr2.score(x_admit_test2, y_admit_test2))\n",
    "%time print('Training MSE:', mean_squared_error(y_admit_train2, kr2.predict(x_admit_train2)))\n",
    "%time print('Testing MSE',  mean_squared_error(y_admit_test2, kr2.predict(x_admit_test2)))"
   ]
  },
  {
   "cell_type": "markdown",
   "metadata": {},
   "source": [
    "## 2) Crime Data"
   ]
  },
  {
   "cell_type": "code",
   "execution_count": 140,
   "metadata": {},
   "outputs": [],
   "source": [
    "# load data\n",
    "\n",
    "crime_data = pd.read_csv('/Users/seandeely/Documents/Spring_Quarter_2019/STA141C/Project/Violent_Crime_pred.csv')"
   ]
  },
  {
   "cell_type": "code",
   "execution_count": 141,
   "metadata": {},
   "outputs": [],
   "source": [
    "# split and clean data\n",
    "\n",
    "x_crime = crime_data.iloc[:,2:-1]\n",
    "y_crime = crime_data['target']\n",
    "\n",
    "x_crime.iloc[:,np.sort(x_crime.isna().sum())==0]\n",
    "\n",
    "x_crime = x_crime.dropna(axis='columns')"
   ]
  },
  {
   "cell_type": "code",
   "execution_count": 142,
   "metadata": {},
   "outputs": [],
   "source": [
    "# split data into 3 test and training sets\n",
    "\n",
    "x_crime_train0, x_crime_test0, y_crime_train0, y_crime_test0 = train_test_split(x_crime,\n",
    "    y_crime, test_size = 0.30, random_state = 0)\n",
    "\n",
    "x_crime_train1, x_crime_test1, y_crime_train1, y_crime_test1 = train_test_split(x_crime,\n",
    "    y_crime, test_size = 0.30, random_state = 1)\n",
    "\n",
    "x_crime_train2, x_crime_test2, y_crime_train2, y_crime_test2 = train_test_split(x_crime,\n",
    "    y_crime, test_size = 0.30, random_state = 2)"
   ]
  },
  {
   "cell_type": "markdown",
   "metadata": {},
   "source": [
    "### Random Forest"
   ]
  },
  {
   "cell_type": "code",
   "execution_count": 143,
   "metadata": {},
   "outputs": [],
   "source": [
    "# setup random forest regressors\n",
    "\n",
    "rfr_0 = RandomForestRegressor(n_estimators = 100)\n",
    "rfr_1 = RandomForestRegressor(n_estimators = 100)\n",
    "rfr_2 = RandomForestRegressor(n_estimators = 100)"
   ]
  },
  {
   "cell_type": "code",
   "execution_count": 144,
   "metadata": {},
   "outputs": [
    {
     "name": "stdout",
     "output_type": "stream",
     "text": [
      "CPU times: user 5.98 s, sys: 23.4 ms, total: 6 s\n",
      "Wall time: 6.04 s\n",
      "CPU times: user 5.75 s, sys: 21.1 ms, total: 5.77 s\n",
      "Wall time: 5.81 s\n",
      "CPU times: user 5.87 s, sys: 30.2 ms, total: 5.9 s\n",
      "Wall time: 5.96 s\n"
     ]
    },
    {
     "data": {
      "text/plain": [
       "RandomForestRegressor(bootstrap=True, criterion='mse', max_depth=None,\n",
       "           max_features='auto', max_leaf_nodes=None,\n",
       "           min_impurity_decrease=0.0, min_impurity_split=None,\n",
       "           min_samples_leaf=1, min_samples_split=2,\n",
       "           min_weight_fraction_leaf=0.0, n_estimators=100, n_jobs=None,\n",
       "           oob_score=False, random_state=None, verbose=0, warm_start=False)"
      ]
     },
     "execution_count": 144,
     "metadata": {},
     "output_type": "execute_result"
    }
   ],
   "source": [
    "# fit the models\\\n",
    "\n",
    "%time rfr0.fit(x_crime_train0, y_crime_train0)\n",
    "%time rfr1.fit(x_crime_train1, y_crime_train1)\n",
    "%time rfr2.fit(x_crime_train2, y_crime_train2)"
   ]
  },
  {
   "cell_type": "code",
   "execution_count": 145,
   "metadata": {},
   "outputs": [
    {
     "name": "stdout",
     "output_type": "stream",
     "text": [
      "RESULTS First Trial\n",
      "\n",
      "Training score: 0.9493091992234477\n",
      "CPU times: user 28.3 ms, sys: 1.77 ms, total: 30.1 ms\n",
      "Wall time: 28.1 ms\n",
      "Testing score: 0.6391501827750083\n",
      "CPU times: user 17.4 ms, sys: 573 µs, total: 18 ms\n",
      "Wall time: 17.3 ms\n",
      "Training MSE: 18882.830330525903\n",
      "CPU times: user 27.6 ms, sys: 541 µs, total: 28.1 ms\n",
      "Wall time: 27.6 ms\n",
      "Testing MSE 140642.22020121486\n",
      "CPU times: user 17.8 ms, sys: 582 µs, total: 18.4 ms\n",
      "Wall time: 17.8 ms\n"
     ]
    }
   ],
   "source": [
    "# show results\n",
    "\n",
    "print('RESULTS First Trial')\n",
    "print()\n",
    "%time print('Training score:', rfr0.score(x_crime_train0, y_crime_train0))\n",
    "%time print('Testing score:', rfr0.score(x_crime_test0, y_crime_test0))\n",
    "%time print('Training MSE:', mean_squared_error(y_crime_train0, rfr0.predict(x_crime_train0)))\n",
    "%time print('Testing MSE',  mean_squared_error(y_crime_test0, rfr0.predict(x_crime_test0)))"
   ]
  },
  {
   "cell_type": "code",
   "execution_count": 146,
   "metadata": {},
   "outputs": [
    {
     "name": "stdout",
     "output_type": "stream",
     "text": [
      "RESULTS Second Trial\n",
      "\n",
      "Training score: 0.9504464949104328\n",
      "CPU times: user 28 ms, sys: 1.64 ms, total: 29.6 ms\n",
      "Wall time: 27.7 ms\n",
      "Testing score: 0.6302528851518702\n",
      "CPU times: user 17.2 ms, sys: 541 µs, total: 17.7 ms\n",
      "Wall time: 17 ms\n",
      "Training MSE: 18466.61595466839\n",
      "CPU times: user 29.6 ms, sys: 418 µs, total: 30 ms\n",
      "Wall time: 29.5 ms\n",
      "Testing MSE 144079.44262447982\n",
      "CPU times: user 17.7 ms, sys: 717 µs, total: 18.4 ms\n",
      "Wall time: 17.9 ms\n"
     ]
    }
   ],
   "source": [
    "# show results\n",
    "\n",
    "print('RESULTS Second Trial')\n",
    "print()\n",
    "%time print('Training score:', rfr1.score(x_crime_train1, y_crime_train1))\n",
    "%time print('Testing score:', rfr1.score(x_crime_test1, y_crime_test1))\n",
    "%time print('Training MSE:', mean_squared_error(y_crime_train1, rfr1.predict(x_crime_train1)))\n",
    "%time print('Testing MSE',  mean_squared_error(y_crime_test1, rfr1.predict(x_crime_test1)))"
   ]
  },
  {
   "cell_type": "code",
   "execution_count": 147,
   "metadata": {},
   "outputs": [
    {
     "name": "stdout",
     "output_type": "stream",
     "text": [
      "RESULTS Third Trial\n",
      "\n",
      "Training score: 0.9504466551157622\n",
      "CPU times: user 29 ms, sys: 1.64 ms, total: 30.6 ms\n",
      "Wall time: 28.8 ms\n",
      "Testing score: 0.6164526013806747\n",
      "CPU times: user 18 ms, sys: 665 µs, total: 18.7 ms\n",
      "Wall time: 18 ms\n",
      "Training MSE: 18755.783582419008\n",
      "CPU times: user 26.2 ms, sys: 361 µs, total: 26.5 ms\n",
      "Wall time: 26 ms\n",
      "Testing MSE 144193.99964926616\n",
      "CPU times: user 21.2 ms, sys: 857 µs, total: 22.1 ms\n",
      "Wall time: 21.1 ms\n"
     ]
    }
   ],
   "source": [
    "# show results\n",
    "\n",
    "print('RESULTS Third Trial')\n",
    "print()\n",
    "%time print('Training score:', rfr2.score(x_crime_train2, y_crime_train2))\n",
    "%time print('Testing score:', rfr2.score(x_crime_test2, y_crime_test2))\n",
    "%time print('Training MSE:', mean_squared_error(y_crime_train2, rfr2.predict(x_crime_train2)))\n",
    "%time print('Testing MSE',  mean_squared_error(y_crime_test2, rfr2.predict(x_crime_test2)))"
   ]
  },
  {
   "cell_type": "markdown",
   "metadata": {},
   "source": [
    "### Kernel Regression"
   ]
  },
  {
   "cell_type": "code",
   "execution_count": 148,
   "metadata": {},
   "outputs": [
    {
     "name": "stdout",
     "output_type": "stream",
     "text": [
      "CPU times: user 524 ms, sys: 49.9 ms, total: 574 ms\n",
      "Wall time: 122 ms\n",
      "CPU times: user 591 ms, sys: 58 ms, total: 649 ms\n",
      "Wall time: 92.7 ms\n",
      "CPU times: user 646 ms, sys: 67.8 ms, total: 714 ms\n",
      "Wall time: 103 ms\n"
     ]
    },
    {
     "name": "stderr",
     "output_type": "stream",
     "text": [
      "/Users/seandeely/anaconda3/lib/python3.7/site-packages/sklearn/linear_model/ridge.py:165: LinAlgWarning: Ill-conditioned matrix (rcond=9.826e-17): result may not be accurate.\n",
      "  overwrite_a=False)\n"
     ]
    },
    {
     "data": {
      "text/plain": [
       "KernelRidge(alpha=1, coef0=1, degree=3, gamma=None, kernel='linear',\n",
       "      kernel_params=None)"
      ]
     },
     "execution_count": 148,
     "metadata": {},
     "output_type": "execute_result"
    }
   ],
   "source": [
    "# Setup and fit models\n",
    "\n",
    "kr0 = KernelRidge(kernel = 'linear')\n",
    "kr1 = KernelRidge(kernel = 'linear')\n",
    "kr2 = KernelRidge(kernel = 'linear')\n",
    "\n",
    "\n",
    "%time kr0.fit(x_crime_train0, y_crime_train0)\n",
    "%time kr1.fit(x_crime_train1, y_crime_train1)\n",
    "%time kr2.fit(x_crime_train2, y_crime_train2)"
   ]
  },
  {
   "cell_type": "code",
   "execution_count": 149,
   "metadata": {},
   "outputs": [
    {
     "name": "stdout",
     "output_type": "stream",
     "text": [
      "RESULTS First Trial\n",
      "\n",
      "Training score: 0.6833728426085787\n",
      "CPU times: user 50.3 ms, sys: 4.47 ms, total: 54.7 ms\n",
      "Wall time: 16.6 ms\n",
      "Testing score: 0.5541407040182813\n",
      "CPU times: user 38 ms, sys: 2.75 ms, total: 40.8 ms\n",
      "Wall time: 9.61 ms\n",
      "Training MSE: 117946.7832322054\n",
      "CPU times: user 51.8 ms, sys: 1.17 ms, total: 53 ms\n",
      "Wall time: 12.5 ms\n",
      "Testing MSE 173774.90105564223\n",
      "CPU times: user 31.4 ms, sys: 824 µs, total: 32.2 ms\n",
      "Wall time: 6.95 ms\n"
     ]
    }
   ],
   "source": [
    "# show results\n",
    "\n",
    "print('RESULTS First Trial')\n",
    "print()\n",
    "%time print('Training score:', kr0.score(x_crime_train0, y_crime_train0))\n",
    "%time print('Testing score:', kr0.score(x_crime_test0, y_crime_test0))\n",
    "%time print('Training MSE:', mean_squared_error(y_crime_train0, kr0.predict(x_crime_train0)))\n",
    "%time print('Testing MSE',  mean_squared_error(y_crime_test0, kr0.predict(x_crime_test0)))"
   ]
  },
  {
   "cell_type": "code",
   "execution_count": 150,
   "metadata": {},
   "outputs": [
    {
     "name": "stdout",
     "output_type": "stream",
     "text": [
      "RESULTS Second Trial\n",
      "\n",
      "Training score: 0.6796770656951607\n",
      "CPU times: user 40.5 ms, sys: 2.61 ms, total: 43.1 ms\n",
      "Wall time: 12.8 ms\n",
      "Testing score: 0.37529918625903613\n",
      "CPU times: user 26.9 ms, sys: 758 µs, total: 27.6 ms\n",
      "Wall time: 6.61 ms\n",
      "Training MSE: 119371.58831828664\n",
      "CPU times: user 45.1 ms, sys: 1.42 ms, total: 46.5 ms\n",
      "Wall time: 10.8 ms\n",
      "Testing MSE 243427.30865615103\n",
      "CPU times: user 30.6 ms, sys: 867 µs, total: 31.5 ms\n",
      "Wall time: 6.83 ms\n"
     ]
    }
   ],
   "source": [
    "# show results\n",
    "\n",
    "print('RESULTS Second Trial')\n",
    "print()\n",
    "%time print('Training score:', kr1.score(x_crime_train1, y_crime_train1))\n",
    "%time print('Testing score:', kr1.score(x_crime_test1, y_crime_test1))\n",
    "%time print('Training MSE:', mean_squared_error(y_crime_train1, kr1.predict(x_crime_train1)))\n",
    "%time print('Testing MSE',  mean_squared_error(y_crime_test1, kr1.predict(x_crime_test1)))"
   ]
  },
  {
   "cell_type": "code",
   "execution_count": 151,
   "metadata": {},
   "outputs": [
    {
     "name": "stdout",
     "output_type": "stream",
     "text": [
      "RESULTS Third Trial\n",
      "\n",
      "Training score: 0.6899981403501634\n",
      "CPU times: user 37.4 ms, sys: 2.84 ms, total: 40.3 ms\n",
      "Wall time: 11.8 ms\n",
      "Testing score: 0.5997764361326436\n",
      "CPU times: user 29.2 ms, sys: 793 µs, total: 30 ms\n",
      "Wall time: 7.06 ms\n",
      "Training MSE: 117334.7188433533\n",
      "CPU times: user 47.1 ms, sys: 1.35 ms, total: 48.4 ms\n",
      "Wall time: 11.1 ms\n",
      "Testing MSE 150463.37593647777\n",
      "CPU times: user 26.7 ms, sys: 817 µs, total: 27.5 ms\n",
      "Wall time: 6.5 ms\n"
     ]
    }
   ],
   "source": [
    "# show results\n",
    "\n",
    "print('RESULTS Third Trial')\n",
    "print()\n",
    "%time print('Training score:', kr2.score(x_crime_train2, y_crime_train2))\n",
    "%time print('Testing score:', kr2.score(x_crime_test2, y_crime_test2))\n",
    "%time print('Training MSE:', mean_squared_error(y_crime_train2, kr2.predict(x_crime_train2)))\n",
    "%time print('Testing MSE',  mean_squared_error(y_crime_test2, kr2.predict(x_crime_test2)))"
   ]
  },
  {
   "cell_type": "markdown",
   "metadata": {},
   "source": [
    "## 3) Automobile Data"
   ]
  },
  {
   "cell_type": "code",
   "execution_count": 152,
   "metadata": {},
   "outputs": [],
   "source": [
    "# load data\n",
    "\n",
    "auto_data = pd.read_csv('/Users/seandeely/Documents/Spring_Quarter_2019/STA141C/Project/automobile_price.csv')"
   ]
  },
  {
   "cell_type": "code",
   "execution_count": 153,
   "metadata": {},
   "outputs": [
    {
     "name": "stderr",
     "output_type": "stream",
     "text": [
      "/Users/seandeely/anaconda3/lib/python3.7/site-packages/ipykernel_launcher.py:4: SettingWithCopyWarning: \n",
      "A value is trying to be set on a copy of a slice from a DataFrame\n",
      "\n",
      "See the caveats in the documentation: http://pandas.pydata.org/pandas-docs/stable/indexing.html#indexing-view-versus-copy\n",
      "  after removing the cwd from sys.path.\n",
      "/Users/seandeely/anaconda3/lib/python3.7/site-packages/sklearn/utils/deprecation.py:58: DeprecationWarning: Class Imputer is deprecated; Imputer was deprecated in version 0.20 and will be removed in 0.22. Import impute.SimpleImputer from sklearn instead.\n",
      "  warnings.warn(msg, category=DeprecationWarning)\n"
     ]
    }
   ],
   "source": [
    "# split and clean data\n",
    "\n",
    "auto_data = auto_data.replace('?', np.nan).iloc[:,3:] # replace ? with NaN\n",
    "auto_data['X6'][auto_data['X6'].isna()] = 'four' # mode is four, assign four to the missing value\n",
    "impute = Imputer(strategy = 'mean') # use column mean to impute missing value\n",
    "auto_data[['X19','X20','X22','X23']] = impute.fit_transform(auto_data[['X19','X20','X22','X23']])\n",
    "pd.isna(auto_data).sum() # now no missing values\n",
    "x_auto = auto_data.iloc[:,0:-1]\n",
    "y_auto = auto_data.iloc[:,-1]\n",
    "\n",
    "# get categorical column\n",
    "\n",
    "cate_col = list(x_auto.columns[x_auto.dtypes == 'object'])\n",
    "x_auto = pd.get_dummies(x_auto, columns = cate_col) # create dummy variables for the categorical var\n"
   ]
  },
  {
   "cell_type": "code",
   "execution_count": 154,
   "metadata": {},
   "outputs": [],
   "source": [
    "# split data into 3 test and training sets\n",
    "\n",
    "x_auto_train0, x_auto_test0, y_auto_train0, y_auto_test0 = train_test_split(x_auto,\n",
    "    y_auto, test_size = 0.30, random_state = 0)\n",
    "\n",
    "x_auto_train1, x_auto_test1, y_auto_train1, y_auto_test1 = train_test_split(x_auto,\n",
    "    y_auto, test_size = 0.30, random_state = 1)\n",
    "\n",
    "x_auto_train2, x_auto_test2, y_auto_train2, y_auto_test2 = train_test_split(x_auto,\n",
    "    y_auto, test_size = 0.30, random_state = 2)"
   ]
  },
  {
   "cell_type": "markdown",
   "metadata": {},
   "source": [
    "### Random Forest"
   ]
  },
  {
   "cell_type": "code",
   "execution_count": 155,
   "metadata": {},
   "outputs": [],
   "source": [
    "# setup random forest regressors\n",
    "\n",
    "rfr0 = RandomForestRegressor(n_estimators = 100)\n",
    "rfr1 = RandomForestRegressor(n_estimators = 100)\n",
    "rfr2 = RandomForestRegressor(n_estimators = 100)"
   ]
  },
  {
   "cell_type": "code",
   "execution_count": 156,
   "metadata": {},
   "outputs": [
    {
     "name": "stdout",
     "output_type": "stream",
     "text": [
      "CPU times: user 132 ms, sys: 3.01 ms, total: 135 ms\n",
      "Wall time: 134 ms\n",
      "CPU times: user 127 ms, sys: 1.52 ms, total: 129 ms\n",
      "Wall time: 128 ms\n",
      "CPU times: user 132 ms, sys: 1.51 ms, total: 134 ms\n",
      "Wall time: 133 ms\n"
     ]
    },
    {
     "data": {
      "text/plain": [
       "RandomForestRegressor(bootstrap=True, criterion='mse', max_depth=None,\n",
       "           max_features='auto', max_leaf_nodes=None,\n",
       "           min_impurity_decrease=0.0, min_impurity_split=None,\n",
       "           min_samples_leaf=1, min_samples_split=2,\n",
       "           min_weight_fraction_leaf=0.0, n_estimators=100, n_jobs=None,\n",
       "           oob_score=False, random_state=None, verbose=0, warm_start=False)"
      ]
     },
     "execution_count": 156,
     "metadata": {},
     "output_type": "execute_result"
    }
   ],
   "source": [
    "# fit the models\n",
    "\n",
    "%time rfr0.fit(x_auto_train0, y_auto_train0)\n",
    "%time rfr1.fit(x_auto_train1, y_auto_train1)\n",
    "%time rfr2.fit(x_auto_train2, y_auto_train2)"
   ]
  },
  {
   "cell_type": "code",
   "execution_count": 157,
   "metadata": {},
   "outputs": [
    {
     "name": "stdout",
     "output_type": "stream",
     "text": [
      "RESULTS First Trial\n",
      "\n",
      "Training score: 0.9870048362634642\n",
      "CPU times: user 9.69 ms, sys: 1.79 ms, total: 11.5 ms\n",
      "Wall time: 9.86 ms\n",
      "Testing score: 0.9163936199150274\n",
      "CPU times: user 8.33 ms, sys: 668 µs, total: 9 ms\n",
      "Wall time: 8.58 ms\n",
      "Training MSE: 671393.9808349455\n",
      "CPU times: user 8.96 ms, sys: 733 µs, total: 9.7 ms\n",
      "Wall time: 9.15 ms\n",
      "Testing MSE 7164499.168287021\n",
      "CPU times: user 7.94 ms, sys: 553 µs, total: 8.49 ms\n",
      "Wall time: 8.12 ms\n"
     ]
    }
   ],
   "source": [
    "# show results\n",
    "\n",
    "print('RESULTS First Trial')\n",
    "print()\n",
    "%time print('Training score:', rfr0.score(x_auto_train0, y_auto_train0))\n",
    "%time print('Testing score:', rfr0.score(x_auto_test0, y_auto_test0))\n",
    "%time print('Training MSE:', mean_squared_error(y_auto_train0, rfr0.predict(x_auto_train0)))\n",
    "%time print('Testing MSE',  mean_squared_error(y_auto_test0, rfr0.predict(x_auto_test0)))"
   ]
  },
  {
   "cell_type": "code",
   "execution_count": 158,
   "metadata": {},
   "outputs": [
    {
     "name": "stdout",
     "output_type": "stream",
     "text": [
      "RESULTS Second Trial\n",
      "\n",
      "Training score: 0.9902766825533567\n",
      "CPU times: user 9.81 ms, sys: 1.8 ms, total: 11.6 ms\n",
      "Wall time: 9.99 ms\n",
      "Testing score: 0.8915126023996305\n",
      "CPU times: user 8.74 ms, sys: 783 µs, total: 9.52 ms\n",
      "Wall time: 9.06 ms\n",
      "Training MSE: 665037.9110356773\n",
      "CPU times: user 9.01 ms, sys: 669 µs, total: 9.68 ms\n",
      "Wall time: 9.18 ms\n",
      "Testing MSE 5384769.786996966\n",
      "CPU times: user 8.07 ms, sys: 573 µs, total: 8.64 ms\n",
      "Wall time: 8.26 ms\n"
     ]
    }
   ],
   "source": [
    "# show results\n",
    "\n",
    "print('RESULTS Second Trial')\n",
    "print()\n",
    "%time print('Training score:', rfr1.score(x_auto_train1, y_auto_train1))\n",
    "%time print('Testing score:', rfr1.score(x_auto_test1, y_auto_test1))\n",
    "%time print('Training MSE:', mean_squared_error(y_auto_train1, rfr1.predict(x_auto_train1)))\n",
    "%time print('Testing MSE',  mean_squared_error(y_auto_test1, rfr1.predict(x_auto_test1)))"
   ]
  },
  {
   "cell_type": "code",
   "execution_count": 159,
   "metadata": {},
   "outputs": [
    {
     "name": "stdout",
     "output_type": "stream",
     "text": [
      "RESULTS Third Trial\n",
      "\n",
      "Training score: 0.98894894242216\n",
      "CPU times: user 9.94 ms, sys: 1.78 ms, total: 11.7 ms\n",
      "Wall time: 10.1 ms\n",
      "Testing score: 0.8564156261327269\n",
      "CPU times: user 8.48 ms, sys: 755 µs, total: 9.24 ms\n",
      "Wall time: 8.75 ms\n",
      "Training MSE: 666556.2642532021\n",
      "CPU times: user 9.32 ms, sys: 780 µs, total: 10.1 ms\n",
      "Wall time: 9.48 ms\n",
      "Testing MSE 9460465.746595455\n",
      "CPU times: user 8.38 ms, sys: 663 µs, total: 9.04 ms\n",
      "Wall time: 8.68 ms\n"
     ]
    }
   ],
   "source": [
    "# show results\n",
    "\n",
    "print('RESULTS Third Trial')\n",
    "print()\n",
    "%time print('Training score:', rfr2.score(x_auto_train2, y_auto_train2))\n",
    "%time print('Testing score:', rfr2.score(x_auto_test2, y_auto_test2))\n",
    "%time print('Training MSE:', mean_squared_error(y_auto_train2, rfr2.predict(x_auto_train2)))\n",
    "%time print('Testing MSE',  mean_squared_error(y_auto_test2, rfr2.predict(x_auto_test2)))"
   ]
  },
  {
   "cell_type": "markdown",
   "metadata": {},
   "source": [
    "### Kernel Regression"
   ]
  },
  {
   "cell_type": "code",
   "execution_count": 160,
   "metadata": {},
   "outputs": [
    {
     "name": "stdout",
     "output_type": "stream",
     "text": [
      "CPU times: user 8.41 ms, sys: 2.47 ms, total: 10.9 ms\n",
      "Wall time: 3.05 ms\n",
      "CPU times: user 13.4 ms, sys: 3.37 ms, total: 16.8 ms\n",
      "Wall time: 2.89 ms\n",
      "CPU times: user 15.4 ms, sys: 2.64 ms, total: 18 ms\n",
      "Wall time: 2.66 ms\n"
     ]
    },
    {
     "data": {
      "text/plain": [
       "KernelRidge(alpha=1, coef0=1, degree=3, gamma=None, kernel='linear',\n",
       "      kernel_params=None)"
      ]
     },
     "execution_count": 160,
     "metadata": {},
     "output_type": "execute_result"
    }
   ],
   "source": [
    "# Setup and fit models\n",
    "\n",
    "kr0 = KernelRidge(kernel = 'linear')\n",
    "kr1 = KernelRidge(kernel = 'linear')\n",
    "kr2 = KernelRidge(kernel = 'linear')\n",
    "\n",
    "\n",
    "%time kr0.fit(x_auto_train0, y_auto_train0)\n",
    "%time kr1.fit(x_auto_train1, y_auto_train1)\n",
    "%time kr2.fit(x_auto_train2, y_auto_train2)"
   ]
  },
  {
   "cell_type": "code",
   "execution_count": 161,
   "metadata": {},
   "outputs": [
    {
     "name": "stdout",
     "output_type": "stream",
     "text": [
      "RESULTS First Trial\n",
      "\n",
      "Training score: 0.9551583872435614\n",
      "CPU times: user 2.73 ms, sys: 1.12 ms, total: 3.85 ms\n",
      "Wall time: 1.92 ms\n",
      "Testing score: 0.807233156700467\n",
      "CPU times: user 10.5 ms, sys: 770 µs, total: 11.3 ms\n",
      "Wall time: 1.73 ms\n",
      "Training MSE: 2316737.9423593306\n",
      "CPU times: user 4.87 ms, sys: 438 µs, total: 5.31 ms\n",
      "Wall time: 1.68 ms\n",
      "Testing MSE 16518809.773717921\n",
      "CPU times: user 1.4 ms, sys: 428 µs, total: 1.83 ms\n",
      "Wall time: 1.54 ms\n"
     ]
    }
   ],
   "source": [
    "# show results\n",
    "\n",
    "print('RESULTS First Trial')\n",
    "print()\n",
    "%time print('Training score:', kr0.score(x_auto_train0, y_auto_train0))\n",
    "%time print('Testing score:', kr0.score(x_auto_test0, y_auto_test0))\n",
    "%time print('Training MSE:', mean_squared_error(y_auto_train0, kr0.predict(x_auto_train0)))\n",
    "%time print('Testing MSE',  mean_squared_error(y_auto_test0, kr0.predict(x_auto_test0)))"
   ]
  },
  {
   "cell_type": "code",
   "execution_count": 162,
   "metadata": {},
   "outputs": [
    {
     "name": "stdout",
     "output_type": "stream",
     "text": [
      "RESULTS Second Trial\n",
      "\n",
      "Training score: 0.8790178072520484\n",
      "CPU times: user 2 ms, sys: 873 µs, total: 2.88 ms\n",
      "Wall time: 1.66 ms\n",
      "Testing score: 0.9426866099163684\n",
      "CPU times: user 10.2 ms, sys: 531 µs, total: 10.7 ms\n",
      "Wall time: 1.64 ms\n",
      "Training MSE: 2512914.97628127\n",
      "CPU times: user 5.08 ms, sys: 410 µs, total: 5.49 ms\n",
      "Wall time: 1.53 ms\n",
      "Testing MSE 4585702.103624542\n",
      "CPU times: user 1.06 ms, sys: 313 µs, total: 1.37 ms\n",
      "Wall time: 1.17 ms\n"
     ]
    }
   ],
   "source": [
    "# show results\n",
    "\n",
    "print('RESULTS Second Trial')\n",
    "print()\n",
    "%time print('Training score:', kr0.score(x_auto_train1, y_auto_train1))\n",
    "%time print('Testing score:', kr0.score(x_auto_test1, y_auto_test1))\n",
    "%time print('Training MSE:', mean_squared_error(y_auto_train1, kr1.predict(x_auto_train1)))\n",
    "%time print('Testing MSE',  mean_squared_error(y_auto_test1, kr1.predict(x_auto_test1)))"
   ]
  },
  {
   "cell_type": "code",
   "execution_count": 163,
   "metadata": {},
   "outputs": [
    {
     "name": "stdout",
     "output_type": "stream",
     "text": [
      "RESULTS Third Trial\n",
      "\n",
      "Training score: 0.9696846920144403\n",
      "CPU times: user 2.17 ms, sys: 1.53 ms, total: 3.71 ms\n",
      "Wall time: 2.08 ms\n",
      "Testing score: 0.8734449573020082\n",
      "CPU times: user 12.4 ms, sys: 808 µs, total: 13.2 ms\n",
      "Wall time: 2.43 ms\n",
      "Training MSE: 1828499.9691848024\n",
      "CPU times: user 4.1 ms, sys: 341 µs, total: 4.44 ms\n",
      "Wall time: 1.52 ms\n",
      "Testing MSE 8338439.7219297085\n",
      "CPU times: user 3.02 ms, sys: 253 µs, total: 3.28 ms\n",
      "Wall time: 1.2 ms\n"
     ]
    }
   ],
   "source": [
    "# show results\n",
    "\n",
    "print('RESULTS Third Trial')\n",
    "print()\n",
    "%time print('Training score:', kr2.score(x_auto_train2, y_auto_train2))\n",
    "%time print('Testing score:', kr2.score(x_auto_test2, y_auto_test2))\n",
    "%time print('Training MSE:', mean_squared_error(y_auto_train2, kr2.predict(x_auto_train2)))\n",
    "%time print('Testing MSE',  mean_squared_error(y_auto_test2, kr2.predict(x_auto_test2)))"
   ]
  },
  {
   "cell_type": "markdown",
   "metadata": {},
   "source": [
    "## 4) Forest Fire Data"
   ]
  },
  {
   "cell_type": "code",
   "execution_count": 213,
   "metadata": {},
   "outputs": [
    {
     "name": "stderr",
     "output_type": "stream",
     "text": [
      "/Users/seandeely/anaconda3/lib/python3.7/site-packages/sklearn/utils/deprecation.py:58: DeprecationWarning: Class Imputer is deprecated; Imputer was deprecated in version 0.20 and will be removed in 0.22. Import impute.SimpleImputer from sklearn instead.\n",
      "  warnings.warn(msg, category=DeprecationWarning)\n"
     ]
    }
   ],
   "source": [
    "# load data\n",
    "\n",
    "fire_data = pd.read_csv('/Users/seandeely/Documents/Spring_Quarter_2019/STA141C/Project/forestfires.csv')\n",
    "\n",
    "x_fire = fire_data.iloc[:,:-1]\n",
    "y_fire = fire_data.iloc[:,-1]\n",
    "\n",
    "cate_col = list(x_fire.columns[x_fire.dtypes == 'object'])\n",
    "x_fire = pd.get_dummies(x_fire, columns = cate_col) #change categorical variables to dummy var\n",
    "\n",
    "x_fire = x_fire.replace('?', np.NaN)\n",
    "imp = Imputer(missing_values = 'NaN', strategy = 'mean', axis = 0)\n",
    "imp.fit(x_fire)\n",
    "x_fire = imp.transform(x_fire)"
   ]
  },
  {
   "cell_type": "code",
   "execution_count": 214,
   "metadata": {},
   "outputs": [],
   "source": [
    "# split data into 3 test and training sets\n",
    "\n",
    "x_fire_train0, x_fire_test0, y_fire_train0, y_fire_test0 = train_test_split(x_fire,\n",
    "    y_fire, test_size = 0.30, random_state = 0)\n",
    "\n",
    "x_fire_train1, x_fire_test1, y_fire_train1, y_fire_test1 = train_test_split(x_fire,\n",
    "    y_fire, test_size = 0.30, random_state = 1)\n",
    "\n",
    "x_fire_train2, x_fire_test2, y_fire_train2, y_fire_test2 = train_test_split(x_fire,\n",
    "    y_fire, test_size = 0.30, random_state = 2)"
   ]
  },
  {
   "cell_type": "markdown",
   "metadata": {},
   "source": [
    "### Random Forest"
   ]
  },
  {
   "cell_type": "code",
   "execution_count": 215,
   "metadata": {},
   "outputs": [],
   "source": [
    "# setup random forest regressor\n",
    "\n",
    "rfr0 = RandomForestRegressor(n_estimators = 100)\n",
    "rfr1 = RandomForestRegressor(n_estimators = 100)\n",
    "rfr2 = RandomForestRegressor(n_estimators = 100)"
   ]
  },
  {
   "cell_type": "code",
   "execution_count": 216,
   "metadata": {},
   "outputs": [
    {
     "name": "stdout",
     "output_type": "stream",
     "text": [
      "CPU times: user 197 ms, sys: 1.99 ms, total: 199 ms\n",
      "Wall time: 198 ms\n",
      "CPU times: user 183 ms, sys: 1.17 ms, total: 184 ms\n",
      "Wall time: 184 ms\n",
      "CPU times: user 201 ms, sys: 1.97 ms, total: 203 ms\n",
      "Wall time: 203 ms\n"
     ]
    },
    {
     "data": {
      "text/plain": [
       "RandomForestRegressor(bootstrap=True, criterion='mse', max_depth=None,\n",
       "           max_features='auto', max_leaf_nodes=None,\n",
       "           min_impurity_decrease=0.0, min_impurity_split=None,\n",
       "           min_samples_leaf=1, min_samples_split=2,\n",
       "           min_weight_fraction_leaf=0.0, n_estimators=100, n_jobs=None,\n",
       "           oob_score=False, random_state=None, verbose=0, warm_start=False)"
      ]
     },
     "execution_count": 216,
     "metadata": {},
     "output_type": "execute_result"
    }
   ],
   "source": [
    "# fit the model\n",
    "\n",
    "%time rfr0.fit(x_fire_train0, y_fire_train0)\n",
    "%time rfr1.fit(x_fire_train1, y_fire_train1)\n",
    "%time rfr2.fit(x_fire_train2, y_fire_train2)"
   ]
  },
  {
   "cell_type": "code",
   "execution_count": 217,
   "metadata": {},
   "outputs": [
    {
     "name": "stdout",
     "output_type": "stream",
     "text": [
      "RESULTS First Trial\n",
      "\n",
      "Training score: 0.8612317669047703\n",
      "CPU times: user 11.1 ms, sys: 1.28 ms, total: 12.4 ms\n",
      "Wall time: 11.2 ms\n",
      "Testing score: -0.2625235460244115\n",
      "CPU times: user 10.4 ms, sys: 695 µs, total: 11.1 ms\n",
      "Wall time: 10.5 ms\n",
      "Training MSE: 307.81628041540023\n",
      "CPU times: user 10.8 ms, sys: 707 µs, total: 11.5 ms\n",
      "Wall time: 10.9 ms\n",
      "Testing MSE 10388.827002603037\n",
      "CPU times: user 9.53 ms, sys: 989 µs, total: 10.5 ms\n",
      "Wall time: 9.83 ms\n"
     ]
    }
   ],
   "source": [
    "# show results\n",
    "\n",
    "print('RESULTS First Trial')\n",
    "print()\n",
    "%time print('Training score:', rfr0.score(x_fire_train0, y_fire_train0))\n",
    "%time print('Testing score:', rfr0.score(x_fire_test0, y_fire_test0))\n",
    "%time print('Training MSE:', mean_squared_error(y_fire_train0, rfr0.predict(x_fire_train0)))\n",
    "%time print('Testing MSE',  mean_squared_error(y_fire_test0, rfr0.predict(x_fire_test0)))"
   ]
  },
  {
   "cell_type": "code",
   "execution_count": 218,
   "metadata": {},
   "outputs": [
    {
     "name": "stdout",
     "output_type": "stream",
     "text": [
      "RESULTS Second Trial\n",
      "\n",
      "Training score: 0.8417572823800711\n",
      "CPU times: user 10.6 ms, sys: 1.32 ms, total: 11.9 ms\n",
      "Wall time: 10.6 ms\n",
      "Testing score: -0.03901147234998814\n",
      "CPU times: user 9.13 ms, sys: 698 µs, total: 9.83 ms\n",
      "Wall time: 9.33 ms\n",
      "Training MSE: 645.5715176647418\n",
      "CPU times: user 10.6 ms, sys: 575 µs, total: 11.1 ms\n",
      "Wall time: 10.7 ms\n",
      "Testing MSE 4116.855803455017\n",
      "CPU times: user 9.07 ms, sys: 722 µs, total: 9.79 ms\n",
      "Wall time: 9.25 ms\n"
     ]
    }
   ],
   "source": [
    "# show results\n",
    "\n",
    "print('RESULTS Second Trial')\n",
    "print()\n",
    "%time print('Training score:', rfr1.score(x_fire_train1, y_fire_train1))\n",
    "%time print('Testing score:', rfr1.score(x_fire_test1, y_fire_test1))\n",
    "%time print('Training MSE:', mean_squared_error(y_fire_train1, rfr1.predict(x_fire_train1)))\n",
    "%time print('Testing MSE',  mean_squared_error(y_fire_test1, rfr1.predict(x_fire_test1)))"
   ]
  },
  {
   "cell_type": "code",
   "execution_count": 219,
   "metadata": {},
   "outputs": [
    {
     "name": "stdout",
     "output_type": "stream",
     "text": [
      "RESULTS Third Trial\n",
      "\n",
      "Training score: 0.8631969607806464\n",
      "CPU times: user 11.5 ms, sys: 1.99 ms, total: 13.4 ms\n",
      "Wall time: 11.5 ms\n",
      "Testing score: 0.583946232088858\n",
      "CPU times: user 8.95 ms, sys: 649 µs, total: 9.59 ms\n",
      "Wall time: 8.98 ms\n",
      "Training MSE: 734.1301649893372\n",
      "CPU times: user 10.6 ms, sys: 629 µs, total: 11.2 ms\n",
      "Wall time: 10.7 ms\n",
      "Testing MSE 1909.087849780206\n",
      "CPU times: user 9.03 ms, sys: 842 µs, total: 9.87 ms\n",
      "Wall time: 9.35 ms\n"
     ]
    }
   ],
   "source": [
    "# show results\n",
    "\n",
    "print('RESULTS Third Trial')\n",
    "print()\n",
    "%time print('Training score:', rfr2.score(x_fire_train2, y_fire_train2))\n",
    "%time print('Testing score:', rfr1.score(x_fire_test2, y_fire_test2))\n",
    "%time print('Training MSE:', mean_squared_error(y_fire_train2, rfr2.predict(x_fire_train2)))\n",
    "%time print('Testing MSE',  mean_squared_error(y_fire_test2, rfr2.predict(x_fire_test2)))"
   ]
  },
  {
   "cell_type": "markdown",
   "metadata": {},
   "source": [
    "### Kernel Regression"
   ]
  },
  {
   "cell_type": "code",
   "execution_count": 232,
   "metadata": {},
   "outputs": [
    {
     "name": "stdout",
     "output_type": "stream",
     "text": [
      "CPU times: user 20.9 ms, sys: 4.09 ms, total: 25 ms\n",
      "Wall time: 5.45 ms\n",
      "CPU times: user 19.9 ms, sys: 3.1 ms, total: 23 ms\n",
      "Wall time: 3.95 ms\n",
      "CPU times: user 18 ms, sys: 2.71 ms, total: 20.7 ms\n",
      "Wall time: 4.07 ms\n"
     ]
    },
    {
     "data": {
      "text/plain": [
       "KernelRidge(alpha=1, coef0=1, degree=3, gamma=None, kernel='linear',\n",
       "      kernel_params=None)"
      ]
     },
     "execution_count": 232,
     "metadata": {},
     "output_type": "execute_result"
    }
   ],
   "source": [
    "# Setup and fit models\n",
    "\n",
    "kr0 = KernelRidge(kernel = 'linear')\n",
    "kr1 = KernelRidge(kernel = 'linear')\n",
    "kr2 = KernelRidge(kernel = 'linear')\n",
    "\n",
    "\n",
    "%time kr0.fit(x_fire_train0, y_fire_train0)\n",
    "%time kr1.fit(x_fire_train1, y_fire_train1)\n",
    "%time kr2.fit(x_fire_train2, y_fire_train2)"
   ]
  },
  {
   "cell_type": "code",
   "execution_count": 233,
   "metadata": {},
   "outputs": [
    {
     "name": "stdout",
     "output_type": "stream",
     "text": [
      "RESULTS First Trial\n",
      "\n",
      "Training score: 0.04792752557921131\n",
      "CPU times: user 2.99 ms, sys: 941 µs, total: 3.93 ms\n",
      "Wall time: 1.84 ms\n",
      "Testing score: 0.008153611212462053\n",
      "CPU times: user 4.92 ms, sys: 460 µs, total: 5.38 ms\n",
      "Wall time: 1.38 ms\n",
      "Training MSE: 2111.891181614878\n",
      "CPU times: user 4.11 ms, sys: 418 µs, total: 4.53 ms\n",
      "Wall time: 1.33 ms\n",
      "Testing MSE 8161.527425541614\n",
      "CPU times: user 3.12 ms, sys: 252 µs, total: 3.37 ms\n",
      "Wall time: 908 µs\n"
     ]
    }
   ],
   "source": [
    "# show results\n",
    "\n",
    "print('RESULTS First Trial')\n",
    "print()\n",
    "%time print('Training score:', kr0.score(x_fire_train0, y_fire_train0))\n",
    "%time print('Testing score:', kr0.score(x_fire_test0, y_fire_test0))\n",
    "%time print('Training MSE:', mean_squared_error(y_fire_train0, kr0.predict(x_fire_train0)))\n",
    "%time print('Testing MSE',  mean_squared_error(y_fire_test0, kr0.predict(x_fire_test0)))"
   ]
  },
  {
   "cell_type": "code",
   "execution_count": 234,
   "metadata": {},
   "outputs": [
    {
     "name": "stdout",
     "output_type": "stream",
     "text": [
      "RESULTS Second Trial\n",
      "\n",
      "Training score: 0.05390724282813508\n",
      "CPU times: user 3.42 ms, sys: 670 µs, total: 4.09 ms\n",
      "Wall time: 1.75 ms\n",
      "Testing score: -0.01678264262857576\n",
      "CPU times: user 6.01 ms, sys: 829 µs, total: 6.84 ms\n",
      "Wall time: 1.57 ms\n",
      "Training MSE: 3859.7070771119074\n",
      "CPU times: user 2.53 ms, sys: 273 µs, total: 2.8 ms\n",
      "Wall time: 1.14 ms\n",
      "Testing MSE 4028.778925501369\n",
      "CPU times: user 5.14 ms, sys: 225 µs, total: 5.37 ms\n",
      "Wall time: 1.14 ms\n"
     ]
    }
   ],
   "source": [
    "# show results\n",
    "\n",
    "print('RESULTS Second Trial')\n",
    "print()\n",
    "%time print('Training score:', kr1.score(x_fire_train1, y_fire_train1))\n",
    "%time print('Testing score:', kr1.score(x_fire_test1, y_fire_test1))\n",
    "%time print('Training MSE:', mean_squared_error(y_fire_train1, kr1.predict(x_fire_train1)))\n",
    "%time print('Testing MSE',  mean_squared_error(y_fire_test1, kr1.predict(x_fire_test1)))"
   ]
  },
  {
   "cell_type": "code",
   "execution_count": 235,
   "metadata": {},
   "outputs": [
    {
     "name": "stdout",
     "output_type": "stream",
     "text": [
      "RESULTS Third Trial\n",
      "\n",
      "Training score: 0.058273079334046685\n",
      "CPU times: user 5.31 ms, sys: 1.11 ms, total: 6.42 ms\n",
      "Wall time: 1.93 ms\n",
      "Testing score: -0.26714643527815474\n",
      "CPU times: user 6.8 ms, sys: 686 µs, total: 7.48 ms\n",
      "Wall time: 1.63 ms\n",
      "Training MSE: 5053.616817202926\n",
      "CPU times: user 4.07 ms, sys: 324 µs, total: 4.4 ms\n",
      "Wall time: 1.4 ms\n",
      "Testing MSE 1242.142510398933\n",
      "CPU times: user 9.84 ms, sys: 279 µs, total: 10.1 ms\n",
      "Wall time: 1.19 ms\n"
     ]
    }
   ],
   "source": [
    "# show results\n",
    "\n",
    "print('RESULTS Third Trial')\n",
    "print()\n",
    "%time print('Training score:', kr2.score(x_fire_train2, y_fire_train2))\n",
    "%time print('Testing score:', kr2.score(x_fire_test2, y_fire_test2))\n",
    "%time print('Training MSE:', mean_squared_error(y_fire_train2, kr2.predict(x_fire_train2)))\n",
    "%time print('Testing MSE',  mean_squared_error(y_fire_test2, kr2.predict(x_fire_test2)))"
   ]
  },
  {
   "cell_type": "markdown",
   "metadata": {},
   "source": [
    "## 5) Parkinsons Data "
   ]
  },
  {
   "cell_type": "code",
   "execution_count": 164,
   "metadata": {},
   "outputs": [],
   "source": [
    "# load data\n",
    "\n",
    "parkinsons_data = pd.read_csv('/Users/seandeely/Documents/Spring_Quarter_2019/STA141C/Project/parkinsons_updrs.csv')"
   ]
  },
  {
   "cell_type": "code",
   "execution_count": 165,
   "metadata": {},
   "outputs": [],
   "source": [
    "# separate and clean data\n",
    "\n",
    "y_parkinsons = parkinsons_data['total_UPDRS']\n",
    "x_parkinsons = parkinsons_data.drop(['total_UPDRS', 'motor_UPDRS'], axis=1)"
   ]
  },
  {
   "cell_type": "code",
   "execution_count": 166,
   "metadata": {},
   "outputs": [],
   "source": [
    "# split data into 3 test and training sets\n",
    "\n",
    "x_parkinsons_train0, x_parkinsons_test0, y_parkinsons_train0, y_parkinsons_test0 = train_test_split(x_parkinsons,\n",
    "    y_parkinsons, test_size = 0.30, random_state = 0)\n",
    "\n",
    "x_parkinsons_train1, x_parkinsons_test1, y_parkinsons_train1, y_parkinsons_test1 = train_test_split(x_parkinsons,\n",
    "    y_parkinsons, test_size = 0.30, random_state = 1)\n",
    "\n",
    "x_parkinsons_train2, x_parkinsons_test2, y_parkinsons_train2, y_parkinsons_test2 = train_test_split(x_parkinsons,\n",
    "    y_parkinsons, test_size = 0.30, random_state = 2)"
   ]
  },
  {
   "cell_type": "markdown",
   "metadata": {},
   "source": [
    "### Random Forest"
   ]
  },
  {
   "cell_type": "code",
   "execution_count": 167,
   "metadata": {},
   "outputs": [],
   "source": [
    "# set up random forest regressor\n",
    "\n",
    "rfr0 = RandomForestRegressor(n_estimators = 100)\n",
    "rfr1 = RandomForestRegressor(n_estimators = 100)\n",
    "rfr2 = RandomForestRegressor(n_estimators = 100)"
   ]
  },
  {
   "cell_type": "code",
   "execution_count": 168,
   "metadata": {},
   "outputs": [
    {
     "name": "stdout",
     "output_type": "stream",
     "text": [
      "CPU times: user 3.21 s, sys: 11.1 ms, total: 3.22 s\n",
      "Wall time: 3.22 s\n",
      "CPU times: user 3.17 s, sys: 12.8 ms, total: 3.18 s\n",
      "Wall time: 3.18 s\n",
      "CPU times: user 3.15 s, sys: 7.95 ms, total: 3.16 s\n",
      "Wall time: 3.16 s\n"
     ]
    },
    {
     "data": {
      "text/plain": [
       "RandomForestRegressor(bootstrap=True, criterion='mse', max_depth=None,\n",
       "           max_features='auto', max_leaf_nodes=None,\n",
       "           min_impurity_decrease=0.0, min_impurity_split=None,\n",
       "           min_samples_leaf=1, min_samples_split=2,\n",
       "           min_weight_fraction_leaf=0.0, n_estimators=100, n_jobs=None,\n",
       "           oob_score=False, random_state=None, verbose=0, warm_start=False)"
      ]
     },
     "execution_count": 168,
     "metadata": {},
     "output_type": "execute_result"
    }
   ],
   "source": [
    "# fit the model\n",
    "\n",
    "%time rfr0.fit(x_parkinsons_train0, y_parkinsons_train0)\n",
    "%time rfr1.fit(x_parkinsons_train1, y_parkinsons_train1)\n",
    "%time rfr2.fit(x_parkinsons_train2, y_parkinsons_train2)"
   ]
  },
  {
   "cell_type": "code",
   "execution_count": 169,
   "metadata": {},
   "outputs": [
    {
     "name": "stdout",
     "output_type": "stream",
     "text": [
      "RESULTS First Trial\n",
      "\n",
      "Training score: 0.9996666879028681\n",
      "CPU times: user 50.9 ms, sys: 1.71 ms, total: 52.6 ms\n",
      "Wall time: 50.7 ms\n",
      "Testing score: 0.9973435771225464\n",
      "CPU times: user 27.9 ms, sys: 705 µs, total: 28.6 ms\n",
      "Wall time: 28.1 ms\n",
      "Training MSE: 0.03875227077924226\n",
      "CPU times: user 48.3 ms, sys: 441 µs, total: 48.8 ms\n",
      "Wall time: 48.3 ms\n",
      "Testing MSE 0.29291200584166394\n",
      "CPU times: user 29.4 ms, sys: 599 µs, total: 30 ms\n",
      "Wall time: 29.3 ms\n"
     ]
    }
   ],
   "source": [
    "# show results\n",
    "\n",
    "print('RESULTS First Trial')\n",
    "print()\n",
    "%time print('Training score:', rfr0.score(x_parkinsons_train0, y_parkinsons_train0))\n",
    "%time print('Testing score:', rfr0.score(x_parkinsons_test0, y_parkinsons_test0))\n",
    "%time print('Training MSE:', mean_squared_error(y_parkinsons_train0, rfr0.predict(x_parkinsons_train0)))\n",
    "%time print('Testing MSE',  mean_squared_error(y_parkinsons_test0, rfr0.predict(x_parkinsons_test0)))"
   ]
  },
  {
   "cell_type": "code",
   "execution_count": 170,
   "metadata": {},
   "outputs": [
    {
     "name": "stdout",
     "output_type": "stream",
     "text": [
      "RESULTS Second Trial\n",
      "\n",
      "Training score: 0.9997102370631189\n",
      "CPU times: user 51.3 ms, sys: 1.81 ms, total: 53.1 ms\n",
      "Wall time: 51.2 ms\n",
      "Testing score: 0.9985673289094394\n",
      "CPU times: user 27.5 ms, sys: 566 µs, total: 28 ms\n",
      "Wall time: 27.7 ms\n",
      "Training MSE: 0.03269812955641313\n",
      "CPU times: user 53.9 ms, sys: 544 µs, total: 54.4 ms\n",
      "Wall time: 54 ms\n",
      "Testing MSE 0.16946119966246295\n",
      "CPU times: user 26.9 ms, sys: 489 µs, total: 27.4 ms\n",
      "Wall time: 26.7 ms\n"
     ]
    }
   ],
   "source": [
    "# show results\n",
    "\n",
    "print('RESULTS Second Trial')\n",
    "print()\n",
    "%time print('Training score:', rfr1.score(x_parkinsons_train1, y_parkinsons_train1))\n",
    "%time print('Testing score:', rfr1.score(x_parkinsons_test1, y_parkinsons_test1))\n",
    "%time print('Training MSE:', mean_squared_error(y_parkinsons_train1, rfr1.predict(x_parkinsons_train1)))\n",
    "%time print('Testing MSE',  mean_squared_error(y_parkinsons_test1, rfr1.predict(x_parkinsons_test1)))"
   ]
  },
  {
   "cell_type": "code",
   "execution_count": 171,
   "metadata": {},
   "outputs": [
    {
     "name": "stdout",
     "output_type": "stream",
     "text": [
      "RESULTS Third Trial\n",
      "\n",
      "Training score: 0.9996002874580971\n",
      "CPU times: user 50.5 ms, sys: 1.78 ms, total: 52.3 ms\n",
      "Wall time: 50.3 ms\n",
      "Testing score: 0.9975263833037643\n",
      "CPU times: user 29.2 ms, sys: 532 µs, total: 29.8 ms\n",
      "Wall time: 29.2 ms\n",
      "Training MSE: 0.04611794554879246\n",
      "CPU times: user 47.1 ms, sys: 396 µs, total: 47.5 ms\n",
      "Wall time: 46.9 ms\n",
      "Testing MSE 0.27780487133724363\n",
      "CPU times: user 29.7 ms, sys: 708 µs, total: 30.4 ms\n",
      "Wall time: 29.6 ms\n"
     ]
    }
   ],
   "source": [
    "# show results\n",
    "\n",
    "print('RESULTS Third Trial')\n",
    "print()\n",
    "%time print('Training score:', rfr2.score(x_parkinsons_train2, y_parkinsons_train2))\n",
    "%time print('Testing score:', rfr2.score(x_parkinsons_test2, y_parkinsons_test2))\n",
    "%time print('Training MSE:', mean_squared_error(y_parkinsons_train2, rfr2.predict(x_parkinsons_train2)))\n",
    "%time print('Testing MSE',  mean_squared_error(y_parkinsons_test2, rfr2.predict(x_parkinsons_test2)))"
   ]
  },
  {
   "cell_type": "markdown",
   "metadata": {},
   "source": [
    "### Kernel Regression"
   ]
  },
  {
   "cell_type": "code",
   "execution_count": 172,
   "metadata": {},
   "outputs": [
    {
     "name": "stdout",
     "output_type": "stream",
     "text": [
      "CPU times: user 3.66 s, sys: 304 ms, total: 3.96 s\n",
      "Wall time: 1.78 s\n",
      "CPU times: user 3.64 s, sys: 263 ms, total: 3.9 s\n",
      "Wall time: 1.73 s\n",
      "CPU times: user 3.99 s, sys: 295 ms, total: 4.28 s\n",
      "Wall time: 1.82 s\n"
     ]
    },
    {
     "data": {
      "text/plain": [
       "KernelRidge(alpha=1, coef0=1, degree=3, gamma=None, kernel='poly',\n",
       "      kernel_params=None)"
      ]
     },
     "execution_count": 172,
     "metadata": {},
     "output_type": "execute_result"
    }
   ],
   "source": [
    "# Setup and fit models\n",
    "\n",
    "kr0 = KernelRidge(kernel = 'poly')\n",
    "kr1 = KernelRidge(kernel = 'poly')\n",
    "kr2 = KernelRidge(kernel = 'poly')\n",
    "\n",
    "\n",
    "%time kr0.fit(x_parkinsons_train0, y_parkinsons_train0)\n",
    "%time kr1.fit(x_parkinsons_train1, y_parkinsons_train1)\n",
    "%time kr2.fit(x_parkinsons_train2, y_parkinsons_train2)"
   ]
  },
  {
   "cell_type": "code",
   "execution_count": 173,
   "metadata": {},
   "outputs": [
    {
     "name": "stdout",
     "output_type": "stream",
     "text": [
      "RESULTS First Trial\n",
      "\n",
      "Training score: 0.6486741142445986\n",
      "CPU times: user 1.38 s, sys: 48.6 ms, total: 1.43 s\n",
      "Wall time: 688 ms\n",
      "Testing score: 0.5840790323738478\n",
      "CPU times: user 1.04 s, sys: 23.5 ms, total: 1.06 s\n",
      "Wall time: 315 ms\n",
      "Training MSE: 40.84662985141879\n",
      "CPU times: user 1.58 s, sys: 54 ms, total: 1.64 s\n",
      "Wall time: 664 ms\n",
      "Testing MSE 45.861766186779576\n",
      "CPU times: user 958 ms, sys: 7.01 ms, total: 965 ms\n",
      "Wall time: 296 ms\n"
     ]
    }
   ],
   "source": [
    "# show results\n",
    "\n",
    "print('RESULTS First Trial')\n",
    "print()\n",
    "%time print('Training score:', kr0.score(x_parkinsons_train0, y_parkinsons_train0))\n",
    "%time print('Testing score:', kr0.score(x_parkinsons_test0, y_parkinsons_test0))\n",
    "%time print('Training MSE:', mean_squared_error(y_parkinsons_train0, kr0.predict(x_parkinsons_train0)))\n",
    "%time print('Testing MSE',  mean_squared_error(y_parkinsons_test0, kr0.predict(x_parkinsons_test0)))"
   ]
  },
  {
   "cell_type": "code",
   "execution_count": 174,
   "metadata": {},
   "outputs": [
    {
     "name": "stdout",
     "output_type": "stream",
     "text": [
      "RESULTS Second Trial\n",
      "\n",
      "Training score: 0.6398544106264059\n",
      "CPU times: user 1.39 s, sys: 50.6 ms, total: 1.44 s\n",
      "Wall time: 698 ms\n",
      "Testing score: 0.6121402352337073\n",
      "CPU times: user 926 ms, sys: 5.98 ms, total: 932 ms\n",
      "Wall time: 268 ms\n",
      "Training MSE: 40.6404189136936\n",
      "CPU times: user 1.56 s, sys: 46.9 ms, total: 1.61 s\n",
      "Wall time: 651 ms\n",
      "Testing MSE 45.87736953104918\n",
      "CPU times: user 945 ms, sys: 7.25 ms, total: 952 ms\n",
      "Wall time: 291 ms\n"
     ]
    }
   ],
   "source": [
    "# show results\n",
    "\n",
    "print('RESULTS Second Trial')\n",
    "print()\n",
    "%time print('Training score:', kr1.score(x_parkinsons_train1, y_parkinsons_train1))\n",
    "%time print('Testing score:', kr1.score(x_parkinsons_test1, y_parkinsons_test1))\n",
    "%time print('Training MSE:', mean_squared_error(y_parkinsons_train1, kr1.predict(x_parkinsons_train1)))\n",
    "%time print('Testing MSE',  mean_squared_error(y_parkinsons_test1, kr1.predict(x_parkinsons_test1)))"
   ]
  },
  {
   "cell_type": "code",
   "execution_count": 175,
   "metadata": {},
   "outputs": [
    {
     "name": "stdout",
     "output_type": "stream",
     "text": [
      "RESULTS Third Trial\n",
      "\n",
      "Training score: 0.6430007344123171\n",
      "CPU times: user 1.36 s, sys: 50 ms, total: 1.41 s\n",
      "Wall time: 672 ms\n",
      "Testing score: 0.6126481573104572\n",
      "CPU times: user 915 ms, sys: 4.01 ms, total: 919 ms\n",
      "Wall time: 255 ms\n",
      "Training MSE: 41.18978256962617\n",
      "CPU times: user 1.56 s, sys: 45.9 ms, total: 1.61 s\n",
      "Wall time: 654 ms\n",
      "Testing MSE 43.50238619603793\n",
      "CPU times: user 917 ms, sys: 4.65 ms, total: 922 ms\n",
      "Wall time: 256 ms\n"
     ]
    }
   ],
   "source": [
    "# show results\n",
    "\n",
    "print('RESULTS Third Trial')\n",
    "print()\n",
    "%time print('Training score:', kr2.score(x_parkinsons_train2, y_parkinsons_train2))\n",
    "%time print('Testing score:', kr2.score(x_parkinsons_test2, y_parkinsons_test2))\n",
    "%time print('Training MSE:', mean_squared_error(y_parkinsons_train2, kr2.predict(x_parkinsons_train2)))\n",
    "%time print('Testing MSE',  mean_squared_error(y_parkinsons_test2, kr2.predict(x_parkinsons_test2)))"
   ]
  },
  {
   "cell_type": "markdown",
   "metadata": {},
   "source": [
    "## 6) Mercedes Data"
   ]
  },
  {
   "cell_type": "code",
   "execution_count": 176,
   "metadata": {},
   "outputs": [],
   "source": [
    "# load data\n",
    "\n",
    "mercedes_data = pd.read_csv('/Users/seandeely/Documents/Spring_Quarter_2019/STA141C/Project/mercedes_data.csv')"
   ]
  },
  {
   "cell_type": "code",
   "execution_count": 177,
   "metadata": {},
   "outputs": [],
   "source": [
    "# clean and split data\n",
    "\n",
    "x_mercedes = mercedes_data.drop(['y'], axis = 1)\n",
    "y_mercedes = mercedes_data['y']\n",
    "\n",
    "cate_col = list(x_mercedes.columns[x_mercedes.dtypes == 'object'])\n",
    "x_mercedes = pd.get_dummies(x_mercedes, columns = cate_col) # change categorical variables to dummy var"
   ]
  },
  {
   "cell_type": "code",
   "execution_count": 178,
   "metadata": {},
   "outputs": [],
   "source": [
    "# split into 3 test and train sets\n",
    "\n",
    "x_mercedes_train0, x_mercedes_test0, y_mercedes_train0, y_mercedes_test0 = train_test_split(x_mercedes,\n",
    "    y_mercedes, test_size = 0.30, random_state = 0)\n",
    "\n",
    "x_mercedes_train1, x_mercedes_test1, y_mercedes_train1, y_mercedes_test1 = train_test_split(x_mercedes,\n",
    "    y_mercedes, test_size = 0.30, random_state = 1)\n",
    "\n",
    "x_mercedes_train2, x_mercedes_test2, y_mercedes_train2, y_mercedes_test2 = train_test_split(x_mercedes,\n",
    "    y_mercedes, test_size = 0.30, random_state = 2)"
   ]
  },
  {
   "cell_type": "markdown",
   "metadata": {},
   "source": [
    "### Random Forest"
   ]
  },
  {
   "cell_type": "code",
   "execution_count": 179,
   "metadata": {},
   "outputs": [],
   "source": [
    "# setup random forest regressor\n",
    "\n",
    "rfr0 = RandomForestRegressor(n_estimators = 100)\n",
    "rfr1 = RandomForestRegressor(n_estimators = 100)\n",
    "rfr2 = RandomForestRegressor(n_estimators = 100)"
   ]
  },
  {
   "cell_type": "code",
   "execution_count": 180,
   "metadata": {},
   "outputs": [
    {
     "name": "stdout",
     "output_type": "stream",
     "text": [
      "CPU times: user 9.05 s, sys: 29.7 ms, total: 9.08 s\n",
      "Wall time: 8.51 s\n",
      "CPU times: user 9.08 s, sys: 16.8 ms, total: 9.1 s\n",
      "Wall time: 8.53 s\n",
      "CPU times: user 9.21 s, sys: 16.8 ms, total: 9.23 s\n",
      "Wall time: 8.65 s\n"
     ]
    },
    {
     "data": {
      "text/plain": [
       "RandomForestRegressor(bootstrap=True, criterion='mse', max_depth=None,\n",
       "           max_features='auto', max_leaf_nodes=None,\n",
       "           min_impurity_decrease=0.0, min_impurity_split=None,\n",
       "           min_samples_leaf=1, min_samples_split=2,\n",
       "           min_weight_fraction_leaf=0.0, n_estimators=100, n_jobs=None,\n",
       "           oob_score=False, random_state=None, verbose=0, warm_start=False)"
      ]
     },
     "execution_count": 180,
     "metadata": {},
     "output_type": "execute_result"
    }
   ],
   "source": [
    "# fit the model\n",
    "\n",
    "%time rfr0.fit(x_mercedes_train0, y_mercedes_train0)\n",
    "%time rfr1.fit(x_mercedes_train1, y_mercedes_train1)\n",
    "%time rfr2.fit(x_mercedes_train2, y_mercedes_train2)"
   ]
  },
  {
   "cell_type": "code",
   "execution_count": 181,
   "metadata": {},
   "outputs": [
    {
     "name": "stdout",
     "output_type": "stream",
     "text": [
      "RESULTS First Trial\n",
      "\n",
      "Training score: 0.934987456731497\n",
      "CPU times: user 375 ms, sys: 3.5 ms, total: 378 ms\n",
      "Wall time: 94.4 ms\n",
      "Testing score: 0.4675711845125511\n",
      "CPU times: user 152 ms, sys: 1.99 ms, total: 154 ms\n",
      "Wall time: 41.2 ms\n",
      "Training MSE: 10.097164928207732\n",
      "CPU times: user 282 ms, sys: 1.32 ms, total: 283 ms\n",
      "Wall time: 67.1 ms\n",
      "Testing MSE 92.06542792376881\n",
      "CPU times: user 156 ms, sys: 1.37 ms, total: 157 ms\n",
      "Wall time: 40.4 ms\n"
     ]
    }
   ],
   "source": [
    "# show results\n",
    "\n",
    "print('RESULTS First Trial')\n",
    "print()\n",
    "%time print('Training score:', rfr0.score(x_mercedes_train0, y_mercedes_train0))\n",
    "%time print('Testing score:', rfr0.score(x_mercedes_test0, y_mercedes_test0))\n",
    "%time print('Training MSE:', mean_squared_error(y_mercedes_train0, rfr0.predict(x_mercedes_train0)))\n",
    "%time print('Testing MSE',  mean_squared_error(y_mercedes_test0, rfr0.predict(x_mercedes_test0)))"
   ]
  },
  {
   "cell_type": "code",
   "execution_count": 182,
   "metadata": {},
   "outputs": [
    {
     "name": "stdout",
     "output_type": "stream",
     "text": [
      "RESULTS Second Trial\n",
      "\n",
      "Training score: 0.9247960745933539\n",
      "CPU times: user 345 ms, sys: 3.34 ms, total: 348 ms\n",
      "Wall time: 87.4 ms\n",
      "Testing score: 0.524134000340408\n",
      "CPU times: user 152 ms, sys: 1.07 ms, total: 153 ms\n",
      "Wall time: 40.7 ms\n",
      "Training MSE: 12.436193960604209\n",
      "CPU times: user 302 ms, sys: 1.12 ms, total: 303 ms\n",
      "Wall time: 72.7 ms\n",
      "Testing MSE 71.31284970822647\n",
      "CPU times: user 165 ms, sys: 1.36 ms, total: 166 ms\n",
      "Wall time: 42 ms\n"
     ]
    }
   ],
   "source": [
    "# show results\n",
    "\n",
    "print('RESULTS Second Trial')\n",
    "print()\n",
    "%time print('Training score:', rfr1.score(x_mercedes_train1, y_mercedes_train1))\n",
    "%time print('Testing score:', rfr1.score(x_mercedes_test1, y_mercedes_test1))\n",
    "%time print('Training MSE:', mean_squared_error(y_mercedes_train1, rfr1.predict(x_mercedes_train1)))\n",
    "%time print('Testing MSE',  mean_squared_error(y_mercedes_test1, rfr1.predict(x_mercedes_test1)))"
   ]
  },
  {
   "cell_type": "code",
   "execution_count": 183,
   "metadata": {},
   "outputs": [
    {
     "name": "stdout",
     "output_type": "stream",
     "text": [
      "RESULTS Third Trial\n",
      "\n",
      "Training score: 0.930582998248189\n",
      "CPU times: user 352 ms, sys: 3.06 ms, total: 356 ms\n",
      "Wall time: 89.5 ms\n",
      "Testing score: 0.5437722441567648\n",
      "CPU times: user 133 ms, sys: 902 µs, total: 134 ms\n",
      "Wall time: 37 ms\n",
      "Training MSE: 11.169400569837055\n",
      "CPU times: user 299 ms, sys: 1.03 ms, total: 300 ms\n",
      "Wall time: 71.6 ms\n",
      "Testing MSE 73.14087519705464\n",
      "CPU times: user 179 ms, sys: 1.41 ms, total: 180 ms\n",
      "Wall time: 45.7 ms\n"
     ]
    }
   ],
   "source": [
    "# show results\n",
    "\n",
    "print('RESULTS Third Trial')\n",
    "print()\n",
    "%time print('Training score:', rfr2.score(x_mercedes_train2, y_mercedes_train2))\n",
    "%time print('Testing score:', rfr2.score(x_mercedes_test2, y_mercedes_test2))\n",
    "%time print('Training MSE:', mean_squared_error(y_mercedes_train2, rfr2.predict(x_mercedes_train2)))\n",
    "%time print('Testing MSE',  mean_squared_error(y_mercedes_test2, rfr2.predict(x_mercedes_test2)))"
   ]
  },
  {
   "cell_type": "markdown",
   "metadata": {},
   "source": [
    "### Kernel Regression"
   ]
  },
  {
   "cell_type": "code",
   "execution_count": 184,
   "metadata": {},
   "outputs": [
    {
     "name": "stdout",
     "output_type": "stream",
     "text": [
      "CPU times: user 2.35 s, sys: 176 ms, total: 2.53 s\n",
      "Wall time: 724 ms\n",
      "CPU times: user 2.28 s, sys: 140 ms, total: 2.42 s\n",
      "Wall time: 672 ms\n",
      "CPU times: user 2.33 s, sys: 142 ms, total: 2.47 s\n",
      "Wall time: 668 ms\n"
     ]
    },
    {
     "data": {
      "text/plain": [
       "KernelRidge(alpha=1, coef0=1, degree=3, gamma=None, kernel='linear',\n",
       "      kernel_params=None)"
      ]
     },
     "execution_count": 184,
     "metadata": {},
     "output_type": "execute_result"
    }
   ],
   "source": [
    "# Setup and fit models\n",
    "\n",
    "kr0 = KernelRidge(kernel = 'linear')\n",
    "kr1 = KernelRidge(kernel = 'linear')\n",
    "kr2 = KernelRidge(kernel = 'linear')\n",
    "\n",
    "%time kr0.fit(x_mercedes_train0, y_mercedes_train0)\n",
    "%time kr1.fit(x_mercedes_train1, y_mercedes_train1)\n",
    "%time kr2.fit(x_mercedes_train2, y_mercedes_train2)"
   ]
  },
  {
   "cell_type": "code",
   "execution_count": 185,
   "metadata": {},
   "outputs": [
    {
     "name": "stdout",
     "output_type": "stream",
     "text": [
      "RESULTS First Trial\n",
      "\n",
      "Training score: 0.6515721384677278\n",
      "CPU times: user 793 ms, sys: 13.7 ms, total: 807 ms\n",
      "Wall time: 202 ms\n",
      "Testing score: 0.4846830556248829\n",
      "CPU times: user 415 ms, sys: 17 ms, total: 432 ms\n",
      "Wall time: 107 ms\n",
      "Training MSE: 54.114689359930445\n",
      "CPU times: user 782 ms, sys: 6.83 ms, total: 789 ms\n",
      "Wall time: 196 ms\n",
      "Testing MSE 89.10651268344529\n",
      "CPU times: user 378 ms, sys: 4.07 ms, total: 382 ms\n",
      "Wall time: 94.6 ms\n"
     ]
    }
   ],
   "source": [
    "# show results\n",
    "\n",
    "print('RESULTS First Trial')\n",
    "print()\n",
    "%time print('Training score:', kr0.score(x_mercedes_train0, y_mercedes_train0))\n",
    "%time print('Testing score:', kr0.score(x_mercedes_test0, y_mercedes_test0))\n",
    "%time print('Training MSE:', mean_squared_error(y_mercedes_train0, kr0.predict(x_mercedes_train0)))\n",
    "%time print('Testing MSE',  mean_squared_error(y_mercedes_test0, kr0.predict(x_mercedes_test0)))"
   ]
  },
  {
   "cell_type": "code",
   "execution_count": 186,
   "metadata": {},
   "outputs": [
    {
     "name": "stdout",
     "output_type": "stream",
     "text": [
      "RESULTS Second Trial\n",
      "\n",
      "Training score: 0.6176433727220247\n",
      "CPU times: user 797 ms, sys: 9.66 ms, total: 807 ms\n",
      "Wall time: 203 ms\n",
      "Testing score: 0.5695028992024433\n",
      "CPU times: user 397 ms, sys: 5.21 ms, total: 402 ms\n",
      "Wall time: 99.8 ms\n",
      "Training MSE: 63.228896008280984\n",
      "CPU times: user 744 ms, sys: 5.89 ms, total: 750 ms\n",
      "Wall time: 187 ms\n",
      "Testing MSE 64.51390742554509\n",
      "CPU times: user 384 ms, sys: 4.86 ms, total: 389 ms\n",
      "Wall time: 96.6 ms\n"
     ]
    }
   ],
   "source": [
    "# show results\n",
    "\n",
    "print('RESULTS Second Trial')\n",
    "print()\n",
    "%time print('Training score:', kr1.score(x_mercedes_train1, y_mercedes_train1))\n",
    "%time print('Testing score:', kr1.score(x_mercedes_test1, y_mercedes_test1))\n",
    "%time print('Training MSE:', mean_squared_error(y_mercedes_train1, kr1.predict(x_mercedes_train1)))\n",
    "%time print('Testing MSE',  mean_squared_error(y_mercedes_test1, kr1.predict(x_mercedes_test1)))"
   ]
  },
  {
   "cell_type": "code",
   "execution_count": 187,
   "metadata": {},
   "outputs": [
    {
     "name": "stdout",
     "output_type": "stream",
     "text": [
      "RESULTS Third Trial\n",
      "\n",
      "Training score: 0.6321714513266092\n",
      "CPU times: user 726 ms, sys: 9.52 ms, total: 736 ms\n",
      "Wall time: 184 ms\n",
      "Testing score: 0.5345344492346462\n",
      "CPU times: user 377 ms, sys: 5.13 ms, total: 382 ms\n",
      "Wall time: 95.5 ms\n",
      "Training MSE: 59.18469967694521\n",
      "CPU times: user 821 ms, sys: 7.65 ms, total: 828 ms\n",
      "Wall time: 207 ms\n",
      "Testing MSE 74.62184691971069\n",
      "CPU times: user 396 ms, sys: 4.54 ms, total: 401 ms\n",
      "Wall time: 101 ms\n"
     ]
    }
   ],
   "source": [
    "# show results\n",
    "\n",
    "print('RESULTS Third Trial')\n",
    "print()\n",
    "%time print('Training score:', kr2.score(x_mercedes_train2, y_mercedes_train2))\n",
    "%time print('Testing score:', kr2.score(x_mercedes_test2, y_mercedes_test2))\n",
    "%time print('Training MSE:', mean_squared_error(y_mercedes_train2, kr2.predict(x_mercedes_train2)))\n",
    "%time print('Testing MSE',  mean_squared_error(y_mercedes_test2, kr2.predict(x_mercedes_test2)))"
   ]
  },
  {
   "cell_type": "markdown",
   "metadata": {},
   "source": [
    "## 7) Song Year Prediction Data"
   ]
  },
  {
   "cell_type": "code",
   "execution_count": 111,
   "metadata": {},
   "outputs": [],
   "source": [
    "# load the data\n",
    "\n",
    "song_data = pd.read_csv('/Users/seandeely/Documents/Spring_Quarter_2019/STA141C/Project/YearPredictionMSD.csv')"
   ]
  },
  {
   "cell_type": "code",
   "execution_count": 112,
   "metadata": {},
   "outputs": [],
   "source": [
    "# clean and sperate the data\n",
    "\n",
    "x_song = song_data.iloc[:,1:]\n",
    "y_song = song_data.iloc[:, 0]"
   ]
  },
  {
   "cell_type": "code",
   "execution_count": 113,
   "metadata": {},
   "outputs": [],
   "source": [
    "# split into test and train\n",
    "\n",
    "x_song_train0, x_song_test0, y_song_train0, y_song_test0 = train_test_split(x_song,\n",
    "    y_song, test_size = 0.30, random_state = 0)\n",
    "\n",
    "x_song_train1, x_song_test1, y_song_train1, y_song_test1 = train_test_split(x_song,\n",
    "    y_song, test_size = 0.30, random_state = 1)\n",
    "\n",
    "x_song_train2, x_song_test2, y_song_train2, y_song_test2 = train_test_split(x_song,\n",
    "    y_song, test_size = 0.30, random_state = 2)"
   ]
  },
  {
   "cell_type": "markdown",
   "metadata": {},
   "source": [
    "### Random Forest"
   ]
  },
  {
   "cell_type": "code",
   "execution_count": 114,
   "metadata": {},
   "outputs": [],
   "source": [
    "# setup random forest regressor\n",
    "\n",
    "rfr0 = RandomForestRegressor(n_estimators = 100)\n",
    "rfr1 = RandomForestRegressor(n_estimators = 100)\n",
    "rfr2 = RandomForestRegressor(n_estimators = 100)"
   ]
  },
  {
   "cell_type": "code",
   "execution_count": 115,
   "metadata": {},
   "outputs": [
    {
     "name": "stdout",
     "output_type": "stream",
     "text": [
      "CPU times: user 1h 26min 31s, sys: 10.7 s, total: 1h 26min 42s\n",
      "Wall time: 2h 33min 9s\n",
      "CPU times: user 3h 15min 27s, sys: 15.2 s, total: 3h 15min 42s\n",
      "Wall time: 3h 15min 47s\n",
      "CPU times: user 3h 2min 44s, sys: 16.7 s, total: 3h 3min\n",
      "Wall time: 3h 3min 7s\n"
     ]
    },
    {
     "data": {
      "text/plain": [
       "RandomForestRegressor(bootstrap=True, criterion='mse', max_depth=None,\n",
       "           max_features='auto', max_leaf_nodes=None,\n",
       "           min_impurity_decrease=0.0, min_impurity_split=None,\n",
       "           min_samples_leaf=1, min_samples_split=2,\n",
       "           min_weight_fraction_leaf=0.0, n_estimators=100, n_jobs=None,\n",
       "           oob_score=False, random_state=None, verbose=0, warm_start=False)"
      ]
     },
     "execution_count": 115,
     "metadata": {},
     "output_type": "execute_result"
    }
   ],
   "source": [
    "# fit the models\n",
    "\n",
    "%time rfr0.fit(x_song_train0, y_song_train0)\n",
    "%time rfr1.fit(x_song_train1, y_song_train1)\n",
    "%time rfr2.fit(x_song_train2, y_song_train2)"
   ]
  },
  {
   "cell_type": "code",
   "execution_count": 124,
   "metadata": {},
   "outputs": [
    {
     "name": "stdout",
     "output_type": "stream",
     "text": [
      "RESULTS First Trial\n",
      "\n",
      "Training score: 0.9019281508498616\n",
      "CPU times: user 1min 16s, sys: 105 ms, total: 1min 16s\n",
      "Wall time: 20 s\n",
      "Testing score: 0.3012675543131508\n",
      "CPU times: user 9.07 s, sys: 18.7 ms, total: 9.09 s\n",
      "Wall time: 8.52 s\n",
      "Training MSE: 11.676230753179519\n",
      "CPU times: user 1min 19s, sys: 144 ms, total: 1min 19s\n",
      "Wall time: 22.4 s\n",
      "Testing MSE 84.19027792638002\n",
      "CPU times: user 9.31 s, sys: 35.9 ms, total: 9.35 s\n",
      "Wall time: 8.81 s\n"
     ]
    }
   ],
   "source": [
    "# show results\n",
    "\n",
    "print('RESULTS First Trial')\n",
    "print()\n",
    "%time print('Training score:', rfr0.score(x_song_train0, y_song_train0))\n",
    "%time print('Testing score:', rfr0.score(x_song_test0, y_song_test0))\n",
    "%time print('Training MSE:', mean_squared_error(y_song_train0, rfr0.predict(x_song_train0)))\n",
    "%time print('Testing MSE',  mean_squared_error(y_song_test0, rfr0.predict(x_song_test0)))"
   ]
  },
  {
   "cell_type": "code",
   "execution_count": 125,
   "metadata": {},
   "outputs": [
    {
     "name": "stdout",
     "output_type": "stream",
     "text": [
      "RESULTS Second Trial\n",
      "\n",
      "Training score: 0.9015164092787661\n",
      "CPU times: user 1min 17s, sys: 1.02 s, total: 1min 18s\n",
      "Wall time: 24 s\n",
      "Testing score: 0.7184583947777599\n",
      "CPU times: user 9.14 s, sys: 252 ms, total: 9.39 s\n",
      "Wall time: 9.4 s\n",
      "Training MSE: 11.724324358263571\n",
      "CPU times: user 1min 18s, sys: 167 ms, total: 1min 18s\n",
      "Wall time: 21.7 s\n",
      "Testing MSE 83.64882978448163\n",
      "CPU times: user 9 s, sys: 15.3 ms, total: 9.02 s\n",
      "Wall time: 8.45 s\n"
     ]
    }
   ],
   "source": [
    "print('RESULTS Second Trial')\n",
    "print()\n",
    "%time print('Training score:', rfr1.score(x_song_train1, y_song_train1))\n",
    "%time print('Testing score:', rfr0.score(x_song_test1, y_song_test1))\n",
    "%time print('Training MSE:', mean_squared_error(y_song_train1, rfr1.predict(x_song_train1)))\n",
    "%time print('Testing MSE',  mean_squared_error(y_song_test1, rfr1.predict(x_song_test1)))"
   ]
  },
  {
   "cell_type": "code",
   "execution_count": 126,
   "metadata": {},
   "outputs": [
    {
     "name": "stdout",
     "output_type": "stream",
     "text": [
      "RESULTS Third Trial\n",
      "\n",
      "Training score: 0.9020124125124829\n",
      "CPU times: user 1min 17s, sys: 3.87 s, total: 1min 21s\n",
      "Wall time: 31.3 s\n",
      "Testing score: 0.2977849149340982\n",
      "CPU times: user 9.13 s, sys: 179 ms, total: 9.31 s\n",
      "Wall time: 9.52 s\n",
      "Training MSE: 11.735399692249356\n",
      "CPU times: user 1min 19s, sys: 114 ms, total: 1min 19s\n",
      "Wall time: 21.9 s\n",
      "Testing MSE 83.45291838734175\n",
      "CPU times: user 9.03 s, sys: 14.8 ms, total: 9.05 s\n",
      "Wall time: 8.48 s\n"
     ]
    }
   ],
   "source": [
    "print('RESULTS Third Trial')\n",
    "print()\n",
    "%time print('Training score:', rfr2.score(x_song_train2, y_song_train2))\n",
    "%time print('Testing score:', rfr2.score(x_song_test2, y_song_test2))\n",
    "%time print('Training MSE:', mean_squared_error(y_song_train2, rfr2.predict(x_song_train2)))\n",
    "%time print('Testing MSE',  mean_squared_error(y_song_test2, rfr2.predict(x_song_test2)))"
   ]
  },
  {
   "cell_type": "markdown",
   "metadata": {},
   "source": [
    "### Kernel Regression"
   ]
  },
  {
   "cell_type": "code",
   "execution_count": 6,
   "metadata": {},
   "outputs": [],
   "source": [
    "# Setup and fit models\n",
    "\n",
    "kr0 = KernelRidge(kernel = 'linear')\n",
    "kr1 = KernelRidge(kernel = 'linear')\n",
    "kr2 = KernelRidge(kernel = 'linear')"
   ]
  },
  {
   "cell_type": "markdown",
   "metadata": {},
   "source": [
    "## 8) Solar Flare Data"
   ]
  },
  {
   "cell_type": "code",
   "execution_count": 192,
   "metadata": {},
   "outputs": [],
   "source": [
    "# load the data\n",
    "\n",
    "flare_data = pd.read_csv('/Users/seandeely/Documents/Spring_Quarter_2019/STA141C/Project/flare.data2', sep = ' ')"
   ]
  },
  {
   "cell_type": "code",
   "execution_count": 193,
   "metadata": {},
   "outputs": [],
   "source": [
    "# divide and clean data\n",
    "\n",
    "x_flare = flare_data.iloc[:,1:6]\n",
    "y_flare = flare_data.iloc[:,7]"
   ]
  },
  {
   "cell_type": "code",
   "execution_count": 194,
   "metadata": {},
   "outputs": [],
   "source": [
    "# seperate into test and training\n",
    "\n",
    "x_flare_train0, x_flare_test0, y_flare_train0, y_flare_test0 = train_test_split(x_flare,\n",
    "    y_flare, test_size = 0.30, random_state = 0)\n",
    "\n",
    "x_flare_train1, x_flare_test1, y_flare_train1, y_flare_test1 = train_test_split(x_flare,\n",
    "    y_flare, test_size = 0.30, random_state = 1)\n",
    "\n",
    "x_flare_train2, x_flare_test2, y_flare_train2, y_flare_test2 = train_test_split(x_flare,\n",
    "    y_flare, test_size = 0.30, random_state = 2)\n",
    "\n"
   ]
  },
  {
   "cell_type": "markdown",
   "metadata": {},
   "source": [
    "### Random Forest"
   ]
  },
  {
   "cell_type": "code",
   "execution_count": 195,
   "metadata": {},
   "outputs": [],
   "source": [
    "# setup random forest regressor\n",
    "\n",
    "rfr0 = RandomForestRegressor(n_estimators = 100)\n",
    "rfr1 = RandomForestRegressor(n_estimators = 100)\n",
    "rfr2 = RandomForestRegressor(n_estimators = 100)"
   ]
  },
  {
   "cell_type": "code",
   "execution_count": 196,
   "metadata": {},
   "outputs": [
    {
     "name": "stdout",
     "output_type": "stream",
     "text": [
      "CPU times: user 63.3 ms, sys: 2.17 ms, total: 65.5 ms\n",
      "Wall time: 63.9 ms\n",
      "CPU times: user 62.4 ms, sys: 1.27 ms, total: 63.7 ms\n",
      "Wall time: 65 ms\n",
      "CPU times: user 59.3 ms, sys: 722 µs, total: 60 ms\n",
      "Wall time: 59.7 ms\n"
     ]
    },
    {
     "data": {
      "text/plain": [
       "RandomForestRegressor(bootstrap=True, criterion='mse', max_depth=None,\n",
       "           max_features='auto', max_leaf_nodes=None,\n",
       "           min_impurity_decrease=0.0, min_impurity_split=None,\n",
       "           min_samples_leaf=1, min_samples_split=2,\n",
       "           min_weight_fraction_leaf=0.0, n_estimators=100, n_jobs=None,\n",
       "           oob_score=False, random_state=None, verbose=0, warm_start=False)"
      ]
     },
     "execution_count": 196,
     "metadata": {},
     "output_type": "execute_result"
    }
   ],
   "source": [
    "# fit the model\n",
    "\n",
    "%time rfr0.fit(x_flare_train0, y_flare_train0)\n",
    "%time rfr1.fit(x_flare_train1, y_flare_train1)\n",
    "%time rfr2.fit(x_flare_train2, y_flare_train2)"
   ]
  },
  {
   "cell_type": "code",
   "execution_count": 197,
   "metadata": {},
   "outputs": [
    {
     "name": "stdout",
     "output_type": "stream",
     "text": [
      "RESULTS First Trial\n",
      "\n",
      "Training score: 0.16149165600919135\n",
      "CPU times: user 10.5 ms, sys: 1.89 ms, total: 12.4 ms\n",
      "Wall time: 10.7 ms\n",
      "Testing score: -0.05513472704282307\n",
      "CPU times: user 8.91 ms, sys: 931 µs, total: 9.84 ms\n",
      "Wall time: 9.21 ms\n",
      "Training MSE: 0.07447969952373991\n",
      "CPU times: user 9.93 ms, sys: 892 µs, total: 10.8 ms\n",
      "Wall time: 10.2 ms\n",
      "Testing MSE 0.10349387889080189\n",
      "CPU times: user 8.53 ms, sys: 794 µs, total: 9.32 ms\n",
      "Wall time: 8.83 ms\n"
     ]
    }
   ],
   "source": [
    "# show results\n",
    "\n",
    "print('RESULTS First Trial')\n",
    "print()\n",
    "%time print('Training score:', rfr0.score(x_flare_train0, y_flare_train0))\n",
    "%time print('Testing score:', rfr0.score(x_flare_test0, y_flare_test0))\n",
    "%time print('Training MSE:', mean_squared_error(y_flare_train0, rfr0.predict(x_flare_train0)))\n",
    "%time print('Testing MSE',  mean_squared_error(y_flare_test0, rfr0.predict(x_flare_test0)))"
   ]
  },
  {
   "cell_type": "code",
   "execution_count": 198,
   "metadata": {},
   "outputs": [
    {
     "name": "stdout",
     "output_type": "stream",
     "text": [
      "RESULTS Second Trial\n",
      "\n",
      "Training score: 0.0693605367309168\n",
      "CPU times: user 10.7 ms, sys: 2.12 ms, total: 12.8 ms\n",
      "Wall time: 10.8 ms\n",
      "Testing score: 0.07240128661128276\n",
      "CPU times: user 8.45 ms, sys: 686 µs, total: 9.14 ms\n",
      "Wall time: 8.69 ms\n",
      "Training MSE: 0.06406929855786427\n",
      "CPU times: user 9.29 ms, sys: 792 µs, total: 10.1 ms\n",
      "Wall time: 9.44 ms\n",
      "Testing MSE 0.13420288026224458\n",
      "CPU times: user 8.28 ms, sys: 712 µs, total: 9 ms\n",
      "Wall time: 8.52 ms\n"
     ]
    }
   ],
   "source": [
    "# show results\n",
    "\n",
    "print('RESULTS Second Trial')\n",
    "print()\n",
    "%time print('Training score:', rfr1.score(x_flare_train1, y_flare_train1))\n",
    "%time print('Testing score:', rfr1.score(x_flare_test1, y_flare_test1))\n",
    "%time print('Training MSE:', mean_squared_error(y_flare_train1, rfr1.predict(x_flare_train1)))\n",
    "%time print('Testing MSE',  mean_squared_error(y_flare_test1, rfr1.predict(x_flare_test1)))"
   ]
  },
  {
   "cell_type": "code",
   "execution_count": 199,
   "metadata": {},
   "outputs": [
    {
     "name": "stdout",
     "output_type": "stream",
     "text": [
      "RESULTS Third Trial\n",
      "\n",
      "Training score: 0.11014257195527875\n",
      "CPU times: user 9.99 ms, sys: 1.87 ms, total: 11.9 ms\n",
      "Wall time: 10.1 ms\n",
      "Testing score: -0.07257006004594202\n",
      "CPU times: user 9.05 ms, sys: 938 µs, total: 9.99 ms\n",
      "Wall time: 9.34 ms\n",
      "Training MSE: 0.1058604083686736\n",
      "CPU times: user 9.83 ms, sys: 922 µs, total: 10.8 ms\n",
      "Wall time: 9.98 ms\n",
      "Testing MSE 0.029317613262388586\n",
      "CPU times: user 8.8 ms, sys: 838 µs, total: 9.64 ms\n",
      "Wall time: 9.09 ms\n"
     ]
    }
   ],
   "source": [
    "# show results\n",
    "\n",
    "print('RESULTS Third Trial')\n",
    "print()\n",
    "%time print('Training score:', rfr2.score(x_flare_train2, y_flare_train2))\n",
    "%time print('Testing score:', rfr2.score(x_flare_test2, y_flare_test2))\n",
    "%time print('Training MSE:', mean_squared_error(y_flare_train2, rfr2.predict(x_flare_train2)))\n",
    "%time print('Testing MSE',  mean_squared_error(y_flare_test2, rfr2.predict(x_flare_test2)))"
   ]
  },
  {
   "cell_type": "markdown",
   "metadata": {},
   "source": [
    "### Kernel Regression"
   ]
  },
  {
   "cell_type": "code",
   "execution_count": 208,
   "metadata": {},
   "outputs": [
    {
     "name": "stdout",
     "output_type": "stream",
     "text": [
      "CPU times: user 169 ms, sys: 5.56 ms, total: 175 ms\n",
      "Wall time: 40.3 ms\n",
      "CPU times: user 301 ms, sys: 33 ms, total: 334 ms\n",
      "Wall time: 47.6 ms\n",
      "CPU times: user 274 ms, sys: 36.6 ms, total: 311 ms\n",
      "Wall time: 46.6 ms\n"
     ]
    },
    {
     "data": {
      "text/plain": [
       "KernelRidge(alpha=1, coef0=1, degree=3, gamma=None, kernel='poly',\n",
       "      kernel_params=None)"
      ]
     },
     "execution_count": 208,
     "metadata": {},
     "output_type": "execute_result"
    }
   ],
   "source": [
    "# Setup and fit models\n",
    "\n",
    "kr0 = KernelRidge(kernel = 'poly')\n",
    "kr1 = KernelRidge(kernel = 'poly')\n",
    "kr2 = KernelRidge(kernel = 'poly')\n",
    "\n",
    "%time kr0.fit(x_flare_train0, y_flare_train0)\n",
    "%time kr1.fit(x_flare_train1, y_flare_train1)\n",
    "%time kr2.fit(x_flare_train2, y_flare_train2)"
   ]
  },
  {
   "cell_type": "code",
   "execution_count": 209,
   "metadata": {},
   "outputs": [
    {
     "name": "stdout",
     "output_type": "stream",
     "text": [
      "RESULTS First Trial\n",
      "\n",
      "Training score: 0.15095382678499836\n",
      "CPU times: user 83.2 ms, sys: 2.06 ms, total: 85.2 ms\n",
      "Wall time: 21.8 ms\n",
      "Testing score: -0.06701230371909928\n",
      "CPU times: user 47.6 ms, sys: 412 µs, total: 48 ms\n",
      "Wall time: 11.6 ms\n",
      "Training MSE: 0.07541571209877874\n",
      "CPU times: user 101 ms, sys: 456 µs, total: 102 ms\n",
      "Wall time: 24.8 ms\n",
      "Testing MSE 0.10465890213432257\n",
      "CPU times: user 48.9 ms, sys: 554 µs, total: 49.5 ms\n",
      "Wall time: 11.6 ms\n"
     ]
    }
   ],
   "source": [
    "# show results\n",
    "\n",
    "print('RESULTS First Trial')\n",
    "print()\n",
    "%time print('Training score:', kr0.score(x_flare_train0, y_flare_train0))\n",
    "%time print('Testing score:', kr0.score(x_flare_test0, y_flare_test0))\n",
    "%time print('Training MSE:', mean_squared_error(y_flare_train0, kr0.predict(x_flare_train0)))\n",
    "%time print('Testing MSE',  mean_squared_error(y_flare_test0, kr0.predict(x_flare_test0)))"
   ]
  },
  {
   "cell_type": "code",
   "execution_count": 210,
   "metadata": {},
   "outputs": [
    {
     "name": "stdout",
     "output_type": "stream",
     "text": [
      "RESULTS Second Trial\n",
      "\n",
      "Training score: 0.06337453460515419\n",
      "CPU times: user 93.3 ms, sys: 2.09 ms, total: 95.4 ms\n",
      "Wall time: 23.9 ms\n",
      "Testing score: 0.06284265005454892\n",
      "CPU times: user 38.1 ms, sys: 412 µs, total: 38.6 ms\n",
      "Wall time: 9.16 ms\n",
      "Training MSE: 0.06448140117386153\n",
      "CPU times: user 104 ms, sys: 577 µs, total: 104 ms\n",
      "Wall time: 25.5 ms\n",
      "Testing MSE 0.1355858021429869\n",
      "CPU times: user 48 ms, sys: 626 µs, total: 48.7 ms\n",
      "Wall time: 11.5 ms\n"
     ]
    }
   ],
   "source": [
    "# show results\n",
    "\n",
    "print('RESULTS Second Trial')\n",
    "print()\n",
    "%time print('Training score:', kr1.score(x_flare_train1, y_flare_train1))\n",
    "%time print('Testing score:', kr1.score(x_flare_test1, y_flare_test1))\n",
    "%time print('Training MSE:', mean_squared_error(y_flare_train1, kr1.predict(x_flare_train1)))\n",
    "%time print('Testing MSE',  mean_squared_error(y_flare_test1, kr1.predict(x_flare_test1)))"
   ]
  },
  {
   "cell_type": "code",
   "execution_count": 211,
   "metadata": {},
   "outputs": [
    {
     "name": "stdout",
     "output_type": "stream",
     "text": [
      "RESULTS Third Trial\n",
      "\n",
      "Training score: 0.10350625825146764\n",
      "CPU times: user 98.8 ms, sys: 2.06 ms, total: 101 ms\n",
      "Wall time: 25.4 ms\n",
      "Testing score: -0.12543280288230219\n",
      "CPU times: user 43.7 ms, sys: 475 µs, total: 44.2 ms\n",
      "Wall time: 10.5 ms\n",
      "Training MSE: 0.10664988638684524\n",
      "CPU times: user 82.9 ms, sys: 521 µs, total: 83.4 ms\n",
      "Wall time: 20.4 ms\n",
      "Testing MSE 0.030762562649097304\n",
      "CPU times: user 37.1 ms, sys: 509 µs, total: 37.6 ms\n",
      "Wall time: 9.14 ms\n"
     ]
    }
   ],
   "source": [
    "# show results\n",
    "\n",
    "print('RESULTS Third Trial')\n",
    "print()\n",
    "%time print('Training score:', kr2.score(x_flare_train2, y_flare_train2))\n",
    "%time print('Testing score:', kr2.score(x_flare_test2, y_flare_test2))\n",
    "%time print('Training MSE:', mean_squared_error(y_flare_train2, kr2.predict(x_flare_train2)))\n",
    "%time print('Testing MSE',  mean_squared_error(y_flare_test2, kr2.predict(x_flare_test2)))"
   ]
  }
 ],
 "metadata": {
  "kernelspec": {
   "display_name": "Python 3",
   "language": "python",
   "name": "python3"
  },
  "language_info": {
   "codemirror_mode": {
    "name": "ipython",
    "version": 3
   },
   "file_extension": ".py",
   "mimetype": "text/x-python",
   "name": "python",
   "nbconvert_exporter": "python",
   "pygments_lexer": "ipython3",
   "version": "3.7.1"
  }
 },
 "nbformat": 4,
 "nbformat_minor": 2
}
